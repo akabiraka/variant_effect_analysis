{
 "cells": [
  {
   "cell_type": "code",
   "execution_count": 2,
   "metadata": {},
   "outputs": [],
   "source": [
    "import os\n",
    "import sys\n",
    "module_path = os.path.abspath(os.path.join('..'))\n",
    "if module_path not in sys.path:\n",
    "    sys.path.append(module_path)\n",
    "home_dir = \"../\"\n",
    "\n",
    "import pandas as pd\n",
    "from utils.pandas_extented_filters import filter_remove_null_nan_empty_entries"
   ]
  },
  {
   "cell_type": "code",
   "execution_count": 3,
   "metadata": {},
   "outputs": [
    {
     "name": "stdout",
     "output_type": "stream",
     "text": [
      "(63738, 16)\n"
     ]
    },
    {
     "data": {
      "text/html": [
       "<div>\n",
       "<style scoped>\n",
       "    .dataframe tbody tr th:only-of-type {\n",
       "        vertical-align: middle;\n",
       "    }\n",
       "\n",
       "    .dataframe tbody tr th {\n",
       "        vertical-align: top;\n",
       "    }\n",
       "\n",
       "    .dataframe thead th {\n",
       "        text-align: right;\n",
       "    }\n",
       "</style>\n",
       "<table border=\"1\" class=\"dataframe\">\n",
       "  <thead>\n",
       "    <tr style=\"text-align: right;\">\n",
       "      <th></th>\n",
       "      <th>tax_id</th>\n",
       "      <th>GeneID</th>\n",
       "      <th>status</th>\n",
       "      <th>RNA_nucleotide_accession.version</th>\n",
       "      <th>RNA_nucleotide_gi</th>\n",
       "      <th>protein_accession.version</th>\n",
       "      <th>protein_gi</th>\n",
       "      <th>genomic_nucleotide_accession.version</th>\n",
       "      <th>genomic_nucleotide_gi</th>\n",
       "      <th>start_position_on_the_genomic_accession</th>\n",
       "      <th>end_position_on_the_genomic_accession</th>\n",
       "      <th>orientation</th>\n",
       "      <th>assembly</th>\n",
       "      <th>mature_peptide_accession.version</th>\n",
       "      <th>mature_peptide_gi</th>\n",
       "      <th>Symbol</th>\n",
       "    </tr>\n",
       "  </thead>\n",
       "  <tbody>\n",
       "    <tr>\n",
       "      <th>0</th>\n",
       "      <td>9606</td>\n",
       "      <td>1</td>\n",
       "      <td>REVIEWED</td>\n",
       "      <td>NM_130786.4</td>\n",
       "      <td>1653960645</td>\n",
       "      <td>NP_570602.2</td>\n",
       "      <td>21071030</td>\n",
       "      <td>NC_000019.10</td>\n",
       "      <td>568815579</td>\n",
       "      <td>58345182</td>\n",
       "      <td>58353491</td>\n",
       "      <td>-</td>\n",
       "      <td>Reference GRCh38.p14 Primary Assembly</td>\n",
       "      <td>-</td>\n",
       "      <td>-</td>\n",
       "      <td>A1BG</td>\n",
       "    </tr>\n",
       "    <tr>\n",
       "      <th>1</th>\n",
       "      <td>9606</td>\n",
       "      <td>2</td>\n",
       "      <td>REVIEWED</td>\n",
       "      <td>NM_000014.6</td>\n",
       "      <td>1779421316</td>\n",
       "      <td>NP_000005.3</td>\n",
       "      <td>1779421317</td>\n",
       "      <td>NC_000012.12</td>\n",
       "      <td>568815586</td>\n",
       "      <td>9067707</td>\n",
       "      <td>9116228</td>\n",
       "      <td>-</td>\n",
       "      <td>Reference GRCh38.p14 Primary Assembly</td>\n",
       "      <td>-</td>\n",
       "      <td>-</td>\n",
       "      <td>A2M</td>\n",
       "    </tr>\n",
       "    <tr>\n",
       "      <th>2</th>\n",
       "      <td>9606</td>\n",
       "      <td>2</td>\n",
       "      <td>REVIEWED</td>\n",
       "      <td>NM_001347423.2</td>\n",
       "      <td>1677538580</td>\n",
       "      <td>NP_001334352.2</td>\n",
       "      <td>1677538581</td>\n",
       "      <td>NC_000012.12</td>\n",
       "      <td>568815586</td>\n",
       "      <td>9067707</td>\n",
       "      <td>9116228</td>\n",
       "      <td>-</td>\n",
       "      <td>Reference GRCh38.p14 Primary Assembly</td>\n",
       "      <td>-</td>\n",
       "      <td>-</td>\n",
       "      <td>A2M</td>\n",
       "    </tr>\n",
       "    <tr>\n",
       "      <th>3</th>\n",
       "      <td>9606</td>\n",
       "      <td>2</td>\n",
       "      <td>REVIEWED</td>\n",
       "      <td>NM_001347424.2</td>\n",
       "      <td>1779421277</td>\n",
       "      <td>NP_001334353.2</td>\n",
       "      <td>1779421278</td>\n",
       "      <td>NC_000012.12</td>\n",
       "      <td>568815586</td>\n",
       "      <td>9067707</td>\n",
       "      <td>9116228</td>\n",
       "      <td>-</td>\n",
       "      <td>Reference GRCh38.p14 Primary Assembly</td>\n",
       "      <td>-</td>\n",
       "      <td>-</td>\n",
       "      <td>A2M</td>\n",
       "    </tr>\n",
       "    <tr>\n",
       "      <th>4</th>\n",
       "      <td>9606</td>\n",
       "      <td>2</td>\n",
       "      <td>REVIEWED</td>\n",
       "      <td>NM_001347425.2</td>\n",
       "      <td>1779421327</td>\n",
       "      <td>NP_001334354.2</td>\n",
       "      <td>1779421328</td>\n",
       "      <td>NC_000012.12</td>\n",
       "      <td>568815586</td>\n",
       "      <td>9067707</td>\n",
       "      <td>9116228</td>\n",
       "      <td>-</td>\n",
       "      <td>Reference GRCh38.p14 Primary Assembly</td>\n",
       "      <td>-</td>\n",
       "      <td>-</td>\n",
       "      <td>A2M</td>\n",
       "    </tr>\n",
       "  </tbody>\n",
       "</table>\n",
       "</div>"
      ],
      "text/plain": [
       "   tax_id  GeneID    status RNA_nucleotide_accession.version  \\\n",
       "0    9606       1  REVIEWED                      NM_130786.4   \n",
       "1    9606       2  REVIEWED                      NM_000014.6   \n",
       "2    9606       2  REVIEWED                   NM_001347423.2   \n",
       "3    9606       2  REVIEWED                   NM_001347424.2   \n",
       "4    9606       2  REVIEWED                   NM_001347425.2   \n",
       "\n",
       "   RNA_nucleotide_gi protein_accession.version  protein_gi  \\\n",
       "0         1653960645               NP_570602.2    21071030   \n",
       "1         1779421316               NP_000005.3  1779421317   \n",
       "2         1677538580            NP_001334352.2  1677538581   \n",
       "3         1779421277            NP_001334353.2  1779421278   \n",
       "4         1779421327            NP_001334354.2  1779421328   \n",
       "\n",
       "  genomic_nucleotide_accession.version  genomic_nucleotide_gi  \\\n",
       "0                         NC_000019.10              568815579   \n",
       "1                         NC_000012.12              568815586   \n",
       "2                         NC_000012.12              568815586   \n",
       "3                         NC_000012.12              568815586   \n",
       "4                         NC_000012.12              568815586   \n",
       "\n",
       "   start_position_on_the_genomic_accession  \\\n",
       "0                                 58345182   \n",
       "1                                  9067707   \n",
       "2                                  9067707   \n",
       "3                                  9067707   \n",
       "4                                  9067707   \n",
       "\n",
       "   end_position_on_the_genomic_accession orientation  \\\n",
       "0                               58353491           -   \n",
       "1                                9116228           -   \n",
       "2                                9116228           -   \n",
       "3                                9116228           -   \n",
       "4                                9116228           -   \n",
       "\n",
       "                                assembly mature_peptide_accession.version  \\\n",
       "0  Reference GRCh38.p14 Primary Assembly                                -   \n",
       "1  Reference GRCh38.p14 Primary Assembly                                -   \n",
       "2  Reference GRCh38.p14 Primary Assembly                                -   \n",
       "3  Reference GRCh38.p14 Primary Assembly                                -   \n",
       "4  Reference GRCh38.p14 Primary Assembly                                -   \n",
       "\n",
       "  mature_peptide_gi Symbol  \n",
       "0                 -   A1BG  \n",
       "1                 -    A2M  \n",
       "2                 -    A2M  \n",
       "3                 -    A2M  \n",
       "4                 -    A2M  "
      ]
     },
     "execution_count": 3,
     "metadata": {},
     "output_type": "execute_result"
    }
   ],
   "source": [
    "gene2refseq_filtered_filepath = home_dir+\"data/gene/gene2refseq_filtered.gz\"\n",
    "gene2refseq_filtered_df = pd.read_csv(gene2refseq_filtered_filepath, compression='gzip', comment='#', delim_whitespace=False, sep=\"\\t\")#, header=None, names=col_names)\n",
    "print(gene2refseq_filtered_df.shape)\n",
    "gene2refseq_filtered_df.head()"
   ]
  },
  {
   "cell_type": "code",
   "execution_count": 8,
   "metadata": {},
   "outputs": [
    {
     "name": "stdout",
     "output_type": "stream",
     "text": [
      "(6828, 16)\n",
      "Index(['Name', 'Gene(s)', 'Protein change', 'Condition(s)',\n",
      "       'Clinical significance (Last reviewed)', 'Review status', 'Accession',\n",
      "       'GRCh37Chromosome', 'GRCh37Location', 'GRCh38Chromosome',\n",
      "       'GRCh38Location', 'VariationID', 'AlleleID(s)', 'dbSNP ID',\n",
      "       'Canonical SPDI', 'Unnamed: 15'],\n",
      "      dtype='object')\n"
     ]
    }
   ],
   "source": [
    "# clinvar_data_filepath = home_dir+\"data/clinvar/search_results/clinvar_HumanPathogenicMissenseVariants01012022To14022023.txt\"\n",
    "clinvar_data_filepath = home_dir+\"data/clinvar/search_results/clinvar_HumanLikelyPathogenicMissenseVariants01012022To14022023.txt\"\n",
    "clinvar_hum_patho_missense_variants_df = pd.read_csv(clinvar_data_filepath, delim_whitespace=False, sep=\"\\t\")\n",
    "print(clinvar_hum_patho_missense_variants_df.shape)\n",
    "print(clinvar_hum_patho_missense_variants_df.columns)\n",
    "# clinvar_hum_patho_missense_variants_df.head()"
   ]
  },
  {
   "cell_type": "code",
   "execution_count": 9,
   "metadata": {},
   "outputs": [
    {
     "name": "stdout",
     "output_type": "stream",
     "text": [
      "Number of NAN rows removed: 15\n",
      "Number of NULL rows removed: 0\n",
      "Number of empty rows removed: 0\n"
     ]
    },
    {
     "data": {
      "text/plain": [
       "(6813, 16)"
      ]
     },
     "execution_count": 9,
     "metadata": {},
     "output_type": "execute_result"
    }
   ],
   "source": [
    "# removing variants that do not have any protein variants associated with it\n",
    "clinvar_hum_patho_missense_variants_df = filter_remove_null_nan_empty_entries(clinvar_hum_patho_missense_variants_df, a_col_name=\"Protein change\")\n",
    "clinvar_hum_patho_missense_variants_df.shape"
   ]
  },
  {
   "cell_type": "code",
   "execution_count": 10,
   "metadata": {},
   "outputs": [
    {
     "name": "stdout",
     "output_type": "stream",
     "text": [
      "(6813, 34)\n",
      "Index(['Name', 'Gene(s)', 'Protein change', 'Condition(s)',\n",
      "       'Clinical significance (Last reviewed)', 'Review status', 'Accession',\n",
      "       'GRCh37Chromosome', 'GRCh37Location', 'GRCh38Chromosome',\n",
      "       'GRCh38Location', 'VariationID', 'AlleleID(s)', 'dbSNP ID',\n",
      "       'Canonical SPDI', 'Unnamed: 15', 'RNA', 'tax_id', 'GeneID', 'status',\n",
      "       'RNA_nucleotide_accession.version', 'RNA_nucleotide_gi',\n",
      "       'protein_accession.version', 'protein_gi',\n",
      "       'genomic_nucleotide_accession.version', 'genomic_nucleotide_gi',\n",
      "       'start_position_on_the_genomic_accession',\n",
      "       'end_position_on_the_genomic_accession', 'orientation', 'assembly',\n",
      "       'mature_peptide_accession.version', 'mature_peptide_gi', 'Symbol',\n",
      "       'Canonical SPDI chr'],\n",
      "      dtype='object')\n"
     ]
    }
   ],
   "source": [
    "clinvar_hum_patho_missense_variants_df[\"RNA\"] = clinvar_hum_patho_missense_variants_df[\"Name\"].apply(lambda x: x.split(\"(\")[0]) # RNA transcript accession: NM_accession.version\n",
    "merged_df = clinvar_hum_patho_missense_variants_df.merge(gene2refseq_filtered_df, how=\"left\", left_on=\"RNA\", right_on=\"RNA_nucleotide_accession.version\") # mapping clinvar mRNA transcripts to protein accession\n",
    "\n",
    "# same gene can be present in X and Y. Removing chromosome X to Y wrongly mapped variations.\n",
    "merged_df[\"Canonical SPDI chr\"] = merged_df[\"Canonical SPDI\"].apply(lambda x:x.split(\":\")[0]) \n",
    "merged_df = merged_df[merged_df[\"Canonical SPDI chr\"] == merged_df[\"genomic_nucleotide_accession.version\"]] # not(!) in the condition will give wrongly mapped variations\n",
    "print(merged_df.shape)\n",
    "print(merged_df.columns)\n",
    "# merged_df.loc[0]"
   ]
  },
  {
   "cell_type": "code",
   "execution_count": 14,
   "metadata": {},
   "outputs": [
    {
     "name": "stdout",
     "output_type": "stream",
     "text": [
      "{'NM_001288953.1', 'NM_000074.2', 'NM_004646.3'}\n",
      "Number of NAN rows removed: 0\n",
      "Number of NULL rows removed: 0\n",
      "Number of empty rows removed: 0\n",
      "Number of NAN rows removed: 0\n",
      "Number of NULL rows removed: 0\n",
      "Number of empty rows removed: 0\n"
     ]
    },
    {
     "data": {
      "text/plain": [
       "(3916, 34)"
      ]
     },
     "execution_count": 14,
     "metadata": {},
     "output_type": "execute_result"
    }
   ],
   "source": [
    "nm_ids_not_mapped = set(clinvar_hum_patho_missense_variants_df[\"RNA\"].unique()) - set(merged_df[\"RNA\"].unique())\n",
    "print(nm_ids_not_mapped)\n",
    "df_removed_NNE_protChange = filter_remove_null_nan_empty_entries(merged_df, a_col_name=\"Protein change\")\n",
    "df_removed_NNE_protAccVersion = filter_remove_null_nan_empty_entries(df_removed_NNE_protChange, a_col_name=\"protein_accession.version\")\n",
    "df_removed_NNE_protAccVersion.shape"
   ]
  },
  {
   "cell_type": "code",
   "execution_count": 15,
   "metadata": {},
   "outputs": [],
   "source": [
    "out_filepath = home_dir+\"data/clinvar/filtered/\" + clinvar_data_filepath.split(\"/\")[-1]\n",
    "df_removed_NNE_protAccVersion.to_csv(out_filepath, sep=\"\\t\", index=False, header=True)"
   ]
  }
 ],
 "metadata": {
  "kernelspec": {
   "display_name": "hopper_variant_effect_analysis_mine",
   "language": "python",
   "name": "python3"
  },
  "language_info": {
   "codemirror_mode": {
    "name": "ipython",
    "version": 3
   },
   "file_extension": ".py",
   "mimetype": "text/x-python",
   "name": "python",
   "nbconvert_exporter": "python",
   "pygments_lexer": "ipython3",
   "version": "3.8.6"
  },
  "orig_nbformat": 4,
  "vscode": {
   "interpreter": {
    "hash": "831918974231b2fc7cbf226cf19505a68e47ade0e201ebff2df92e599b5c76db"
   }
  }
 },
 "nbformat": 4,
 "nbformat_minor": 2
}
