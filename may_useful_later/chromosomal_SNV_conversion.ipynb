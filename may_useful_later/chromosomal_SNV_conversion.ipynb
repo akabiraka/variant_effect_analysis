{
 "cells": [
  {
   "cell_type": "code",
   "execution_count": 4,
   "metadata": {},
   "outputs": [],
   "source": [
    "# SNV: single nucleotide variants\n",
    "import os\n",
    "import sys\n",
    "module_path = os.path.abspath(os.path.join('../..'))\n",
    "if module_path not in sys.path:\n",
    "    sys.path.append(module_path)\n",
    "home_dir = \"../../\"\n",
    "\n",
    "import pandas as pd\n",
    "from utils.pandas_extented_filters import filter_multi_base_variants, separate_ref_and_alt_allele"
   ]
  },
  {
   "cell_type": "code",
   "execution_count": 14,
   "metadata": {},
   "outputs": [
    {
     "name": "stdout",
     "output_type": "stream",
     "text": [
      "(3916, 34)\n"
     ]
    }
   ],
   "source": [
    "inp_filepath = home_dir+\"data/clinvar/filtered/clinvar_HumanPathogenicMissenseVariants01012022To14022023.txt\"\n",
    "# inp_filepath = home_dir+\"data/clinvar/filtered/clinvar_HumanLikelyPathogenicMissenseVariants01012022To14022023.txt\"\n",
    "col_names = [\"GRCh38Chromosome\", \"GRCh38Location\", \"Canonical SPDI\"]\n",
    "df = pd.read_csv(inp_filepath, delim_whitespace=False, sep=\"\\t\")\n",
    "print(df.shape)\n",
    "# print(df.columns)\n",
    "# df.head()"
   ]
  },
  {
   "cell_type": "code",
   "execution_count": 15,
   "metadata": {},
   "outputs": [
    {
     "name": "stderr",
     "output_type": "stream",
     "text": [
      "/tmp/ipykernel_3519000/1605079769.py:3: SettingWithCopyWarning: \n",
      "A value is trying to be set on a copy of a slice from a DataFrame.\n",
      "Try using .loc[row_indexer,col_indexer] = value instead\n",
      "\n",
      "See the caveats in the documentation: https://pandas.pydata.org/pandas-docs/stable/user_guide/indexing.html#returning-a-view-versus-a-copy\n",
      "  chromosomal_variants_df[\"ref\"], chromosomal_variants_df[\"alt\"] = temp.apply(lambda x: x[0]), temp.apply(lambda x: x[1])\n",
      "/tmp/ipykernel_3519000/1605079769.py:3: SettingWithCopyWarning: \n",
      "A value is trying to be set on a copy of a slice from a DataFrame.\n",
      "Try using .loc[row_indexer,col_indexer] = value instead\n",
      "\n",
      "See the caveats in the documentation: https://pandas.pydata.org/pandas-docs/stable/user_guide/indexing.html#returning-a-view-versus-a-copy\n",
      "  chromosomal_variants_df[\"ref\"], chromosomal_variants_df[\"alt\"] = temp.apply(lambda x: x[0]), temp.apply(lambda x: x[1])\n"
     ]
    },
    {
     "data": {
      "text/html": [
       "<div>\n",
       "<style scoped>\n",
       "    .dataframe tbody tr th:only-of-type {\n",
       "        vertical-align: middle;\n",
       "    }\n",
       "\n",
       "    .dataframe tbody tr th {\n",
       "        vertical-align: top;\n",
       "    }\n",
       "\n",
       "    .dataframe thead th {\n",
       "        text-align: right;\n",
       "    }\n",
       "</style>\n",
       "<table border=\"1\" class=\"dataframe\">\n",
       "  <thead>\n",
       "    <tr style=\"text-align: right;\">\n",
       "      <th></th>\n",
       "      <th>GRCh38Chromosome</th>\n",
       "      <th>GRCh38Location</th>\n",
       "      <th>Canonical SPDI</th>\n",
       "      <th>ref</th>\n",
       "      <th>alt</th>\n",
       "    </tr>\n",
       "  </thead>\n",
       "  <tbody>\n",
       "    <tr>\n",
       "      <th>0</th>\n",
       "      <td>1</td>\n",
       "      <td>976215</td>\n",
       "      <td>NC_000001.11:976214:A:G</td>\n",
       "      <td>A</td>\n",
       "      <td>G</td>\n",
       "    </tr>\n",
       "    <tr>\n",
       "      <th>1</th>\n",
       "      <td>1</td>\n",
       "      <td>1232280</td>\n",
       "      <td>NC_000001.11:1232279:T:C</td>\n",
       "      <td>T</td>\n",
       "      <td>C</td>\n",
       "    </tr>\n",
       "    <tr>\n",
       "      <th>2</th>\n",
       "      <td>1</td>\n",
       "      <td>1232281</td>\n",
       "      <td>NC_000001.11:1232280:G:A</td>\n",
       "      <td>G</td>\n",
       "      <td>A</td>\n",
       "    </tr>\n",
       "    <tr>\n",
       "      <th>3</th>\n",
       "      <td>1</td>\n",
       "      <td>1516036</td>\n",
       "      <td>NC_000001.11:1516035:T:G</td>\n",
       "      <td>T</td>\n",
       "      <td>G</td>\n",
       "    </tr>\n",
       "    <tr>\n",
       "      <th>4</th>\n",
       "      <td>1</td>\n",
       "      <td>1527718</td>\n",
       "      <td>NC_000001.11:1527717:A:G</td>\n",
       "      <td>A</td>\n",
       "      <td>G</td>\n",
       "    </tr>\n",
       "    <tr>\n",
       "      <th>...</th>\n",
       "      <td>...</td>\n",
       "      <td>...</td>\n",
       "      <td>...</td>\n",
       "      <td>...</td>\n",
       "      <td>...</td>\n",
       "    </tr>\n",
       "    <tr>\n",
       "      <th>3911</th>\n",
       "      <td>X</td>\n",
       "      <td>154957013</td>\n",
       "      <td>NC_000023.11:154957012:G:A</td>\n",
       "      <td>G</td>\n",
       "      <td>A</td>\n",
       "    </tr>\n",
       "    <tr>\n",
       "      <th>3912</th>\n",
       "      <td>X</td>\n",
       "      <td>154966097</td>\n",
       "      <td>NC_000023.11:154966096:C:A</td>\n",
       "      <td>C</td>\n",
       "      <td>A</td>\n",
       "    </tr>\n",
       "    <tr>\n",
       "      <th>3913</th>\n",
       "      <td>X</td>\n",
       "      <td>154966433</td>\n",
       "      <td>NC_000023.11:154966432:C:G</td>\n",
       "      <td>C</td>\n",
       "      <td>G</td>\n",
       "    </tr>\n",
       "    <tr>\n",
       "      <th>3914</th>\n",
       "      <td>X</td>\n",
       "      <td>154966667</td>\n",
       "      <td>NC_000023.11:154966666:T:G</td>\n",
       "      <td>T</td>\n",
       "      <td>G</td>\n",
       "    </tr>\n",
       "    <tr>\n",
       "      <th>3915</th>\n",
       "      <td>X</td>\n",
       "      <td>154984714</td>\n",
       "      <td>NC_000023.11:154984713:T:C</td>\n",
       "      <td>T</td>\n",
       "      <td>C</td>\n",
       "    </tr>\n",
       "  </tbody>\n",
       "</table>\n",
       "<p>3877 rows × 5 columns</p>\n",
       "</div>"
      ],
      "text/plain": [
       "     GRCh38Chromosome GRCh38Location              Canonical SPDI ref alt\n",
       "0                   1         976215     NC_000001.11:976214:A:G   A   G\n",
       "1                   1        1232280    NC_000001.11:1232279:T:C   T   C\n",
       "2                   1        1232281    NC_000001.11:1232280:G:A   G   A\n",
       "3                   1        1516036    NC_000001.11:1516035:T:G   T   G\n",
       "4                   1        1527718    NC_000001.11:1527717:A:G   A   G\n",
       "...               ...            ...                         ...  ..  ..\n",
       "3911                X      154957013  NC_000023.11:154957012:G:A   G   A\n",
       "3912                X      154966097  NC_000023.11:154966096:C:A   C   A\n",
       "3913                X      154966433  NC_000023.11:154966432:C:G   C   G\n",
       "3914                X      154966667  NC_000023.11:154966666:T:G   T   G\n",
       "3915                X      154984714  NC_000023.11:154984713:T:C   T   C\n",
       "\n",
       "[3877 rows x 5 columns]"
      ]
     },
     "execution_count": 15,
     "metadata": {},
     "output_type": "execute_result"
    }
   ],
   "source": [
    "chromosomal_variants_df = df[col_names]\n",
    "temp = chromosomal_variants_df[\"Canonical SPDI\"].apply(separate_ref_and_alt_allele) # filter \n",
    "chromosomal_variants_df[\"ref\"], chromosomal_variants_df[\"alt\"] = temp.apply(lambda x: x[0]), temp.apply(lambda x: x[1])\n",
    "\n",
    "after_multibase_removal_df = chromosomal_variants_df[chromosomal_variants_df[\"ref\"].apply(filter_multi_base_variants)] # filter: removing multi-nucleotide base variants \n",
    "after_multibase_removal_df = after_multibase_removal_df[after_multibase_removal_df[\"alt\"].apply(filter_multi_base_variants)] # filter: removing multi-nucleotide base variants \n",
    "after_multibase_removal_df[\"GRCh38Chromosome\"] = after_multibase_removal_df[\"GRCh38Chromosome\"].apply(lambda x: x.split(\"|\")[0])\n",
    "after_multibase_removal_df"
   ]
  },
  {
   "cell_type": "code",
   "execution_count": 16,
   "metadata": {},
   "outputs": [],
   "source": [
    "out_filepath = home_dir+\"models/aa_common/inputs/\" + inp_filepath.split(\"/\")[-1]\n",
    "after_multibase_removal_df[[\"GRCh38Chromosome\", \"GRCh38Location\", \"ref\", \"alt\"]].to_csv(out_filepath, index=False, sep=\" \", header=False)"
   ]
  }
 ],
 "metadata": {
  "kernelspec": {
   "display_name": "hopper_variant_effect_analysis_mine",
   "language": "python",
   "name": "python3"
  },
  "language_info": {
   "codemirror_mode": {
    "name": "ipython",
    "version": 3
   },
   "file_extension": ".py",
   "mimetype": "text/x-python",
   "name": "python",
   "nbconvert_exporter": "python",
   "pygments_lexer": "ipython3",
   "version": "3.8.6"
  },
  "orig_nbformat": 4,
  "vscode": {
   "interpreter": {
    "hash": "831918974231b2fc7cbf226cf19505a68e47ade0e201ebff2df92e599b5c76db"
   }
  }
 },
 "nbformat": 4,
 "nbformat_minor": 2
}
