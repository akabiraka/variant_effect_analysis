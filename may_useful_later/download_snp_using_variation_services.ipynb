{
 "cells": [
  {
   "cell_type": "code",
   "execution_count": 18,
   "metadata": {},
   "outputs": [],
   "source": [
    "import pandas as pd\n",
    "from requests import get, codes as http_code\n",
    "from ratelimit import limits\n",
    "import time\n",
    "import json\n",
    "import os\n",
    "# from helpers import get_col_names\n",
    "\n",
    "home_dir=\"../\""
   ]
  },
  {
   "cell_type": "code",
   "execution_count": 19,
   "metadata": {},
   "outputs": [
    {
     "data": {
      "text/plain": [
       "True"
      ]
     },
     "execution_count": 19,
     "metadata": {},
     "output_type": "execute_result"
    }
   ],
   "source": [
    "@limits(calls=1, period=1)  # Only one call per second\n",
    "def download_and_save_snp(rs_id: str):\n",
    "    # rs_id should be without rs_ keyword, only the number. \n",
    "    url = f\"https://api.ncbi.nlm.nih.gov/variation/v0/refsnp/{rs_id}\"\n",
    "    out_filepath = home_dir+f\"data/dbsnp/reference_snps/{rs_id}.json\"\n",
    "    if os.path.exists: return True\n",
    "    \n",
    "    attempt = 0\n",
    "    while (attempt < 3):\n",
    "        attempt += 1\n",
    "        reply = get(url)\n",
    "        if reply.status_code != http_code.ok:\n",
    "            print(f\"Received error from server {reply.status_code}\")\n",
    "            print(f\"Attempt {attempt} of 3\")\n",
    "            time.sleep(10)\n",
    "            \n",
    "        # print(reply)\n",
    "        content_type = reply.headers['content-type']\n",
    "        if 'application/json' not in content_type:\n",
    "            raise Exception(\"Unexpected content type: {}\\n{}\".format(content_type, url))\n",
    "        \n",
    "        \n",
    "        with open(out_filepath, \"w\") as f:\n",
    "            f.write(json.dumps(reply.json()))\n",
    "        return True\n",
    "\n",
    "download_and_save_snp(\"229969\")"
   ]
  },
  {
   "cell_type": "code",
   "execution_count": 28,
   "metadata": {},
   "outputs": [
    {
     "name": "stdout",
     "output_type": "stream",
     "text": [
      "['NP_004151.4:p.Arg37=', 'NP_004151.4:p.Arg37Cys', 'NP_004151.4:p.Arg37Gly', 'NP_004151.4:p.Arg37Ser']\n",
      "['NP_001380958.1:p.Arg37=', 'NP_001380958.1:p.Arg37Cys', 'NP_001380958.1:p.Arg37Gly', 'NP_001380958.1:p.Arg37Ser']\n",
      "['NP_001380957.1:p.Arg37=', 'NP_001380957.1:p.Arg37Cys', 'NP_001380957.1:p.Arg37Gly', 'NP_001380957.1:p.Arg37Ser']\n"
     ]
    }
   ],
   "source": [
    "rs_id = \"229969\"\n",
    "inp_filepath = home_dir+f\"data/dbsnp/reference_snps/{rs_id}.json\"\n",
    "with open(inp_filepath, 'r') as f:\n",
    "    snp_json_obj = json.load(f)\n",
    "\n",
    "hgvs_reports = snp_json_obj[\"primary_snapshot_data\"][\"placements_with_allele\"] \n",
    "# print(hgvs_reports)\n",
    "for report in hgvs_reports:\n",
    "    if report[\"placement_annot\"][\"mol_type\"] == \"protein\": \n",
    "        prot_isoforms = [allele[\"hgvs\"] for allele in report[\"alleles\"]]\n",
    "        print(prot_isoforms)\n",
    "            \n"
   ]
  }
 ],
 "metadata": {
  "kernelspec": {
   "display_name": "hopper_mine",
   "language": "python",
   "name": "python3"
  },
  "language_info": {
   "codemirror_mode": {
    "name": "ipython",
    "version": 3
   },
   "file_extension": ".py",
   "mimetype": "text/x-python",
   "name": "python",
   "nbconvert_exporter": "python",
   "pygments_lexer": "ipython3",
   "version": "3.8.6"
  },
  "orig_nbformat": 4,
  "vscode": {
   "interpreter": {
    "hash": "162432b52d3b208cb9a971f28afc0554cb98810a5af36c25db95a501ced7274e"
   }
  }
 },
 "nbformat": 4,
 "nbformat_minor": 2
}
