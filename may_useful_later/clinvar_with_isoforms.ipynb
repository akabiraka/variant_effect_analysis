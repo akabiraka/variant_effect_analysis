{
 "cells": [
  {
   "cell_type": "code",
   "execution_count": 1,
   "metadata": {},
   "outputs": [],
   "source": [
    "import os\n",
    "import sys\n",
    "module_path = os.path.abspath(os.path.join('..'))\n",
    "if module_path not in sys.path:\n",
    "    sys.path.append(module_path)\n",
    "home_dir = \"../\"\n",
    "\n",
    "import gzip\n",
    "import pandas as pd\n"
   ]
  },
  {
   "cell_type": "code",
   "execution_count": 2,
   "metadata": {},
   "outputs": [
    {
     "data": {
      "text/plain": [
       "['Symbol',\n",
       " 'GeneID',\n",
       " 'VariationID',\n",
       " 'AlleleID',\n",
       " 'Type',\n",
       " 'Assembly',\n",
       " 'NucleotideExpression',\n",
       " 'NucleotideChange',\n",
       " 'ProteinExpression',\n",
       " 'ProteinChange',\n",
       " 'UsedForNaming',\n",
       " 'Submitted',\n",
       " 'OnRefSeqGene']"
      ]
     },
     "execution_count": 2,
     "metadata": {},
     "output_type": "execute_result"
    }
   ],
   "source": [
    "def get_col_names(filepath, col_names_line_starting_symbol):\n",
    "    # ie: \"#Symbol\" for \"data/clinvar/2023_01/hgvs4variation.txt.gz\"\n",
    "\n",
    "    with gzip.open(filepath, \"rt\") as f:\n",
    "        for line_no, line in enumerate(f):\n",
    "            # print(line)\n",
    "            if line.startswith(col_names_line_starting_symbol):\n",
    "                line = line[1:] # skipping the # symbol\n",
    "                line = line.rstrip()\n",
    "                col_names = [x for x in line.split('\\t')]\n",
    "                # if line_no==100: break\n",
    "                break\n",
    "        return col_names\n",
    "\n",
    "get_col_names(home_dir+\"data/clinvar/hgvs4variation_08022023.txt.gz\", \"#Symbol\")"
   ]
  },
  {
   "cell_type": "code",
   "execution_count": 4,
   "metadata": {},
   "outputs": [
    {
     "name": "stderr",
     "output_type": "stream",
     "text": [
      "/tmp/ipykernel_578462/3354852199.py:3: DtypeWarning: Columns (1) have mixed types. Specify dtype option on import or set low_memory=False.\n",
      "  hgvs_df = pd.read_csv(hgvs_data_filepath, compression='gzip', comment='#', delim_whitespace=False, sep=\"\\t\", header=None, names=hgvs_col_names)\n"
     ]
    },
    {
     "name": "stdout",
     "output_type": "stream",
     "text": [
      "(17217771, 13)\n"
     ]
    }
   ],
   "source": [
    "hgvs_data_filepath = home_dir+\"data/clinvar/hgvs4variation_08022023.txt.gz\"\n",
    "hgvs_col_names = get_col_names(hgvs_data_filepath, \"#Symbol\")\n",
    "hgvs_df = pd.read_csv(hgvs_data_filepath, compression='gzip', comment='#', delim_whitespace=False, sep=\"\\t\", header=None, names=hgvs_col_names)    \n",
    "print(hgvs_df.shape)"
   ]
  },
  {
   "cell_type": "code",
   "execution_count": 5,
   "metadata": {},
   "outputs": [
    {
     "name": "stdout",
     "output_type": "stream",
     "text": [
      "(4006, 16)\n",
      "Index(['Name', 'Gene(s)', 'Protein change', 'Condition(s)',\n",
      "       'Clinical significance (Last reviewed)', 'Review status', 'Accession',\n",
      "       'GRCh37Chromosome', 'GRCh37Location', 'GRCh38Chromosome',\n",
      "       'GRCh38Location', 'VariationID', 'AlleleID(s)', 'dbSNP ID',\n",
      "       'Canonical SPDI', 'Unnamed: 15'],\n",
      "      dtype='object')\n"
     ]
    }
   ],
   "source": [
    "clinvar_data_filepath = home_dir+\"data/clinvar/search_results/clinvar_HumanPathogenicMissenseVariants01012022To14022023.txt\"\n",
    "clinvar_search_result_df = pd.read_csv(clinvar_data_filepath, delim_whitespace=False, sep=\"\\t\")\n",
    "print(clinvar_search_result_df.shape)\n",
    "print(clinvar_search_result_df.columns)"
   ]
  },
  {
   "cell_type": "code",
   "execution_count": 6,
   "metadata": {},
   "outputs": [
    {
     "name": "stdout",
     "output_type": "stream",
     "text": [
      "(28297, 28)\n"
     ]
    }
   ],
   "source": [
    "clinvar_marged_with_prots_df = clinvar_search_result_df.merge(hgvs_df, how=\"inner\", left_on=\"VariationID\", right_on=\"VariationID\")\n",
    "print(clinvar_marged_with_prots_df.shape)\n",
    "# clinvar_marged_with_prots_df.head()"
   ]
  },
  {
   "cell_type": "code",
   "execution_count": 7,
   "metadata": {},
   "outputs": [
    {
     "name": "stdout",
     "output_type": "stream",
     "text": [
      "(14492, 28)\n",
      "(13558, 28)\n"
     ]
    },
    {
     "data": {
      "text/html": [
       "<div>\n",
       "<style scoped>\n",
       "    .dataframe tbody tr th:only-of-type {\n",
       "        vertical-align: middle;\n",
       "    }\n",
       "\n",
       "    .dataframe tbody tr th {\n",
       "        vertical-align: top;\n",
       "    }\n",
       "\n",
       "    .dataframe thead th {\n",
       "        text-align: right;\n",
       "    }\n",
       "</style>\n",
       "<table border=\"1\" class=\"dataframe\">\n",
       "  <thead>\n",
       "    <tr style=\"text-align: right;\">\n",
       "      <th></th>\n",
       "      <th>Name</th>\n",
       "      <th>Gene(s)</th>\n",
       "      <th>Protein change</th>\n",
       "      <th>Condition(s)</th>\n",
       "      <th>Clinical significance (Last reviewed)</th>\n",
       "      <th>Review status</th>\n",
       "      <th>Accession</th>\n",
       "      <th>GRCh37Chromosome</th>\n",
       "      <th>GRCh37Location</th>\n",
       "      <th>GRCh38Chromosome</th>\n",
       "      <th>...</th>\n",
       "      <th>AlleleID</th>\n",
       "      <th>Type</th>\n",
       "      <th>Assembly</th>\n",
       "      <th>NucleotideExpression</th>\n",
       "      <th>NucleotideChange</th>\n",
       "      <th>ProteinExpression</th>\n",
       "      <th>ProteinChange</th>\n",
       "      <th>UsedForNaming</th>\n",
       "      <th>Submitted</th>\n",
       "      <th>OnRefSeqGene</th>\n",
       "    </tr>\n",
       "  </thead>\n",
       "  <tbody>\n",
       "    <tr>\n",
       "      <th>0</th>\n",
       "      <td>NM_001394713.1(PERM1):c.2330T&gt;C (p.Val777Ala)</td>\n",
       "      <td>PERM1</td>\n",
       "      <td>V663A, V755A, V777A</td>\n",
       "      <td>Renal tubular epithelial cell apoptosis|Neutro...</td>\n",
       "      <td>Pathogenic</td>\n",
       "      <td>no assertion criteria provided</td>\n",
       "      <td>VCV001320032</td>\n",
       "      <td>1</td>\n",
       "      <td>911595</td>\n",
       "      <td>1</td>\n",
       "      <td>...</td>\n",
       "      <td>1310278</td>\n",
       "      <td>coding</td>\n",
       "      <td>na</td>\n",
       "      <td>NM_001291366.2:c.2330T&gt;C</td>\n",
       "      <td>c.2330T&gt;C</td>\n",
       "      <td>NP_001278295.1:p.Val777Ala</td>\n",
       "      <td>p.Val777Ala</td>\n",
       "      <td>No</td>\n",
       "      <td>No</td>\n",
       "      <td>No</td>\n",
       "    </tr>\n",
       "    <tr>\n",
       "      <th>1</th>\n",
       "      <td>NM_001394713.1(PERM1):c.2330T&gt;C (p.Val777Ala)</td>\n",
       "      <td>PERM1</td>\n",
       "      <td>V663A, V755A, V777A</td>\n",
       "      <td>Renal tubular epithelial cell apoptosis|Neutro...</td>\n",
       "      <td>Pathogenic</td>\n",
       "      <td>no assertion criteria provided</td>\n",
       "      <td>VCV001320032</td>\n",
       "      <td>1</td>\n",
       "      <td>911595</td>\n",
       "      <td>1</td>\n",
       "      <td>...</td>\n",
       "      <td>1310278</td>\n",
       "      <td>coding</td>\n",
       "      <td>na</td>\n",
       "      <td>NM_001291367.2:c.1988T&gt;C</td>\n",
       "      <td>c.1988T&gt;C</td>\n",
       "      <td>NP_001278296.2:p.Val663Ala</td>\n",
       "      <td>p.Val663Ala</td>\n",
       "      <td>Yes</td>\n",
       "      <td>No</td>\n",
       "      <td>No</td>\n",
       "    </tr>\n",
       "    <tr>\n",
       "      <th>2</th>\n",
       "      <td>NM_001394713.1(PERM1):c.2330T&gt;C (p.Val777Ala)</td>\n",
       "      <td>PERM1</td>\n",
       "      <td>V663A, V755A, V777A</td>\n",
       "      <td>Renal tubular epithelial cell apoptosis|Neutro...</td>\n",
       "      <td>Pathogenic</td>\n",
       "      <td>no assertion criteria provided</td>\n",
       "      <td>VCV001320032</td>\n",
       "      <td>1</td>\n",
       "      <td>911595</td>\n",
       "      <td>1</td>\n",
       "      <td>...</td>\n",
       "      <td>1310278</td>\n",
       "      <td>coding</td>\n",
       "      <td>na</td>\n",
       "      <td>NM_001369897.1:c.2330T&gt;C</td>\n",
       "      <td>c.2330T&gt;C</td>\n",
       "      <td>NP_001356826.1:p.Val777Ala</td>\n",
       "      <td>p.Val777Ala</td>\n",
       "      <td>Yes</td>\n",
       "      <td>No</td>\n",
       "      <td>No</td>\n",
       "    </tr>\n",
       "    <tr>\n",
       "      <th>3</th>\n",
       "      <td>NM_001394713.1(PERM1):c.2330T&gt;C (p.Val777Ala)</td>\n",
       "      <td>PERM1</td>\n",
       "      <td>V663A, V755A, V777A</td>\n",
       "      <td>Renal tubular epithelial cell apoptosis|Neutro...</td>\n",
       "      <td>Pathogenic</td>\n",
       "      <td>no assertion criteria provided</td>\n",
       "      <td>VCV001320032</td>\n",
       "      <td>1</td>\n",
       "      <td>911595</td>\n",
       "      <td>1</td>\n",
       "      <td>...</td>\n",
       "      <td>1310278</td>\n",
       "      <td>coding</td>\n",
       "      <td>na</td>\n",
       "      <td>NM_001369898.1:c.2264T&gt;C</td>\n",
       "      <td>c.2264T&gt;C</td>\n",
       "      <td>NP_001356827.1:p.Val755Ala</td>\n",
       "      <td>p.Val755Ala</td>\n",
       "      <td>Yes</td>\n",
       "      <td>No</td>\n",
       "      <td>No</td>\n",
       "    </tr>\n",
       "    <tr>\n",
       "      <th>4</th>\n",
       "      <td>NM_001394713.1(PERM1):c.2330T&gt;C (p.Val777Ala)</td>\n",
       "      <td>PERM1</td>\n",
       "      <td>V663A, V755A, V777A</td>\n",
       "      <td>Renal tubular epithelial cell apoptosis|Neutro...</td>\n",
       "      <td>Pathogenic</td>\n",
       "      <td>no assertion criteria provided</td>\n",
       "      <td>VCV001320032</td>\n",
       "      <td>1</td>\n",
       "      <td>911595</td>\n",
       "      <td>1</td>\n",
       "      <td>...</td>\n",
       "      <td>1310278</td>\n",
       "      <td>coding</td>\n",
       "      <td>na</td>\n",
       "      <td>NM_001394713.1:c.2330T&gt;C</td>\n",
       "      <td>c.2330T&gt;C</td>\n",
       "      <td>NP_001381642.1:p.Val777Ala</td>\n",
       "      <td>p.Val777Ala</td>\n",
       "      <td>Yes</td>\n",
       "      <td>No</td>\n",
       "      <td>No</td>\n",
       "    </tr>\n",
       "  </tbody>\n",
       "</table>\n",
       "<p>5 rows × 28 columns</p>\n",
       "</div>"
      ],
      "text/plain": [
       "                                            Name Gene(s)       Protein change  \\\n",
       "0  NM_001394713.1(PERM1):c.2330T>C (p.Val777Ala)   PERM1  V663A, V755A, V777A   \n",
       "1  NM_001394713.1(PERM1):c.2330T>C (p.Val777Ala)   PERM1  V663A, V755A, V777A   \n",
       "2  NM_001394713.1(PERM1):c.2330T>C (p.Val777Ala)   PERM1  V663A, V755A, V777A   \n",
       "3  NM_001394713.1(PERM1):c.2330T>C (p.Val777Ala)   PERM1  V663A, V755A, V777A   \n",
       "4  NM_001394713.1(PERM1):c.2330T>C (p.Val777Ala)   PERM1  V663A, V755A, V777A   \n",
       "\n",
       "                                        Condition(s)  \\\n",
       "0  Renal tubular epithelial cell apoptosis|Neutro...   \n",
       "1  Renal tubular epithelial cell apoptosis|Neutro...   \n",
       "2  Renal tubular epithelial cell apoptosis|Neutro...   \n",
       "3  Renal tubular epithelial cell apoptosis|Neutro...   \n",
       "4  Renal tubular epithelial cell apoptosis|Neutro...   \n",
       "\n",
       "  Clinical significance (Last reviewed)                   Review status  \\\n",
       "0                            Pathogenic  no assertion criteria provided   \n",
       "1                            Pathogenic  no assertion criteria provided   \n",
       "2                            Pathogenic  no assertion criteria provided   \n",
       "3                            Pathogenic  no assertion criteria provided   \n",
       "4                            Pathogenic  no assertion criteria provided   \n",
       "\n",
       "      Accession GRCh37Chromosome GRCh37Location GRCh38Chromosome  ...  \\\n",
       "0  VCV001320032                1         911595                1  ...   \n",
       "1  VCV001320032                1         911595                1  ...   \n",
       "2  VCV001320032                1         911595                1  ...   \n",
       "3  VCV001320032                1         911595                1  ...   \n",
       "4  VCV001320032                1         911595                1  ...   \n",
       "\n",
       "  AlleleID    Type Assembly      NucleotideExpression NucleotideChange  \\\n",
       "0  1310278  coding       na  NM_001291366.2:c.2330T>C        c.2330T>C   \n",
       "1  1310278  coding       na  NM_001291367.2:c.1988T>C        c.1988T>C   \n",
       "2  1310278  coding       na  NM_001369897.1:c.2330T>C        c.2330T>C   \n",
       "3  1310278  coding       na  NM_001369898.1:c.2264T>C        c.2264T>C   \n",
       "4  1310278  coding       na  NM_001394713.1:c.2330T>C        c.2330T>C   \n",
       "\n",
       "            ProteinExpression ProteinChange UsedForNaming  Submitted  \\\n",
       "0  NP_001278295.1:p.Val777Ala   p.Val777Ala            No         No   \n",
       "1  NP_001278296.2:p.Val663Ala   p.Val663Ala           Yes         No   \n",
       "2  NP_001356826.1:p.Val777Ala   p.Val777Ala           Yes         No   \n",
       "3  NP_001356827.1:p.Val755Ala   p.Val755Ala           Yes         No   \n",
       "4  NP_001381642.1:p.Val777Ala   p.Val777Ala           Yes         No   \n",
       "\n",
       "  OnRefSeqGene  \n",
       "0           No  \n",
       "1           No  \n",
       "2           No  \n",
       "3           No  \n",
       "4           No  \n",
       "\n",
       "[5 rows x 28 columns]"
      ]
     },
     "execution_count": 7,
     "metadata": {},
     "output_type": "execute_result"
    }
   ],
   "source": [
    "clinvar_marged_with_prots_df = clinvar_marged_with_prots_df[clinvar_marged_with_prots_df.ProteinExpression!=\"-\"] # removing variants isoforms that is not associated with any proteins\n",
    "print(clinvar_marged_with_prots_df.shape)\n",
    "clinvar_marged_with_prots_df = clinvar_marged_with_prots_df[clinvar_marged_with_prots_df.ProteinExpression.str.contains(\"NP_\")] # removing variants isoforms that is not associated with any protein accession id\n",
    "print(clinvar_marged_with_prots_df.shape)\n",
    "clinvar_marged_with_prots_df.reset_index(inplace=True, drop=True)\n",
    "clinvar_marged_with_prots_df.head()"
   ]
  },
  {
   "cell_type": "code",
   "execution_count": 8,
   "metadata": {},
   "outputs": [
    {
     "name": "stdout",
     "output_type": "stream",
     "text": [
      "(13558, 28)\n",
      "(1208,)\n",
      "['1' '2' '3' '4' '5' '6' '7' '8' '9' '10' '11' '12' '13' '14' '15' '16'\n",
      " '17' '18' '19' '20' '21' '22' 'X']\n"
     ]
    }
   ],
   "source": [
    "clinvar_pathogenic_isoforms_df = clinvar_marged_with_prots_df\n",
    "print(clinvar_pathogenic_isoforms_df.shape)\n",
    "print(clinvar_pathogenic_isoforms_df[\"Gene(s)\"].unique().shape)\n",
    "print(clinvar_pathogenic_isoforms_df[\"GRCh38Chromosome\"].unique()) # no Y-chr found\n",
    "clinvar_pathogenic_isoforms_df.to_csv(home_dir+\"data/clinvar/filtered/clinvar_PathogenicIsoforms01012022To14022023.txt\", sep=\"\\t\", index=False)"
   ]
  },
  {
   "cell_type": "code",
   "execution_count": 9,
   "metadata": {},
   "outputs": [],
   "source": [
    "mane_select_transcription_mask = clinvar_marged_with_prots_df[\"Name\"].apply(lambda x: x.split(\":\")[0].split(\"(\")[0]) == clinvar_marged_with_prots_df[\"NucleotideExpression\"].apply(lambda x: x.split(\":\")[0])\n",
    "mane_transcripted_df = clinvar_marged_with_prots_df[mane_select_transcription_mask]\n",
    "mane_transcripted_df.reset_index(drop=True, inplace=True)\n",
    "# mane_transcripted_df.head()\n",
    "mane_transcripted_df.to_csv(home_dir+\"data/clinvar/filtered/clinvar_MANETranscriptedPathogenicMissenseVariants01012022To14022023.txt\", sep=\"\\t\", index=False)"
   ]
  },
  {
   "cell_type": "code",
   "execution_count": 10,
   "metadata": {},
   "outputs": [
    {
     "name": "stdout",
     "output_type": "stream",
     "text": [
      "(3097, 28)\n",
      "(1202,)\n",
      "['1' '2' '3' '4' '5' '6' '7' '8' '9' '10' '11' '12' '13' '14' '15' '16'\n",
      " '17' '18' '19' '20' '21' '22' 'X']\n"
     ]
    }
   ],
   "source": [
    "print(mane_transcripted_df.shape)\n",
    "print(mane_transcripted_df[\"Gene(s)\"].unique().shape)\n",
    "print(mane_transcripted_df[\"GRCh38Chromosome\"].unique()) # no Y-chr found"
   ]
  },
  {
   "cell_type": "code",
   "execution_count": 52,
   "metadata": {},
   "outputs": [
    {
     "name": "stdout",
     "output_type": "stream",
     "text": [
      "#-of proteins to download: 8416\n",
      "0 NP_001381642.1\n",
      "1 NP_940978.2\n",
      "2 NP_542172.2\n",
      "3 NP_542172.2\n",
      "4 NP_114127.3\n",
      "5 NP_001164006.1\n",
      "6 NP_001164006.1\n",
      "7 NP_001164006.1\n",
      "8 NP_001164006.1\n",
      "9 NP_002065.1\n",
      "10 NP_002065.1\n"
     ]
    }
   ],
   "source": [
    "import time\n",
    "import os\n",
    "from Bio import Entrez, SeqIO\n",
    "from urllib.error import HTTPError\n",
    "\n",
    "Entrez.email = \"akabir0101@gmail.com\"\n",
    "Entrez.api_key = \"328570309ccd040632796143ec88b51bcf08\"\n",
    "retmax = 500\n",
    "\n",
    "protein_acc_list = mane_transcripted_df.ProteinExpression.apply(lambda x: x.split(\":\")[0]).to_list()\n",
    "print(f\"#-of proteins to download: {len(protein_acc_list)}\")\n",
    "    \n",
    "for i, prot_acc in enumerate(protein_acc_list):\n",
    "    print(i, prot_acc)\n",
    "    out_filepath = home_dir+f\"data/clinvar/fastas/{prot_acc}.fasta\"\n",
    "\n",
    "    if i>=10: break\n",
    "    if os.path.exists(out_filepath): continue\n",
    "\n",
    "    attempt = 0\n",
    "    while (attempt < 3):\n",
    "        attempt += 1\n",
    "        try:\n",
    "            fetch_handle = Entrez.efetch(db=\"protein\", id=prot_acc, rettype=\"fasta\", retmode=\"text\")\n",
    "            # print(handle.read())\n",
    "        except HTTPError as err:\n",
    "            if 500 <= err.code <= 599:\n",
    "                print(\"Received error from server %s\" % err)\n",
    "                print(\"Attempt %i of 3\" % attempt)\n",
    "                time.sleep(10)\n",
    "            else:\n",
    "                raise\n",
    "    if fetch_handle:\n",
    "        f_out_handle = open(out_filepath, 'w')\n",
    "        seq_record = SeqIO.read(fetch_handle, \"fasta\")\n",
    "        # print(record)\n",
    "        # print(record.id)\n",
    "        # print(str(record.seq))\n",
    "        SeqIO.write(seq_record, f_out_handle, \"fasta\")\n",
    "        \n",
    "        fetch_handle.close()\n",
    "        f_out_handle.close()\n",
    "    "
   ]
  }
 ],
 "metadata": {
  "kernelspec": {
   "display_name": "hopper_variant_effect_analysis_mine",
   "language": "python",
   "name": "python3"
  },
  "language_info": {
   "codemirror_mode": {
    "name": "ipython",
    "version": 3
   },
   "file_extension": ".py",
   "mimetype": "text/x-python",
   "name": "python",
   "nbconvert_exporter": "python",
   "pygments_lexer": "ipython3",
   "version": "3.8.6"
  },
  "orig_nbformat": 4,
  "vscode": {
   "interpreter": {
    "hash": "831918974231b2fc7cbf226cf19505a68e47ade0e201ebff2df92e599b5c76db"
   }
  }
 },
 "nbformat": 4,
 "nbformat_minor": 2
}
