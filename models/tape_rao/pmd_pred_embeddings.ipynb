{
 "cells": [
  {
   "cell_type": "code",
   "execution_count": 50,
   "metadata": {},
   "outputs": [],
   "source": [
    "import os\n",
    "import sys\n",
    "home_dir = \"../../\"\n",
    "module_path = os.path.abspath(os.path.join(home_dir))\n",
    "if module_path not in sys.path:\n",
    "    sys.path.append(module_path)\n",
    "\n",
    "import torch\n",
    "import numpy as np\n",
    "import pandas as pd\n",
    "from models.aa_common.data_loader import get_pmd_dbnsfp_dataset\n",
    "import models.tape_rao.model_utils as model_utils\n",
    "import utils.pickle_utils as pickle_utils"
   ]
  },
  {
   "cell_type": "code",
   "execution_count": 4,
   "metadata": {},
   "outputs": [
    {
     "name": "stdout",
     "output_type": "stream",
     "text": [
      "Index(['mut_id', 'md5', 'pmd_id', 'nr', 'prot_acc_version', 'snp_id',\n",
      "       'mut_real', 'wt', 'mut', 'prot_pos', 'chrom', 'chrom_pos', 'ref_allele',\n",
      "       'alt_allele', 'function', 'source', 'crossref', 'function_summarized',\n",
      "       'class', 'SIFT_score', 'Polyphen2_HVAR_score', 'MetaRNN_score',\n",
      "       'REVEL_score', 'MVP_score', 'CADD_raw_score',\n",
      "       'integrated_fitCons_score', 'phyloP17way_primate_score',\n",
      "       'phastCons17way_primate_score', 'bStatistic_score'],\n",
      "      dtype='object')\n",
      "(7179, 29)\n",
      "Effect       3818\n",
      "No-effect    1777\n",
      "Knock-out    1584\n",
      "Name: class, dtype: int64\n",
      "#-unique prots:  2056\n"
     ]
    }
   ],
   "source": [
    "task = \"pmd\"\n",
    "variants_df, protid_seq_dict = get_pmd_dbnsfp_dataset(home_dir)"
   ]
  },
  {
   "cell_type": "code",
   "execution_count": 6,
   "metadata": {},
   "outputs": [
    {
     "name": "stdout",
     "output_type": "stream",
     "text": [
      "\n",
      "Log: Creating output directories ...\n"
     ]
    }
   ],
   "source": [
    "from tape import ProteinBertModel, TAPETokenizer\n",
    "\n",
    "model_name = \"protbert\"\n",
    "model = ProteinBertModel.from_pretrained('bert-base')\n",
    "tokenizer = TAPETokenizer(vocab='iupac') \n",
    "model_task_out_dir, model_logits_out_dir = model_utils.create_output_directories(model_name, task, home_dir)"
   ]
  },
  {
   "cell_type": "code",
   "execution_count": 51,
   "metadata": {},
   "outputs": [],
   "source": [
    "def get_embedding(seq, filename):\n",
    "    filepath = f\"{model_logits_out_dir}{filename}.pkl\"\n",
    "\n",
    "    if os.path.exists(filepath):\n",
    "        print(f\"Model logits already exists: {filename}\")\n",
    "        embedding = pickle_utils.load_pickle(filepath) \n",
    "    else: \n",
    "        print(f\"Computing model logits: {filename}\")\n",
    "        with torch.no_grad():\n",
    "            token_ids = torch.tensor(np.array([tokenizer.encode(seq)]))\n",
    "            embedding = model(token_ids)[0].squeeze(0).detach().numpy()\n",
    "        pickle_utils.save_as_pickle(embedding, filepath)\n",
    "    return embedding\n",
    "\n",
    "def compute_variant_effect_score(protid, seq, one_indexed_mut_pos, wt_aa, mt_aa):\n",
    "    wt_seq = list(seq)\n",
    "    mt_seq = list(seq)\n",
    "    mt_seq[one_indexed_mut_pos] = mt_aa\n",
    "\n",
    "    wt_filename = f\"{protid}\"\n",
    "    mt_filename = f\"{protid}_{str(one_indexed_mut_pos)}_{mt_aa}\"\n",
    "    \n",
    "    wt_embedding = get_embedding(wt_seq, wt_filename)[1:-1] # 1st and last tokens are <cls>=2 and <sep>=3\n",
    "    mt_embedding = get_embedding(mt_seq, mt_filename)[1:-1]\n",
    "    # print(wt_embedding.shape, mt_embedding.shape)\n",
    "\n",
    "    effect_score = abs(mt_embedding - wt_embedding).sum() / (768*len(seq)) # embedding_dim = 768\n",
    "    # print(effect_score)\n",
    "    return effect_score\n",
    "    "
   ]
  },
  {
   "cell_type": "code",
   "execution_count": 55,
   "metadata": {},
   "outputs": [
    {
     "name": "stdout",
     "output_type": "stream",
     "text": [
      "A000006_2 271 C Y\n",
      "Model logits already exists: A000006_2\n",
      "Model logits already exists: A000006_2_271_Y\n",
      "A000006_2 62 N S\n",
      "Model logits already exists: A000006_2\n",
      "Model logits already exists: A000006_2_62_S\n"
     ]
    },
    {
     "data": {
      "text/html": [
       "<div>\n",
       "<style scoped>\n",
       "    .dataframe tbody tr th:only-of-type {\n",
       "        vertical-align: middle;\n",
       "    }\n",
       "\n",
       "    .dataframe tbody tr th {\n",
       "        vertical-align: top;\n",
       "    }\n",
       "\n",
       "    .dataframe thead th {\n",
       "        text-align: right;\n",
       "    }\n",
       "</style>\n",
       "<table border=\"1\" class=\"dataframe\">\n",
       "  <thead>\n",
       "    <tr style=\"text-align: right;\">\n",
       "      <th></th>\n",
       "      <th>mut_id</th>\n",
       "      <th>md5</th>\n",
       "      <th>pmd_id</th>\n",
       "      <th>nr</th>\n",
       "      <th>prot_acc_version</th>\n",
       "      <th>snp_id</th>\n",
       "      <th>mut_real</th>\n",
       "      <th>wt</th>\n",
       "      <th>mut</th>\n",
       "      <th>prot_pos</th>\n",
       "      <th>...</th>\n",
       "      <th>Polyphen2_HVAR_score</th>\n",
       "      <th>MetaRNN_score</th>\n",
       "      <th>REVEL_score</th>\n",
       "      <th>MVP_score</th>\n",
       "      <th>CADD_raw_score</th>\n",
       "      <th>integrated_fitCons_score</th>\n",
       "      <th>phyloP17way_primate_score</th>\n",
       "      <th>phastCons17way_primate_score</th>\n",
       "      <th>bStatistic_score</th>\n",
       "      <th>pred</th>\n",
       "    </tr>\n",
       "  </thead>\n",
       "  <tbody>\n",
       "    <tr>\n",
       "      <th>0</th>\n",
       "      <td>168938</td>\n",
       "      <td>ef9a941d6a8a5d1b12be46de47ffd9ea</td>\n",
       "      <td>A000006</td>\n",
       "      <td>2</td>\n",
       "      <td>A000006_2</td>\n",
       "      <td>rs121913562</td>\n",
       "      <td>C271Y</td>\n",
       "      <td>C</td>\n",
       "      <td>Y</td>\n",
       "      <td>271</td>\n",
       "      <td>...</td>\n",
       "      <td>1.0</td>\n",
       "      <td>0.992647</td>\n",
       "      <td>0.836</td>\n",
       "      <td>0.894457</td>\n",
       "      <td>3.703299</td>\n",
       "      <td>0.487112</td>\n",
       "      <td>0.599</td>\n",
       "      <td>0.993</td>\n",
       "      <td>810.0</td>\n",
       "      <td>0.024019</td>\n",
       "    </tr>\n",
       "    <tr>\n",
       "      <th>1</th>\n",
       "      <td>168942</td>\n",
       "      <td>ef9a941d6a8a5d1b12be46de47ffd9ea</td>\n",
       "      <td>A000006</td>\n",
       "      <td>2</td>\n",
       "      <td>A000006_2</td>\n",
       "      <td>rs121913566</td>\n",
       "      <td>N62S</td>\n",
       "      <td>N</td>\n",
       "      <td>S</td>\n",
       "      <td>62</td>\n",
       "      <td>...</td>\n",
       "      <td>1.0</td>\n",
       "      <td>0.991474</td>\n",
       "      <td>0.946</td>\n",
       "      <td>0.996622</td>\n",
       "      <td>3.705575</td>\n",
       "      <td>0.487112</td>\n",
       "      <td>0.665</td>\n",
       "      <td>0.991</td>\n",
       "      <td>807.0</td>\n",
       "      <td>0.039788</td>\n",
       "    </tr>\n",
       "  </tbody>\n",
       "</table>\n",
       "<p>2 rows × 30 columns</p>\n",
       "</div>"
      ],
      "text/plain": [
       "   mut_id                               md5   pmd_id  nr prot_acc_version  \\\n",
       "0  168938  ef9a941d6a8a5d1b12be46de47ffd9ea  A000006   2        A000006_2   \n",
       "1  168942  ef9a941d6a8a5d1b12be46de47ffd9ea  A000006   2        A000006_2   \n",
       "\n",
       "        snp_id mut_real wt mut  prot_pos  ... Polyphen2_HVAR_score  \\\n",
       "0  rs121913562    C271Y  C   Y       271  ...                  1.0   \n",
       "1  rs121913566     N62S  N   S        62  ...                  1.0   \n",
       "\n",
       "   MetaRNN_score REVEL_score MVP_score CADD_raw_score  \\\n",
       "0       0.992647       0.836  0.894457       3.703299   \n",
       "1       0.991474       0.946  0.996622       3.705575   \n",
       "\n",
       "  integrated_fitCons_score phyloP17way_primate_score  \\\n",
       "0                 0.487112                     0.599   \n",
       "1                 0.487112                     0.665   \n",
       "\n",
       "  phastCons17way_primate_score bStatistic_score      pred  \n",
       "0                        0.993            810.0  0.024019  \n",
       "1                        0.991            807.0  0.039788  \n",
       "\n",
       "[2 rows x 30 columns]"
      ]
     },
     "execution_count": 55,
     "metadata": {},
     "output_type": "execute_result"
    }
   ],
   "source": [
    "preds = []\n",
    "for i, tuple in enumerate(variants_df.itertuples()):\n",
    "    protid, seq, one_indexed_mut_pos, wt_aa, mt_aa = tuple.prot_acc_version, protid_seq_dict[tuple.prot_acc_version], tuple.prot_pos, tuple.wt, tuple.mut\n",
    "    print(protid, one_indexed_mut_pos, wt_aa, mt_aa)\n",
    "    effect_score = compute_variant_effect_score(protid, seq, one_indexed_mut_pos, wt_aa, mt_aa)\n",
    "\n",
    "    row = variants_df.loc[i]\n",
    "    row = dict(row)\n",
    "    row[\"pred\"] = effect_score\n",
    "    preds.append(row)\n",
    "    if i==1: break\n",
    "\n",
    "preds_df = pd.DataFrame(preds)   \n",
    "preds_df"
   ]
  },
  {
   "cell_type": "code",
   "execution_count": null,
   "metadata": {},
   "outputs": [],
   "source": [
    "\n"
   ]
  }
 ],
 "metadata": {
  "kernelspec": {
   "display_name": "hopper_tape_rao",
   "language": "python",
   "name": "python3"
  },
  "language_info": {
   "codemirror_mode": {
    "name": "ipython",
    "version": 3
   },
   "file_extension": ".py",
   "mimetype": "text/x-python",
   "name": "python",
   "nbconvert_exporter": "python",
   "pygments_lexer": "ipython3",
   "version": "3.8.6"
  },
  "orig_nbformat": 4
 },
 "nbformat": 4,
 "nbformat_minor": 2
}
