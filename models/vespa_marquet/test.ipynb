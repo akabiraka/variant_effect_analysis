{
 "cells": [
  {
   "cell_type": "code",
   "execution_count": 1,
   "metadata": {},
   "outputs": [],
   "source": [
    "import os\n",
    "import sys\n",
    "home_dir = \"../../\"\n",
    "module_path = os.path.abspath(os.path.join(home_dir))\n",
    "if module_path not in sys.path:\n",
    "    sys.path.append(module_path)\n",
    "\n",
    "import pandas as pd\n",
    "import h5py\n"
   ]
  },
  {
   "cell_type": "code",
   "execution_count": 7,
   "metadata": {},
   "outputs": [
    {
     "name": "stdout",
     "output_type": "stream",
     "text": [
      "\n"
     ]
    }
   ],
   "source": [
    "filepath = home_dir+\"models/vespa_marquet/cache/vespal_human_proteome.h5\"\n",
    "out_filehandle = open(home_dir+\"models/vespa_marquet/cache/vespal_human_proteome_uniprot_ids.txt\", \"w\")\n",
    "with h5py.File(filepath, \"r\") as f:\n",
    "    print()\n",
    "    for uniprot_id in list(f.keys()):\n",
    "        out_filehandle.write(f\"{uniprot_id}\\n\")\n",
    "\n",
    "    # a_group_key = list(f.keys())[0] # uniprot_ids\n",
    "    # dataset_name = \"VESPAl\"\n",
    "    # data = f['Q1RMY8'][dataset_name] # h5py dataset object\n",
    "    # data = data[()] # numpy array: seq_len x 20, ALGVSREDTIPKFQNYMHWC got from https://github.com/Rostlab/VESPA readme\n",
    "    # print(data.shape)\n",
    "out_filehandle.close()\n",
    "\n",
    "# from uniprot mapping: https://www.uniprot.org/id-mapping\n",
    "# 18,992 IDs were mapped to 55,836 results\n",
    "# 1365 ID were not mapped:"
   ]
  },
  {
   "cell_type": "code",
   "execution_count": 17,
   "metadata": {},
   "outputs": [
    {
     "name": "stdout",
     "output_type": "stream",
     "text": [
      "Index(['uniprot_id', 'refseq_id'], dtype='object')\n",
      "(55836, 2)\n"
     ]
    }
   ],
   "source": [
    "uniprot_to_refseq_mapping_df = pd.read_csv(home_dir+\"models/vespa_marquet/cache/uniprot_to_refseq_mapping.tsv\", sep=\"\\t\")\n",
    "uniprot_to_refseq_mapping_df.value_counts() # each pair is unique\n",
    "uniprot_to_refseq_mapping_df[\"refseq_id\"].value_counts() # NP_001123877.1 is mapped to 5 uniprot_ids\n",
    "uniprot_to_refseq_mapping_df[\"uniprot_id\"].value_counts() # Q9UKV0 is mapped to 39 refseq_ids\n",
    "print(uniprot_to_refseq_mapping_df.columns)\n",
    "print(uniprot_to_refseq_mapping_df.shape)"
   ]
  }
 ],
 "metadata": {
  "kernelspec": {
   "display_name": "hopper_variant_effect_analysis_mine",
   "language": "python",
   "name": "python3"
  },
  "language_info": {
   "codemirror_mode": {
    "name": "ipython",
    "version": 3
   },
   "file_extension": ".py",
   "mimetype": "text/x-python",
   "name": "python",
   "nbconvert_exporter": "python",
   "pygments_lexer": "ipython3",
   "version": "3.8.6"
  },
  "orig_nbformat": 4
 },
 "nbformat": 4,
 "nbformat_minor": 2
}
