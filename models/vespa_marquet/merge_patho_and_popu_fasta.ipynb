{
 "cells": [
  {
   "cell_type": "code",
   "execution_count": 1,
   "metadata": {},
   "outputs": [],
   "source": [
    "import os\n",
    "import sys\n",
    "home_dir = \"../../\"\n",
    "module_path = os.path.abspath(os.path.join(home_dir))\n",
    "if module_path not in sys.path:\n",
    "    sys.path.append(module_path)\n",
    "\n",
    "import pandas as pd\n",
    "from models.aa_common.data_loader import get_protein_sequences"
   ]
  },
  {
   "cell_type": "code",
   "execution_count": 2,
   "metadata": {},
   "outputs": [
    {
     "name": "stdout",
     "output_type": "stream",
     "text": [
      "\n",
      "Log: Loading combined fasta iterator ...\n",
      "#-protein sequences (seq-len<=1022): 15962\n",
      "\n",
      "Log: Loading combined fasta iterator ...\n",
      "#-protein sequences (seq-len<=1022): 1434\n"
     ]
    }
   ],
   "source": [
    "popu_protid_seq_dict= get_protein_sequences(home_dir, max_seq_len=1022, return_type=\"protid_seq_dict\", data_type=\"popu_freq\")\n",
    "patho_protid_seq_dict = get_protein_sequences(home_dir, max_seq_len=1022, return_type=\"protid_seq_dict\", data_type=\"patho_and_likelypatho\")"
   ]
  },
  {
   "cell_type": "code",
   "execution_count": 3,
   "metadata": {},
   "outputs": [
    {
     "name": "stdout",
     "output_type": "stream",
     "text": [
      "15962\n",
      "15995\n",
      "15994\n"
     ]
    }
   ],
   "source": [
    "merged_protid_seq_dict = popu_protid_seq_dict # this is large\n",
    "print(len(merged_protid_seq_dict))\n",
    "for prot_id, seq in patho_protid_seq_dict.items():\n",
    "    if prot_id not in merged_protid_seq_dict.keys():\n",
    "        merged_protid_seq_dict[prot_id] = seq\n",
    "\n",
    "print(len(merged_protid_seq_dict))\n",
    "\n",
    "\n",
    "out_fasta_filepath = home_dir+\"models/vespa_marquet/cache/merged_popu_and_patho_sequences.fasta\"\n",
    "out_fasta_file_handle = open(out_fasta_filepath, \"w\")\n",
    "for i, (prot_id, seq) in enumerate(merged_protid_seq_dict.items()):\n",
    "    # print(tuple.pmd_id, tuple.seq)\n",
    "    out_fasta_file_handle.write(f\">{prot_id}\\n\")\n",
    "    out_fasta_file_handle.write(f\"{seq}\\n\")\n",
    "    # if i==10: break\n",
    "out_fasta_file_handle.close()   \n",
    "print(i)"
   ]
  }
 ],
 "metadata": {
  "kernelspec": {
   "display_name": "hopper_vespa_marquet",
   "language": "python",
   "name": "python3"
  },
  "language_info": {
   "codemirror_mode": {
    "name": "ipython",
    "version": 3
   },
   "file_extension": ".py",
   "mimetype": "text/x-python",
   "name": "python",
   "nbconvert_exporter": "python",
   "pygments_lexer": "ipython3",
   "version": "3.8.6"
  },
  "orig_nbformat": 4
 },
 "nbformat": 4,
 "nbformat_minor": 2
}
