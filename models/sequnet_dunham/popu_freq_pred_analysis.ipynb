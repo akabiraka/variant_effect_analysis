{
 "cells": [
  {
   "cell_type": "code",
   "execution_count": 1,
   "metadata": {},
   "outputs": [],
   "source": [
    "import os\n",
    "import sys\n",
    "home_dir = \"../../\"\n",
    "module_path = os.path.abspath(os.path.join(home_dir))\n",
    "if module_path not in sys.path:\n",
    "    sys.path.append(module_path)\n",
    "\n",
    "import numpy as np\n",
    "import pandas as pd\n",
    "from scipy.stats import spearmanr, pearsonr\n",
    "\n",
    "import matplotlib.pyplot as plt\n",
    "%matplotlib inline "
   ]
  },
  {
   "cell_type": "code",
   "execution_count": 6,
   "metadata": {},
   "outputs": [
    {
     "name": "stdout",
     "output_type": "stream",
     "text": [
      "(95211, 14)\n"
     ]
    },
    {
     "data": {
      "text/html": [
       "<div>\n",
       "<style scoped>\n",
       "    .dataframe tbody tr th:only-of-type {\n",
       "        vertical-align: middle;\n",
       "    }\n",
       "\n",
       "    .dataframe tbody tr th {\n",
       "        vertical-align: top;\n",
       "    }\n",
       "\n",
       "    .dataframe thead th {\n",
       "        text-align: right;\n",
       "    }\n",
       "</style>\n",
       "<table border=\"1\" class=\"dataframe\">\n",
       "  <thead>\n",
       "    <tr style=\"text-align: right;\">\n",
       "      <th></th>\n",
       "      <th>snp_id</th>\n",
       "      <th>chrom_acc_version</th>\n",
       "      <th>chrom_pos</th>\n",
       "      <th>ref_allele</th>\n",
       "      <th>alt_allele</th>\n",
       "      <th>prot_acc_version</th>\n",
       "      <th>prot_pos</th>\n",
       "      <th>wt</th>\n",
       "      <th>mut</th>\n",
       "      <th>wt_population</th>\n",
       "      <th>mut_poulation</th>\n",
       "      <th>wt_freq</th>\n",
       "      <th>mt_freq</th>\n",
       "      <th>pred</th>\n",
       "    </tr>\n",
       "  </thead>\n",
       "  <tbody>\n",
       "  </tbody>\n",
       "</table>\n",
       "</div>"
      ],
      "text/plain": [
       "Empty DataFrame\n",
       "Columns: [snp_id, chrom_acc_version, chrom_pos, ref_allele, alt_allele, prot_acc_version, prot_pos, wt, mut, wt_population, mut_poulation, wt_freq, mt_freq, pred]\n",
       "Index: []"
      ]
     },
     "execution_count": 6,
     "metadata": {},
     "output_type": "execute_result"
    }
   ],
   "source": [
    "result_df = pd.read_csv(home_dir+\"models/sequnet_dunham/outputs/popu_freq_preds_(mut-wt).csv\", sep=\"\\t\")\n",
    "print(result_df.shape)\n",
    "result_df[result_df[\"mt_freq\"]==0.0]"
   ]
  },
  {
   "cell_type": "code",
   "execution_count": 3,
   "metadata": {},
   "outputs": [
    {
     "name": "stdout",
     "output_type": "stream",
     "text": [
      "4.873223101026788e-06 0.5\n"
     ]
    }
   ],
   "source": [
    "print(result_df[\"mt_freq\"].min(), result_df[\"mt_freq\"].max())\n",
    "processed_result_df = result_df.copy()\n",
    "processed_result_df[\"mt_freq\"]=(result_df[\"mt_freq\"]-result_df[\"mt_freq\"].min())/(result_df[\"mt_freq\"].max()-result_df[\"mt_freq\"].min())\n",
    "processed_result_df[\"pred\"]=(result_df[\"pred\"]-result_df[\"pred\"].min())/(result_df[\"pred\"].max()-result_df[\"pred\"].min())"
   ]
  },
  {
   "cell_type": "code",
   "execution_count": 4,
   "metadata": {},
   "outputs": [
    {
     "data": {
      "image/png": "[encoded data removed]",
      "text/plain": [
       "<Figure size 640x480 with 1 Axes>"
      ]
     },
     "metadata": {},
     "output_type": "display_data"
    }
   ],
   "source": [
    "# bins = (np.logspace(0, 1.041392685158225, 500, base=10) - 1) / 10\n",
    "# plt.hist(processed_result_df[\"pred\"], bins, log=True, density=True, alpha=.5, label=\"Seq-UNET\")\n",
    "# plt.hist(processed_result_df[\"mt_freq\"], bins, log=True, density=True, alpha=.5, label=\"Variants population-freqency\")\n",
    "plt.hist(processed_result_df[\"pred\"], bins=500, log=True, alpha=.5, label=\"Seq-UNET\")\n",
    "plt.hist(processed_result_df[\"mt_freq\"], bins=500, log=True, alpha=.5, label=\"Variants population-freqency\")\n",
    "plt.legend()\n",
    "plt.show()"
   ]
  },
  {
   "cell_type": "code",
   "execution_count": 5,
   "metadata": {},
   "outputs": [
    {
     "name": "stdout",
     "output_type": "stream",
     "text": [
      "SignificanceResult(statistic=-0.04112029231141329, pvalue=6.4335957781762084e-37)\n",
      "PearsonRResult(statistic=-0.025453631021147026, pvalue=3.9909319612927695e-15)\n"
     ]
    }
   ],
   "source": [
    "print(spearmanr(result_df[\"pred\"], result_df[\"mt_freq\"]))\n",
    "print(pearsonr(result_df[\"pred\"], result_df[\"mt_freq\"]))"
   ]
  },
  {
   "attachments": {},
   "cell_type": "markdown",
   "metadata": {},
   "source": [
    "### Amino acid specific analysis"
   ]
  },
  {
   "cell_type": "code",
   "execution_count": 6,
   "metadata": {},
   "outputs": [
    {
     "name": "stdout",
     "output_type": "stream",
     "text": [
      "A -0.029689913989336066\n",
      "C 0.039276086059669445\n",
      "D -0.06337725345293432\n",
      "E -0.06371721947907259\n",
      "F -0.038782795557840914\n",
      "G -0.03429275954687598\n",
      "H -0.015277607319736956\n",
      "I -0.05360327943307657\n",
      "K -0.0038310505186481656\n",
      "L -0.05437237333831166\n",
      "M -0.027281979947798653\n",
      "N 0.005017169487677549\n",
      "P -0.1536449237721215\n",
      "Q -0.015436326359819912\n",
      "R -0.023835572489228986\n",
      "S -0.017467843415582846\n",
      "T -0.07769418221701947\n",
      "V -0.005197214298622998\n",
      "W -0.0002581384991329792\n",
      "Y -0.028146319995598315\n"
     ]
    }
   ],
   "source": [
    "for aa in sorted(result_df[\"mut\"].unique()):\n",
    "    aa_result_df = result_df[result_df[\"mut\"]==aa]\n",
    "    print(aa, spearmanr(aa_result_df[\"pred\"], aa_result_df[\"mt_freq\"])[0])"
   ]
  },
  {
   "attachments": {},
   "cell_type": "markdown",
   "metadata": {},
   "source": [
    "### Common, rare and singletons analysis"
   ]
  },
  {
   "cell_type": "code",
   "execution_count": 7,
   "metadata": {},
   "outputs": [
    {
     "name": "stdout",
     "output_type": "stream",
     "text": [
      "(18279, 14) (29422, 14) (48483, 14)\n"
     ]
    }
   ],
   "source": [
    "common = result_df[result_df[\"mt_freq\"]>=.01]\n",
    "rare = result_df[(result_df[\"mt_freq\"]<.01) & (result_df[\"mt_freq\"]>=.001)]\n",
    "singletons = result_df[result_df[\"mut_poulation\"]==1]\n",
    "print(common.shape, rare.shape, singletons.shape)"
   ]
  },
  {
   "cell_type": "code",
   "execution_count": 8,
   "metadata": {},
   "outputs": [
    {
     "name": "stdout",
     "output_type": "stream",
     "text": [
      "SignificanceResult(statistic=-0.021910193200039136, pvalue=0.003052431295205146)\n",
      "SignificanceResult(statistic=-0.019237401863210664, pvalue=0.0009671020250252508)\n",
      "SignificanceResult(statistic=-0.00020771899341675656, pvalue=0.9635205373469891)\n"
     ]
    }
   ],
   "source": [
    "print(spearmanr(common[\"pred\"], common[\"mt_freq\"]))\n",
    "# print(pearsonr(common[\"pred\"], common[\"mt_freq\"]))\n",
    "\n",
    "print(spearmanr(rare[\"pred\"], rare[\"mt_freq\"]))\n",
    "# print(pearsonr(rare[\"pred\"], rare[\"mt_freq\"]))\n",
    "\n",
    "print(spearmanr(singletons[\"pred\"], singletons[\"mt_freq\"]))\n",
    "# print(pearsonr(singletons[\"pred\"], singletons[\"mt_freq\"]))"
   ]
  }
 ],
 "metadata": {
  "kernelspec": {
   "display_name": "hopper_sequnet_dunham",
   "language": "python",
   "name": "python3"
  },
  "language_info": {
   "codemirror_mode": {
    "name": "ipython",
    "version": 3
   },
   "file_extension": ".py",
   "mimetype": "text/x-python",
   "name": "python",
   "nbconvert_exporter": "python",
   "pygments_lexer": "ipython3",
   "version": "3.8.6"
  },
  "orig_nbformat": 4
 },
 "nbformat": 4,
 "nbformat_minor": 2
}
