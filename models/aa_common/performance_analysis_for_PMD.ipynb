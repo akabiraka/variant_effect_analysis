{
 "cells": [
  {
   "cell_type": "code",
   "execution_count": 1,
   "metadata": {},
   "outputs": [],
   "source": [
    "import os\n",
    "import sys\n",
    "home_dir = \"../../\"\n",
    "module_path = os.path.abspath(os.path.join(home_dir))\n",
    "if module_path not in sys.path:\n",
    "    sys.path.append(module_path)\n",
    "\n",
    "import random\n",
    "import numpy as np\n",
    "import pandas as pd\n",
    "from models.aa_common.performance_metrics import *"
   ]
  },
  {
   "cell_type": "code",
   "execution_count": 2,
   "metadata": {},
   "outputs": [],
   "source": [
    "task = \"pmd\"\n",
    "model_root_and_name_tuple_list = [(\"dbnsfp\", \"sift\"), (\"dbnsfp\", \"polyphen2_HVAR\"), (\"dbnsfp\", \"cadd\"), (\"dbnsfp\", \"mvp\"), (\"dbnsfp\", \"metarnn\"), (\"dbnsfp\", \"revel\"),\n",
    "                                  (\"tape_rao\", \"unirep\"), (\"tape_rao\", \"protbert\"), (\"sequnet_dunham\", \"sequnet\"), \n",
    "                                  (\"esm_rives\", \"esm1b_t33_650M_UR50S\"), (\"esm_rives\", \"esm1v_t33_650M_UR90S\"), (\"esm_rives\", \"esm2_t33_650M_UR50D\"),\n",
    "                                  (\"bioembeddings_dallago\", \"plus_rnn\"), \n",
    "                                  (\"bioembeddings_dallago\", \"prottrans_bert_bfd\"), (\"bioembeddings_dallago\", \"prottrans_albert_bfd\"),\n",
    "                                  (\"bioembeddings_dallago\", \"prottrans_xlnet_uniref100\"), \n",
    "                                  (\"bioembeddings_dallago\", \"prottrans_t5_bfd\"), (\"bioembeddings_dallago\", \"prottrans_t5_uniref50\"), (\"bioembeddings_dallago\", \"prottrans_t5_xl_u50\"),\n",
    "                                  (\"vespa_marquet\", \"vespa\"), (\"\", \"random_classifier\")]\n",
    "\n",
    "\n",
    "# by default, we consider larger means positive class (here Effect), but the following models have specific opposite meaning\n",
    "models_smaller_means_damaging = [\"sequnet\", \"sift\"]\n",
    "\n",
    "metrics = [\"KS-statistic\", \"KS-pvalue\", \"AUC-ROC\", \"AUC-PR\", \"F1-max\", \"Th-max\", \"Precision\", \"Recall\", \"Accuracy\", \"Balanced-accuracy\", \"MCC\", \"Missing values (%)\"]"
   ]
  },
  {
   "cell_type": "code",
   "execution_count": 15,
   "metadata": {},
   "outputs": [
    {
     "name": "stdout",
     "output_type": "stream",
     "text": [
      "(60656, 52)\n",
      "Index(['mut_id', 'pmd_id', 'nr', 'crossref', 'uniprot_id', 'ensembl_id',\n",
      "       'taxid', 'protein', 'mut_PMD', 'mut_real', 'wt', 'mut', 'prot_pos',\n",
      "       'function_summarized', 'functional_effect', 'function', 'seq', 'snp_id',\n",
      "       'mrna_acc', 'mrna_ver', 'mrna_pos', 'allele', 'protein_acc',\n",
      "       'protein_ver', 'verified', 'chrom', 'chrom_pos', 'variation',\n",
      "       'variant_type', 'ref_allele', 'alt_allele', 'pmd_nr_id', 'sift_pred',\n",
      "       'polyphen2_HVAR_pred', 'cadd_pred', 'mvp_pred', 'metarnn_pred',\n",
      "       'revel_pred', 'unirep_pred', 'protbert_pred', 'sequnet_pred',\n",
      "       'esm1b_t33_650M_UR50S_pred', 'esm1v_t33_650M_UR90S_pred',\n",
      "       'esm2_t33_650M_UR50D_pred', 'plus_rnn_pred', 'prottrans_bert_bfd_pred',\n",
      "       'prottrans_albert_bfd_pred', 'prottrans_xlnet_uniref100_pred',\n",
      "       'prottrans_t5_bfd_pred', 'prottrans_t5_uniref50_pred',\n",
      "       'prottrans_t5_xl_u50_pred', 'vespa_pred'],\n",
      "      dtype='object')\n"
     ]
    },
    {
     "data": {
      "text/plain": [
       "Effect       28800\n",
       "Knock-out    16616\n",
       "No-effect    15240\n",
       "Name: class, dtype: int64"
      ]
     },
     "execution_count": 15,
     "metadata": {},
     "output_type": "execute_result"
    }
   ],
   "source": [
    "result_df = pd.read_csv(home_dir+f\"models/aa_common/merged_predictions/{task}.tsv\", sep=\"\\t\")\n",
    "print(result_df.shape)\n",
    "print(result_df.columns)\n",
    "result_df.rename(columns={\"functional_effect\": \"class\"}, inplace=True)\n",
    "result_df[\"class\"].value_counts()"
   ]
  },
  {
   "attachments": {},
   "cell_type": "markdown",
   "metadata": {},
   "source": [
    "### The following are the helper functions that computes the performance metrics for human and non-human analysis"
   ]
  },
  {
   "cell_type": "code",
   "execution_count": 24,
   "metadata": {},
   "outputs": [],
   "source": [
    "def get_non_nan_df(df, col_name):\n",
    "    non_nan_df = df[~pd.isna(df[col_name])]  # taking df for only non-NAN values\n",
    "    \n",
    "    n_missing = df[pd.isna(df[col_name])].shape[0] \n",
    "    total = df.shape[0]\n",
    "    missing_values_percentage = (n_missing / total) * 100\n",
    "    print(f\"\\tMissing values: 100*{n_missing}/{total}={missing_values_percentage}\")\n",
    "    \n",
    "    return non_nan_df, missing_values_percentage\n",
    "\n",
    "def calibrate_prediction_scores_direction(df, model_name):\n",
    "    if model_name in models_smaller_means_damaging:\n",
    "        df['pred'] = df['pred'].multiply(-1)\n",
    "    \n",
    "    auc_roc_score, larger_means_positive_class = get_auc_roc_score(df)\n",
    "    if not larger_means_positive_class:\n",
    "        df['pred'] = df['pred'].multiply(-1)\n",
    "    \n",
    "    return df, auc_roc_score\n",
    "\n",
    "def sample_positive_and_negative_data_points(df, positive_cls, negative_cls, n_samples):\n",
    "    df = df.copy(deep=True)\n",
    "    positive_cls_result_df = df[df[\"class\"]==positive_cls]\n",
    "    negative_cls_result_df = df[df[\"class\"]==negative_cls]\n",
    "    \n",
    "    positive_cls_result_df[\"class_numeric\"] = 1\n",
    "    negative_cls_result_df[\"class_numeric\"] = 0\n",
    "\n",
    "    positive_cls_result_df = positive_cls_result_df.sample(n=min(n_samples, positive_cls_result_df.shape[0]))\n",
    "    negative_cls_result_df = negative_cls_result_df.sample(n=min(n_samples, negative_cls_result_df.shape[0]))\n",
    "\n",
    "    print(f\"\\t{positive_cls}(+ve): {positive_cls_result_df.shape}, {negative_cls}(-ve): {negative_cls_result_df.shape}\")\n",
    "    \n",
    "    result_df = pd.concat([positive_cls_result_df, negative_cls_result_df])\n",
    "    return result_df\n",
    "\n",
    "def compute_all_methods_all_metics(result_df, positive_cls, negative_cls, n_samples):\n",
    "    performance_scores_dict = {}\n",
    "    for i, (model_root, model_name) in enumerate(model_root_and_name_tuple_list):\n",
    "        print(model_name)\n",
    "        model_pred_col = model_name + \"_pred\"\n",
    "        performance_scores = []\n",
    "\n",
    "        for i_run in range(10): #10 runs\n",
    "            if model_name==\"random_classifier\": result_df[model_pred_col] = [random.uniform(0, 1) for i in range(result_df.shape[0])]\n",
    "\n",
    "            non_nan_result_df, missing_values_percentage = get_non_nan_df(result_df, model_pred_col)\n",
    "\n",
    "            sampled_result_df = sample_positive_and_negative_data_points(non_nan_result_df, positive_cls, negative_cls, n_samples)\n",
    "            \n",
    "            sampled_result_df[\"pred\"]=(sampled_result_df[model_pred_col]-sampled_result_df[model_pred_col].min())/(sampled_result_df[model_pred_col].max()-sampled_result_df[model_pred_col].min()) # scaling prediction scores between [0, 1]\n",
    "            \n",
    "            non_nan_result_df = sampled_result_df\n",
    "            non_nan_result_df, auc_roc_score =  calibrate_prediction_scores_direction(non_nan_result_df, model_name)\n",
    "            \n",
    "            ks_statistic, ks_pvalue = get_KS_test_score(non_nan_result_df)\n",
    "            auc_pr_score, precisions, recalls, thresholds = get_auc_pr_score(non_nan_result_df)\n",
    "            f1_max, th_max, precisions, recalls, thresholds = get_f1max_and_th(precisions, recalls, thresholds)\n",
    "            precision = get_precision_score(non_nan_result_df, th_max)\n",
    "            recall = get_recall_score(non_nan_result_df, th_max)\n",
    "            accuracy = get_accuracy_score(non_nan_result_df, th_max)\n",
    "            balanced_accuracy = get_balanced_accuracy_score(non_nan_result_df, th_max)\n",
    "            mcc = get_matthews_corrcoef(non_nan_result_df, th_max)\n",
    "            \n",
    "            performance_scores.append([ks_statistic, ks_pvalue, auc_roc_score, auc_pr_score, f1_max, th_max, precision, recall, accuracy, balanced_accuracy, mcc, missing_values_percentage])\n",
    "            print()\n",
    "            \n",
    "        performance_scores_dict[model_name] = performance_scores\n",
    "    return performance_scores_dict"
   ]
  },
  {
   "cell_type": "code",
   "execution_count": 25,
   "metadata": {},
   "outputs": [],
   "source": [
    "# output_file = home_dir+f\"models/aa_common/performance_analysis/{task}.tsv\"\n",
    "\n",
    "def write_metrics_outputs(performance_scores_dict, output_file):\n",
    "    out = open(output_file, 'w')\n",
    "    out.write(\"Models\\\\Metrics\")\n",
    "    for metric in metrics:\n",
    "        out.write(f\"\\t{metric}\")\n",
    "    out.write(\"\\n\")\n",
    "\n",
    "    for (model_name, performance_scores) in performance_scores_dict.items():\n",
    "        out.write(f\"{model_name}\")\n",
    "        for scores in performance_scores:\n",
    "            for score in scores:\n",
    "                out.write(f\"\\t{score:.3f}\")\n",
    "            out.write(\"\\n\")\n",
    "        out.write(\"\\n\")\n",
    "        \n",
    "    for (model_name, performance_scores) in performance_scores_dict.items():\n",
    "        out.write(f\"{model_name}\")    \n",
    "        avg_scores = np.mean(performance_scores, axis=0)\n",
    "        std_scores = np.std(performance_scores, axis=0)\n",
    "        for i in range(len(avg_scores)):\n",
    "            out.write(f\"\\t{avg_scores[i]:.3f}({std_scores[i]:.3f})\")\n",
    "        out.write(\"\\n\")\n",
    "    out.close()"
   ]
  },
  {
   "attachments": {},
   "cell_type": "markdown",
   "metadata": {},
   "source": [
    "### Human: Effect vs. No-effect and Knock-out vs. No-effect"
   ]
  },
  {
   "cell_type": "code",
   "execution_count": 30,
   "metadata": {},
   "outputs": [
    {
     "name": "stdout",
     "output_type": "stream",
     "text": [
      "(16996, 52)\n"
     ]
    },
    {
     "data": {
      "text/plain": [
       "Effect       8380\n",
       "Knock-out    4382\n",
       "No-effect    4234\n",
       "Name: class, dtype: int64"
      ]
     },
     "execution_count": 30,
     "metadata": {},
     "output_type": "execute_result"
    }
   ],
   "source": [
    "# print(\"#-human (taxid)\", result_df[result_df[\"taxid\"]==\"9606\"].shape) # # number of human entries using taxid: 14072. no longer using this.\n",
    "human_result_df = result_df[result_df[\"crossref\"].apply(lambda x: True if \"HUMAN\" in x else False)] # number of human entries: 16996\n",
    "print(human_result_df.shape)\n",
    "human_result_df[\"class\"].value_counts()\n",
    "\n",
    "positive_cls, negative_cls = \"Effect\", \"No-effect\"\n",
    "performance_scores_dict = compute_all_methods_all_metics(human_result_df, positive_cls, negative_cls, n_samples=3000)\n",
    "write_metrics_outputs(performance_scores_dict, output_file=home_dir+f\"models/aa_common/performance_analysis/{task}_human_{positive_cls}_vs_{negative_cls}_analysis.tsv\")\n",
    "\n",
    "positive_cls, negative_cls = \"Knock-out\", \"No-effect\"\n",
    "performance_scores_dict = compute_all_methods_all_metics(human_result_df, positive_cls, negative_cls, n_samples=3000)\n",
    "write_metrics_outputs(performance_scores_dict, output_file=home_dir+f\"models/aa_common/performance_analysis/{task}_human_{positive_cls}_vs_{negative_cls}_analysis.tsv\")"
   ]
  },
  {
   "attachments": {},
   "cell_type": "markdown",
   "metadata": {},
   "source": [
    "### Non-Human: Effect vs. No-effect and Knock-out vs. No-effect"
   ]
  },
  {
   "cell_type": "code",
   "execution_count": 31,
   "metadata": {},
   "outputs": [
    {
     "name": "stdout",
     "output_type": "stream",
     "text": [
      "(43660, 52)\n"
     ]
    },
    {
     "data": {
      "text/plain": [
       "Effect       20420\n",
       "Knock-out    12234\n",
       "No-effect    11006\n",
       "Name: class, dtype: int64"
      ]
     },
     "execution_count": 31,
     "metadata": {},
     "output_type": "execute_result"
    }
   ],
   "source": [
    "non_human_result_df = result_df[result_df[\"crossref\"].apply(lambda x: False if \"HUMAN\" in x else True)] # number of human entries: 43660\n",
    "print(non_human_result_df.shape)\n",
    "non_human_result_df[\"class\"].value_counts()\n",
    "\n",
    "positive_cls, negative_cls = \"Effect\", \"No-effect\"\n",
    "performance_scores_dict = compute_all_methods_all_metics(non_human_result_df, positive_cls, negative_cls, n_samples=3000)\n",
    "write_metrics_outputs(performance_scores_dict, output_file=home_dir+f\"models/aa_common/performance_analysis/{task}_nonhuman_{positive_cls}_vs_{negative_cls}_analysis.tsv\")\n",
    "\n",
    "positive_cls, negative_cls = \"Knock-out\", \"No-effect\"\n",
    "performance_scores_dict = compute_all_methods_all_metics(non_human_result_df, positive_cls, negative_cls, n_samples=3000)\n",
    "write_metrics_outputs(performance_scores_dict, output_file=home_dir+f\"models/aa_common/performance_analysis/{task}_nonhuman_{positive_cls}_vs_{negative_cls}_analysis.tsv\")"
   ]
  },
  {
   "attachments": {},
   "cell_type": "markdown",
   "metadata": {},
   "source": [
    "### Plotting the prediction score distributions"
   ]
  },
  {
   "cell_type": "code",
   "execution_count": 44,
   "metadata": {},
   "outputs": [
    {
     "name": "stdout",
     "output_type": "stream",
     "text": [
      "unirep\n",
      "\tMissing values: 100*0/43660=0.0\n"
     ]
    },
    {
     "name": "stderr",
     "output_type": "stream",
     "text": [
      "/tmp/ipykernel_3760094/1662790352.py:53: SettingWithCopyWarning: \n",
      "A value is trying to be set on a copy of a slice from a DataFrame.\n",
      "Try using .loc[row_indexer,col_indexer] = value instead\n",
      "\n",
      "See the caveats in the documentation: https://pandas.pydata.org/pandas-docs/stable/user_guide/indexing.html#returning-a-view-versus-a-copy\n",
      "  df[\"pred\"]=(df[model_pred_col]-df[model_pred_col].min())/(df[model_pred_col].max()-df[model_pred_col].min()) # scaling prediction scores between [0, 1]\n"
     ]
    },
    {
     "name": "stdout",
     "output_type": "stream",
     "text": [
      "protbert\n",
      "\tMissing values: 100*0/43660=0.0\n"
     ]
    },
    {
     "name": "stderr",
     "output_type": "stream",
     "text": [
      "/tmp/ipykernel_3760094/1662790352.py:53: SettingWithCopyWarning: \n",
      "A value is trying to be set on a copy of a slice from a DataFrame.\n",
      "Try using .loc[row_indexer,col_indexer] = value instead\n",
      "\n",
      "See the caveats in the documentation: https://pandas.pydata.org/pandas-docs/stable/user_guide/indexing.html#returning-a-view-versus-a-copy\n",
      "  df[\"pred\"]=(df[model_pred_col]-df[model_pred_col].min())/(df[model_pred_col].max()-df[model_pred_col].min()) # scaling prediction scores between [0, 1]\n"
     ]
    },
    {
     "name": "stdout",
     "output_type": "stream",
     "text": [
      "sequnet\n",
      "\tMissing values: 100*215/43660=0.4924415941365094\n"
     ]
    },
    {
     "name": "stderr",
     "output_type": "stream",
     "text": [
      "/tmp/ipykernel_3760094/1662790352.py:53: SettingWithCopyWarning: \n",
      "A value is trying to be set on a copy of a slice from a DataFrame.\n",
      "Try using .loc[row_indexer,col_indexer] = value instead\n",
      "\n",
      "See the caveats in the documentation: https://pandas.pydata.org/pandas-docs/stable/user_guide/indexing.html#returning-a-view-versus-a-copy\n",
      "  df[\"pred\"]=(df[model_pred_col]-df[model_pred_col].min())/(df[model_pred_col].max()-df[model_pred_col].min()) # scaling prediction scores between [0, 1]\n",
      "/tmp/ipykernel_3760094/1662790352.py:58: SettingWithCopyWarning: \n",
      "A value is trying to be set on a copy of a slice from a DataFrame.\n",
      "Try using .loc[row_indexer,col_indexer] = value instead\n",
      "\n",
      "See the caveats in the documentation: https://pandas.pydata.org/pandas-docs/stable/user_guide/indexing.html#returning-a-view-versus-a-copy\n",
      "  non_nan_result_df['pred'] = non_nan_result_df['pred'].multiply(-1)\n"
     ]
    },
    {
     "name": "stdout",
     "output_type": "stream",
     "text": [
      "esm1b_t33_650M_UR50S\n",
      "\tMissing values: 100*0/43660=0.0\n"
     ]
    },
    {
     "name": "stderr",
     "output_type": "stream",
     "text": [
      "/tmp/ipykernel_3760094/1662790352.py:53: SettingWithCopyWarning: \n",
      "A value is trying to be set on a copy of a slice from a DataFrame.\n",
      "Try using .loc[row_indexer,col_indexer] = value instead\n",
      "\n",
      "See the caveats in the documentation: https://pandas.pydata.org/pandas-docs/stable/user_guide/indexing.html#returning-a-view-versus-a-copy\n",
      "  df[\"pred\"]=(df[model_pred_col]-df[model_pred_col].min())/(df[model_pred_col].max()-df[model_pred_col].min()) # scaling prediction scores between [0, 1]\n"
     ]
    },
    {
     "name": "stdout",
     "output_type": "stream",
     "text": [
      "esm1v_t33_650M_UR90S\n",
      "\tMissing values: 100*0/43660=0.0\n"
     ]
    },
    {
     "name": "stderr",
     "output_type": "stream",
     "text": [
      "/tmp/ipykernel_3760094/1662790352.py:53: SettingWithCopyWarning: \n",
      "A value is trying to be set on a copy of a slice from a DataFrame.\n",
      "Try using .loc[row_indexer,col_indexer] = value instead\n",
      "\n",
      "See the caveats in the documentation: https://pandas.pydata.org/pandas-docs/stable/user_guide/indexing.html#returning-a-view-versus-a-copy\n",
      "  df[\"pred\"]=(df[model_pred_col]-df[model_pred_col].min())/(df[model_pred_col].max()-df[model_pred_col].min()) # scaling prediction scores between [0, 1]\n"
     ]
    },
    {
     "name": "stdout",
     "output_type": "stream",
     "text": [
      "esm2_t33_650M_UR50D\n",
      "\tMissing values: 100*0/43660=0.0\n"
     ]
    },
    {
     "name": "stderr",
     "output_type": "stream",
     "text": [
      "/tmp/ipykernel_3760094/1662790352.py:53: SettingWithCopyWarning: \n",
      "A value is trying to be set on a copy of a slice from a DataFrame.\n",
      "Try using .loc[row_indexer,col_indexer] = value instead\n",
      "\n",
      "See the caveats in the documentation: https://pandas.pydata.org/pandas-docs/stable/user_guide/indexing.html#returning-a-view-versus-a-copy\n",
      "  df[\"pred\"]=(df[model_pred_col]-df[model_pred_col].min())/(df[model_pred_col].max()-df[model_pred_col].min()) # scaling prediction scores between [0, 1]\n"
     ]
    },
    {
     "name": "stdout",
     "output_type": "stream",
     "text": [
      "plus_rnn\n",
      "\tMissing values: 100*168/43660=0.3847915712322492\n"
     ]
    },
    {
     "name": "stderr",
     "output_type": "stream",
     "text": [
      "/tmp/ipykernel_3760094/1662790352.py:53: SettingWithCopyWarning: \n",
      "A value is trying to be set on a copy of a slice from a DataFrame.\n",
      "Try using .loc[row_indexer,col_indexer] = value instead\n",
      "\n",
      "See the caveats in the documentation: https://pandas.pydata.org/pandas-docs/stable/user_guide/indexing.html#returning-a-view-versus-a-copy\n",
      "  df[\"pred\"]=(df[model_pred_col]-df[model_pred_col].min())/(df[model_pred_col].max()-df[model_pred_col].min()) # scaling prediction scores between [0, 1]\n"
     ]
    },
    {
     "name": "stdout",
     "output_type": "stream",
     "text": [
      "prottrans_bert_bfd\n",
      "\tMissing values: 100*168/43660=0.3847915712322492\n"
     ]
    },
    {
     "name": "stderr",
     "output_type": "stream",
     "text": [
      "/tmp/ipykernel_3760094/1662790352.py:53: SettingWithCopyWarning: \n",
      "A value is trying to be set on a copy of a slice from a DataFrame.\n",
      "Try using .loc[row_indexer,col_indexer] = value instead\n",
      "\n",
      "See the caveats in the documentation: https://pandas.pydata.org/pandas-docs/stable/user_guide/indexing.html#returning-a-view-versus-a-copy\n",
      "  df[\"pred\"]=(df[model_pred_col]-df[model_pred_col].min())/(df[model_pred_col].max()-df[model_pred_col].min()) # scaling prediction scores between [0, 1]\n"
     ]
    },
    {
     "name": "stdout",
     "output_type": "stream",
     "text": [
      "prottrans_albert_bfd\n",
      "\tMissing values: 100*168/43660=0.3847915712322492\n"
     ]
    },
    {
     "name": "stderr",
     "output_type": "stream",
     "text": [
      "/tmp/ipykernel_3760094/1662790352.py:53: SettingWithCopyWarning: \n",
      "A value is trying to be set on a copy of a slice from a DataFrame.\n",
      "Try using .loc[row_indexer,col_indexer] = value instead\n",
      "\n",
      "See the caveats in the documentation: https://pandas.pydata.org/pandas-docs/stable/user_guide/indexing.html#returning-a-view-versus-a-copy\n",
      "  df[\"pred\"]=(df[model_pred_col]-df[model_pred_col].min())/(df[model_pred_col].max()-df[model_pred_col].min()) # scaling prediction scores between [0, 1]\n"
     ]
    },
    {
     "name": "stdout",
     "output_type": "stream",
     "text": [
      "prottrans_xlnet_uniref100\n",
      "\tMissing values: 100*168/43660=0.3847915712322492\n"
     ]
    },
    {
     "name": "stderr",
     "output_type": "stream",
     "text": [
      "/tmp/ipykernel_3760094/1662790352.py:53: SettingWithCopyWarning: \n",
      "A value is trying to be set on a copy of a slice from a DataFrame.\n",
      "Try using .loc[row_indexer,col_indexer] = value instead\n",
      "\n",
      "See the caveats in the documentation: https://pandas.pydata.org/pandas-docs/stable/user_guide/indexing.html#returning-a-view-versus-a-copy\n",
      "  df[\"pred\"]=(df[model_pred_col]-df[model_pred_col].min())/(df[model_pred_col].max()-df[model_pred_col].min()) # scaling prediction scores between [0, 1]\n"
     ]
    },
    {
     "name": "stdout",
     "output_type": "stream",
     "text": [
      "prottrans_t5_bfd\n",
      "\tMissing values: 100*168/43660=0.3847915712322492\n"
     ]
    },
    {
     "name": "stderr",
     "output_type": "stream",
     "text": [
      "/tmp/ipykernel_3760094/1662790352.py:53: SettingWithCopyWarning: \n",
      "A value is trying to be set on a copy of a slice from a DataFrame.\n",
      "Try using .loc[row_indexer,col_indexer] = value instead\n",
      "\n",
      "See the caveats in the documentation: https://pandas.pydata.org/pandas-docs/stable/user_guide/indexing.html#returning-a-view-versus-a-copy\n",
      "  df[\"pred\"]=(df[model_pred_col]-df[model_pred_col].min())/(df[model_pred_col].max()-df[model_pred_col].min()) # scaling prediction scores between [0, 1]\n"
     ]
    },
    {
     "name": "stdout",
     "output_type": "stream",
     "text": [
      "prottrans_t5_uniref50\n",
      "\tMissing values: 100*168/43660=0.3847915712322492\n"
     ]
    },
    {
     "name": "stderr",
     "output_type": "stream",
     "text": [
      "/tmp/ipykernel_3760094/1662790352.py:53: SettingWithCopyWarning: \n",
      "A value is trying to be set on a copy of a slice from a DataFrame.\n",
      "Try using .loc[row_indexer,col_indexer] = value instead\n",
      "\n",
      "See the caveats in the documentation: https://pandas.pydata.org/pandas-docs/stable/user_guide/indexing.html#returning-a-view-versus-a-copy\n",
      "  df[\"pred\"]=(df[model_pred_col]-df[model_pred_col].min())/(df[model_pred_col].max()-df[model_pred_col].min()) # scaling prediction scores between [0, 1]\n"
     ]
    },
    {
     "name": "stdout",
     "output_type": "stream",
     "text": [
      "prottrans_t5_xl_u50\n",
      "\tMissing values: 100*168/43660=0.3847915712322492\n"
     ]
    },
    {
     "name": "stderr",
     "output_type": "stream",
     "text": [
      "/tmp/ipykernel_3760094/1662790352.py:53: SettingWithCopyWarning: \n",
      "A value is trying to be set on a copy of a slice from a DataFrame.\n",
      "Try using .loc[row_indexer,col_indexer] = value instead\n",
      "\n",
      "See the caveats in the documentation: https://pandas.pydata.org/pandas-docs/stable/user_guide/indexing.html#returning-a-view-versus-a-copy\n",
      "  df[\"pred\"]=(df[model_pred_col]-df[model_pred_col].min())/(df[model_pred_col].max()-df[model_pred_col].min()) # scaling prediction scores between [0, 1]\n"
     ]
    },
    {
     "name": "stdout",
     "output_type": "stream",
     "text": [
      "vespa\n",
      "\tMissing values: 100*0/43660=0.0\n"
     ]
    },
    {
     "name": "stderr",
     "output_type": "stream",
     "text": [
      "/tmp/ipykernel_3760094/1662790352.py:53: SettingWithCopyWarning: \n",
      "A value is trying to be set on a copy of a slice from a DataFrame.\n",
      "Try using .loc[row_indexer,col_indexer] = value instead\n",
      "\n",
      "See the caveats in the documentation: https://pandas.pydata.org/pandas-docs/stable/user_guide/indexing.html#returning-a-view-versus-a-copy\n",
      "  df[\"pred\"]=(df[model_pred_col]-df[model_pred_col].min())/(df[model_pred_col].max()-df[model_pred_col].min()) # scaling prediction scores between [0, 1]\n"
     ]
    },
    {
     "name": "stdout",
     "output_type": "stream",
     "text": [
      "random_classifier\n",
      "\tMissing values: 100*0/43660=0.0\n"
     ]
    },
    {
     "name": "stderr",
     "output_type": "stream",
     "text": [
      "/tmp/ipykernel_3760094/1662790352.py:51: SettingWithCopyWarning: \n",
      "A value is trying to be set on a copy of a slice from a DataFrame.\n",
      "Try using .loc[row_indexer,col_indexer] = value instead\n",
      "\n",
      "See the caveats in the documentation: https://pandas.pydata.org/pandas-docs/stable/user_guide/indexing.html#returning-a-view-versus-a-copy\n",
      "  df[model_pred_col] = [random.uniform(0,1) for i in range(df.shape[0])]\n",
      "/tmp/ipykernel_3760094/1662790352.py:53: SettingWithCopyWarning: \n",
      "A value is trying to be set on a copy of a slice from a DataFrame.\n",
      "Try using .loc[row_indexer,col_indexer] = value instead\n",
      "\n",
      "See the caveats in the documentation: https://pandas.pydata.org/pandas-docs/stable/user_guide/indexing.html#returning-a-view-versus-a-copy\n",
      "  df[\"pred\"]=(df[model_pred_col]-df[model_pred_col].min())/(df[model_pred_col].max()-df[model_pred_col].min()) # scaling prediction scores between [0, 1]\n"
     ]
    },
    {
     "data": {
      "image/png": "[encoded data removed]",
      "text/plain": [
       "<Figure size 640x480 with 1 Axes>"
      ]
     },
     "metadata": {},
     "output_type": "display_data"
    }
   ],
   "source": [
    "import matplotlib.pyplot as plt\n",
    "import seaborn as sns\n",
    "\n",
    "def plot_distribution(result_df, out_dir, n_samples=None):\n",
    "    df = result_df.copy(deep=True)\n",
    "    plt.cla()\n",
    "\n",
    "    effect = result_df[result_df[\"functional_effect\"]==\"Effect\"]\n",
    "    knock_out = result_df[result_df[\"functional_effect\"]==\"Knock-out\"]\n",
    "    no_effect = result_df[result_df[\"functional_effect\"]==\"No-effect\"]\n",
    "\n",
    "    if n_samples:\n",
    "        effect = effect.sample(n=n_samples)\n",
    "        knock_out = knock_out.sample(n=n_samples)\n",
    "        no_effect = no_effect.sample(n=n_samples)\n",
    "\n",
    "    bins = 100 # 20, 100, 500\n",
    "    # plt.hist(knock_out[\"pred\"], bins=bins, density=False, log=False, alpha=.4, label=f\"Knock-out\")\n",
    "    # plt.hist(no_effect[\"pred\"], bins=bins, density=False, log=False, alpha=.4, label=f\"No-effect\")\n",
    "    # plt.hist(effect[\"pred\"], bins=bins, density=False, log=False, alpha=.4, label=f\"Effect\")\n",
    "    \n",
    "    \n",
    "    sns.histplot(knock_out[\"pred\"], bins=bins, label=f\"Knock-out\", element=\"step\", alpha=.2)\n",
    "    sns.histplot(no_effect[\"pred\"], bins=bins, label=f\"No-effect\", element=\"step\", alpha=.2)\n",
    "    sns.histplot(effect[\"pred\"], bins=bins, label=f\"Effect\", element=\"step\", alpha=.2)\n",
    "    \n",
    "    plt.title(f\"{model_name}\")\n",
    "    plt.legend()\n",
    "    plt.xlabel(\"Prediction scores (scaled)\")\n",
    "    plt.ylabel(\"Count\")\n",
    "    # plt.show()\n",
    "    plt.savefig(home_dir+f\"{out_dir}{model_name}.png\", dpi=300, format=\"png\", bbox_inches='tight', pad_inches=0.0)\n",
    "\n",
    "# df = result_df[result_df[\"crossref\"].apply(lambda x: True if \"HUMAN\" in x else False)] # number of human entries: 16996\n",
    "# out_dir=\"models/aa_common/pred_scores_distribution_plots_pmd_human_analysis/\"\n",
    "# n_samples=None\n",
    "is_dbnsfp_ok = True\n",
    "\n",
    "df = result_df[result_df[\"crossref\"].apply(lambda x: False if \"HUMAN\" in x else True)] # number of human entries: 43660\n",
    "out_dir=\"models/aa_common/pred_scores_distribution_plots_pmd_nonhuman_analysis/\"\n",
    "n_samples=10000\n",
    "is_dbnsfp_ok = False\n",
    "\n",
    "for i, (model_root, model_name) in enumerate(model_root_and_name_tuple_list):\n",
    "    # model_name = \"esm2_t33_650M_UR50D\"\n",
    "    if model_root==\"dbnsfp\" and ~is_dbnsfp_ok: continue\n",
    "    \n",
    "    print(model_name)\n",
    "    model_pred_col = model_name + \"_pred\"\n",
    "    if model_name==\"random_classifier\": \n",
    "        df[model_pred_col] = [random.uniform(0,1) for i in range(df.shape[0])]\n",
    "\n",
    "    df[\"pred\"]=(df[model_pred_col]-df[model_pred_col].min())/(df[model_pred_col].max()-df[model_pred_col].min()) # scaling prediction scores between [0, 1]\n",
    "\n",
    "    non_nan_result_df, _ = get_non_nan_df(df, model_pred_col)\n",
    "        \n",
    "    if model_name in models_smaller_means_damaging:\n",
    "        non_nan_result_df['pred'] = non_nan_result_df['pred'].multiply(-1)\n",
    "\n",
    "    plot_distribution(non_nan_result_df, out_dir, n_samples)\n",
    "    # break\n",
    "\n"
   ]
  },
  {
   "cell_type": "code",
   "execution_count": 7,
   "metadata": {},
   "outputs": [
    {
     "name": "stdout",
     "output_type": "stream",
     "text": [
      "\tAUC-PR: 0.361\n",
      "(25873,)\n",
      "\tBest F1-Score: 0.655 at threshold: 0.000\n",
      "(25868,)\n",
      "[0.48721607 0.4871963  0.48717652 ... 0.14285714 0.16666667 1.        ]\n",
      "[1.00000000e+00 9.99920849e-01 9.99841697e-01 ... 7.91514960e-05\n",
      " 7.91514960e-05 0.00000000e+00]\n"
     ]
    },
    {
     "data": {
      "image/png": "[encoded data removed]",
      "text/plain": [
       "<Figure size 640x480 with 1 Axes>"
      ]
     },
     "metadata": {},
     "output_type": "display_data"
    },
    {
     "data": {
      "image/png": "[encoded data removed]",
      "text/plain": [
       "<Figure size 640x480 with 1 Axes>"
      ]
     },
     "metadata": {},
     "output_type": "display_data"
    }
   ],
   "source": [
    "\n",
    "    \n",
    "\n",
    "model_name = \"esm2_t33_650M_UR50D\"\n",
    "model_pred_col = model_name + \"_pred\"\n",
    "\n",
    "result_df.loc[result_df[\"functional_effect\"]==\"Effect\", \"class_numeric\"] = 1\n",
    "result_df.loc[result_df[\"functional_effect\"]==\"No effect\", \"class_numeric\"] = 0\n",
    "\n",
    "result_df[\"pred\"]=(result_df[model_pred_col]-result_df[model_pred_col].min())/(result_df[model_pred_col].max()-result_df[model_pred_col].min()) # scaling prediction scores between [0, 1]\n",
    "\n",
    "non_nan_result_df = result_df[~pd.isna(result_df[model_pred_col])]  # taking df for only non-NAN values\n",
    "\n",
    "if model_name in models_smaller_means_damaging:\n",
    "    non_nan_result_df[\"pred\"] = non_nan_result_df[\"pred\"] * (-1)\n",
    "\n",
    "auc_pr_score, precisions, recalls, thresholds = get_auc_pr_score(non_nan_result_df)\n",
    "print(thresholds.shape)\n",
    "f1_max, th_max, precisions, recalls, thresholds = get_f1max_and_th(precisions, recalls, thresholds)\n",
    "print(thresholds.shape)\n",
    "print(precisions, recalls, sep=\"\\n\")\n",
    "\n",
    "# f1_max, th_max, precisions, recalls, thresholds = get_f1max_and_th_(non_nan_result_df)\n",
    "\n",
    "import matplotlib.pyplot as plt\n",
    "plt.plot([0,1], [.5, .5], linestyle='--', label='Baseline, y=0.5')\n",
    "plt.plot(recalls, precisions, marker='.', label=f'{model_name}')\n",
    "plt.ylabel(\"Precision\")\n",
    "plt.xlabel(\"Recall\")\n",
    "plt.legend()\n",
    "plt.title(\"Precision-Recall curve\")\n",
    "plt.show()\n",
    "\n",
    "\n",
    "effect = result_df[result_df[\"functional_effect\"]==\"Effect\"]\n",
    "no_effect = result_df[result_df[\"functional_effect\"]==\"No effect\"]\n",
    "\n",
    "bins = 100 # 20, 100, 500\n",
    "plt.hist(effect[\"pred\"], bins=bins, density=False, log=False, alpha=.6, label=f\"Effect-{model_name}\")\n",
    "plt.hist(no_effect[\"pred\"], bins=bins, density=False, log=False, alpha=.4, label=f\"No effect-{model_name}\")\n",
    "\n",
    "plt.legend()\n",
    "plt.show()"
   ]
  }
 ],
 "metadata": {
  "kernelspec": {
   "display_name": "hopper_variant_effect_analysis_mine",
   "language": "python",
   "name": "python3"
  },
  "language_info": {
   "codemirror_mode": {
    "name": "ipython",
    "version": 3
   },
   "file_extension": ".py",
   "mimetype": "text/x-python",
   "name": "python",
   "nbconvert_exporter": "python",
   "pygments_lexer": "ipython3",
   "version": "3.8.6"
  },
  "orig_nbformat": 4
 },
 "nbformat": 4,
 "nbformat_minor": 2
}
