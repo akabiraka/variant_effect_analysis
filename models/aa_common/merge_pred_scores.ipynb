{
 "cells": [
  {
   "cell_type": "code",
   "execution_count": 1,
   "metadata": {},
   "outputs": [],
   "source": [
    "import os\n",
    "import sys\n",
    "home_dir = \"../../\"\n",
    "module_path = os.path.abspath(os.path.join(home_dir))\n",
    "if module_path not in sys.path:\n",
    "    sys.path.append(module_path)\n",
    "\n",
    "import numpy as np\n",
    "import pandas as pd"
   ]
  },
  {
   "cell_type": "code",
   "execution_count": 2,
   "metadata": {},
   "outputs": [],
   "source": [
    "dbnsfp_cols = ['SIFT_score', 'Polyphen2_HVAR_score', 'MetaRNN_score', 'REVEL_score', 'MVP_score',\n",
    "                          'CADD_raw_score', 'integrated_fitCons_score', 'phyloP17way_primate_score', 'phastCons17way_primate_score', 'bStatistic_score']\n",
    "masked_llm_cols = [(\"esm_rives\",\"esm1b_t33_650M_UR50S\"), (\"esm_rives\", \"esm1v_t33_650M_UR90S\"), (\"esm_rives\", \"esm2_t33_650M_UR50D\"), \n",
    "            (\"bioembeddings_dallago\", \"prottrans_bert_bfd\"), (\"rostlab_huggingface\", \"prottrans_t5_xl_u50\"), (\"vespa_marquet\", \"vespa\"), \n",
    "            (\"proteinbert_brandes\", \"proteinbert\"), (\"sequnet_dunham\", \"sequnet\")]\n",
    "embeddings_llm_cols = [(\"tape_rao_1\", \"protbert\"), (\"jax_unirep\", \"unirep\")]\n",
    "\n",
    "# \"plus_rnn\""
   ]
  },
  {
   "cell_type": "code",
   "execution_count": 3,
   "metadata": {},
   "outputs": [],
   "source": [
    "def do_merge(merged_df, model_root_and_name_tuple_list, merge_on_col_list, suffix):\n",
    "    for i, (model_root, model_name) in enumerate(model_root_and_name_tuple_list):\n",
    "        models_pred_df = pd.read_csv(home_dir+f\"models/{model_root}/outputs/{model_name}/{task}/preds_{model_name}{suffix}.tsv\", sep=\"\\t\")\n",
    "        models_pred_df = models_pred_df.drop_duplicates(keep=\"first\")\n",
    "\n",
    "        \n",
    "        merged_df = pd.merge(left=merged_df, right=models_pred_df, how=\"left\", on=merge_on_col_list)\n",
    "        merged_df = merged_df.rename(columns={\"pred\": f\"{model_name}_score\"})\n",
    "        print(model_root, model_name, models_pred_df.shape, merged_df.shape)\n",
    "        \n",
    "        # if i==2: break\n",
    "    return merged_df"
   ]
  },
  {
   "cell_type": "code",
   "execution_count": 8,
   "metadata": {},
   "outputs": [
    {
     "name": "stdout",
     "output_type": "stream",
     "text": [
      "Index(['mut_id', 'md5', 'pmd_id', 'nr', 'prot_acc_version', 'snp_id',\n",
      "       'mut_real', 'wt', 'mut', 'prot_pos', 'chrom', 'chrom_pos', 'ref_allele',\n",
      "       'alt_allele', 'function', 'source', 'crossref', 'function_summarized',\n",
      "       'class', 'SIFT_score', 'Polyphen2_HVAR_score', 'MetaRNN_score',\n",
      "       'REVEL_score', 'MVP_score', 'CADD_raw_score',\n",
      "       'integrated_fitCons_score', 'phyloP17way_primate_score',\n",
      "       'phastCons17way_primate_score', 'bStatistic_score'],\n",
      "      dtype='object')\n",
      "(7179, 29)\n",
      "Effect       3818\n",
      "No-effect    1777\n",
      "Knock-out    1584\n",
      "Name: class, dtype: int64\n",
      "#-unique prots:  2056\n",
      "esm_rives esm1b_t33_650M_UR50S (7179, 30) (7179, 30)\n",
      "esm_rives esm1v_t33_650M_UR90S (7179, 30) (7179, 31)\n",
      "esm_rives esm2_t33_650M_UR50D (7179, 30) (7179, 32)\n",
      "bioembeddings_dallago prottrans_bert_bfd (7179, 30) (7179, 33)\n",
      "rostlab_huggingface prottrans_t5_xl_u50 (7179, 30) (7179, 34)\n",
      "vespa_marquet vespa (7179, 30) (7179, 35)\n",
      "proteinbert_brandes proteinbert (7179, 30) (7179, 36)\n",
      "sequnet_dunham sequnet (7178, 30) (7179, 37)\n",
      "tape_rao_1 protbert (7179, 30) (7179, 38)\n",
      "jax_unirep unirep (7179, 30) (7179, 39)\n",
      "(7179, 39)\n",
      "Index(['mut_id', 'md5', 'pmd_id', 'nr', 'prot_acc_version', 'snp_id',\n",
      "       'mut_real', 'wt', 'mut', 'prot_pos', 'chrom', 'chrom_pos', 'ref_allele',\n",
      "       'alt_allele', 'function', 'source', 'crossref', 'function_summarized',\n",
      "       'class', 'SIFT_score', 'Polyphen2_HVAR_score', 'MetaRNN_score',\n",
      "       'REVEL_score', 'MVP_score', 'CADD_raw_score',\n",
      "       'integrated_fitCons_score', 'phyloP17way_primate_score',\n",
      "       'phastCons17way_primate_score', 'bStatistic_score',\n",
      "       'esm1b_t33_650M_UR50S_score', 'esm1v_t33_650M_UR90S_score',\n",
      "       'esm2_t33_650M_UR50D_score', 'prottrans_bert_bfd_score',\n",
      "       'prottrans_t5_xl_u50_score', 'vespa_score', 'proteinbert_score',\n",
      "       'sequnet_score', 'protbert_score', 'unirep_score'],\n",
      "      dtype='object')\n"
     ]
    }
   ],
   "source": [
    "from models.aa_common.data_loader import get_pmd_dbnsfp_dataset\n",
    "merged_df, _ = get_pmd_dbnsfp_dataset(home_dir)\n",
    "\n",
    "task = \"pmd\"\n",
    "merge_on_col_list = list(merged_df.columns)\n",
    "merged_df = do_merge(merged_df, masked_llm_cols, merge_on_col_list, \"_masked\")\n",
    "merged_df = do_merge(merged_df, embeddings_llm_cols, merge_on_col_list, \"_embed\")\n",
    "\n",
    "print(merged_df.shape)\n",
    "print(merged_df.columns)\n",
    "merged_df.to_csv(home_dir+f\"models/aa_common/merged_predictions/{task}.tsv\", sep=\"\\t\", index=False, header=True)"
   ]
  },
  {
   "cell_type": "code",
   "execution_count": 9,
   "metadata": {},
   "outputs": [
    {
     "name": "stdout",
     "output_type": "stream",
     "text": [
      "Index(['clinvar_id', 'gene_symbol', 'gene_id', 'snp_id', 'chrom_acc_version',\n",
      "       'chrom_pos', 'ref_allele', 'alt_allele', 'prot_acc_version', 'prot_pos',\n",
      "       'wt', 'mut', 'class', 'chrom', 'SIFT_score', 'Polyphen2_HVAR_score',\n",
      "       'MetaRNN_score', 'REVEL_score', 'MVP_score', 'CADD_raw_score',\n",
      "       'integrated_fitCons_score', 'phyloP17way_primate_score',\n",
      "       'phastCons17way_primate_score', 'bStatistic_score', 'wt_population',\n",
      "       'mut_poulation', 'wt_freq', 'mt_freq'],\n",
      "      dtype='object')\n",
      "(9472, 28)\n",
      "Likely-pathogenic    4162\n",
      "Pathogenic           2305\n",
      "Rare                 1983\n",
      "Common               1022\n",
      "Name: class, dtype: int64\n",
      "#-unique prots:  1430\n",
      "esm_rives esm1b_t33_650M_UR50S (9472, 29) (9472, 29)\n",
      "esm_rives esm1v_t33_650M_UR90S (9472, 29) (9472, 30)\n",
      "esm_rives esm2_t33_650M_UR50D (9472, 29) (9472, 31)\n",
      "bioembeddings_dallago prottrans_bert_bfd (9472, 29) (9472, 32)\n",
      "rostlab_huggingface prottrans_t5_xl_u50 (9472, 29) (9472, 33)\n",
      "vespa_marquet vespa (9472, 29) (9472, 34)\n",
      "proteinbert_brandes proteinbert (9472, 29) (9472, 35)\n",
      "sequnet_dunham sequnet (9460, 29) (9472, 36)\n",
      "tape_rao_1 protbert (9472, 29) (9472, 37)\n",
      "jax_unirep unirep (9472, 29) (9472, 38)\n",
      "(9472, 38)\n",
      "Index(['clinvar_id', 'gene_symbol', 'gene_id', 'snp_id', 'chrom_acc_version',\n",
      "       'chrom_pos', 'ref_allele', 'alt_allele', 'prot_acc_version', 'prot_pos',\n",
      "       'wt', 'mut', 'class', 'chrom', 'SIFT_score', 'Polyphen2_HVAR_score',\n",
      "       'MetaRNN_score', 'REVEL_score', 'MVP_score', 'CADD_raw_score',\n",
      "       'integrated_fitCons_score', 'phyloP17way_primate_score',\n",
      "       'phastCons17way_primate_score', 'bStatistic_score', 'wt_population',\n",
      "       'mut_poulation', 'wt_freq', 'mt_freq', 'esm1b_t33_650M_UR50S_score',\n",
      "       'esm1v_t33_650M_UR90S_score', 'esm2_t33_650M_UR50D_score',\n",
      "       'prottrans_bert_bfd_score', 'prottrans_t5_xl_u50_score', 'vespa_score',\n",
      "       'proteinbert_score', 'sequnet_score', 'protbert_score', 'unirep_score'],\n",
      "      dtype='object')\n"
     ]
    }
   ],
   "source": [
    "from models.aa_common.data_loader import get_patho_likelypatho_neutral_dbnsfp_dataset\n",
    "merged_df, _ = get_patho_likelypatho_neutral_dbnsfp_dataset(home_dir)\n",
    "\n",
    "task = \"patho\"\n",
    "merge_on_col_list = list(merged_df.columns)\n",
    "merged_df = do_merge(merged_df, masked_llm_cols, merge_on_col_list, \"_masked\")\n",
    "merged_df = do_merge(merged_df, embeddings_llm_cols, merge_on_col_list, \"_embed\")\n",
    "\n",
    "print(merged_df.shape)\n",
    "print(merged_df.columns)\n",
    "merged_df.to_csv(home_dir+f\"models/aa_common/merged_predictions/{task}.tsv\", sep=\"\\t\", index=False, header=True)"
   ]
  },
  {
   "cell_type": "code",
   "execution_count": 7,
   "metadata": {},
   "outputs": [
    {
     "name": "stdout",
     "output_type": "stream",
     "text": [
      "Index(['snp_id', 'chrom_acc_version', 'chrom_pos', 'ref_allele', 'alt_allele',\n",
      "       'prot_acc_version', 'prot_pos', 'wt', 'mut', 'wt_population',\n",
      "       'mut_poulation', 'wt_freq', 'mt_freq', 'class', 'chrom', 'SIFT_score',\n",
      "       'Polyphen2_HVAR_score', 'MetaRNN_score', 'REVEL_score', 'MVP_score',\n",
      "       'CADD_raw_score', 'integrated_fitCons_score',\n",
      "       'phyloP17way_primate_score', 'phastCons17way_primate_score',\n",
      "       'bStatistic_score', 'n_methods_having_preds'],\n",
      "      dtype='object')\n",
      "(26409, 26)\n",
      "Common        6976\n",
      "Ultra-rare    6957\n",
      "Singleton     6955\n",
      "Rare          5521\n",
      "Name: class, dtype: int64\n",
      "#-unique prots:  6976\n",
      "esm_rives esm1b_t33_650M_UR50S (26409, 27) (26409, 27)\n",
      "esm_rives esm1v_t33_650M_UR90S (26409, 27) (26409, 28)\n",
      "esm_rives esm2_t33_650M_UR50D (26409, 27) (26409, 29)\n",
      "bioembeddings_dallago prottrans_bert_bfd (26409, 27) (26409, 30)\n",
      "rostlab_huggingface prottrans_t5_xl_u50 (26409, 27) (26409, 31)\n",
      "vespa_marquet vespa (26409, 27) (26409, 32)\n",
      "proteinbert_brandes proteinbert (26409, 27) (26409, 33)\n",
      "sequnet_dunham sequnet (26375, 27) (26409, 34)\n"
     ]
    },
    {
     "ename": "FileNotFoundError",
     "evalue": "[Errno 2] No such file or directory: '../../models/tape_rao_1/outputs/protbert/popu_freq/preds_protbert_embed.tsv'",
     "output_type": "error",
     "traceback": [
      "\u001b[0;31m---------------------------------------------------------------------------\u001b[0m",
      "\u001b[0;31mFileNotFoundError\u001b[0m                         Traceback (most recent call last)",
      "Cell \u001b[0;32mIn[7], line 7\u001b[0m\n\u001b[1;32m      5\u001b[0m merge_on_col_list \u001b[39m=\u001b[39m \u001b[39mlist\u001b[39m(merged_df\u001b[39m.\u001b[39mcolumns)\n\u001b[1;32m      6\u001b[0m merged_df \u001b[39m=\u001b[39m do_merge(merged_df, masked_llm_cols, merge_on_col_list, \u001b[39m\"\u001b[39m\u001b[39m_masked\u001b[39m\u001b[39m\"\u001b[39m)\n\u001b[0;32m----> 7\u001b[0m merged_df \u001b[39m=\u001b[39m do_merge(merged_df, embeddings_llm_cols, merge_on_col_list, \u001b[39m\"\u001b[39;49m\u001b[39m_embed\u001b[39;49m\u001b[39m\"\u001b[39;49m)\n\u001b[1;32m      9\u001b[0m \u001b[39m# merged_df = merge_conservation_df(merged_df)  \u001b[39;00m\n\u001b[1;32m     10\u001b[0m \u001b[39m# print(\"conservation_score\")  \u001b[39;00m\n\u001b[1;32m     11\u001b[0m \u001b[39mprint\u001b[39m(merged_df\u001b[39m.\u001b[39mshape)\n",
      "Cell \u001b[0;32mIn[3], line 3\u001b[0m, in \u001b[0;36mdo_merge\u001b[0;34m(merged_df, model_root_and_name_tuple_list, merge_on_col_list, suffix)\u001b[0m\n\u001b[1;32m      1\u001b[0m \u001b[39mdef\u001b[39;00m \u001b[39mdo_merge\u001b[39m(merged_df, model_root_and_name_tuple_list, merge_on_col_list, suffix):\n\u001b[1;32m      2\u001b[0m     \u001b[39mfor\u001b[39;00m i, (model_root, model_name) \u001b[39min\u001b[39;00m \u001b[39menumerate\u001b[39m(model_root_and_name_tuple_list):\n\u001b[0;32m----> 3\u001b[0m         models_pred_df \u001b[39m=\u001b[39m pd\u001b[39m.\u001b[39;49mread_csv(home_dir\u001b[39m+\u001b[39;49m\u001b[39mf\u001b[39;49m\u001b[39m\"\u001b[39;49m\u001b[39mmodels/\u001b[39;49m\u001b[39m{\u001b[39;49;00mmodel_root\u001b[39m}\u001b[39;49;00m\u001b[39m/outputs/\u001b[39;49m\u001b[39m{\u001b[39;49;00mmodel_name\u001b[39m}\u001b[39;49;00m\u001b[39m/\u001b[39;49m\u001b[39m{\u001b[39;49;00mtask\u001b[39m}\u001b[39;49;00m\u001b[39m/preds_\u001b[39;49m\u001b[39m{\u001b[39;49;00mmodel_name\u001b[39m}\u001b[39;49;00m\u001b[39m{\u001b[39;49;00msuffix\u001b[39m}\u001b[39;49;00m\u001b[39m.tsv\u001b[39;49m\u001b[39m\"\u001b[39;49m, sep\u001b[39m=\u001b[39;49m\u001b[39m\"\u001b[39;49m\u001b[39m\\t\u001b[39;49;00m\u001b[39m\"\u001b[39;49m)\n\u001b[1;32m      4\u001b[0m         models_pred_df \u001b[39m=\u001b[39m models_pred_df\u001b[39m.\u001b[39mdrop_duplicates(keep\u001b[39m=\u001b[39m\u001b[39m\"\u001b[39m\u001b[39mfirst\u001b[39m\u001b[39m\"\u001b[39m)\n\u001b[1;32m      7\u001b[0m         merged_df \u001b[39m=\u001b[39m pd\u001b[39m.\u001b[39mmerge(left\u001b[39m=\u001b[39mmerged_df, right\u001b[39m=\u001b[39mmodels_pred_df, how\u001b[39m=\u001b[39m\u001b[39m\"\u001b[39m\u001b[39mleft\u001b[39m\u001b[39m\"\u001b[39m, on\u001b[39m=\u001b[39mmerge_on_col_list)\n",
      "File \u001b[0;32m/projects/ashehu/akabir4/venvs/hopper_variant_effect_analysis_mine/lib/python3.8/site-packages/pandas/util/_decorators.py:211\u001b[0m, in \u001b[0;36mdeprecate_kwarg.<locals>._deprecate_kwarg.<locals>.wrapper\u001b[0;34m(*args, **kwargs)\u001b[0m\n\u001b[1;32m    209\u001b[0m     \u001b[39melse\u001b[39;00m:\n\u001b[1;32m    210\u001b[0m         kwargs[new_arg_name] \u001b[39m=\u001b[39m new_arg_value\n\u001b[0;32m--> 211\u001b[0m \u001b[39mreturn\u001b[39;00m func(\u001b[39m*\u001b[39;49margs, \u001b[39m*\u001b[39;49m\u001b[39m*\u001b[39;49mkwargs)\n",
      "File \u001b[0;32m/projects/ashehu/akabir4/venvs/hopper_variant_effect_analysis_mine/lib/python3.8/site-packages/pandas/util/_decorators.py:331\u001b[0m, in \u001b[0;36mdeprecate_nonkeyword_arguments.<locals>.decorate.<locals>.wrapper\u001b[0;34m(*args, **kwargs)\u001b[0m\n\u001b[1;32m    325\u001b[0m \u001b[39mif\u001b[39;00m \u001b[39mlen\u001b[39m(args) \u001b[39m>\u001b[39m num_allow_args:\n\u001b[1;32m    326\u001b[0m     warnings\u001b[39m.\u001b[39mwarn(\n\u001b[1;32m    327\u001b[0m         msg\u001b[39m.\u001b[39mformat(arguments\u001b[39m=\u001b[39m_format_argument_list(allow_args)),\n\u001b[1;32m    328\u001b[0m         \u001b[39mFutureWarning\u001b[39;00m,\n\u001b[1;32m    329\u001b[0m         stacklevel\u001b[39m=\u001b[39mfind_stack_level(),\n\u001b[1;32m    330\u001b[0m     )\n\u001b[0;32m--> 331\u001b[0m \u001b[39mreturn\u001b[39;00m func(\u001b[39m*\u001b[39;49margs, \u001b[39m*\u001b[39;49m\u001b[39m*\u001b[39;49mkwargs)\n",
      "File \u001b[0;32m/projects/ashehu/akabir4/venvs/hopper_variant_effect_analysis_mine/lib/python3.8/site-packages/pandas/io/parsers/readers.py:950\u001b[0m, in \u001b[0;36mread_csv\u001b[0;34m(filepath_or_buffer, sep, delimiter, header, names, index_col, usecols, squeeze, prefix, mangle_dupe_cols, dtype, engine, converters, true_values, false_values, skipinitialspace, skiprows, skipfooter, nrows, na_values, keep_default_na, na_filter, verbose, skip_blank_lines, parse_dates, infer_datetime_format, keep_date_col, date_parser, dayfirst, cache_dates, iterator, chunksize, compression, thousands, decimal, lineterminator, quotechar, quoting, doublequote, escapechar, comment, encoding, encoding_errors, dialect, error_bad_lines, warn_bad_lines, on_bad_lines, delim_whitespace, low_memory, memory_map, float_precision, storage_options)\u001b[0m\n\u001b[1;32m    935\u001b[0m kwds_defaults \u001b[39m=\u001b[39m _refine_defaults_read(\n\u001b[1;32m    936\u001b[0m     dialect,\n\u001b[1;32m    937\u001b[0m     delimiter,\n\u001b[0;32m   (...)\u001b[0m\n\u001b[1;32m    946\u001b[0m     defaults\u001b[39m=\u001b[39m{\u001b[39m\"\u001b[39m\u001b[39mdelimiter\u001b[39m\u001b[39m\"\u001b[39m: \u001b[39m\"\u001b[39m\u001b[39m,\u001b[39m\u001b[39m\"\u001b[39m},\n\u001b[1;32m    947\u001b[0m )\n\u001b[1;32m    948\u001b[0m kwds\u001b[39m.\u001b[39mupdate(kwds_defaults)\n\u001b[0;32m--> 950\u001b[0m \u001b[39mreturn\u001b[39;00m _read(filepath_or_buffer, kwds)\n",
      "File \u001b[0;32m/projects/ashehu/akabir4/venvs/hopper_variant_effect_analysis_mine/lib/python3.8/site-packages/pandas/io/parsers/readers.py:605\u001b[0m, in \u001b[0;36m_read\u001b[0;34m(filepath_or_buffer, kwds)\u001b[0m\n\u001b[1;32m    602\u001b[0m _validate_names(kwds\u001b[39m.\u001b[39mget(\u001b[39m\"\u001b[39m\u001b[39mnames\u001b[39m\u001b[39m\"\u001b[39m, \u001b[39mNone\u001b[39;00m))\n\u001b[1;32m    604\u001b[0m \u001b[39m# Create the parser.\u001b[39;00m\n\u001b[0;32m--> 605\u001b[0m parser \u001b[39m=\u001b[39m TextFileReader(filepath_or_buffer, \u001b[39m*\u001b[39;49m\u001b[39m*\u001b[39;49mkwds)\n\u001b[1;32m    607\u001b[0m \u001b[39mif\u001b[39;00m chunksize \u001b[39mor\u001b[39;00m iterator:\n\u001b[1;32m    608\u001b[0m     \u001b[39mreturn\u001b[39;00m parser\n",
      "File \u001b[0;32m/projects/ashehu/akabir4/venvs/hopper_variant_effect_analysis_mine/lib/python3.8/site-packages/pandas/io/parsers/readers.py:1442\u001b[0m, in \u001b[0;36mTextFileReader.__init__\u001b[0;34m(self, f, engine, **kwds)\u001b[0m\n\u001b[1;32m   1439\u001b[0m     \u001b[39mself\u001b[39m\u001b[39m.\u001b[39moptions[\u001b[39m\"\u001b[39m\u001b[39mhas_index_names\u001b[39m\u001b[39m\"\u001b[39m] \u001b[39m=\u001b[39m kwds[\u001b[39m\"\u001b[39m\u001b[39mhas_index_names\u001b[39m\u001b[39m\"\u001b[39m]\n\u001b[1;32m   1441\u001b[0m \u001b[39mself\u001b[39m\u001b[39m.\u001b[39mhandles: IOHandles \u001b[39m|\u001b[39m \u001b[39mNone\u001b[39;00m \u001b[39m=\u001b[39m \u001b[39mNone\u001b[39;00m\n\u001b[0;32m-> 1442\u001b[0m \u001b[39mself\u001b[39m\u001b[39m.\u001b[39m_engine \u001b[39m=\u001b[39m \u001b[39mself\u001b[39;49m\u001b[39m.\u001b[39;49m_make_engine(f, \u001b[39mself\u001b[39;49m\u001b[39m.\u001b[39;49mengine)\n",
      "File \u001b[0;32m/projects/ashehu/akabir4/venvs/hopper_variant_effect_analysis_mine/lib/python3.8/site-packages/pandas/io/parsers/readers.py:1735\u001b[0m, in \u001b[0;36mTextFileReader._make_engine\u001b[0;34m(self, f, engine)\u001b[0m\n\u001b[1;32m   1733\u001b[0m     \u001b[39mif\u001b[39;00m \u001b[39m\"\u001b[39m\u001b[39mb\u001b[39m\u001b[39m\"\u001b[39m \u001b[39mnot\u001b[39;00m \u001b[39min\u001b[39;00m mode:\n\u001b[1;32m   1734\u001b[0m         mode \u001b[39m+\u001b[39m\u001b[39m=\u001b[39m \u001b[39m\"\u001b[39m\u001b[39mb\u001b[39m\u001b[39m\"\u001b[39m\n\u001b[0;32m-> 1735\u001b[0m \u001b[39mself\u001b[39m\u001b[39m.\u001b[39mhandles \u001b[39m=\u001b[39m get_handle(\n\u001b[1;32m   1736\u001b[0m     f,\n\u001b[1;32m   1737\u001b[0m     mode,\n\u001b[1;32m   1738\u001b[0m     encoding\u001b[39m=\u001b[39;49m\u001b[39mself\u001b[39;49m\u001b[39m.\u001b[39;49moptions\u001b[39m.\u001b[39;49mget(\u001b[39m\"\u001b[39;49m\u001b[39mencoding\u001b[39;49m\u001b[39m\"\u001b[39;49m, \u001b[39mNone\u001b[39;49;00m),\n\u001b[1;32m   1739\u001b[0m     compression\u001b[39m=\u001b[39;49m\u001b[39mself\u001b[39;49m\u001b[39m.\u001b[39;49moptions\u001b[39m.\u001b[39;49mget(\u001b[39m\"\u001b[39;49m\u001b[39mcompression\u001b[39;49m\u001b[39m\"\u001b[39;49m, \u001b[39mNone\u001b[39;49;00m),\n\u001b[1;32m   1740\u001b[0m     memory_map\u001b[39m=\u001b[39;49m\u001b[39mself\u001b[39;49m\u001b[39m.\u001b[39;49moptions\u001b[39m.\u001b[39;49mget(\u001b[39m\"\u001b[39;49m\u001b[39mmemory_map\u001b[39;49m\u001b[39m\"\u001b[39;49m, \u001b[39mFalse\u001b[39;49;00m),\n\u001b[1;32m   1741\u001b[0m     is_text\u001b[39m=\u001b[39;49mis_text,\n\u001b[1;32m   1742\u001b[0m     errors\u001b[39m=\u001b[39;49m\u001b[39mself\u001b[39;49m\u001b[39m.\u001b[39;49moptions\u001b[39m.\u001b[39;49mget(\u001b[39m\"\u001b[39;49m\u001b[39mencoding_errors\u001b[39;49m\u001b[39m\"\u001b[39;49m, \u001b[39m\"\u001b[39;49m\u001b[39mstrict\u001b[39;49m\u001b[39m\"\u001b[39;49m),\n\u001b[1;32m   1743\u001b[0m     storage_options\u001b[39m=\u001b[39;49m\u001b[39mself\u001b[39;49m\u001b[39m.\u001b[39;49moptions\u001b[39m.\u001b[39;49mget(\u001b[39m\"\u001b[39;49m\u001b[39mstorage_options\u001b[39;49m\u001b[39m\"\u001b[39;49m, \u001b[39mNone\u001b[39;49;00m),\n\u001b[1;32m   1744\u001b[0m )\n\u001b[1;32m   1745\u001b[0m \u001b[39massert\u001b[39;00m \u001b[39mself\u001b[39m\u001b[39m.\u001b[39mhandles \u001b[39mis\u001b[39;00m \u001b[39mnot\u001b[39;00m \u001b[39mNone\u001b[39;00m\n\u001b[1;32m   1746\u001b[0m f \u001b[39m=\u001b[39m \u001b[39mself\u001b[39m\u001b[39m.\u001b[39mhandles\u001b[39m.\u001b[39mhandle\n",
      "File \u001b[0;32m/projects/ashehu/akabir4/venvs/hopper_variant_effect_analysis_mine/lib/python3.8/site-packages/pandas/io/common.py:856\u001b[0m, in \u001b[0;36mget_handle\u001b[0;34m(path_or_buf, mode, encoding, compression, memory_map, is_text, errors, storage_options)\u001b[0m\n\u001b[1;32m    851\u001b[0m \u001b[39melif\u001b[39;00m \u001b[39misinstance\u001b[39m(handle, \u001b[39mstr\u001b[39m):\n\u001b[1;32m    852\u001b[0m     \u001b[39m# Check whether the filename is to be opened in binary mode.\u001b[39;00m\n\u001b[1;32m    853\u001b[0m     \u001b[39m# Binary mode does not support 'encoding' and 'newline'.\u001b[39;00m\n\u001b[1;32m    854\u001b[0m     \u001b[39mif\u001b[39;00m ioargs\u001b[39m.\u001b[39mencoding \u001b[39mand\u001b[39;00m \u001b[39m\"\u001b[39m\u001b[39mb\u001b[39m\u001b[39m\"\u001b[39m \u001b[39mnot\u001b[39;00m \u001b[39min\u001b[39;00m ioargs\u001b[39m.\u001b[39mmode:\n\u001b[1;32m    855\u001b[0m         \u001b[39m# Encoding\u001b[39;00m\n\u001b[0;32m--> 856\u001b[0m         handle \u001b[39m=\u001b[39m \u001b[39mopen\u001b[39;49m(\n\u001b[1;32m    857\u001b[0m             handle,\n\u001b[1;32m    858\u001b[0m             ioargs\u001b[39m.\u001b[39;49mmode,\n\u001b[1;32m    859\u001b[0m             encoding\u001b[39m=\u001b[39;49mioargs\u001b[39m.\u001b[39;49mencoding,\n\u001b[1;32m    860\u001b[0m             errors\u001b[39m=\u001b[39;49merrors,\n\u001b[1;32m    861\u001b[0m             newline\u001b[39m=\u001b[39;49m\u001b[39m\"\u001b[39;49m\u001b[39m\"\u001b[39;49m,\n\u001b[1;32m    862\u001b[0m         )\n\u001b[1;32m    863\u001b[0m     \u001b[39melse\u001b[39;00m:\n\u001b[1;32m    864\u001b[0m         \u001b[39m# Binary mode\u001b[39;00m\n\u001b[1;32m    865\u001b[0m         handle \u001b[39m=\u001b[39m \u001b[39mopen\u001b[39m(handle, ioargs\u001b[39m.\u001b[39mmode)\n",
      "\u001b[0;31mFileNotFoundError\u001b[0m: [Errno 2] No such file or directory: '../../models/tape_rao_1/outputs/protbert/popu_freq/preds_protbert_embed.tsv'"
     ]
    }
   ],
   "source": [
    "from models.aa_common.data_loader import get_popu_freq_dbnsfp_dataset\n",
    "merged_df, _ = get_popu_freq_dbnsfp_dataset(home_dir)\n",
    "\n",
    "task = \"popu_freq\"\n",
    "merge_on_col_list = list(merged_df.columns)\n",
    "merged_df = do_merge(merged_df, masked_llm_cols, merge_on_col_list, \"_masked\")\n",
    "merged_df = do_merge(merged_df, embeddings_llm_cols, merge_on_col_list, \"_embed\")\n",
    "\n",
    "print(merged_df.shape)\n",
    "print(merged_df.columns)\n",
    "merged_df.to_csv(home_dir+f\"models/aa_common/merged_predictions/{task}.tsv\", sep=\"\\t\", index=False, header=True)"
   ]
  },
  {
   "cell_type": "code",
   "execution_count": null,
   "metadata": {},
   "outputs": [],
   "source": []
  }
 ],
 "metadata": {
  "kernelspec": {
   "display_name": "hopper_variant_effect_analysis_mine",
   "language": "python",
   "name": "python3"
  },
  "language_info": {
   "codemirror_mode": {
    "name": "ipython",
    "version": 3
   },
   "file_extension": ".py",
   "mimetype": "text/x-python",
   "name": "python",
   "nbconvert_exporter": "python",
   "pygments_lexer": "ipython3",
   "version": "3.8.6"
  },
  "orig_nbformat": 4
 },
 "nbformat": 4,
 "nbformat_minor": 2
}
