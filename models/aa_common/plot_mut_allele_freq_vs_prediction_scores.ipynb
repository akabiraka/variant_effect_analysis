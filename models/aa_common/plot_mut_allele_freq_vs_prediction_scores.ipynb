{
 "cells": [
  {
   "cell_type": "code",
   "execution_count": 1,
   "metadata": {},
   "outputs": [],
   "source": [
    "import os\n",
    "import sys\n",
    "home_dir = \"../../\"\n",
    "module_path = os.path.abspath(os.path.join(home_dir))\n",
    "if module_path not in sys.path:\n",
    "    sys.path.append(module_path)\n",
    "\n",
    "import random\n",
    "import numpy as np\n",
    "import pandas as pd\n",
    "\n",
    "import matplotlib.pyplot as plt\n",
    "import seaborn as sns"
   ]
  },
  {
   "cell_type": "code",
   "execution_count": 2,
   "metadata": {},
   "outputs": [],
   "source": [
    "model_root_and_name_tuple_list = [(\"dbnsfp\", \"sift\"), (\"dbnsfp\", \"polyphen2_HVAR\"), (\"dbnsfp\", \"cadd\"), (\"dbnsfp\", \"mvp\"), (\"dbnsfp\", \"metarnn\"), (\"dbnsfp\", \"revel\"),\n",
    "                                  (\"tape_rao\", \"unirep\"), (\"tape_rao\", \"protbert\"), (\"sequnet_dunham\", \"sequnet\"), \n",
    "                                  (\"esm_rives\", \"esm1b_t33_650M_UR50S\"), (\"esm_rives\", \"esm1v_t33_650M_UR90S\"), (\"esm_rives\", \"esm2_t33_650M_UR50D\"),\n",
    "                                  (\"bioembeddings_dallago\", \"plus_rnn\"), \n",
    "                                  (\"bioembeddings_dallago\", \"prottrans_bert_bfd\"), (\"bioembeddings_dallago\", \"prottrans_albert_bfd\"),\n",
    "                                  (\"bioembeddings_dallago\", \"prottrans_xlnet_uniref100\"), \n",
    "                                  (\"bioembeddings_dallago\", \"prottrans_t5_bfd\"), (\"bioembeddings_dallago\", \"prottrans_t5_uniref50\"), (\"bioembeddings_dallago\", \"prottrans_t5_xl_u50\"),\n",
    "                                  (\"vespa_marquet\", \"vespal\"), \n",
    "                                  (\"\", \"random_classifier\"), (\"\", \"conservation\")]\n",
    "models_smaller_means_damaging = [\"sequnet\", \"sift\"]"
   ]
  },
  {
   "cell_type": "code",
   "execution_count": 12,
   "metadata": {},
   "outputs": [
    {
     "name": "stdout",
     "output_type": "stream",
     "text": [
      "Ultra-rare    138540\n",
      "Rare           11363\n",
      "Common          7032\n",
      "Name: class, dtype: int64\n"
     ]
    },
    {
     "data": {
      "text/plain": [
       "Index(['snp_id', 'chrom_acc_version', 'chrom_pos', 'ref_allele', 'alt_allele',\n",
       "       'prot_acc_version', 'prot_pos', 'wt', 'mut', 'wt_population',\n",
       "       'mut_poulation', 'wt_freq', 'mt_freq', 'class', 'sift_pred',\n",
       "       'polyphen2_HVAR_pred', 'cadd_pred', 'mvp_pred', 'metarnn_pred',\n",
       "       'revel_pred', 'unirep_pred', 'protbert_pred', 'sequnet_pred',\n",
       "       'esm1b_t33_650M_UR50S_pred', 'esm1v_t33_650M_UR90S_pred',\n",
       "       'esm2_t33_650M_UR50D_pred', 'plus_rnn_pred', 'prottrans_bert_bfd_pred',\n",
       "       'prottrans_albert_bfd_pred', 'prottrans_xlnet_uniref100_pred',\n",
       "       'prottrans_t5_bfd_pred', 'prottrans_t5_uniref50_pred',\n",
       "       'prottrans_t5_xl_u50_pred', 'vespal_pred', 'conservation_pred'],\n",
       "      dtype='object')"
      ]
     },
     "execution_count": 12,
     "metadata": {},
     "output_type": "execute_result"
    }
   ],
   "source": [
    "result_df = pd.read_csv(home_dir+f\"models/aa_common/merged_predictions/popu_freq_analysis.csv\", sep=\"\\t\")\n",
    "result_df = result_df[~pd.isna(result_df[\"conservation_pred\"])]  # taking df for only non-NAN values\n",
    "\n",
    "result_df = result_df[(result_df[\"class\"]!=\"Zero-population\") & (result_df[\"class\"]!=\"Singleton\")]\n",
    "# print(result_df.shape)\n",
    "# print(result_df.columns)\n",
    "print(result_df[\"class\"].value_counts())\n",
    "\n",
    "# n_samples = 10000\n",
    "# common = result_df[result_df[\"class\"]==\"Common\"].sample(n=min(n_samples, result_df[result_df[\"class\"]==\"Common\"].shape[0]))\n",
    "# rare = result_df[result_df[\"class\"]==\"Rare\"].sample(n=n_samples)\n",
    "# ultra_rare = result_df[result_df[\"class\"]==\"Ultra-rare\"].sample(n=n_samples)\n",
    "# # result_df = result_df[(result_df[\"class\"]==\"Common\") | (result_df[\"class\"]==\"Rare\") | (result_df[\"class\"]==\"Ultra-rare\")]\n",
    "# result_df = pd.concat([common, rare, ultra_rare])\n",
    "result_df.columns"
   ]
  },
  {
   "cell_type": "code",
   "execution_count": 14,
   "metadata": {},
   "outputs": [
    {
     "ename": "KeyboardInterrupt",
     "evalue": "",
     "output_type": "error",
     "traceback": [
      "\u001b[0;31m---------------------------------------------------------------------------\u001b[0m",
      "\u001b[0;31mKeyboardInterrupt\u001b[0m                         Traceback (most recent call last)",
      "Cell \u001b[0;32mIn[14], line 5\u001b[0m\n\u001b[1;32m      3\u001b[0m plt\u001b[39m.\u001b[39mxlabel(\u001b[39m\"\u001b[39m\u001b[39mcadd_pred-scores\u001b[39m\u001b[39m\"\u001b[39m)\n\u001b[1;32m      4\u001b[0m plt\u001b[39m.\u001b[39mxlabel(\u001b[39m\"\u001b[39m\u001b[39mMutation allele frequency\u001b[39m\u001b[39m\"\u001b[39m)\n\u001b[0;32m----> 5\u001b[0m plt\u001b[39m.\u001b[39;49mshow()\n",
      "File \u001b[0;32m/projects/ashehu/akabir4/venvs/hopper_variant_effect_analysis_mine/lib/python3.8/site-packages/matplotlib/pyplot.py:445\u001b[0m, in \u001b[0;36mshow\u001b[0;34m(*args, **kwargs)\u001b[0m\n\u001b[1;32m    401\u001b[0m \u001b[39m\u001b[39m\u001b[39m\"\"\"\u001b[39;00m\n\u001b[1;32m    402\u001b[0m \u001b[39mDisplay all open figures.\u001b[39;00m\n\u001b[1;32m    403\u001b[0m \n\u001b[0;32m   (...)\u001b[0m\n\u001b[1;32m    442\u001b[0m \u001b[39mexplicitly there.\u001b[39;00m\n\u001b[1;32m    443\u001b[0m \u001b[39m\"\"\"\u001b[39;00m\n\u001b[1;32m    444\u001b[0m _warn_if_gui_out_of_main_thread()\n\u001b[0;32m--> 445\u001b[0m \u001b[39mreturn\u001b[39;00m _get_backend_mod()\u001b[39m.\u001b[39;49mshow(\u001b[39m*\u001b[39;49margs, \u001b[39m*\u001b[39;49m\u001b[39m*\u001b[39;49mkwargs)\n",
      "File \u001b[0;32m/projects/ashehu/akabir4/venvs/hopper_variant_effect_analysis_mine/lib/python3.8/site-packages/matplotlib_inline/backend_inline.py:90\u001b[0m, in \u001b[0;36mshow\u001b[0;34m(close, block)\u001b[0m\n\u001b[1;32m     88\u001b[0m \u001b[39mtry\u001b[39;00m:\n\u001b[1;32m     89\u001b[0m     \u001b[39mfor\u001b[39;00m figure_manager \u001b[39min\u001b[39;00m Gcf\u001b[39m.\u001b[39mget_all_fig_managers():\n\u001b[0;32m---> 90\u001b[0m         display(\n\u001b[1;32m     91\u001b[0m             figure_manager\u001b[39m.\u001b[39;49mcanvas\u001b[39m.\u001b[39;49mfigure,\n\u001b[1;32m     92\u001b[0m             metadata\u001b[39m=\u001b[39;49m_fetch_figure_metadata(figure_manager\u001b[39m.\u001b[39;49mcanvas\u001b[39m.\u001b[39;49mfigure)\n\u001b[1;32m     93\u001b[0m         )\n\u001b[1;32m     94\u001b[0m \u001b[39mfinally\u001b[39;00m:\n\u001b[1;32m     95\u001b[0m     show\u001b[39m.\u001b[39m_to_draw \u001b[39m=\u001b[39m []\n",
      "File \u001b[0;32m/projects/ashehu/akabir4/venvs/hopper_variant_effect_analysis_mine/lib/python3.8/site-packages/IPython/core/display_functions.py:298\u001b[0m, in \u001b[0;36mdisplay\u001b[0;34m(include, exclude, metadata, transient, display_id, raw, clear, *objs, **kwargs)\u001b[0m\n\u001b[1;32m    296\u001b[0m     publish_display_data(data\u001b[39m=\u001b[39mobj, metadata\u001b[39m=\u001b[39mmetadata, \u001b[39m*\u001b[39m\u001b[39m*\u001b[39mkwargs)\n\u001b[1;32m    297\u001b[0m \u001b[39melse\u001b[39;00m:\n\u001b[0;32m--> 298\u001b[0m     format_dict, md_dict \u001b[39m=\u001b[39m \u001b[39mformat\u001b[39;49m(obj, include\u001b[39m=\u001b[39;49minclude, exclude\u001b[39m=\u001b[39;49mexclude)\n\u001b[1;32m    299\u001b[0m     \u001b[39mif\u001b[39;00m \u001b[39mnot\u001b[39;00m format_dict:\n\u001b[1;32m    300\u001b[0m         \u001b[39m# nothing to display (e.g. _ipython_display_ took over)\u001b[39;00m\n\u001b[1;32m    301\u001b[0m         \u001b[39mcontinue\u001b[39;00m\n",
      "File \u001b[0;32m/projects/ashehu/akabir4/venvs/hopper_variant_effect_analysis_mine/lib/python3.8/site-packages/IPython/core/formatters.py:177\u001b[0m, in \u001b[0;36mDisplayFormatter.format\u001b[0;34m(self, obj, include, exclude)\u001b[0m\n\u001b[1;32m    175\u001b[0m md \u001b[39m=\u001b[39m \u001b[39mNone\u001b[39;00m\n\u001b[1;32m    176\u001b[0m \u001b[39mtry\u001b[39;00m:\n\u001b[0;32m--> 177\u001b[0m     data \u001b[39m=\u001b[39m formatter(obj)\n\u001b[1;32m    178\u001b[0m \u001b[39mexcept\u001b[39;00m:\n\u001b[1;32m    179\u001b[0m     \u001b[39m# FIXME: log the exception\u001b[39;00m\n\u001b[1;32m    180\u001b[0m     \u001b[39mraise\u001b[39;00m\n",
      "File \u001b[0;32m/projects/ashehu/akabir4/venvs/hopper_variant_effect_analysis_mine/lib/python3.8/site-packages/decorator.py:232\u001b[0m, in \u001b[0;36mdecorate.<locals>.fun\u001b[0;34m(*args, **kw)\u001b[0m\n\u001b[1;32m    230\u001b[0m \u001b[39mif\u001b[39;00m \u001b[39mnot\u001b[39;00m kwsyntax:\n\u001b[1;32m    231\u001b[0m     args, kw \u001b[39m=\u001b[39m fix(args, kw, sig)\n\u001b[0;32m--> 232\u001b[0m \u001b[39mreturn\u001b[39;00m caller(func, \u001b[39m*\u001b[39;49m(extras \u001b[39m+\u001b[39;49m args), \u001b[39m*\u001b[39;49m\u001b[39m*\u001b[39;49mkw)\n",
      "File \u001b[0;32m/projects/ashehu/akabir4/venvs/hopper_variant_effect_analysis_mine/lib/python3.8/site-packages/IPython/core/formatters.py:221\u001b[0m, in \u001b[0;36mcatch_format_error\u001b[0;34m(method, self, *args, **kwargs)\u001b[0m\n\u001b[1;32m    219\u001b[0m \u001b[39m\u001b[39m\u001b[39m\"\"\"show traceback on failed format call\"\"\"\u001b[39;00m\n\u001b[1;32m    220\u001b[0m \u001b[39mtry\u001b[39;00m:\n\u001b[0;32m--> 221\u001b[0m     r \u001b[39m=\u001b[39m method(\u001b[39mself\u001b[39;49m, \u001b[39m*\u001b[39;49margs, \u001b[39m*\u001b[39;49m\u001b[39m*\u001b[39;49mkwargs)\n\u001b[1;32m    222\u001b[0m \u001b[39mexcept\u001b[39;00m \u001b[39mNotImplementedError\u001b[39;00m:\n\u001b[1;32m    223\u001b[0m     \u001b[39m# don't warn on NotImplementedErrors\u001b[39;00m\n\u001b[1;32m    224\u001b[0m     \u001b[39mreturn\u001b[39;00m \u001b[39mself\u001b[39m\u001b[39m.\u001b[39m_check_return(\u001b[39mNone\u001b[39;00m, args[\u001b[39m0\u001b[39m])\n",
      "File \u001b[0;32m/projects/ashehu/akabir4/venvs/hopper_variant_effect_analysis_mine/lib/python3.8/site-packages/IPython/core/formatters.py:338\u001b[0m, in \u001b[0;36mBaseFormatter.__call__\u001b[0;34m(self, obj)\u001b[0m\n\u001b[1;32m    336\u001b[0m     \u001b[39mpass\u001b[39;00m\n\u001b[1;32m    337\u001b[0m \u001b[39melse\u001b[39;00m:\n\u001b[0;32m--> 338\u001b[0m     \u001b[39mreturn\u001b[39;00m printer(obj)\n\u001b[1;32m    339\u001b[0m \u001b[39m# Finally look for special method names\u001b[39;00m\n\u001b[1;32m    340\u001b[0m method \u001b[39m=\u001b[39m get_real_method(obj, \u001b[39mself\u001b[39m\u001b[39m.\u001b[39mprint_method)\n",
      "File \u001b[0;32m/projects/ashehu/akabir4/venvs/hopper_variant_effect_analysis_mine/lib/python3.8/site-packages/IPython/core/pylabtools.py:152\u001b[0m, in \u001b[0;36mprint_figure\u001b[0;34m(fig, fmt, bbox_inches, base64, **kwargs)\u001b[0m\n\u001b[1;32m    149\u001b[0m     \u001b[39mfrom\u001b[39;00m \u001b[39mmatplotlib\u001b[39;00m\u001b[39m.\u001b[39;00m\u001b[39mbackend_bases\u001b[39;00m \u001b[39mimport\u001b[39;00m FigureCanvasBase\n\u001b[1;32m    150\u001b[0m     FigureCanvasBase(fig)\n\u001b[0;32m--> 152\u001b[0m fig\u001b[39m.\u001b[39;49mcanvas\u001b[39m.\u001b[39;49mprint_figure(bytes_io, \u001b[39m*\u001b[39;49m\u001b[39m*\u001b[39;49mkw)\n\u001b[1;32m    153\u001b[0m data \u001b[39m=\u001b[39m bytes_io\u001b[39m.\u001b[39mgetvalue()\n\u001b[1;32m    154\u001b[0m \u001b[39mif\u001b[39;00m fmt \u001b[39m==\u001b[39m \u001b[39m'\u001b[39m\u001b[39msvg\u001b[39m\u001b[39m'\u001b[39m:\n",
      "File \u001b[0;32m/projects/ashehu/akabir4/venvs/hopper_variant_effect_analysis_mine/lib/python3.8/site-packages/matplotlib/backend_bases.py:2342\u001b[0m, in \u001b[0;36mFigureCanvasBase.print_figure\u001b[0;34m(self, filename, dpi, facecolor, edgecolor, orientation, format, bbox_inches, pad_inches, bbox_extra_artists, backend, **kwargs)\u001b[0m\n\u001b[1;32m   2340\u001b[0m \u001b[39mif\u001b[39;00m bbox_inches:\n\u001b[1;32m   2341\u001b[0m     \u001b[39mif\u001b[39;00m bbox_inches \u001b[39m==\u001b[39m \u001b[39m\"\u001b[39m\u001b[39mtight\u001b[39m\u001b[39m\"\u001b[39m:\n\u001b[0;32m-> 2342\u001b[0m         bbox_inches \u001b[39m=\u001b[39m \u001b[39mself\u001b[39;49m\u001b[39m.\u001b[39;49mfigure\u001b[39m.\u001b[39;49mget_tightbbox(\n\u001b[1;32m   2343\u001b[0m             renderer, bbox_extra_artists\u001b[39m=\u001b[39;49mbbox_extra_artists)\n\u001b[1;32m   2344\u001b[0m         \u001b[39mif\u001b[39;00m pad_inches \u001b[39mis\u001b[39;00m \u001b[39mNone\u001b[39;00m:\n\u001b[1;32m   2345\u001b[0m             pad_inches \u001b[39m=\u001b[39m rcParams[\u001b[39m'\u001b[39m\u001b[39msavefig.pad_inches\u001b[39m\u001b[39m'\u001b[39m]\n",
      "File \u001b[0;32m/projects/ashehu/akabir4/venvs/hopper_variant_effect_analysis_mine/lib/python3.8/site-packages/matplotlib/figure.py:1740\u001b[0m, in \u001b[0;36mFigureBase.get_tightbbox\u001b[0;34m(self, renderer, bbox_extra_artists)\u001b[0m\n\u001b[1;32m   1736\u001b[0m \u001b[39mif\u001b[39;00m ax\u001b[39m.\u001b[39mget_visible():\n\u001b[1;32m   1737\u001b[0m     \u001b[39m# some axes don't take the bbox_extra_artists kwarg so we\u001b[39;00m\n\u001b[1;32m   1738\u001b[0m     \u001b[39m# need this conditional....\u001b[39;00m\n\u001b[1;32m   1739\u001b[0m     \u001b[39mtry\u001b[39;00m:\n\u001b[0;32m-> 1740\u001b[0m         bbox \u001b[39m=\u001b[39m ax\u001b[39m.\u001b[39;49mget_tightbbox(\n\u001b[1;32m   1741\u001b[0m             renderer, bbox_extra_artists\u001b[39m=\u001b[39;49mbbox_extra_artists)\n\u001b[1;32m   1742\u001b[0m     \u001b[39mexcept\u001b[39;00m \u001b[39mTypeError\u001b[39;00m:\n\u001b[1;32m   1743\u001b[0m         bbox \u001b[39m=\u001b[39m ax\u001b[39m.\u001b[39mget_tightbbox(renderer)\n",
      "File \u001b[0;32m/projects/ashehu/akabir4/venvs/hopper_variant_effect_analysis_mine/lib/python3.8/site-packages/matplotlib/axes/_base.py:4410\u001b[0m, in \u001b[0;36m_AxesBase.get_tightbbox\u001b[0;34m(self, renderer, call_axes_locator, bbox_extra_artists, for_layout_only)\u001b[0m\n\u001b[1;32m   4407\u001b[0m     bbox_artists \u001b[39m=\u001b[39m \u001b[39mself\u001b[39m\u001b[39m.\u001b[39mget_default_bbox_extra_artists()\n\u001b[1;32m   4409\u001b[0m \u001b[39mfor\u001b[39;00m a \u001b[39min\u001b[39;00m bbox_artists:\n\u001b[0;32m-> 4410\u001b[0m     bbox \u001b[39m=\u001b[39m a\u001b[39m.\u001b[39;49mget_tightbbox(renderer)\n\u001b[1;32m   4411\u001b[0m     \u001b[39mif\u001b[39;00m (bbox \u001b[39mis\u001b[39;00m \u001b[39mnot\u001b[39;00m \u001b[39mNone\u001b[39;00m\n\u001b[1;32m   4412\u001b[0m             \u001b[39mand\u001b[39;00m \u001b[39m0\u001b[39m \u001b[39m<\u001b[39m bbox\u001b[39m.\u001b[39mwidth \u001b[39m<\u001b[39m np\u001b[39m.\u001b[39minf\n\u001b[1;32m   4413\u001b[0m             \u001b[39mand\u001b[39;00m \u001b[39m0\u001b[39m \u001b[39m<\u001b[39m bbox\u001b[39m.\u001b[39mheight \u001b[39m<\u001b[39m np\u001b[39m.\u001b[39minf):\n\u001b[1;32m   4414\u001b[0m         bb\u001b[39m.\u001b[39mappend(bbox)\n",
      "File \u001b[0;32m/projects/ashehu/akabir4/venvs/hopper_variant_effect_analysis_mine/lib/python3.8/site-packages/matplotlib/legend.py:1033\u001b[0m, in \u001b[0;36mLegend.get_tightbbox\u001b[0;34m(self, renderer)\u001b[0m\n\u001b[1;32m   1031\u001b[0m \u001b[39mdef\u001b[39;00m \u001b[39mget_tightbbox\u001b[39m(\u001b[39mself\u001b[39m, renderer\u001b[39m=\u001b[39m\u001b[39mNone\u001b[39;00m):\n\u001b[1;32m   1032\u001b[0m     \u001b[39m# docstring inherited\u001b[39;00m\n\u001b[0;32m-> 1033\u001b[0m     \u001b[39mreturn\u001b[39;00m \u001b[39mself\u001b[39;49m\u001b[39m.\u001b[39;49m_legend_box\u001b[39m.\u001b[39;49mget_window_extent(renderer)\n",
      "File \u001b[0;32m/projects/ashehu/akabir4/venvs/hopper_variant_effect_analysis_mine/lib/python3.8/site-packages/matplotlib/offsetbox.py:402\u001b[0m, in \u001b[0;36mOffsetBox.get_window_extent\u001b[0;34m(self, renderer)\u001b[0m\n\u001b[1;32m    400\u001b[0m bbox \u001b[39m=\u001b[39m \u001b[39mself\u001b[39m\u001b[39m.\u001b[39mget_bbox(renderer)\n\u001b[1;32m    401\u001b[0m \u001b[39mtry\u001b[39;00m:  \u001b[39m# Some subclasses redefine get_offset to take no args.\u001b[39;00m\n\u001b[0;32m--> 402\u001b[0m     px, py \u001b[39m=\u001b[39m \u001b[39mself\u001b[39;49m\u001b[39m.\u001b[39;49mget_offset(bbox, renderer)\n\u001b[1;32m    403\u001b[0m \u001b[39mexcept\u001b[39;00m \u001b[39mTypeError\u001b[39;00m:\n\u001b[1;32m    404\u001b[0m     px, py \u001b[39m=\u001b[39m \u001b[39mself\u001b[39m\u001b[39m.\u001b[39mget_offset()\n",
      "File \u001b[0;32m/projects/ashehu/akabir4/venvs/hopper_variant_effect_analysis_mine/lib/python3.8/site-packages/matplotlib/offsetbox.py:60\u001b[0m, in \u001b[0;36m_compat_get_offset.<locals>.get_offset\u001b[0;34m(self, *args, **kwargs)\u001b[0m\n\u001b[1;32m     56\u001b[0m params \u001b[39m=\u001b[39m _api\u001b[39m.\u001b[39mselect_matching_signature(sigs, \u001b[39mself\u001b[39m, \u001b[39m*\u001b[39margs, \u001b[39m*\u001b[39m\u001b[39m*\u001b[39mkwargs)\n\u001b[1;32m     57\u001b[0m bbox \u001b[39m=\u001b[39m (params[\u001b[39m\"\u001b[39m\u001b[39mbbox\u001b[39m\u001b[39m\"\u001b[39m] \u001b[39mif\u001b[39;00m \u001b[39m\"\u001b[39m\u001b[39mbbox\u001b[39m\u001b[39m\"\u001b[39m \u001b[39min\u001b[39;00m params \u001b[39melse\u001b[39;00m\n\u001b[1;32m     58\u001b[0m         Bbox\u001b[39m.\u001b[39mfrom_bounds(\u001b[39m-\u001b[39mparams[\u001b[39m\"\u001b[39m\u001b[39mxdescent\u001b[39m\u001b[39m\"\u001b[39m], \u001b[39m-\u001b[39mparams[\u001b[39m\"\u001b[39m\u001b[39mydescent\u001b[39m\u001b[39m\"\u001b[39m],\n\u001b[1;32m     59\u001b[0m                          params[\u001b[39m\"\u001b[39m\u001b[39mwidth\u001b[39m\u001b[39m\"\u001b[39m], params[\u001b[39m\"\u001b[39m\u001b[39mheight\u001b[39m\u001b[39m\"\u001b[39m]))\n\u001b[0;32m---> 60\u001b[0m \u001b[39mreturn\u001b[39;00m meth(params[\u001b[39m\"\u001b[39;49m\u001b[39mself\u001b[39;49m\u001b[39m\"\u001b[39;49m], bbox, params[\u001b[39m\"\u001b[39;49m\u001b[39mrenderer\u001b[39;49m\u001b[39m\"\u001b[39;49m])\n",
      "File \u001b[0;32m/projects/ashehu/akabir4/venvs/hopper_variant_effect_analysis_mine/lib/python3.8/site-packages/matplotlib/offsetbox.py:313\u001b[0m, in \u001b[0;36mOffsetBox.get_offset\u001b[0;34m(self, bbox, renderer)\u001b[0m\n\u001b[1;32m    298\u001b[0m \u001b[39m@_compat_get_offset\u001b[39m\n\u001b[1;32m    299\u001b[0m \u001b[39mdef\u001b[39;00m \u001b[39mget_offset\u001b[39m(\u001b[39mself\u001b[39m, bbox, renderer):\n\u001b[1;32m    300\u001b[0m \u001b[39m    \u001b[39m\u001b[39m\"\"\"\u001b[39;00m\n\u001b[1;32m    301\u001b[0m \u001b[39m    Return the offset as a tuple (x, y).\u001b[39;00m\n\u001b[1;32m    302\u001b[0m \n\u001b[0;32m   (...)\u001b[0m\n\u001b[1;32m    310\u001b[0m \u001b[39m    renderer : `.RendererBase` subclass\u001b[39;00m\n\u001b[1;32m    311\u001b[0m \u001b[39m    \"\"\"\u001b[39;00m\n\u001b[1;32m    312\u001b[0m     \u001b[39mreturn\u001b[39;00m (\n\u001b[0;32m--> 313\u001b[0m         \u001b[39mself\u001b[39;49m\u001b[39m.\u001b[39;49m_offset(bbox\u001b[39m.\u001b[39;49mwidth, bbox\u001b[39m.\u001b[39;49mheight, \u001b[39m-\u001b[39;49mbbox\u001b[39m.\u001b[39;49mx0, \u001b[39m-\u001b[39;49mbbox\u001b[39m.\u001b[39;49my0, renderer)\n\u001b[1;32m    314\u001b[0m         \u001b[39mif\u001b[39;00m callable(\u001b[39mself\u001b[39m\u001b[39m.\u001b[39m_offset)\n\u001b[1;32m    315\u001b[0m         \u001b[39melse\u001b[39;00m \u001b[39mself\u001b[39m\u001b[39m.\u001b[39m_offset)\n",
      "File \u001b[0;32m/projects/ashehu/akabir4/venvs/hopper_variant_effect_analysis_mine/lib/python3.8/site-packages/matplotlib/legend.py:702\u001b[0m, in \u001b[0;36mLegend._findoffset\u001b[0;34m(self, width, height, xdescent, ydescent, renderer)\u001b[0m\n\u001b[1;32m    699\u001b[0m \u001b[39m\u001b[39m\u001b[39m\"\"\"Helper function to locate the legend.\"\"\"\u001b[39;00m\n\u001b[1;32m    701\u001b[0m \u001b[39mif\u001b[39;00m \u001b[39mself\u001b[39m\u001b[39m.\u001b[39m_loc \u001b[39m==\u001b[39m \u001b[39m0\u001b[39m:  \u001b[39m# \"best\".\u001b[39;00m\n\u001b[0;32m--> 702\u001b[0m     x, y \u001b[39m=\u001b[39m \u001b[39mself\u001b[39;49m\u001b[39m.\u001b[39;49m_find_best_position(width, height, renderer)\n\u001b[1;32m    703\u001b[0m \u001b[39melif\u001b[39;00m \u001b[39mself\u001b[39m\u001b[39m.\u001b[39m_loc \u001b[39min\u001b[39;00m Legend\u001b[39m.\u001b[39mcodes\u001b[39m.\u001b[39mvalues():  \u001b[39m# Fixed location.\u001b[39;00m\n\u001b[1;32m    704\u001b[0m     bbox \u001b[39m=\u001b[39m Bbox\u001b[39m.\u001b[39mfrom_bounds(\u001b[39m0\u001b[39m, \u001b[39m0\u001b[39m, width, height)\n",
      "File \u001b[0;32m/projects/ashehu/akabir4/venvs/hopper_variant_effect_analysis_mine/lib/python3.8/site-packages/matplotlib/legend.py:1132\u001b[0m, in \u001b[0;36mLegend._find_best_position\u001b[0;34m(self, width, height, renderer, consider)\u001b[0m\n\u001b[1;32m   1128\u001b[0m \u001b[39massert\u001b[39;00m \u001b[39mself\u001b[39m\u001b[39m.\u001b[39misaxes  \u001b[39m# always holds, as this is only called internally\u001b[39;00m\n\u001b[1;32m   1130\u001b[0m start_time \u001b[39m=\u001b[39m time\u001b[39m.\u001b[39mperf_counter()\n\u001b[0;32m-> 1132\u001b[0m bboxes, lines, offsets \u001b[39m=\u001b[39m \u001b[39mself\u001b[39;49m\u001b[39m.\u001b[39;49m_auto_legend_data()\n\u001b[1;32m   1134\u001b[0m bbox \u001b[39m=\u001b[39m Bbox\u001b[39m.\u001b[39mfrom_bounds(\u001b[39m0\u001b[39m, \u001b[39m0\u001b[39m, width, height)\n\u001b[1;32m   1135\u001b[0m \u001b[39mif\u001b[39;00m consider \u001b[39mis\u001b[39;00m \u001b[39mNone\u001b[39;00m:\n",
      "File \u001b[0;32m/projects/ashehu/akabir4/venvs/hopper_variant_effect_analysis_mine/lib/python3.8/site-packages/matplotlib/legend.py:943\u001b[0m, in \u001b[0;36mLegend._auto_legend_data\u001b[0;34m(self)\u001b[0m\n\u001b[1;32m    940\u001b[0m     lines\u001b[39m.\u001b[39mappend(\n\u001b[1;32m    941\u001b[0m         artist\u001b[39m.\u001b[39mget_transform()\u001b[39m.\u001b[39mtransform_path(artist\u001b[39m.\u001b[39mget_path()))\n\u001b[1;32m    942\u001b[0m \u001b[39melif\u001b[39;00m \u001b[39misinstance\u001b[39m(artist, Collection):\n\u001b[0;32m--> 943\u001b[0m     transform, transOffset, hoffsets, _ \u001b[39m=\u001b[39m artist\u001b[39m.\u001b[39;49m_prepare_points()\n\u001b[1;32m    944\u001b[0m     \u001b[39mif\u001b[39;00m \u001b[39mlen\u001b[39m(hoffsets):\n\u001b[1;32m    945\u001b[0m         \u001b[39mfor\u001b[39;00m offset \u001b[39min\u001b[39;00m transOffset\u001b[39m.\u001b[39mtransform(hoffsets):\n",
      "File \u001b[0;32m/projects/ashehu/akabir4/venvs/hopper_variant_effect_analysis_mine/lib/python3.8/site-packages/matplotlib/collections.py:328\u001b[0m, in \u001b[0;36mCollection._prepare_points\u001b[0;34m(self)\u001b[0m\n\u001b[1;32m    325\u001b[0m     offsets \u001b[39m=\u001b[39m np\u001b[39m.\u001b[39mma\u001b[39m.\u001b[39mcolumn_stack([xs, ys])\n\u001b[1;32m    327\u001b[0m \u001b[39mif\u001b[39;00m \u001b[39mnot\u001b[39;00m transform\u001b[39m.\u001b[39mis_affine:\n\u001b[0;32m--> 328\u001b[0m     paths \u001b[39m=\u001b[39m [transform\u001b[39m.\u001b[39mtransform_path_non_affine(path)\n\u001b[1;32m    329\u001b[0m              \u001b[39mfor\u001b[39;00m path \u001b[39min\u001b[39;00m paths]\n\u001b[1;32m    330\u001b[0m     transform \u001b[39m=\u001b[39m transform\u001b[39m.\u001b[39mget_affine()\n\u001b[1;32m    331\u001b[0m \u001b[39mif\u001b[39;00m \u001b[39mnot\u001b[39;00m offset_trf\u001b[39m.\u001b[39mis_affine:\n",
      "File \u001b[0;32m/projects/ashehu/akabir4/venvs/hopper_variant_effect_analysis_mine/lib/python3.8/site-packages/matplotlib/collections.py:328\u001b[0m, in \u001b[0;36m<listcomp>\u001b[0;34m(.0)\u001b[0m\n\u001b[1;32m    325\u001b[0m     offsets \u001b[39m=\u001b[39m np\u001b[39m.\u001b[39mma\u001b[39m.\u001b[39mcolumn_stack([xs, ys])\n\u001b[1;32m    327\u001b[0m \u001b[39mif\u001b[39;00m \u001b[39mnot\u001b[39;00m transform\u001b[39m.\u001b[39mis_affine:\n\u001b[0;32m--> 328\u001b[0m     paths \u001b[39m=\u001b[39m [transform\u001b[39m.\u001b[39;49mtransform_path_non_affine(path)\n\u001b[1;32m    329\u001b[0m              \u001b[39mfor\u001b[39;00m path \u001b[39min\u001b[39;00m paths]\n\u001b[1;32m    330\u001b[0m     transform \u001b[39m=\u001b[39m transform\u001b[39m.\u001b[39mget_affine()\n\u001b[1;32m    331\u001b[0m \u001b[39mif\u001b[39;00m \u001b[39mnot\u001b[39;00m offset_trf\u001b[39m.\u001b[39mis_affine:\n",
      "File \u001b[0;32m/projects/ashehu/akabir4/venvs/hopper_variant_effect_analysis_mine/lib/python3.8/site-packages/matplotlib/transforms.py:2431\u001b[0m, in \u001b[0;36mCompositeGenericTransform.transform_path_non_affine\u001b[0;34m(self, path)\u001b[0m\n\u001b[1;32m   2429\u001b[0m     \u001b[39mreturn\u001b[39;00m path\n\u001b[1;32m   2430\u001b[0m \u001b[39melif\u001b[39;00m \u001b[39mnot\u001b[39;00m \u001b[39mself\u001b[39m\u001b[39m.\u001b[39m_a\u001b[39m.\u001b[39mis_affine \u001b[39mand\u001b[39;00m \u001b[39mself\u001b[39m\u001b[39m.\u001b[39m_b\u001b[39m.\u001b[39mis_affine:\n\u001b[0;32m-> 2431\u001b[0m     \u001b[39mreturn\u001b[39;00m \u001b[39mself\u001b[39;49m\u001b[39m.\u001b[39;49m_a\u001b[39m.\u001b[39;49mtransform_path_non_affine(path)\n\u001b[1;32m   2432\u001b[0m \u001b[39melse\u001b[39;00m:\n\u001b[1;32m   2433\u001b[0m     \u001b[39mreturn\u001b[39;00m \u001b[39mself\u001b[39m\u001b[39m.\u001b[39m_b\u001b[39m.\u001b[39mtransform_path_non_affine(\n\u001b[1;32m   2434\u001b[0m                             \u001b[39mself\u001b[39m\u001b[39m.\u001b[39m_a\u001b[39m.\u001b[39mtransform_path(path))\n",
      "File \u001b[0;32m/projects/ashehu/akabir4/venvs/hopper_variant_effect_analysis_mine/lib/python3.8/site-packages/matplotlib/transforms.py:1615\u001b[0m, in \u001b[0;36mTransform.transform_path_non_affine\u001b[0;34m(self, path)\u001b[0m\n\u001b[1;32m   1607\u001b[0m \u001b[39mdef\u001b[39;00m \u001b[39mtransform_path_non_affine\u001b[39m(\u001b[39mself\u001b[39m, path):\n\u001b[1;32m   1608\u001b[0m \u001b[39m    \u001b[39m\u001b[39m\"\"\"\u001b[39;00m\n\u001b[1;32m   1609\u001b[0m \u001b[39m    Apply the non-affine part of this transform to `.Path` *path*,\u001b[39;00m\n\u001b[1;32m   1610\u001b[0m \u001b[39m    returning a new `.Path`.\u001b[39;00m\n\u001b[0;32m   (...)\u001b[0m\n\u001b[1;32m   1613\u001b[0m \u001b[39m    ``transform_path_affine(transform_path_non_affine(values))``.\u001b[39;00m\n\u001b[1;32m   1614\u001b[0m \u001b[39m    \"\"\"\u001b[39;00m\n\u001b[0;32m-> 1615\u001b[0m     x \u001b[39m=\u001b[39m \u001b[39mself\u001b[39;49m\u001b[39m.\u001b[39;49mtransform_non_affine(path\u001b[39m.\u001b[39;49mvertices)\n\u001b[1;32m   1616\u001b[0m     \u001b[39mreturn\u001b[39;00m Path\u001b[39m.\u001b[39m_fast_from_codes_and_verts(x, path\u001b[39m.\u001b[39mcodes, path)\n",
      "File \u001b[0;32m/projects/ashehu/akabir4/venvs/hopper_variant_effect_analysis_mine/lib/python3.8/site-packages/matplotlib/transforms.py:2236\u001b[0m, in \u001b[0;36mBlendedGenericTransform.transform_non_affine\u001b[0;34m(self, points)\u001b[0m\n\u001b[1;32m   2234\u001b[0m \u001b[39melse\u001b[39;00m:\n\u001b[1;32m   2235\u001b[0m     x_points \u001b[39m=\u001b[39m x\u001b[39m.\u001b[39mtransform_non_affine(points[:, \u001b[39m0\u001b[39m])\n\u001b[0;32m-> 2236\u001b[0m     x_points \u001b[39m=\u001b[39m x_points\u001b[39m.\u001b[39;49mreshape((\u001b[39mlen\u001b[39;49m(x_points), \u001b[39m1\u001b[39;49m))\n\u001b[1;32m   2238\u001b[0m \u001b[39mif\u001b[39;00m y\u001b[39m.\u001b[39minput_dims \u001b[39m==\u001b[39m \u001b[39m2\u001b[39m:\n\u001b[1;32m   2239\u001b[0m     y_points \u001b[39m=\u001b[39m y\u001b[39m.\u001b[39mtransform_non_affine(points)[:, \u001b[39m1\u001b[39m:]\n",
      "\u001b[0;31mKeyboardInterrupt\u001b[0m: "
     ]
    }
   ],
   "source": [
    "plt.cla()\n",
    "sns.histplot(data=result_df, x=\"mt_freq\", y=\"cadd_pred\", hue=\"class\", log_scale=(True, False))\n",
    "plt.axhline(y=.5, color='r', linestyle='dashed')\n",
    "plt.xlabel(\"cadd_pred-scores\")\n",
    "plt.xlabel(\"Mutation allele frequency\")\n",
    "\n",
    "plt.show()"
   ]
  },
  {
   "cell_type": "code",
   "execution_count": 24,
   "metadata": {},
   "outputs": [
    {
     "name": "stdout",
     "output_type": "stream",
     "text": [
      "sift\n"
     ]
    },
    {
     "name": "stderr",
     "output_type": "stream",
     "text": [
      "/tmp/ipykernel_3509024/3078518461.py:39: SettingWithCopyWarning: \n",
      "A value is trying to be set on a copy of a slice from a DataFrame.\n",
      "Try using .loc[row_indexer,col_indexer] = value instead\n",
      "\n",
      "See the caveats in the documentation: https://pandas.pydata.org/pandas-docs/stable/user_guide/indexing.html#returning-a-view-versus-a-copy\n",
      "  non_nan_result_df.loc[non_nan_result_df[\"pred\"]<=th, \"class_numeric_assigned\"] = 1\n"
     ]
    },
    {
     "name": "stdout",
     "output_type": "stream",
     "text": [
      "\t 1.0 1.0\n",
      "polyphen2_HVAR\n"
     ]
    },
    {
     "name": "stderr",
     "output_type": "stream",
     "text": [
      "/tmp/ipykernel_3509024/3078518461.py:39: SettingWithCopyWarning: \n",
      "A value is trying to be set on a copy of a slice from a DataFrame.\n",
      "Try using .loc[row_indexer,col_indexer] = value instead\n",
      "\n",
      "See the caveats in the documentation: https://pandas.pydata.org/pandas-docs/stable/user_guide/indexing.html#returning-a-view-versus-a-copy\n",
      "  non_nan_result_df.loc[non_nan_result_df[\"pred\"]<=th, \"class_numeric_assigned\"] = 1\n"
     ]
    },
    {
     "name": "stdout",
     "output_type": "stream",
     "text": [
      "\t 1.0 1.0\n",
      "cadd\n"
     ]
    },
    {
     "name": "stderr",
     "output_type": "stream",
     "text": [
      "/tmp/ipykernel_3509024/3078518461.py:39: SettingWithCopyWarning: \n",
      "A value is trying to be set on a copy of a slice from a DataFrame.\n",
      "Try using .loc[row_indexer,col_indexer] = value instead\n",
      "\n",
      "See the caveats in the documentation: https://pandas.pydata.org/pandas-docs/stable/user_guide/indexing.html#returning-a-view-versus-a-copy\n",
      "  non_nan_result_df.loc[non_nan_result_df[\"pred\"]<=th, \"class_numeric_assigned\"] = 1\n"
     ]
    },
    {
     "name": "stdout",
     "output_type": "stream",
     "text": [
      "\t 0.5 0.9920273348519362\n",
      "mvp\n"
     ]
    },
    {
     "name": "stderr",
     "output_type": "stream",
     "text": [
      "/tmp/ipykernel_3509024/3078518461.py:39: SettingWithCopyWarning: \n",
      "A value is trying to be set on a copy of a slice from a DataFrame.\n",
      "Try using .loc[row_indexer,col_indexer] = value instead\n",
      "\n",
      "See the caveats in the documentation: https://pandas.pydata.org/pandas-docs/stable/user_guide/indexing.html#returning-a-view-versus-a-copy\n",
      "  non_nan_result_df.loc[non_nan_result_df[\"pred\"]<=th, \"class_numeric_assigned\"] = 1\n"
     ]
    },
    {
     "name": "stdout",
     "output_type": "stream",
     "text": [
      "\t 1.0 1.0\n",
      "metarnn\n"
     ]
    },
    {
     "name": "stderr",
     "output_type": "stream",
     "text": [
      "/tmp/ipykernel_3509024/3078518461.py:39: SettingWithCopyWarning: \n",
      "A value is trying to be set on a copy of a slice from a DataFrame.\n",
      "Try using .loc[row_indexer,col_indexer] = value instead\n",
      "\n",
      "See the caveats in the documentation: https://pandas.pydata.org/pandas-docs/stable/user_guide/indexing.html#returning-a-view-versus-a-copy\n",
      "  non_nan_result_df.loc[non_nan_result_df[\"pred\"]<=th, \"class_numeric_assigned\"] = 1\n"
     ]
    },
    {
     "name": "stdout",
     "output_type": "stream",
     "text": [
      "\t 0.86 0.9902264212412445\n",
      "revel\n"
     ]
    },
    {
     "name": "stderr",
     "output_type": "stream",
     "text": [
      "/tmp/ipykernel_3509024/3078518461.py:39: SettingWithCopyWarning: \n",
      "A value is trying to be set on a copy of a slice from a DataFrame.\n",
      "Try using .loc[row_indexer,col_indexer] = value instead\n",
      "\n",
      "See the caveats in the documentation: https://pandas.pydata.org/pandas-docs/stable/user_guide/indexing.html#returning-a-view-versus-a-copy\n",
      "  non_nan_result_df.loc[non_nan_result_df[\"pred\"]<=th, \"class_numeric_assigned\"] = 1\n"
     ]
    },
    {
     "name": "stdout",
     "output_type": "stream",
     "text": [
      "\t 0.8300000000000001 0.9900087642418931\n",
      "unirep\n",
      "\t 0.81 0.9921786120591581\n",
      "protbert\n",
      "\t 0.62 0.9927474402730375\n",
      "sequnet\n"
     ]
    },
    {
     "name": "stderr",
     "output_type": "stream",
     "text": [
      "/tmp/ipykernel_3509024/3078518461.py:39: SettingWithCopyWarning: \n",
      "A value is trying to be set on a copy of a slice from a DataFrame.\n",
      "Try using .loc[row_indexer,col_indexer] = value instead\n",
      "\n",
      "See the caveats in the documentation: https://pandas.pydata.org/pandas-docs/stable/user_guide/indexing.html#returning-a-view-versus-a-copy\n",
      "  non_nan_result_df.loc[non_nan_result_df[\"pred\"]<=th, \"class_numeric_assigned\"] = 1\n"
     ]
    },
    {
     "name": "stdout",
     "output_type": "stream",
     "text": [
      "\t 0.97 0.9910358565737052\n",
      "esm1b_t33_650M_UR50S\n",
      "\t 0.78 0.9903299203640501\n",
      "esm1v_t33_650M_UR90S\n",
      "\t 0.76 0.9907565415244596\n",
      "esm2_t33_650M_UR50D\n",
      "\t 0.78 0.9904721274175199\n",
      "plus_rnn\n",
      "\t 0.75 0.9903299203640501\n",
      "prottrans_bert_bfd\n",
      "\t 0.74 0.9900455062571104\n",
      "prottrans_albert_bfd\n",
      "\t 0.74 0.9906143344709898\n",
      "prottrans_xlnet_uniref100\n",
      "\t 0.75 0.9900455062571104\n",
      "prottrans_t5_bfd\n",
      "\t 0.87 0.9940273037542662\n",
      "prottrans_t5_uniref50\n",
      "\t 0.87 0.9933162684869169\n",
      "prottrans_t5_xl_u50\n",
      "\t 0.85 0.9916097838452788\n",
      "vespal\n"
     ]
    },
    {
     "name": "stderr",
     "output_type": "stream",
     "text": [
      "/tmp/ipykernel_3509024/3078518461.py:39: SettingWithCopyWarning: \n",
      "A value is trying to be set on a copy of a slice from a DataFrame.\n",
      "Try using .loc[row_indexer,col_indexer] = value instead\n",
      "\n",
      "See the caveats in the documentation: https://pandas.pydata.org/pandas-docs/stable/user_guide/indexing.html#returning-a-view-versus-a-copy\n",
      "  non_nan_result_df.loc[non_nan_result_df[\"pred\"]<=th, \"class_numeric_assigned\"] = 1\n"
     ]
    },
    {
     "name": "stdout",
     "output_type": "stream",
     "text": [
      "\t 0.98 0.9943877551020408\n",
      "random_classifier\n",
      "\t 1.0 1.0\n"
     ]
    },
    {
     "data": {
      "image/png": "[encoded data removed]",
      "text/plain": [
       "<Figure size 640x480 with 1 Axes>"
      ]
     },
     "metadata": {},
     "output_type": "display_data"
    }
   ],
   "source": [
    "\n",
    "def do_hist_plot(non_nan_result_df, model_name):\n",
    "    \n",
    "    sns.histplot(data=non_nan_result_df, x=\"mt_freq\", y=\"pred\", hue=\"class\", log_scale=(True, False))\n",
    "\n",
    "    plt.xlabel(\"Mutation allele frequency\")\n",
    "    plt.ylabel(f\"{model_name}-scores (scaled)\")\n",
    "    # plt.show()\n",
    "    plt.savefig(home_dir+f\"models/aa_common/mut_allele_freq_vs_model_preds_plots/{model_name}.png\", dpi=300, format=\"png\", bbox_inches='tight', pad_inches=0.0)\n",
    "\n",
    "\n",
    "# model_pred_col = \"conservation_pred\"\n",
    "# result_df[model_pred_col]=(result_df[model_pred_col]-result_df[model_pred_col].min())/(result_df[model_pred_col].max()-result_df[model_pred_col].min()) # scaling prediction scores between [0, 1]\n",
    "\n",
    "def get_non_nan_df(df, col_name):\n",
    "    non_nan_df = df[~pd.isna(df[col_name])]  # taking df for only non-NAN values\n",
    "    return non_nan_df\n",
    "\n",
    "for i, (model_root, model_name) in enumerate(model_root_and_name_tuple_list):\n",
    "    plt.cla()\n",
    "    # model_name = \"esm2_t33_650M_UR50D\"\n",
    "    if model_name==\"conservation\": continue\n",
    "\n",
    "    print(model_name)\n",
    "    model_pred_col = model_name + \"_pred\"\n",
    "\n",
    "    if model_name==\"random_classifier\": \n",
    "        result_df[model_pred_col] = [random.uniform(0,1) for i in range(result_df.shape[0])]\n",
    "\n",
    "    result_df.loc[result_df[\"class\"]==\"Common\", \"class_numeric\"] = 1\n",
    "    result_df.loc[result_df[\"class\"]!=\"Common\", \"class_numeric\"] = 0\n",
    "\n",
    "    result_df[\"pred\"]=(result_df[model_pred_col]-result_df[model_pred_col].min())/(result_df[model_pred_col].max()-result_df[model_pred_col].min()) # scaling prediction scores between [0, 1]\n",
    "\n",
    "    non_nan_result_df = get_non_nan_df(result_df, model_pred_col)\n",
    "\n",
    "    # finding a th such that >99% of the common variants are correctly classified\n",
    "    best_th = 0.0\n",
    "    for th in np.arange(0, 1.1, .01):\n",
    "        non_nan_result_df.loc[non_nan_result_df[\"pred\"]<=th, \"class_numeric_assigned\"] = 1\n",
    "        non_nan_result_df.loc[non_nan_result_df[\"pred\"]>th, \"class_numeric_assigned\"] = 0\n",
    "\n",
    "        temp_df = non_nan_result_df[non_nan_result_df[\"class\"]==\"Common\"]\n",
    "        n_rows_annotated_as_common = temp_df[temp_df[\"class_numeric\"]==temp_df[\"class_numeric_assigned\"]]\n",
    "        percentage = n_rows_annotated_as_common.shape[0]/temp_df.shape[0]\n",
    "        if percentage >= .99:\n",
    "            print(\"\\t\", th, percentage)\n",
    "            best_th = th\n",
    "            break\n",
    "    plt.axhline(y=best_th, color='r', linestyle='dashed')\n",
    "    plt.text(0.01, best_th-.05, f\"th={best_th:.2f}\", c=\"r\")\n",
    "    # if model_name in models_smaller_means_damaging:\n",
    "    #     non_nan_result_df['pred'] = non_nan_result_df['pred'].multiply(-1)\n",
    "\n",
    "    do_hist_plot(non_nan_result_df, model_name)\n",
    "    # break"
   ]
  }
 ],
 "metadata": {
  "kernelspec": {
   "display_name": "hopper_variant_effect_analysis_mine",
   "language": "python",
   "name": "python3"
  },
  "language_info": {
   "codemirror_mode": {
    "name": "ipython",
    "version": 3
   },
   "file_extension": ".py",
   "mimetype": "text/x-python",
   "name": "python",
   "nbconvert_exporter": "python",
   "pygments_lexer": "ipython3",
   "version": "3.8.6"
  },
  "orig_nbformat": 4
 },
 "nbformat": 4,
 "nbformat_minor": 2
}
