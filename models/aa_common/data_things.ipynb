{
 "cells": [
  {
   "cell_type": "code",
   "execution_count": 12,
   "metadata": {},
   "outputs": [],
   "source": [
    "import os\n",
    "import sys\n",
    "home_dir = \"../../\"\n",
    "module_path = os.path.abspath(os.path.join(home_dir))\n",
    "if module_path not in sys.path:\n",
    "    sys.path.append(module_path)\n",
    "\n",
    "import numpy as np\n",
    "import pandas as pd\n",
    "from models.aa_common.data_loader import get_pmd_dbnsfp_dataset, get_popu_freq_dbnsfp_dataset, get_patho_likelypatho_neutral_dbnsfp_dataset\n",
    "from plots_helper import pmd_class_order, patho_class_order, popu_freq_class_order"
   ]
  },
  {
   "cell_type": "code",
   "execution_count": 22,
   "metadata": {},
   "outputs": [],
   "source": [
    "def print_summary(df, classes):\n",
    "    for cls in classes:\n",
    "        if cls==\"Neutral\": df.loc[(df[\"class\"]!=\"Pathogenic\") & (df[\"class\"]!=\"Likely-pathogenic\"), \"class\"] = \"Neutral\"\n",
    "\n",
    "        cls_df = df[df[\"class\"]==cls]\n",
    "        n_prots = cls_df[\"prot_acc_version\"].unique().shape[0]\n",
    "        n_prot_variants = cls_df[['prot_acc_version', 'wt', 'mut', 'prot_pos']].shape[0]\n",
    "        n_genomic_variants = cls_df[[\"chrom\", \"chrom_pos\", \"ref_allele\", \"alt_allele\"]].shape[0]\n",
    "        print(cls, n_prots, n_prot_variants, n_genomic_variants, sep=\"\\t\")\n",
    "\n",
    "    total_n_prots = df[\"prot_acc_version\"].unique().shape[0]\n",
    "    total_n_prot_variants = df.shape[0]\n",
    "    total_n_genomic_variants = df[[\"chrom\", \"chrom_pos\", \"ref_allele\", \"alt_allele\"]].shape[0]\n",
    "    print(\"total\", total_n_prots, total_n_prot_variants, total_n_genomic_variants, sep=\"\\t\")"
   ]
  },
  {
   "cell_type": "code",
   "execution_count": 23,
   "metadata": {},
   "outputs": [
    {
     "name": "stdout",
     "output_type": "stream",
     "text": [
      "Index(['mut_id', 'md5', 'pmd_id', 'nr', 'prot_acc_version', 'snp_id',\n",
      "       'mut_real', 'wt', 'mut', 'prot_pos', 'chrom', 'chrom_pos', 'ref_allele',\n",
      "       'alt_allele', 'function', 'source', 'crossref', 'function_summarized',\n",
      "       'class', 'SIFT_score', 'Polyphen2_HVAR_score', 'MetaRNN_score',\n",
      "       'REVEL_score', 'MVP_score', 'CADD_raw_score',\n",
      "       'integrated_fitCons_score', 'phyloP17way_primate_score',\n",
      "       'phastCons17way_primate_score', 'bStatistic_score'],\n",
      "      dtype='object')\n",
      "(7179, 29)\n",
      "Effect       3818\n",
      "No-effect    1777\n",
      "Knock-out    1584\n",
      "Name: class, dtype: int64\n",
      "#-unique prots:  2056\n",
      "Knock-out\t743\t1584\t1584\n",
      "Effect\t1416\t3818\t3818\n",
      "No-effect\t622\t1777\t1777\n",
      "total\t2056\t7179\t7179\n"
     ]
    }
   ],
   "source": [
    "df, _ = get_pmd_dbnsfp_dataset(home_dir)\n",
    "print_summary(df, pmd_class_order)"
   ]
  },
  {
   "cell_type": "code",
   "execution_count": 24,
   "metadata": {},
   "outputs": [
    {
     "name": "stdout",
     "output_type": "stream",
     "text": [
      "Index(['clinvar_id', 'gene_symbol', 'gene_id', 'snp_id', 'chrom_acc_version',\n",
      "       'chrom_pos', 'ref_allele', 'alt_allele', 'prot_acc_version', 'prot_pos',\n",
      "       'wt', 'mut', 'class', 'chrom', 'SIFT_score', 'Polyphen2_HVAR_score',\n",
      "       'MetaRNN_score', 'REVEL_score', 'MVP_score', 'CADD_raw_score',\n",
      "       'integrated_fitCons_score', 'phyloP17way_primate_score',\n",
      "       'phastCons17way_primate_score', 'bStatistic_score', 'wt_population',\n",
      "       'mut_poulation', 'wt_freq', 'mt_freq'],\n",
      "      dtype='object')\n",
      "(9472, 28)\n",
      "Likely-pathogenic    4162\n",
      "Pathogenic           2305\n",
      "Rare                 1983\n",
      "Common               1022\n",
      "Name: class, dtype: int64\n",
      "#-unique prots:  1430\n",
      "#-unique genes:  1428\n",
      "Pathogenic\t910\t2305\t2305\n",
      "Likely-pathogenic\t1073\t4162\t4162\n",
      "Neutral\t985\t3005\t3005\n",
      "total\t1430\t9472\t9472\n"
     ]
    }
   ],
   "source": [
    "df, _ = get_patho_likelypatho_neutral_dbnsfp_dataset(home_dir)\n",
    "print_summary(df, patho_class_order)"
   ]
  },
  {
   "cell_type": "code",
   "execution_count": 25,
   "metadata": {},
   "outputs": [
    {
     "name": "stdout",
     "output_type": "stream",
     "text": [
      "Index(['snp_id', 'chrom_acc_version', 'chrom_pos', 'ref_allele', 'alt_allele',\n",
      "       'prot_acc_version', 'prot_pos', 'wt', 'mut', 'wt_population',\n",
      "       'mut_poulation', 'wt_freq', 'mt_freq', 'class', 'chrom', 'SIFT_score',\n",
      "       'Polyphen2_HVAR_score', 'MetaRNN_score', 'REVEL_score', 'MVP_score',\n",
      "       'CADD_raw_score', 'integrated_fitCons_score',\n",
      "       'phyloP17way_primate_score', 'phastCons17way_primate_score',\n",
      "       'bStatistic_score', 'n_methods_having_preds', 'gene_symbol'],\n",
      "      dtype='object')\n",
      "(26409, 27)\n",
      "Common        6976\n",
      "Ultra-rare    6957\n",
      "Singleton     6955\n",
      "Rare          5521\n",
      "Name: class, dtype: int64\n",
      "#-unique prots:  6976\n",
      "#-unique genes:  6971\n",
      "Singleton\t6955\t6955\t6955\n",
      "Ultra-rare\t6957\t6957\t6957\n",
      "Rare\t5521\t5521\t5521\n",
      "Common\t6976\t6976\t6976\n",
      "total\t6976\t26409\t26409\n"
     ]
    }
   ],
   "source": [
    "df, _ = get_popu_freq_dbnsfp_dataset(home_dir)\n",
    "print_summary(df, popu_freq_class_order)"
   ]
  }
 ],
 "metadata": {
  "kernelspec": {
   "display_name": "hopper_variant_effect_analysis_mine",
   "language": "python",
   "name": "python3"
  },
  "language_info": {
   "codemirror_mode": {
    "name": "ipython",
    "version": 3
   },
   "file_extension": ".py",
   "mimetype": "text/x-python",
   "name": "python",
   "nbconvert_exporter": "python",
   "pygments_lexer": "ipython3",
   "version": "3.8.6"
  },
  "orig_nbformat": 4
 },
 "nbformat": 4,
 "nbformat_minor": 2
}
