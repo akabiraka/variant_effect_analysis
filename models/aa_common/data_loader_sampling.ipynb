{
 "cells": [
  {
   "cell_type": "code",
   "execution_count": 1,
   "metadata": {},
   "outputs": [],
   "source": [
    "import os\n",
    "import sys\n",
    "home_dir = \"../../\"\n",
    "module_path = os.path.abspath(os.path.join(home_dir))\n",
    "if module_path not in sys.path:\n",
    "    sys.path.append(module_path)\n",
    "\n",
    "import pandas as pd    \n",
    "\n",
    "from models.aa_common.data_loader import get_pmd_dataset, get_patho_and_likelypatho_SNVs, get_population_freq_SNVs"
   ]
  },
  {
   "cell_type": "code",
   "execution_count": 29,
   "metadata": {},
   "outputs": [
    {
     "name": "stdout",
     "output_type": "stream",
     "text": [
      "raw data: (10282, 13)\n",
      "Index(['clinvar_id', 'gene_symbol', 'gene_id', 'snp_id', 'chrom_acc_version',\n",
      "       'chrom_pos', 'ref_allele', 'alt_allele', 'prot_acc_version', 'prot_pos',\n",
      "       'wt', 'mut', 'class'],\n",
      "      dtype='object')\n",
      "\n",
      "Log: excluding variants corresponding to proteins having seq-len>1022 ...\n",
      "\n",
      "Log: Loading combined fasta iterator ...\n",
      "#-protein sequences (seq-len<=1022): 1434\n",
      "#-of rs-ids mapped to pathogenicity dataset:  331\n",
      "Pathogenic: 2308, Likely pathogenic: 4168, total: (6476, 13)\n",
      "#-of rows mapped to rsids:  331\n"
     ]
    },
    {
     "data": {
      "text/plain": [
       "329"
      ]
     },
     "execution_count": 29,
     "metadata": {},
     "output_type": "execute_result"
    }
   ],
   "source": [
    "patho_variants_df = get_patho_and_likelypatho_SNVs(home_dir)\n",
    "print(\"#-of rows mapped to rsids: \", patho_variants_df[~pd.isna(patho_variants_df[\"snp_id\"])].shape[0])\n",
    "patho_rs_ids_set = set(patho_variants_df[~pd.isna(patho_variants_df[\"snp_id\"])][\"snp_id\"].values)\n",
    "len(patho_rs_ids_set)"
   ]
  },
  {
   "cell_type": "code",
   "execution_count": 30,
   "metadata": {},
   "outputs": [
    {
     "name": "stdout",
     "output_type": "stream",
     "text": [
      "\n",
      "Log: Loading Protein Mutation Dataset (PMD) ...\n",
      "(8582, 30)\n",
      "Index(['mut_id', 'md5', 'pmd_id', 'nr', 'mut_real', 'chrom', 'chrom_pos',\n",
      "       'ref_allele', 'alt_allele', 'function', 'source', 'crossref', 'snp_id',\n",
      "       'CADD_raw', 'MetaRNN_score', 'MVP_score', 'Polyphen2_HVAR_score',\n",
      "       'REVEL_score', 'SIFT_score', 'integrated_fitCons_score',\n",
      "       'phyloP17way_primate', 'phastCons17way_primate', 'bStatistic', 'seq',\n",
      "       'wt', 'mut', 'prot_pos', 'function_summarized', 'functional_effect',\n",
      "       'pmd_nr_id'],\n",
      "      dtype='object')\n",
      "\n",
      "Log: excluding variants corresponding to proteins having seq-len>1022 ...\n",
      "\n",
      "Log: Loading combined fasta iterator ...\n",
      "#-protein sequences (seq-len<=1022): 2198\n",
      "(8582, 30)\n",
      "Effect       4633\n",
      "Knock-out    1981\n",
      "No-effect    1968\n",
      "Name: functional_effect, dtype: int64\n",
      "#-of rows mapped to rsids:  3583\n"
     ]
    },
    {
     "data": {
      "text/plain": [
       "1768"
      ]
     },
     "execution_count": 30,
     "metadata": {},
     "output_type": "execute_result"
    }
   ],
   "source": [
    "pmd_variants_df = get_pmd_dataset(home_dir)\n",
    "print(\"#-of rows mapped to rsids: \", pmd_variants_df[~pd.isna(pmd_variants_df[\"snp_id\"])].shape[0])\n",
    "pmd_rs_ids_set = set(pmd_variants_df[~pd.isna(pmd_variants_df[\"snp_id\"])][\"snp_id\"].values)\n",
    "len(pmd_rs_ids_set)"
   ]
  },
  {
   "cell_type": "code",
   "execution_count": 7,
   "metadata": {},
   "outputs": [
    {
     "name": "stdout",
     "output_type": "stream",
     "text": [
      "2088\n"
     ]
    }
   ],
   "source": [
    "rs_ids_set = pmd_rs_ids_set.union(patho_rs_ids_set)\n",
    "print(len(rs_ids_set))"
   ]
  },
  {
   "cell_type": "code",
   "execution_count": 10,
   "metadata": {},
   "outputs": [
    {
     "name": "stdout",
     "output_type": "stream",
     "text": [
      "\n",
      "Log: Loading data ...\n",
      "(2865836, 14)\n",
      "Index(['snp_id', 'chrom_acc_version', 'chrom_pos', 'ref_allele', 'alt_allele',\n",
      "       'prot_acc_version', 'prot_pos', 'wt', 'mut', 'wt_population',\n",
      "       'mut_poulation', 'wt_freq', 'mt_freq', 'class'],\n",
      "      dtype='object')\n",
      "Zero-population    2042590\n",
      "Singleton           462444\n",
      "Ultra-rare          314013\n",
      "Rare                 28622\n",
      "Common               18167\n",
      "Name: class, dtype: int64\n"
     ]
    }
   ],
   "source": [
    "popu_variants_df = get_population_freq_SNVs(home_dir)\n",
    "popu_variants_df = popu_variants_df[popu_variants_df[\"class\"]!=\"Zero-population\"]"
   ]
  },
  {
   "cell_type": "code",
   "execution_count": 20,
   "metadata": {},
   "outputs": [
    {
     "name": "stdout",
     "output_type": "stream",
     "text": [
      "(492, 14)\n"
     ]
    },
    {
     "data": {
      "text/plain": [
       "Ultra-rare    214\n",
       "Singleton     170\n",
       "Common         64\n",
       "Rare           44\n",
       "Name: class, dtype: int64"
      ]
     },
     "execution_count": 20,
     "metadata": {},
     "output_type": "execute_result"
    }
   ],
   "source": [
    "overlapping_df = popu_variants_df[popu_variants_df[\"snp_id\"].isin(rs_ids_set)] # popu_variants_overlapped_in_pmd_and_patho\n",
    "print(overlapping_df.shape)\n",
    "overlapping_df[\"class\"].value_counts()"
   ]
  },
  {
   "cell_type": "code",
   "execution_count": 25,
   "metadata": {},
   "outputs": [
    {
     "data": {
      "text/plain": [
       "Ultra-rare    10214\n",
       "Singleton     10170\n",
       "Common        10064\n",
       "Rare          10044\n",
       "Name: class, dtype: int64"
      ]
     },
     "execution_count": 25,
     "metadata": {},
     "output_type": "execute_result"
    }
   ],
   "source": [
    "non_overlapping_df = popu_variants_df[~popu_variants_df[\"snp_id\"].isin(rs_ids_set)]\n",
    "\n",
    "common = non_overlapping_df[non_overlapping_df[\"class\"]==\"Common\"].sample(10000)\n",
    "rare = non_overlapping_df[non_overlapping_df[\"class\"]==\"Rare\"].sample(10000)\n",
    "ultra_rare = non_overlapping_df[non_overlapping_df[\"class\"]==\"Ultra-rare\"].sample(10000)\n",
    "singleton = non_overlapping_df[non_overlapping_df[\"class\"]==\"Singleton\"].sample(10000)\n",
    "sampled_popu_variants_df = pd.concat([overlapping_df, common, rare, ultra_rare, singleton])\n",
    "sampled_popu_variants_df.drop_duplicates(keep=\"first\", inplace=True, ignore_index=True)\n",
    "sampled_popu_variants_df[\"class\"].value_counts()"
   ]
  }
 ],
 "metadata": {
  "kernelspec": {
   "display_name": "hopper_variant_effect_analysis_mine",
   "language": "python",
   "name": "python3"
  },
  "language_info": {
   "codemirror_mode": {
    "name": "ipython",
    "version": 3
   },
   "file_extension": ".py",
   "mimetype": "text/x-python",
   "name": "python",
   "nbconvert_exporter": "python",
   "pygments_lexer": "ipython3",
   "version": "3.8.6"
  },
  "orig_nbformat": 4
 },
 "nbformat": 4,
 "nbformat_minor": 2
}
