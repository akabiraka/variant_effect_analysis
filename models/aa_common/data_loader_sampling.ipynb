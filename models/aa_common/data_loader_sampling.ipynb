{
 "cells": [
  {
   "cell_type": "code",
   "execution_count": 1,
   "metadata": {},
   "outputs": [],
   "source": [
    "import os\n",
    "import sys\n",
    "home_dir = \"../../\"\n",
    "module_path = os.path.abspath(os.path.join(home_dir))\n",
    "if module_path not in sys.path:\n",
    "    sys.path.append(module_path)\n",
    "\n",
    "from models.aa_common.data_loader import get_pmd_dataset    "
   ]
  },
  {
   "cell_type": "code",
   "execution_count": 12,
   "metadata": {},
   "outputs": [
    {
     "name": "stdout",
     "output_type": "stream",
     "text": [
      "\n",
      "Log: Loading Protein Mutation Dataset (PMD) ...\n"
     ]
    },
    {
     "name": "stderr",
     "output_type": "stream",
     "text": [
      "/projects/ashehu/akabir4/projects/variant_effect_analysis/models/aa_common/data_loader.py:49: DtypeWarning: Columns (47) have mixed types. Specify dtype option on import or set low_memory=False.\n",
      "  pmd_df = pd.read_csv(home_dir+\"models/aa_common/datasets_pmd_analysis/pmd_data.tsv\", sep=\"\\t\") # PMD: protein mutation dataset\n"
     ]
    },
    {
     "name": "stdout",
     "output_type": "stream",
     "text": [
      "(38608, 72)\n",
      "Index(['mut_id', 'md5', 'pmd_id', 'nr', 'authors', 'journal', 'title',\n",
      "       'medline', 'crossref', 'uniprot_id', 'ensembl_id', 'other_ref',\n",
      "       'protein', 'source', 'expression_sys', 'mut_PMD', 'mut_real',\n",
      "       'function', 'fb', 'structure', 'strB', 'stability', 'staB',\n",
      "       'expression', 'eB', 'transport', 'tB', 'maturation', 'mB', 'disease',\n",
      "       'dB', 'uni_real', 'uni_realid', 'uni_start', 'uni_finish', 'uniq_start',\n",
      "       'uniq_finish', 'uni_loc', 'ens_real', 'ens_organism', 'ens_start',\n",
      "       'ens_finish', 'ensq_start', 'ensq_finish', 'ens_loc', 'pos_real',\n",
      "       'mt_real', 'taxid', 'wt', 'mut', 'prot_pos', 'function_summarized',\n",
      "       'functional_effect', 'gene_symbol', 'gene_SP', 'description', 'seq',\n",
      "       'snp_id', 'mrna_acc', 'mrna_ver', 'mrna_pos', 'allele', 'protein_acc',\n",
      "       'protein_ver', 'verified', 'chrom', 'chrom_pos', 'variation',\n",
      "       'variant_type', 'ref_allele', 'alt_allele', 'pmd_nr_id'],\n",
      "      dtype='object')\n",
      "\n",
      "Log: excluding variants corresponding to proteins having seq-len>1022 ...\n",
      "\n",
      "Log: Loading combined fasta iterator ...\n",
      "#-protein sequences (seq-len<=1022): 6397\n",
      "(35605, 72)\n",
      "Effect       18258\n",
      "No-effect     9029\n",
      "Knock-out     8318\n",
      "Name: functional_effect, dtype: int64\n",
      "#-of unique genes:  (1882,)\n",
      "(1509,) (1075,) (1219,)\n",
      "(26905, 72)\n",
      "Effect       13273\n",
      "No-effect     7255\n",
      "Knock-out     6377\n",
      "Name: functional_effect, dtype: int64\n",
      "#-human (crossref) (10440, 72)\n",
      "#-non-human (crossref) (16465, 72)\n",
      "Effect       5473\n",
      "No-effect    2727\n",
      "Knock-out    2240\n",
      "Name: functional_effect, dtype: int64\n",
      "Effect       7800\n",
      "No-effect    4528\n",
      "Knock-out    4137\n",
      "Name: functional_effect, dtype: int64\n"
     ]
    }
   ],
   "source": [
    "pmd_variants_df = get_pmd_dataset(home_dir)\n",
    "\n",
    "# pmd_variants_df[\"gene_symbol\"].value_counts()\n",
    "effect_genes = pmd_variants_df[pmd_variants_df[\"functional_effect\"]==\"Effect\"][\"gene_symbol\"].unique()\n",
    "no_effect_genes = pmd_variants_df[pmd_variants_df[\"functional_effect\"]==\"No-effect\"][\"gene_symbol\"].unique()\n",
    "knock_out_genes = pmd_variants_df[pmd_variants_df[\"functional_effect\"]==\"Knock-out\"][\"gene_symbol\"].unique()\n",
    "\n",
    "print(effect_genes.shape, no_effect_genes.shape, knock_out_genes.shape)\n",
    "pmd_variants_df[pmd_variants_df[\"functional_effect\"]==\"Effect\"][\"gene_symbol\"].value_counts()\n",
    "effect_genes_set = set(effect_genes)\n",
    "no_effect_genes_set = set(no_effect_genes)\n",
    "knock_out_genes_set = set(knock_out_genes)\n",
    "x = effect_genes_set.intersection(no_effect_genes_set).intersection(knock_out_genes_set)\n",
    "len(x)\n",
    "# print(effect_genes_set)\n",
    "\n",
    "pmd_variants_df = pmd_variants_df[pmd_variants_df[\"gene_symbol\"].isin(x)]\n",
    "print(pmd_variants_df.shape)\n",
    "print(pmd_variants_df[\"functional_effect\"].value_counts())\n",
    "\n",
    "human = pmd_variants_df[pmd_variants_df[\"crossref\"].apply(lambda x: True if \"HUMAN\" in x else False)]\n",
    "non_human = pmd_variants_df[pmd_variants_df[\"crossref\"].apply(lambda x: False if \"HUMAN\" in x else True)]\n",
    "print(\"#-human (crossref)\", human.shape) # number of human entries: 10440\n",
    "print(\"#-non-human (crossref)\", non_human.shape) # number of human entries: 10440\n",
    "\n",
    "print(human[\"functional_effect\"].value_counts())\n",
    "print(non_human[\"functional_effect\"].value_counts())"
   ]
  }
 ],
 "metadata": {
  "kernelspec": {
   "display_name": "hopper_variant_effect_analysis_mine",
   "language": "python",
   "name": "python3"
  },
  "language_info": {
   "codemirror_mode": {
    "name": "ipython",
    "version": 3
   },
   "file_extension": ".py",
   "mimetype": "text/x-python",
   "name": "python",
   "nbconvert_exporter": "python",
   "pygments_lexer": "ipython3",
   "version": "3.8.6"
  },
  "orig_nbformat": 4
 },
 "nbformat": 4,
 "nbformat_minor": 2
}
