{
 "cells": [
  {
   "cell_type": "code",
   "execution_count": 1,
   "metadata": {},
   "outputs": [],
   "source": [
    "import os\n",
    "import sys\n",
    "home_dir = \"../../\"\n",
    "module_path = os.path.abspath(os.path.join(home_dir))\n",
    "if module_path not in sys.path:\n",
    "    sys.path.append(module_path)\n",
    "\n",
    "import numpy as np\n",
    "import pandas as pd\n",
    "from scipy.stats import spearmanr, pearsonr\n",
    "\n",
    "import matplotlib.pyplot as plt\n",
    "%matplotlib inline "
   ]
  },
  {
   "cell_type": "code",
   "execution_count": 3,
   "metadata": {},
   "outputs": [
    {
     "name": "stdout",
     "output_type": "stream",
     "text": [
      "(95324, 14)\n"
     ]
    },
    {
     "data": {
      "text/html": [
       "<div>\n",
       "<style scoped>\n",
       "    .dataframe tbody tr th:only-of-type {\n",
       "        vertical-align: middle;\n",
       "    }\n",
       "\n",
       "    .dataframe tbody tr th {\n",
       "        vertical-align: top;\n",
       "    }\n",
       "\n",
       "    .dataframe thead th {\n",
       "        text-align: right;\n",
       "    }\n",
       "</style>\n",
       "<table border=\"1\" class=\"dataframe\">\n",
       "  <thead>\n",
       "    <tr style=\"text-align: right;\">\n",
       "      <th></th>\n",
       "      <th>snp_id</th>\n",
       "      <th>chrom_acc_version</th>\n",
       "      <th>chrom_pos</th>\n",
       "      <th>ref_allele</th>\n",
       "      <th>alt_allele</th>\n",
       "      <th>prot_acc_version</th>\n",
       "      <th>prot_pos</th>\n",
       "      <th>wt</th>\n",
       "      <th>mut</th>\n",
       "      <th>wt_population</th>\n",
       "      <th>mut_poulation</th>\n",
       "      <th>wt_freq</th>\n",
       "      <th>mt_freq</th>\n",
       "      <th>pred</th>\n",
       "    </tr>\n",
       "  </thead>\n",
       "  <tbody>\n",
       "  </tbody>\n",
       "</table>\n",
       "</div>"
      ],
      "text/plain": [
       "Empty DataFrame\n",
       "Columns: [snp_id, chrom_acc_version, chrom_pos, ref_allele, alt_allele, prot_acc_version, prot_pos, wt, mut, wt_population, mut_poulation, wt_freq, mt_freq, pred]\n",
       "Index: []"
      ]
     },
     "execution_count": 3,
     "metadata": {},
     "output_type": "execute_result"
    }
   ],
   "source": [
    "model_name = \"esm1b_t33_650M_UR50S\"\n",
    "# result_df = pd.read_csv(home_dir+\"models/esm_rives/outputs/predictions_esm1_t6_43M_UR50S.csv\", sep=\"\\t\")\n",
    "result_df = pd.read_csv(home_dir+f\"models/esm_rives/outputs/popu_freq_preds_{model_name}_(mt-wt).csv\", sep=\"\\t\")\n",
    "print(result_df.shape)\n",
    "result_df[result_df[\"mt_freq\"]==0.0]"
   ]
  },
  {
   "cell_type": "code",
   "execution_count": 4,
   "metadata": {},
   "outputs": [
    {
     "name": "stdout",
     "output_type": "stream",
     "text": [
      "4.873223101026788e-06 0.5\n"
     ]
    }
   ],
   "source": [
    "# normalization effect check: does not effect in the rank correlation at all\n",
    "print(result_df[\"mt_freq\"].min(), result_df[\"mt_freq\"].max())\n",
    "processed_result_df = result_df.copy()\n",
    "processed_result_df[\"mt_freq\"]=(result_df[\"mt_freq\"]-result_df[\"mt_freq\"].min())/(result_df[\"mt_freq\"].max()-result_df[\"mt_freq\"].min())\n",
    "processed_result_df[\"pred\"]=(result_df[\"pred\"]-result_df[\"pred\"].min())/(result_df[\"pred\"].max()-result_df[\"pred\"].min())"
   ]
  },
  {
   "cell_type": "code",
   "execution_count": 5,
   "metadata": {},
   "outputs": [
    {
     "data": {
      "image/png": "[encoded data removed]",
      "text/plain": [
       "<Figure size 640x480 with 1 Axes>"
      ]
     },
     "metadata": {},
     "output_type": "display_data"
    }
   ],
   "source": [
    "# bins = (np.logspace(0, 1.041392685158225, 500, base=10) - 1) / 10\n",
    "# plt.hist(processed_result_df[\"pred\"], bins, log=True, density=True, alpha=.5, label=\"ESM-Rives\")\n",
    "# plt.hist(processed_result_df[\"mt_freq\"], bins, log=True, density=True, alpha=.5, label=\"Variants population-freqency\")\n",
    "plt.hist(processed_result_df[\"pred\"], bins=500, log=True, alpha=.5, label=\"ESM1b-Rives\")\n",
    "plt.hist(processed_result_df[\"mt_freq\"], bins=500, log=True, alpha=.5, label=\"Variants population-freqency\")\n",
    "plt.legend()\n",
    "plt.show()"
   ]
  },
  {
   "cell_type": "code",
   "execution_count": 6,
   "metadata": {},
   "outputs": [
    {
     "name": "stdout",
     "output_type": "stream",
     "text": [
      "SignificanceResult(statistic=0.18158536492048985, pvalue=0.0)\n",
      "PearsonRResult(statistic=0.1428013404673954, pvalue=0.0)\n",
      "SignificanceResult(statistic=0.18158536492048985, pvalue=0.0)\n",
      "PearsonRResult(statistic=0.1428013404673954, pvalue=0.0)\n"
     ]
    }
   ],
   "source": [
    "print(spearmanr(result_df[\"pred\"], result_df[\"mt_freq\"]))\n",
    "print(pearsonr(result_df[\"pred\"], result_df[\"mt_freq\"]))\n",
    "\n",
    "print(spearmanr(processed_result_df[\"pred\"], processed_result_df[\"mt_freq\"]))\n",
    "print(pearsonr(processed_result_df[\"pred\"], processed_result_df[\"mt_freq\"]))"
   ]
  }
 ],
 "metadata": {
  "kernelspec": {
   "display_name": "hopper_esm_rives",
   "language": "python",
   "name": "python3"
  },
  "language_info": {
   "codemirror_mode": {
    "name": "ipython",
    "version": 3
   },
   "file_extension": ".py",
   "mimetype": "text/x-python",
   "name": "python",
   "nbconvert_exporter": "python",
   "pygments_lexer": "ipython3",
   "version": "3.8.6"
  },
  "orig_nbformat": 4,
  "vscode": {
   "interpreter": {
    "hash": "ad9819bde5c50645941078f3721b785ee2242a1cb0486d9231ff462b7f9a661d"
   }
  }
 },
 "nbformat": 4,
 "nbformat_minor": 2
}
