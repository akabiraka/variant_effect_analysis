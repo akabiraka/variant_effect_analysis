{
 "cells": [
  {
   "cell_type": "code",
   "execution_count": 2,
   "metadata": {},
   "outputs": [],
   "source": [
    "import os\n",
    "import sys\n",
    "home_dir = \"../../\"\n",
    "module_path = os.path.abspath(os.path.join(home_dir))\n",
    "if module_path not in sys.path:\n",
    "    sys.path.append(module_path)\n",
    "\n",
    "import pandas as pd"
   ]
  },
  {
   "cell_type": "code",
   "execution_count": 4,
   "metadata": {},
   "outputs": [
    {
     "name": "stdout",
     "output_type": "stream",
     "text": [
      "raw data: (6476, 15)\n",
      "Index(['clinvar_id', 'gene_symbol', 'gene_id', 'snp_id', 'chrom_acc_version',\n",
      "       'chrom_pos', 'ref_allele', 'alt_allele', 'prot_acc_version', 'prot_pos',\n",
      "       'wt', 'mut', 'class', 'seq_len', 'seq'],\n",
      "      dtype='object')\n",
      "\n",
      "Log: excluding variants corresponding to proteins having seq-len>1022 ...\n",
      "\n",
      "Log: Loading combined fasta iterator ...\n",
      "#-protein sequences (seq-len<=1022): 1434\n",
      "#-of rs-ids mapped to pathogenicity dataset:  331\n",
      "Likely-pathogenic    4168\n",
      "Pathogenic           2308\n",
      "Name: class, dtype: int64\n",
      "total: 6476\n",
      "Log: saving chromosomal variants...\n"
     ]
    }
   ],
   "source": [
    "# preprocessing for pathogenicity \n",
    "from models.aa_common.data_loader import get_patho_and_likelypatho_SNVs\n",
    "\n",
    "task = \"patho_and_likelypatho\"\n",
    "variants_df = get_patho_and_likelypatho_SNVs(home_dir)\n",
    "\n",
    "variants_df[\"chrom\"] = variants_df[\"chrom_acc_version\"].apply(lambda x: int(x[x.index(\"_\")+1:x.index(\".\")])) # taking only chromosom number for dbNSFP inputs\n",
    "variants_df.loc[variants_df[\"chrom\"]==23, \"chrom\"] = \"X\"\n",
    "variants_df.loc[variants_df[\"chrom\"]==24, \"chrom\"] = \"Y\"\n",
    "\n",
    "print(\"Log: saving chromosomal variants...\")\n",
    "variants_df[[\"chrom\", \"chrom_pos\", \"ref_allele\", \"alt_allele\"]].to_csv(home_dir+f\"models/dbnsfp/datasets/{task}.txt\", index=False, sep=\" \", header=False)"
   ]
  },
  {
   "cell_type": "code",
   "execution_count": null,
   "metadata": {},
   "outputs": [],
   "source": [
    "# preprocessing for popu-freq\n",
    "from models.aa_common.data_loader import get_population_freq_SNVs\n",
    "\n",
    "task = \"popu_freq\"\n",
    "variants_df = get_population_freq_SNVs(home_dir=home_dir)\n",
    "\n",
    "variants_df[\"chrom\"] = variants_df[\"chrom_acc_version\"].apply(lambda x: int(x[x.index(\"_\")+1:x.index(\".\")])) # taking only chromosom number for dbNSFP inputs\n",
    "variants_df.loc[variants_df[\"chrom\"]==23, \"chrom\"] = \"X\"\n",
    "variants_df.loc[variants_df[\"chrom\"]==24, \"chrom\"] = \"Y\"\n",
    "\n",
    "print(\"Log: saving chromosomal variants...\")\n",
    "variants_df[[\"chrom\", \"chrom_pos\", \"ref_allele\", \"alt_allele\"]].to_csv(home_dir+f\"models/dbnsfp/datasets/{task}.txt\", index=False, sep=\" \", header=False)\n"
   ]
  },
  {
   "cell_type": "code",
   "execution_count": null,
   "metadata": {},
   "outputs": [],
   "source": [
    "# preprocessing for pmd\n",
    "from models.aa_common.data_loader import get_pmd_dataset\n",
    "\n",
    "task=\"pmd\"\n",
    "variants_df = get_pmd_dataset(home_dir)\n",
    "\n",
    "variants_df = variants_df[~pd.isna(variants_df[\"chrom_pos\"])] # there are some rs-ids that does not have any data in dbSNP\n",
    "\n",
    "variants_df[\"chrom_pos\"] = variants_df[\"chrom_pos\"].apply(lambda x: str(int(x))) # taking only chromosom number for dbNSFP inputs\n",
    "variants_df.loc[variants_df[\"chrom\"]==23, \"chrom\"] = \"X\"\n",
    "variants_df.loc[variants_df[\"chrom\"]==24, \"chrom\"] = \"Y\"\n",
    "\n",
    "print(\"Log: saving chromosomal variants...\")\n",
    "variants_df[[\"chrom\", \"chrom_pos\", \"ref_allele\", \"alt_allele\"]].to_csv(home_dir+f\"models/dbnsfp/datasets/{task}.txt\", index=False, sep=\" \", header=False)\n"
   ]
  }
 ],
 "metadata": {
  "kernelspec": {
   "display_name": "hopper_variant_effect_analysis_mine",
   "language": "python",
   "name": "python3"
  },
  "language_info": {
   "codemirror_mode": {
    "name": "ipython",
    "version": 3
   },
   "file_extension": ".py",
   "mimetype": "text/x-python",
   "name": "python",
   "nbconvert_exporter": "python",
   "pygments_lexer": "ipython3",
   "version": "3.8.6"
  },
  "orig_nbformat": 4
 },
 "nbformat": 4,
 "nbformat_minor": 2
}
