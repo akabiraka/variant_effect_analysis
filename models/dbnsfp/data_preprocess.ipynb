{
 "cells": [
  {
   "cell_type": "code",
   "execution_count": 1,
   "metadata": {},
   "outputs": [],
   "source": [
    "import os\n",
    "import sys\n",
    "home_dir = \"../../\"\n",
    "module_path = os.path.abspath(os.path.join(home_dir))\n",
    "if module_path not in sys.path:\n",
    "    sys.path.append(module_path)\n",
    "\n",
    "import pandas as pd"
   ]
  },
  {
   "cell_type": "code",
   "execution_count": 4,
   "metadata": {},
   "outputs": [
    {
     "name": "stdout",
     "output_type": "stream",
     "text": [
      "raw data: (6476, 15)\n",
      "Index(['clinvar_id', 'gene_symbol', 'gene_id', 'snp_id', 'chrom_acc_version',\n",
      "       'chrom_pos', 'ref_allele', 'alt_allele', 'prot_acc_version', 'prot_pos',\n",
      "       'wt', 'mut', 'class', 'seq_len', 'seq'],\n",
      "      dtype='object')\n",
      "\n",
      "Log: excluding variants corresponding to proteins having seq-len>1022 ...\n",
      "\n",
      "Log: Loading combined fasta iterator ...\n",
      "#-protein sequences (seq-len<=1022): 1434\n",
      "#-of rs-ids mapped to pathogenicity dataset:  331\n",
      "Likely-pathogenic    4168\n",
      "Pathogenic           2308\n",
      "Name: class, dtype: int64\n",
      "total: 6476\n",
      "Log: saving chromosomal variants...\n"
     ]
    }
   ],
   "source": [
    "# preprocessing for pathogenicity \n",
    "from models.aa_common.data_loader import get_patho_and_likelypatho_SNVs\n",
    "\n",
    "task = \"patho_and_likelypatho\"\n",
    "variants_df = get_patho_and_likelypatho_SNVs(home_dir)\n",
    "\n",
    "variants_df[\"chrom\"] = variants_df[\"chrom_acc_version\"].apply(lambda x: int(x[x.index(\"_\")+1:x.index(\".\")])) # taking only chromosom number for dbNSFP inputs\n",
    "variants_df.loc[variants_df[\"chrom\"]==23, \"chrom\"] = \"X\"\n",
    "variants_df.loc[variants_df[\"chrom\"]==24, \"chrom\"] = \"Y\"\n",
    "\n",
    "print(\"Log: saving chromosomal variants...\")\n",
    "variants_df[[\"chrom\", \"chrom_pos\", \"ref_allele\", \"alt_allele\"]].to_csv(home_dir+f\"models/dbnsfp/datasets/{task}.txt\", index=False, sep=\" \", header=False)"
   ]
  },
  {
   "cell_type": "code",
   "execution_count": 7,
   "metadata": {},
   "outputs": [
    {
     "name": "stdout",
     "output_type": "stream",
     "text": [
      "\n",
      "Log: Loading data ...\n",
      "../../models/aa_common/datasets_population_freq/SNVs_with_popu_freq.tsv\n",
      "Index(['snp_id', 'chrom_acc_version', 'chrom_pos', 'ref_allele', 'alt_allele',\n",
      "       'prot_acc_version', 'prot_pos', 'wt', 'mut', 'wt_population',\n",
      "       'mut_poulation', 'wt_freq', 'mt_freq', 'class'],\n",
      "      dtype='object')\n",
      "Singleton     462444\n",
      "Ultra-rare    314013\n",
      "Rare           28622\n",
      "Common         18167\n",
      "Name: class, dtype: int64\n",
      "total:  (823246, 14)\n",
      "Log: saving chromosomal variants...\n"
     ]
    }
   ],
   "source": [
    "# preprocessing for popu-freq\n",
    "from models.aa_common.data_loader import get_population_freq_SNVs\n",
    "\n",
    "task = \"popu_freq\"\n",
    "variants_df = get_population_freq_SNVs(home_dir)\n",
    "\n",
    "variants_df[\"chrom\"] = variants_df[\"chrom_acc_version\"].apply(lambda x: int(x[x.index(\"_\")+1:x.index(\".\")])) # taking only chromosom number for dbNSFP inputs\n",
    "variants_df.loc[variants_df[\"chrom\"]==23, \"chrom\"] = \"X\"\n",
    "variants_df.loc[variants_df[\"chrom\"]==24, \"chrom\"] = \"Y\"\n",
    "\n",
    "print(\"Log: saving chromosomal variants...\")\n",
    "variants_df[[\"chrom\", \"chrom_pos\", \"ref_allele\", \"alt_allele\"]].to_csv(home_dir+f\"models/dbnsfp/datasets/{task}.txt\", index=False, sep=\" \", header=False)\n"
   ]
  },
  {
   "cell_type": "code",
   "execution_count": 3,
   "metadata": {},
   "outputs": [
    {
     "name": "stdout",
     "output_type": "stream",
     "text": [
      "\n",
      "Log: Loading Protein Mutation Dataset (PMD) ...\n",
      "Index(['mut_id', 'md5', 'pmd_id', 'nr', 'mut_real', 'chrom', 'chrom_pos',\n",
      "       'ref_allele', 'alt_allele', 'function', 'source', 'crossref', 'snp_id',\n",
      "       'CADD_raw', 'MetaRNN_score', 'MVP_score', 'Polyphen2_HVAR_score',\n",
      "       'REVEL_score', 'SIFT_score', 'integrated_fitCons_score',\n",
      "       'phyloP17way_primate', 'phastCons17way_primate', 'bStatistic', 'seq',\n",
      "       'wt', 'mut', 'prot_pos', 'function_summarized', 'functional_effect',\n",
      "       'pmd_nr_id'],\n",
      "      dtype='object')\n",
      "Effect       4633\n",
      "Knock-out    1981\n",
      "No-effect    1968\n",
      "Name: functional_effect, dtype: int64\n",
      "(8582, 30)\n",
      "Log: saving chromosomal variants...\n"
     ]
    }
   ],
   "source": [
    "# preprocessing for pmd\n",
    "from models.aa_common.data_loader import get_pmd_dataset\n",
    "\n",
    "task=\"pmd\"\n",
    "variants_df = get_pmd_dataset(home_dir)\n",
    "\n",
    "variants_df[\"chrom_pos\"] = variants_df[\"chrom_pos\"].apply(lambda x: str(int(x))) # taking only chromosom number for dbNSFP inputs\n",
    "variants_df.loc[variants_df[\"chrom\"]==23, \"chrom\"] = \"X\"\n",
    "variants_df.loc[variants_df[\"chrom\"]==24, \"chrom\"] = \"Y\"\n",
    "\n",
    "print(\"Log: saving chromosomal variants...\")\n",
    "variants_df[[\"chrom\", \"chrom_pos\", \"ref_allele\", \"alt_allele\"]].to_csv(home_dir+f\"models/dbnsfp/datasets/{task}.txt\", index=False, sep=\" \", header=False)"
   ]
  }
 ],
 "metadata": {
  "kernelspec": {
   "display_name": "hopper_variant_effect_analysis_mine",
   "language": "python",
   "name": "python3"
  },
  "language_info": {
   "codemirror_mode": {
    "name": "ipython",
    "version": 3
   },
   "file_extension": ".py",
   "mimetype": "text/x-python",
   "name": "python",
   "nbconvert_exporter": "python",
   "pygments_lexer": "ipython3",
   "version": "3.8.6"
  },
  "orig_nbformat": 4
 },
 "nbformat": 4,
 "nbformat_minor": 2
}
