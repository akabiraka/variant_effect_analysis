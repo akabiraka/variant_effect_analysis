{
 "cells": [
  {
   "cell_type": "code",
   "execution_count": 1,
   "metadata": {},
   "outputs": [],
   "source": [
    "import os\n",
    "import sys\n",
    "home_dir = \"../../\"\n",
    "module_path = os.path.abspath(os.path.join(home_dir))\n",
    "if module_path not in sys.path:\n",
    "    sys.path.append(module_path)\n",
    "\n",
    "import numpy as np\n",
    "import pandas as pd \n",
    "from models.aa_common.data_loader import get_population_freq_SNVs"
   ]
  },
  {
   "cell_type": "code",
   "execution_count": 2,
   "metadata": {},
   "outputs": [
    {
     "name": "stdout",
     "output_type": "stream",
     "text": [
      "\n",
      "Log: Loading data ...\n",
      "Index(['snp_id', 'chrom_acc_version', 'chrom_pos', 'ref_allele', 'alt_allele',\n",
      "       'prot_acc_version', 'prot_pos', 'wt', 'mut', 'wt_population',\n",
      "       'mut_poulation', 'wt_freq', 'mt_freq', 'class'],\n",
      "      dtype='object')\n",
      "Singleton     464584\n",
      "Ultra-rare    315753\n",
      "Rare           28778\n",
      "Common         18239\n",
      "Name: class, dtype: int64\n",
      "total:  (827354, 14)\n"
     ]
    }
   ],
   "source": [
    "task = \"popu_freq\"\n",
    "variants_df = get_population_freq_SNVs(home_dir)\n",
    "variants_df = variants_df[variants_df[\"class\"]!=\"Zero-population\"]"
   ]
  },
  {
   "cell_type": "code",
   "execution_count": 3,
   "metadata": {},
   "outputs": [
    {
     "name": "stderr",
     "output_type": "stream",
     "text": [
      "/tmp/ipykernel_3381455/1830391294.py:2: DtypeWarning: Columns (0,13,14) have mixed types. Specify dtype option on import or set low_memory=False.\n",
      "  pred_df = pd.read_csv(home_dir+f\"models/dbnsfp/dbnsfp_outputs/{task}.txt\", sep=\"\\t\")\n"
     ]
    },
    {
     "name": "stdout",
     "output_type": "stream",
     "text": [
      "Index(['chrom', 'chrom_pos', 'ref_allele', 'alt_allele', 'wt', 'mut',\n",
      "       'SIFT_score', 'Polyphen2_HVAR_score', 'MetaRNN_score', 'REVEL_score',\n",
      "       'MVP_score', 'CADD_raw_score', 'integrated_fitCons_score',\n",
      "       'phyloP17way_primate_score', 'phastCons17way_primate_score',\n",
      "       'bStatistic_score'],\n",
      "      dtype='object')\n",
      "(812612, 16)\n"
     ]
    },
    {
     "name": "stderr",
     "output_type": "stream",
     "text": [
      "/projects/ashehu/akabir4/venvs/hopper_variant_effect_analysis_mine/lib/python3.8/site-packages/numpy/core/fromnumeric.py:3464: RuntimeWarning: Mean of empty slice.\n",
      "  return _methods._mean(a, axis=axis, dtype=dtype,\n"
     ]
    },
    {
     "name": "stdout",
     "output_type": "stream",
     "text": [
      "#-of SNVs found from dbNSFP: 812612\n"
     ]
    }
   ],
   "source": [
    "# merging dbNSFP extracted scores with popu-freq dataset.\n",
    "pred_df = pd.read_csv(home_dir+f\"models/dbnsfp/dbnsfp_outputs/{task}.txt\", sep=\"\\t\")\n",
    "pred_df.drop_duplicates(keep=\"first\", inplace=True, ignore_index=True)\n",
    "pred_df.rename(columns={\"#chr\":\"chrom\", \"pos(1-based)\":\"chrom_pos\", \"ref\":\"ref_allele\", \"alt\":\"alt_allele\", 'aaref':\"wt\", 'aaalt':\"mut\", \n",
    "                        'CADD_raw': 'CADD_raw_score', 'phyloP17way_primate':'phyloP17way_primate_score', \n",
    "                        'phastCons17way_primate':'phastCons17way_primate_score', 'bStatistic':'bStatistic_score'}, inplace=True)\n",
    "\n",
    "pred_df.loc[pred_df[\"chrom\"]==\"X\", \"chrom\"] = 23\n",
    "pred_df.loc[pred_df[\"chrom\"]==\"Y\", \"chrom\"] = 24\n",
    "pred_df = pred_df.astype({'chrom': 'int64'}) # this line is mandatory\n",
    "\n",
    "print(pred_df.columns)\n",
    "print(pred_df.shape)\n",
    "\n",
    "# computing average scores for each method for each row\n",
    "def compute_avg(x):\n",
    "    x = str(x).split(\";\")\n",
    "    return np.mean([float(i) for i in x if i!=\".\"]) \n",
    "\n",
    "model_names = ['MetaRNN_score', 'MVP_score', 'SIFT_score', 'Polyphen2_HVAR_score', 'CADD_raw_score', 'REVEL_score', \n",
    "               'integrated_fitCons_score', 'phyloP17way_primate_score', 'phastCons17way_primate_score', 'bStatistic_score']\n",
    "for model_name in model_names:\n",
    "    model_scores = pred_df[model_name].apply(compute_avg) # can have multiple scores, ie '0.4573521;0.4573521;0.4573521;0.4573521'. taking the avg\n",
    "    pred_df[model_name] = model_scores\n",
    "\n",
    "\n",
    "print(f\"#-of SNVs found from dbNSFP: {pred_df.shape[0]}\")"
   ]
  },
  {
   "cell_type": "code",
   "execution_count": 4,
   "metadata": {},
   "outputs": [
    {
     "name": "stdout",
     "output_type": "stream",
     "text": [
      "Index(['snp_id', 'chrom_acc_version', 'chrom_pos', 'ref_allele', 'alt_allele',\n",
      "       'prot_acc_version', 'prot_pos', 'wt', 'mut', 'wt_population',\n",
      "       'mut_poulation', 'wt_freq', 'mt_freq', 'class', 'chrom', 'SIFT_score',\n",
      "       'Polyphen2_HVAR_score', 'MetaRNN_score', 'REVEL_score', 'MVP_score',\n",
      "       'CADD_raw_score', 'integrated_fitCons_score',\n",
      "       'phyloP17way_primate_score', 'phastCons17way_primate_score',\n",
      "       'bStatistic_score'],\n",
      "      dtype='object')\n",
      "(749548, 25)\n"
     ]
    },
    {
     "data": {
      "text/plain": [
       "Singleton     422813\n",
       "Ultra-rare    286752\n",
       "Rare           25554\n",
       "Common         14429\n",
       "Name: class, dtype: int64"
      ]
     },
     "execution_count": 4,
     "metadata": {},
     "output_type": "execute_result"
    }
   ],
   "source": [
    "# merging dbNSFP extracted scores with popu-freq dataset.\n",
    "variants_df[\"chrom\"] = variants_df[\"chrom_acc_version\"].apply(lambda x: int(x[x.index(\"_\")+1:x.index(\".\")])) # taking only chromosom number for dbNSFP inputs\n",
    "\n",
    "# using inner and wt, mut for merging for specifically protein mutation.\n",
    "result_df = pd.merge(variants_df, pred_df, how=\"inner\", on=[\"chrom\", \"chrom_pos\", \"ref_allele\", \"alt_allele\", \"wt\", \"mut\"])\n",
    "result_df = result_df.drop_duplicates(keep=\"first\")\n",
    "print(result_df.columns)\n",
    "print(result_df.shape)\n",
    "result_df[\"class\"].value_counts()"
   ]
  },
  {
   "cell_type": "code",
   "execution_count": 5,
   "metadata": {},
   "outputs": [],
   "source": [
    "result_df.to_csv(home_dir+f\"models/dbnsfp/postprocessed_outputs/{task}.tsv\", sep=\"\\t\", index=False)"
   ]
  },
  {
   "cell_type": "code",
   "execution_count": 6,
   "metadata": {},
   "outputs": [
    {
     "name": "stdout",
     "output_type": "stream",
     "text": [
      "\tCommon(6988)\tRare(10451)\tUltra-rare(15772)\tSingleton(15868)\t\n",
      "MetaRNN_score\t0/14429\t0/25554\t0/286752\t0/422813\t\n",
      "MVP_score\t11473/2956\t2090/23464\t2728/284024\t3274/419539\t\n",
      "SIFT_score\t1355/13074\t1834/23720\t12014/274738\t17224/405589\t\n",
      "Polyphen2_HVAR_score\t2042/12387\t2895/22659\t17669/269083\t25107/397706\t\n",
      "CADD_raw_score\t0/14429\t0/25554\t0/286752\t0/422813\t\n",
      "REVEL_score\t1399/13030\t1907/23647\t10789/275963\t15214/407599\t\n",
      "integrated_fitCons_score\t647/13782\t1079/24475\t8585/278167\t6677/416136\t\n",
      "phyloP17way_primate_score\t8/14421\t5/25549\t18/286734\t21/422792\t\n",
      "phastCons17way_primate_score\t8/14421\t5/25549\t18/286734\t21/422792\t\n",
      "bStatistic_score\t408/14021\t657/24897\t4788/281964\t6595/416218\t\n"
     ]
    }
   ],
   "source": [
    "def print_missing_things(x:pd.DataFrame):\n",
    "    model_names = ['MetaRNN_score', 'MVP_score', 'SIFT_score', 'Polyphen2_HVAR_score', 'CADD_raw_score', 'REVEL_score', \n",
    "                'integrated_fitCons_score', 'phyloP17way_primate_score', 'phastCons17way_primate_score', 'bStatistic_score']\n",
    "\n",
    "    # print(\"\", \"Common\", \"Rare\", \"Ultra-rare\", \"Singleton\", sep=\"\\t\")\n",
    "    print(\"\\t\", end=\"\")\n",
    "    for i, cls in enumerate([\"Common\", \"Rare\", \"Ultra-rare\", \"Singleton\"]):\n",
    "        prots = x[(x[\"class\"]==cls)][\"prot_acc_version\"].unique().shape[0]\n",
    "        print(f\"{cls}({prots})\", end=\"\\t\")\n",
    "    print()\n",
    "    for model_name in model_names:\n",
    "        print(model_name, end=\"\\t\")\n",
    "        for i, cls in enumerate([\"Common\", \"Rare\", \"Ultra-rare\", \"Singleton\"]):\n",
    "            missing = x[(x[\"class\"]==cls) & pd.isna(x[model_name])].shape[0]\n",
    "            not_missing = x[(x[\"class\"]==cls) & ~pd.isna(x[model_name])].shape[0]\n",
    "            total = x[(x[\"class\"]==cls)].shape[0]\n",
    "            \n",
    "            print(f\"{missing}/{not_missing}\", end=\"\\t\")\n",
    "            if i==3: print()\n",
    "\n",
    "print_missing_things(result_df)"
   ]
  }
 ],
 "metadata": {
  "kernelspec": {
   "display_name": "hopper_variant_effect_analysis_mine",
   "language": "python",
   "name": "python3"
  },
  "language_info": {
   "codemirror_mode": {
    "name": "ipython",
    "version": 3
   },
   "file_extension": ".py",
   "mimetype": "text/x-python",
   "name": "python",
   "nbconvert_exporter": "python",
   "pygments_lexer": "ipython3",
   "version": "3.8.6"
  },
  "orig_nbformat": 4
 },
 "nbformat": 4,
 "nbformat_minor": 2
}
