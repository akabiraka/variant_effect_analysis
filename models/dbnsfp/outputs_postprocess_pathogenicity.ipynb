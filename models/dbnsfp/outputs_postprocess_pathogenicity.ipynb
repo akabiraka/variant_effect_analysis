{
 "cells": [
  {
   "cell_type": "code",
   "execution_count": 1,
   "metadata": {},
   "outputs": [],
   "source": [
    "import os\n",
    "import sys\n",
    "home_dir = \"../../\"\n",
    "module_path = os.path.abspath(os.path.join(home_dir))\n",
    "if module_path not in sys.path:\n",
    "    sys.path.append(module_path)\n",
    "\n",
    "import os\n",
    "import numpy as np\n",
    "import pandas as pd\n",
    "from models.aa_common.data_loader import get_patho_and_likelypatho_SNVs"
   ]
  },
  {
   "cell_type": "code",
   "execution_count": 43,
   "metadata": {},
   "outputs": [
    {
     "name": "stdout",
     "output_type": "stream",
     "text": [
      "raw data: (6476, 15)\n",
      "Index(['clinvar_id', 'gene_symbol', 'gene_id', 'snp_id', 'chrom_acc_version',\n",
      "       'chrom_pos', 'ref_allele', 'alt_allele', 'prot_acc_version', 'prot_pos',\n",
      "       'wt', 'mut', 'class', 'seq_len', 'seq'],\n",
      "      dtype='object')\n",
      "\n",
      "Log: excluding variants corresponding to proteins having seq-len>1022 ...\n",
      "\n",
      "Log: Loading combined fasta iterator ...\n",
      "#-protein sequences (seq-len<=1022): 1434\n",
      "#-of rs-ids mapped to pathogenicity dataset:  331\n",
      "Likely-pathogenic    4168\n",
      "Pathogenic           2308\n",
      "Name: class, dtype: int64\n",
      "total: 6476\n"
     ]
    }
   ],
   "source": [
    "task = \"patho_and_likelypatho\"\n",
    "variants_df = get_patho_and_likelypatho_SNVs(home_dir)"
   ]
  },
  {
   "cell_type": "code",
   "execution_count": 44,
   "metadata": {},
   "outputs": [
    {
     "name": "stdout",
     "output_type": "stream",
     "text": [
      "Index(['chrom', 'chrom_pos', 'ref_allele', 'alt_allele', 'wt', 'mut',\n",
      "       'SIFT_score', 'Polyphen2_HVAR_score', 'MetaRNN_score', 'REVEL_score',\n",
      "       'MVP_score', 'CADD_raw_score', 'integrated_fitCons_score',\n",
      "       'phyloP17way_primate_score', 'phastCons17way_primate_score',\n",
      "       'bStatistic_score'],\n",
      "      dtype='object')\n",
      "(6574, 16)\n"
     ]
    },
    {
     "name": "stderr",
     "output_type": "stream",
     "text": [
      "/projects/ashehu/akabir4/venvs/hopper_variant_effect_analysis_mine/lib/python3.8/site-packages/numpy/core/fromnumeric.py:3464: RuntimeWarning: Mean of empty slice.\n",
      "  return _methods._mean(a, axis=axis, dtype=dtype,\n"
     ]
    },
    {
     "name": "stdout",
     "output_type": "stream",
     "text": [
      "#-of SNVs found from dbNSFP: 6574\n"
     ]
    }
   ],
   "source": [
    "# loading and cleaning patho predictions from dbnsfp\n",
    "pred_df = pd.read_csv(home_dir+\"models/dbnsfp/outputs/dbnsfp_outputs/patho_and_likelypatho_preds.txt\", sep=\"\\t\")\n",
    "pred_df.drop_duplicates(keep=\"first\", inplace=True, ignore_index=True)\n",
    "pred_df.rename(columns={\"#chr\":\"chrom\", \"pos(1-based)\":\"chrom_pos\", \"ref\":\"ref_allele\", \"alt\":\"alt_allele\", 'aaref':\"wt\", 'aaalt':\"mut\", \n",
    "                        'CADD_raw': 'CADD_raw_score', 'phyloP17way_primate':'phyloP17way_primate_score', \n",
    "                        'phastCons17way_primate':'phastCons17way_primate_score', 'bStatistic':'bStatistic_score'}, inplace=True)\n",
    "\n",
    "pred_df.loc[pred_df[\"chrom\"]==\"X\", \"chrom\"] = 23\n",
    "pred_df.loc[pred_df[\"chrom\"]==\"Y\", \"chrom\"] = 24\n",
    "pred_df = pred_df.astype({'chrom': 'int64'}) # this line is mandatory\n",
    "\n",
    "print(pred_df.columns)\n",
    "print(pred_df.shape)\n",
    "\n",
    "# computing average scores for each method for each row\n",
    "def compute_avg(x):\n",
    "    x = str(x).split(\";\")\n",
    "    return np.mean([float(i) for i in x if i!=\".\"]) \n",
    "\n",
    "model_names = ['MetaRNN_score', 'MVP_score', 'SIFT_score', 'Polyphen2_HVAR_score', 'CADD_raw_score', 'REVEL_score', \n",
    "               'integrated_fitCons_score', 'phyloP17way_primate_score', 'phastCons17way_primate_score', 'bStatistic_score']\n",
    "for model_name in model_names:\n",
    "    model_scores = pred_df[model_name].apply(compute_avg) # can have multiple scores, ie '0.4573521;0.4573521;0.4573521;0.4573521'. taking the avg\n",
    "    pred_df[model_name] = model_scores\n",
    "\n",
    "\n",
    "print(f\"#-of SNVs found from dbNSFP: {pred_df.shape[0]}\")\n",
    "\n",
    "# for a single chromosomal position, a model can have multiple outputs from dbnsfp, differing at amino acid mutation.\n",
    "# the following line is an example.\n",
    "# pred_df[pred_df[\"chrom_pos\"]==79211614]"
   ]
  },
  {
   "cell_type": "code",
   "execution_count": 45,
   "metadata": {},
   "outputs": [
    {
     "name": "stdout",
     "output_type": "stream",
     "text": [
      "Index(['clinvar_id', 'gene_symbol', 'gene_id', 'snp_id', 'chrom_acc_version',\n",
      "       'chrom_pos', 'ref_allele', 'alt_allele', 'prot_acc_version', 'prot_pos',\n",
      "       'wt', 'mut', 'class', 'seq_len', 'seq', 'chrom', 'SIFT_score',\n",
      "       'Polyphen2_HVAR_score', 'MetaRNN_score', 'REVEL_score', 'MVP_score',\n",
      "       'CADD_raw_score', 'integrated_fitCons_score',\n",
      "       'phyloP17way_primate_score', 'phastCons17way_primate_score',\n",
      "       'bStatistic_score'],\n",
      "      dtype='object')\n",
      "(6467, 26)\n"
     ]
    },
    {
     "data": {
      "text/plain": [
       "Likely-pathogenic    4162\n",
       "Pathogenic           2305\n",
       "Name: class, dtype: int64"
      ]
     },
     "execution_count": 45,
     "metadata": {},
     "output_type": "execute_result"
    }
   ],
   "source": [
    "# merging dbNSFP extracted scores with patho_and_likelypatho dataset.\n",
    "variants_df[\"chrom\"] = variants_df[\"chrom_acc_version\"].apply(lambda x: int(x[x.index(\"_\")+1:x.index(\".\")])) # taking only chromosom number for dbNSFP inputs\n",
    "\n",
    "# using inner and wt, mut for merging for specifically protein mutation.\n",
    "result_df = pd.merge(variants_df, pred_df, how=\"inner\", on=[\"chrom\", \"chrom_pos\", \"ref_allele\", \"alt_allele\", \"wt\", \"mut\"])\n",
    "result_df = result_df.drop_duplicates(keep=\"first\")\n",
    "print(result_df.columns)\n",
    "print(result_df.shape)\n",
    "result_df[\"class\"].value_counts()"
   ]
  },
  {
   "cell_type": "code",
   "execution_count": 46,
   "metadata": {},
   "outputs": [
    {
     "name": "stdout",
     "output_type": "stream",
     "text": [
      "\tMetaRNN_score: (0/6467)*100 = 0.0000\n",
      "\tMVP_score: (18/6467)*100 = 0.2783\n",
      "\tSIFT_score: (184/6467)*100 = 2.8452\n",
      "\tPolyphen2_HVAR_score: (273/6467)*100 = 4.2214\n",
      "\tCADD_raw_score: (0/6467)*100 = 0.0000\n",
      "\tREVEL_score: (87/6467)*100 = 1.3453\n",
      "\tintegrated_fitCons_score: (738/6467)*100 = 11.4118\n",
      "\tphyloP17way_primate_score: (0/6467)*100 = 0.0000\n",
      "\tphastCons17way_primate_score: (0/6467)*100 = 0.0000\n",
      "\tbStatistic_score: (111/6467)*100 = 1.7164\n"
     ]
    }
   ],
   "source": [
    "model_names = ['MetaRNN_score', 'MVP_score', 'SIFT_score', 'Polyphen2_HVAR_score', 'CADD_raw_score', 'REVEL_score', \n",
    "               'integrated_fitCons_score', 'phyloP17way_primate_score', 'phastCons17way_primate_score', 'bStatistic_score']\n",
    "for model_name in model_names:\n",
    "    missing, total = result_df[pd.isna(result_df[model_name])].shape[0], result_df.shape[0]\n",
    "    print(f\"\\t{model_name}: ({missing}/{total})*100 = {(missing / total) * 100:.4f}\")"
   ]
  },
  {
   "cell_type": "code",
   "execution_count": 50,
   "metadata": {},
   "outputs": [],
   "source": [
    "result_df.to_csv(home_dir+f\"models/dbnsfp/postprocessed_outputs/{task}.tsv\", sep=\"\\t\", index=False)"
   ]
  }
 ],
 "metadata": {
  "kernelspec": {
   "display_name": "hopper_variant_effect_analysis_mine",
   "language": "python",
   "name": "python3"
  },
  "language_info": {
   "codemirror_mode": {
    "name": "ipython",
    "version": 3
   },
   "file_extension": ".py",
   "mimetype": "text/x-python",
   "name": "python",
   "nbconvert_exporter": "python",
   "pygments_lexer": "ipython3",
   "version": "3.8.6"
  },
  "orig_nbformat": 4
 },
 "nbformat": 4,
 "nbformat_minor": 2
}
