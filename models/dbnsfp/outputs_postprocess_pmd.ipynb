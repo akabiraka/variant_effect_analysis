{
 "cells": [
  {
   "cell_type": "code",
   "execution_count": 1,
   "metadata": {},
   "outputs": [],
   "source": [
    "import os\n",
    "import sys\n",
    "home_dir = \"../../\"\n",
    "module_path = os.path.abspath(os.path.join(home_dir))\n",
    "if module_path not in sys.path:\n",
    "    sys.path.append(module_path)\n",
    "\n",
    "import numpy as np\n",
    "import pandas as pd\n",
    "from models.aa_common.data_loader import get_pmd_dataset"
   ]
  },
  {
   "cell_type": "code",
   "execution_count": 2,
   "metadata": {},
   "outputs": [
    {
     "name": "stdout",
     "output_type": "stream",
     "text": [
      "\n",
      "Log: Loading Protein Mutation Dataset (PMD) ...\n",
      "Index(['mut_id', 'md5', 'pmd_id', 'nr', 'mut_real', 'chrom', 'chrom_pos',\n",
      "       'ref_allele', 'alt_allele', 'function', 'source', 'crossref', 'snp_id',\n",
      "       'CADD_raw', 'MetaRNN_score', 'MVP_score', 'Polyphen2_HVAR_score',\n",
      "       'REVEL_score', 'SIFT_score', 'integrated_fitCons_score',\n",
      "       'phyloP17way_primate', 'phastCons17way_primate', 'bStatistic', 'seq',\n",
      "       'wt', 'mut', 'prot_pos', 'function_summarized', 'functional_effect',\n",
      "       'pmd_nr_id'],\n",
      "      dtype='object')\n",
      "Effect       4633\n",
      "Knock-out    1981\n",
      "No-effect    1968\n",
      "Name: functional_effect, dtype: int64\n",
      "(8582, 30)\n",
      "Index(['mut_id', 'md5', 'pmd_id', 'nr', 'prot_acc_version', 'snp_id',\n",
      "       'mut_real', 'wt', 'mut', 'prot_pos', 'chrom', 'chrom_pos', 'ref_allele',\n",
      "       'alt_allele', 'function', 'source', 'crossref', 'function_summarized',\n",
      "       'class', 'seq'],\n",
      "      dtype='object')\n",
      "Effect       4633\n",
      "Knock-out    1981\n",
      "No-effect    1968\n",
      "Name: class, dtype: int64\n",
      "(8582, 20)\n"
     ]
    }
   ],
   "source": [
    "task = \"pmd\"\n",
    "variants_df = get_pmd_dataset(home_dir)\n",
    "cols = ['mut_id', 'md5', 'pmd_id', 'nr', 'pmd_nr_id', 'snp_id', 'mut_real', 'wt', 'mut', 'prot_pos', \n",
    "        'chrom', 'chrom_pos','ref_allele', 'alt_allele', \n",
    "        'function', 'source', 'crossref', 'function_summarized', 'functional_effect', 'seq']\n",
    "variants_df = variants_df[cols]\n",
    "variants_df.rename(columns={'functional_effect': 'class', 'pmd_nr_id': 'prot_acc_version'}, inplace=True)\n",
    "\n",
    "print(variants_df.columns)\n",
    "print(variants_df[\"class\"].value_counts())\n",
    "print(variants_df.shape)"
   ]
  },
  {
   "cell_type": "code",
   "execution_count": 3,
   "metadata": {},
   "outputs": [
    {
     "name": "stdout",
     "output_type": "stream",
     "text": [
      "Index(['chrom', 'chrom_pos', 'ref_allele', 'alt_allele', 'wt', 'mut',\n",
      "       'SIFT_score', 'Polyphen2_HVAR_score', 'MetaRNN_score', 'REVEL_score',\n",
      "       'MVP_score', 'CADD_raw_score', 'integrated_fitCons_score',\n",
      "       'phyloP17way_primate_score', 'phastCons17way_primate_score',\n",
      "       'bStatistic_score'],\n",
      "      dtype='object')\n",
      "(6524, 16)\n"
     ]
    },
    {
     "name": "stderr",
     "output_type": "stream",
     "text": [
      "/projects/ashehu/akabir4/venvs/hopper_variant_effect_analysis_mine/lib/python3.8/site-packages/numpy/core/fromnumeric.py:3464: RuntimeWarning: Mean of empty slice.\n",
      "  return _methods._mean(a, axis=axis, dtype=dtype,\n"
     ]
    },
    {
     "name": "stdout",
     "output_type": "stream",
     "text": [
      "#-of SNVs found from dbNSFP: 6524\n"
     ]
    }
   ],
   "source": [
    "# loading and cleaning patho predictions from dbnsfp\n",
    "pred_df = pd.read_csv(home_dir+f\"models/dbnsfp/dbnsfp_outputs/{task}.txt\", sep=\"\\t\")\n",
    "pred_df.drop_duplicates(keep=\"first\", inplace=True, ignore_index=True)\n",
    "pred_df.rename(columns={\"#chr\":\"chrom\", \"pos(1-based)\":\"chrom_pos\", \"ref\":\"ref_allele\", \"alt\":\"alt_allele\", 'aaref':\"wt\", 'aaalt':\"mut\", \n",
    "                        'CADD_raw': 'CADD_raw_score', 'phyloP17way_primate':'phyloP17way_primate_score', \n",
    "                        'phastCons17way_primate':'phastCons17way_primate_score', 'bStatistic':'bStatistic_score'}, inplace=True)\n",
    "\n",
    "pred_df.loc[pred_df[\"chrom\"]==\"X\", \"chrom\"] = 23\n",
    "pred_df.loc[pred_df[\"chrom\"]==\"Y\", \"chrom\"] = 24\n",
    "# pred_df = pred_df.astype({'chrom': 'int64'}) # this line is mandatory\n",
    "\n",
    "print(pred_df.columns)\n",
    "print(pred_df.shape)\n",
    "\n",
    "\n",
    "# computing average scores for each method for each row\n",
    "def compute_avg(x):\n",
    "    x = str(x).split(\";\")\n",
    "    return np.mean([float(i) for i in x if i!=\".\"]) \n",
    "\n",
    "model_names = ['MetaRNN_score', 'MVP_score', 'SIFT_score', 'Polyphen2_HVAR_score', 'CADD_raw_score', 'REVEL_score', \n",
    "               'integrated_fitCons_score', 'phyloP17way_primate_score', 'phastCons17way_primate_score', 'bStatistic_score']\n",
    "for model_name in model_names:\n",
    "    model_scores = pred_df[model_name].apply(compute_avg) # can have multiple scores, ie '0.4573521;0.4573521;0.4573521;0.4573521'. taking the avg\n",
    "    pred_df[model_name] = model_scores\n",
    "\n",
    "\n",
    "print(f\"#-of SNVs found from dbNSFP: {pred_df.shape[0]}\")"
   ]
  },
  {
   "cell_type": "code",
   "execution_count": 4,
   "metadata": {},
   "outputs": [
    {
     "name": "stdout",
     "output_type": "stream",
     "text": [
      "Index(['mut_id', 'md5', 'pmd_id', 'nr', 'prot_acc_version', 'snp_id',\n",
      "       'mut_real', 'wt', 'mut', 'prot_pos', 'chrom', 'chrom_pos', 'ref_allele',\n",
      "       'alt_allele', 'function', 'source', 'crossref', 'function_summarized',\n",
      "       'class', 'seq', 'SIFT_score', 'Polyphen2_HVAR_score', 'MetaRNN_score',\n",
      "       'REVEL_score', 'MVP_score', 'CADD_raw_score',\n",
      "       'integrated_fitCons_score', 'phyloP17way_primate_score',\n",
      "       'phastCons17way_primate_score', 'bStatistic_score'],\n",
      "      dtype='object')\n",
      "(7179, 30)\n"
     ]
    },
    {
     "data": {
      "text/plain": [
       "Effect       3818\n",
       "No-effect    1777\n",
       "Knock-out    1584\n",
       "Name: class, dtype: int64"
      ]
     },
     "execution_count": 4,
     "metadata": {},
     "output_type": "execute_result"
    }
   ],
   "source": [
    "# merging dbNSFP extracted scores with pmd dataset.\n",
    "# using inner and wt, mut for merging for specifically protein mutation.\n",
    "result_df = pd.merge(variants_df, pred_df, how=\"inner\", on=[\"chrom\", \"chrom_pos\", \"ref_allele\", \"alt_allele\", \"wt\", \"mut\"])\n",
    "result_df.drop_duplicates(keep=\"first\", inplace=True, ignore_index=True)\n",
    "print(result_df.columns)\n",
    "print(result_df.shape)\n",
    "result_df[\"class\"].value_counts()"
   ]
  },
  {
   "cell_type": "code",
   "execution_count": 5,
   "metadata": {},
   "outputs": [],
   "source": [
    "result_df.to_csv(home_dir+f\"models/dbnsfp/postprocessed_outputs/{task}.tsv\", sep=\"\\t\", index=False)"
   ]
  },
  {
   "cell_type": "code",
   "execution_count": 6,
   "metadata": {},
   "outputs": [
    {
     "name": "stdout",
     "output_type": "stream",
     "text": [
      "#-of sequences 2056\n"
     ]
    }
   ],
   "source": [
    "# this copy is saving for running the other methods.\n",
    "out_filepath = home_dir+f\"models/aa_common/datasets_pmd_analysis/{task}_dbnsfp\"\n",
    "\n",
    "# Creating merged fasta document ...\n",
    "sequences_df = result_df[['prot_acc_version', 'crossref', 'seq']].drop_duplicates(keep=\"first\")\n",
    "print(\"#-of sequences\", sequences_df.shape[0])\n",
    "\n",
    "out_fasta_filepath = out_filepath+\".fasta\"\n",
    "out_fasta_file_handle = open(out_fasta_filepath, \"w\")\n",
    "\n",
    "for tuple in sequences_df.itertuples():\n",
    "    out_fasta_file_handle.write(f\">{tuple.prot_acc_version} | {tuple.crossref}\\n\")\n",
    "    out_fasta_file_handle.write(f\"{tuple.seq}\\n\")\n",
    "    # break\n",
    "out_fasta_file_handle.close() \n",
    "\n",
    "result_df.drop(columns=[\"seq\"], inplace=True)\n",
    "result_df.to_csv(out_filepath+\".tsv\", sep=\"\\t\", index=False)"
   ]
  },
  {
   "cell_type": "code",
   "execution_count": 7,
   "metadata": {},
   "outputs": [
    {
     "name": "stdout",
     "output_type": "stream",
     "text": [
      "\tMetaRNN_score: (3/7179)*100 = 0.0418\n",
      "\tMVP_score: (129/7179)*100 = 1.7969\n",
      "\tSIFT_score: (169/7179)*100 = 2.3541\n",
      "\tPolyphen2_HVAR_score: (145/7179)*100 = 2.0198\n",
      "\tCADD_raw_score: (3/7179)*100 = 0.0418\n",
      "\tREVEL_score: (40/7179)*100 = 0.5572\n",
      "\tintegrated_fitCons_score: (6/7179)*100 = 0.0836\n",
      "\tphyloP17way_primate_score: (0/7179)*100 = 0.0000\n",
      "\tphastCons17way_primate_score: (0/7179)*100 = 0.0000\n",
      "\tbStatistic_score: (42/7179)*100 = 0.5850\n",
      "Index(['mut_id', 'md5', 'pmd_id', 'nr', 'prot_acc_version', 'snp_id',\n",
      "       'mut_real', 'wt', 'mut', 'prot_pos', 'chrom', 'chrom_pos', 'ref_allele',\n",
      "       'alt_allele', 'function', 'source', 'crossref', 'function_summarized',\n",
      "       'class', 'SIFT_score', 'Polyphen2_HVAR_score', 'MetaRNN_score',\n",
      "       'REVEL_score', 'MVP_score', 'CADD_raw_score',\n",
      "       'integrated_fitCons_score', 'phyloP17way_primate_score',\n",
      "       'phastCons17way_primate_score', 'bStatistic_score'],\n",
      "      dtype='object')\n",
      "Effect       3818\n",
      "No-effect    1777\n",
      "Knock-out    1584\n",
      "Name: class, dtype: int64\n",
      "(7179, 29)\n"
     ]
    },
    {
     "data": {
      "text/plain": [
       "(2056,)"
      ]
     },
     "execution_count": 7,
     "metadata": {},
     "output_type": "execute_result"
    }
   ],
   "source": [
    "model_names = ['MetaRNN_score', 'MVP_score', 'SIFT_score', 'Polyphen2_HVAR_score', 'CADD_raw_score', 'REVEL_score', \n",
    "               'integrated_fitCons_score', 'phyloP17way_primate_score', 'phastCons17way_primate_score', 'bStatistic_score']\n",
    "for model_name in model_names:\n",
    "    missing, total = result_df[pd.isna(result_df[model_name])].shape[0], result_df.shape[0]\n",
    "    print(f\"\\t{model_name}: ({missing}/{total})*100 = {(missing / total) * 100:.4f}\")\n",
    "\n",
    "print(result_df.columns)\n",
    "print(result_df[\"class\"].value_counts())\n",
    "print(result_df.shape)\n",
    "result_df[\"prot_acc_version\"].unique().shape"
   ]
  }
 ],
 "metadata": {
  "kernelspec": {
   "display_name": "hopper_variant_effect_analysis_mine",
   "language": "python",
   "name": "python3"
  },
  "language_info": {
   "codemirror_mode": {
    "name": "ipython",
    "version": 3
   },
   "file_extension": ".py",
   "mimetype": "text/x-python",
   "name": "python",
   "nbconvert_exporter": "python",
   "pygments_lexer": "ipython3",
   "version": "3.8.6"
  },
  "orig_nbformat": 4
 },
 "nbformat": 4,
 "nbformat_minor": 2
}
