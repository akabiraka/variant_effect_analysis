{
 "cells": [
  {
   "cell_type": "code",
   "execution_count": 5,
   "metadata": {},
   "outputs": [],
   "source": [
    "import os\n",
    "import sys\n",
    "home_dir = \"../../\"\n",
    "module_path = os.path.abspath(os.path.join(home_dir))\n",
    "if module_path not in sys.path:\n",
    "    sys.path.append(module_path)\n",
    "\n",
    "import numpy as np\n",
    "import pandas as pd\n",
    "from models.aa_common.data_loader import get_pmd_dataset"
   ]
  },
  {
   "cell_type": "code",
   "execution_count": 6,
   "metadata": {},
   "outputs": [
    {
     "name": "stdout",
     "output_type": "stream",
     "text": [
      "\n",
      "Log: Loading Protein Mutation Dataset (PMD) ...\n",
      "Index(['mut_id', 'md5', 'pmd_id', 'nr', 'mut_real', 'chrom', 'chrom_pos',\n",
      "       'ref_allele', 'alt_allele', 'function', 'source', 'crossref', 'snp_id',\n",
      "       'CADD_raw', 'MetaRNN_score', 'MVP_score', 'Polyphen2_HVAR_score',\n",
      "       'REVEL_score', 'SIFT_score', 'integrated_fitCons_score',\n",
      "       'phyloP17way_primate', 'phastCons17way_primate', 'bStatistic', 'seq',\n",
      "       'wt', 'mut', 'prot_pos', 'function_summarized', 'functional_effect',\n",
      "       'pmd_nr_id'],\n",
      "      dtype='object')\n",
      "Effect       4633\n",
      "Knock-out    1981\n",
      "No-effect    1968\n",
      "Name: functional_effect, dtype: int64\n",
      "(8582, 30)\n"
     ]
    }
   ],
   "source": [
    "task = \"pmd\"\n",
    "variants_df = get_pmd_dataset(home_dir)"
   ]
  },
  {
   "cell_type": "code",
   "execution_count": null,
   "metadata": {},
   "outputs": [],
   "source": [
    "# loading and cleaning patho predictions from dbnsfp\n",
    "pred_df = pd.read_csv(home_dir+f\"models/dbnsfp/dbnsfp_outputs/{task}.txt\", sep=\"\\t\")\n",
    "pred_df.drop_duplicates(keep=\"first\", inplace=True, ignore_index=True)\n",
    "pred_df.rename(columns={\"#chr\":\"chrom\", \"pos(1-based)\":\"chrom_pos\", \"ref\":\"ref_allele\", \"alt\":\"alt_allele\", 'aaref':\"wt\", 'aaalt':\"mut\", \n",
    "                        'CADD_raw': 'CADD_raw_score', 'phyloP17way_primate':'phyloP17way_primate_score', \n",
    "                        'phastCons17way_primate':'phastCons17way_primate_score', 'bStatistic':'bStatistic_score'}, inplace=True)\n",
    "\n",
    "pred_df.loc[pred_df[\"chrom\"]==\"X\", \"chrom\"] = 23\n",
    "pred_df.loc[pred_df[\"chrom\"]==\"Y\", \"chrom\"] = 24\n",
    "pred_df = pred_df.astype({'chrom': 'int64'}) # this line is mandatory\n",
    "\n",
    "print(pred_df.columns)\n",
    "print(pred_df.shape)\n",
    "\n",
    "\n",
    "# computing average scores for each method for each row\n",
    "def compute_avg(x):\n",
    "    x = str(x).split(\";\")\n",
    "    return np.mean([float(i) for i in x if i!=\".\"]) \n",
    "\n",
    "model_names = ['MetaRNN_score', 'MVP_score', 'SIFT_score', 'Polyphen2_HVAR_score', 'CADD_raw_score', 'REVEL_score', \n",
    "               'integrated_fitCons_score', 'phyloP17way_primate_score', 'phastCons17way_primate_score', 'bStatistic_score']\n",
    "for model_name in model_names:\n",
    "    model_scores = pred_df[model_name].apply(compute_avg) # can have multiple scores, ie '0.4573521;0.4573521;0.4573521;0.4573521'. taking the avg\n",
    "    pred_df[model_name] = model_scores\n",
    "\n",
    "\n",
    "print(f\"#-of SNVs found from dbNSFP: {pred_df.shape[0]}\")"
   ]
  },
  {
   "cell_type": "code",
   "execution_count": null,
   "metadata": {},
   "outputs": [],
   "source": [
    "# merging dbNSFP extracted scores with pmd dataset.\n",
    "variants_df[\"chrom\"] = variants_df[\"chrom_acc_version\"].apply(lambda x: int(x[x.index(\"_\")+1:x.index(\".\")])) # taking only chromosom number for dbNSFP inputs\n",
    "\n",
    "# using inner and wt, mut for merging for specifically protein mutation.\n",
    "result_df = pd.merge(variants_df, pred_df, how=\"inner\", on=[\"chrom\", \"chrom_pos\", \"ref_allele\", \"alt_allele\", \"wt\", \"mut\"])\n",
    "result_df = result_df.drop_duplicates(keep=\"first\")\n",
    "print(result_df.columns)\n",
    "print(result_df.shape)\n",
    "result_df[\"class\"].value_counts()"
   ]
  },
  {
   "cell_type": "code",
   "execution_count": null,
   "metadata": {},
   "outputs": [],
   "source": [
    "result_df.to_csv(home_dir+f\"models/dbnsfp/postprocessed_outputs/{task}.tsv\", sep=\"\\t\", index=False)"
   ]
  },
  {
   "cell_type": "code",
   "execution_count": null,
   "metadata": {},
   "outputs": [],
   "source": [
    "# this copy is saving for running the other methods.\n",
    "out_filepath = home_dir+f\"models/aa_common/datasets_pathogenicity/{task}_dbnsfp_preds\"\n",
    "result_df.to_csv(out_filepath+\".tsv\", sep=\"\\t\", index=False)\n",
    "# result_df = pd.read_csv(out_filepath+\".tsv\", sep=\"\\t\")\n",
    "\n",
    "# Creating merged fasta document ...\n",
    "protein_acc_list = list(result_df[\"prot_acc_version\"].unique())\n",
    "print(len(protein_acc_list))\n",
    "from utils.ncbi_proteins import create_combined_fasta\n",
    "create_combined_fasta(protein_acc_list, out_filepath+\".fasta\", home_dir)"
   ]
  },
  {
   "cell_type": "code",
   "execution_count": null,
   "metadata": {},
   "outputs": [],
   "source": [
    "model_names = ['MetaRNN_score', 'MVP_score', 'SIFT_score', 'Polyphen2_HVAR_score', 'CADD_raw_score', 'REVEL_score', \n",
    "               'integrated_fitCons_score', 'phyloP17way_primate_score', 'phastCons17way_primate_score', 'bStatistic_score']\n",
    "for model_name in model_names:\n",
    "    missing, total = result_df[pd.isna(result_df[model_name])].shape[0], result_df.shape[0]\n",
    "    print(f\"\\t{model_name}: ({missing}/{total})*100 = {(missing / total) * 100:.4f}\")"
   ]
  }
 ],
 "metadata": {
  "kernelspec": {
   "display_name": "hopper_variant_effect_analysis_mine",
   "language": "python",
   "name": "python3"
  },
  "language_info": {
   "codemirror_mode": {
    "name": "ipython",
    "version": 3
   },
   "file_extension": ".py",
   "mimetype": "text/x-python",
   "name": "python",
   "nbconvert_exporter": "python",
   "pygments_lexer": "ipython3",
   "version": "3.8.6"
  },
  "orig_nbformat": 4
 },
 "nbformat": 4,
 "nbformat_minor": 2
}
