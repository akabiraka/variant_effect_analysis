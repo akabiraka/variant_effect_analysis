{
 "cells": [
  {
   "cell_type": "code",
   "execution_count": 41,
   "metadata": {},
   "outputs": [],
   "source": [
    "import os\n",
    "import sys\n",
    "module_path = os.path.abspath(os.path.join('..'))\n",
    "if module_path not in sys.path:\n",
    "    sys.path.append(module_path)\n",
    "home_dir = \"../\"\n",
    "\n",
    "import pandas as pd\n",
    "from utils.column_names_reader import get_col_names\n",
    "from joblib import delayed, Parallel"
   ]
  },
  {
   "cell_type": "code",
   "execution_count": 46,
   "metadata": {},
   "outputs": [],
   "source": [
    "inp_filepath = home_dir + f\"data/dbnsfp/dbNSFP43a/dbNSFP4.3a_variant.chr1.gz\"\n",
    "col_names = get_col_names(inp_filepath, \"#chr\") # see columns description in the dbNSFP4.3a.readme.txt file\n",
    "dbnsfp_iterator = pd.read_csv(inp_filepath, compression='gzip', comment='#', chunksize=100000, delim_whitespace=False, sep=\"\\t\", header=None, names=col_names, low_memory=False)\n",
    "# df = dbnsfp_iterator.__next__()\n",
    "# print(df.shape)\n",
    "\n",
    "# columns = ['chr', 'pos(1-based)', 'ref', 'alt', 'aaref', 'aaalt', 'rs_dbSNP', 'hg19_chr', 'hg19_pos(1-based)', 'hg18_chr', 'hg18_pos(1-based)', 'aapos', 'genename', 'Ensembl_geneid', 'Ensembl_transcriptid', 'Ensembl_proteinid', 'Uniprot_acc', 'Uniprot_entry']\n",
    "# mask = (df[\"aapos\"]!=\".\") & (df[\"aapos\"]!=-1) & (df[\"aaref\"]!=\".\") & (df[\"aaalt\"]!=\".\") & (df[\"aaref\"]!=df[\"aaalt\"])\n",
    "\n",
    "# df[mask][columns]"
   ]
  },
  {
   "cell_type": "code",
   "execution_count": 50,
   "metadata": {},
   "outputs": [
    {
     "name": "stderr",
     "output_type": "stream",
     "text": [
      "[Parallel(n_jobs=41)]: Using backend LokyBackend with 41 concurrent workers.\n"
     ]
    },
    {
     "name": "stdout",
     "output_type": "stream",
     "text": [
      "0 (100000, 643) (96892, 643)\n"
     ]
    },
    {
     "name": "stderr",
     "output_type": "stream",
     "text": [
      "/projects/ashehu/akabir4/venvs/hopper_variant_effect_analysis_mine/lib/python3.8/site-packages/joblib/externals/loky/process_executor.py:700: UserWarning: A worker stopped while some jobs were given to the executor. This can be caused by a too short worker timeout or by a memory leak.\n",
      "  warnings.warn(\n"
     ]
    },
    {
     "name": "stdout",
     "output_type": "stream",
     "text": [
      "1 (100000, 643) (97069, 643)\n",
      "2 (100000, 643) (96646, 643)\n",
      "3 (100000, 643) (97162, 643)\n",
      "4 (100000, 643) (96991, 643)\n",
      "5 (100000, 643) (97636, 643)\n",
      "6 (100000, 643) (97426, 643)\n",
      "7 (100000, 643) (96484, 643)\n",
      "8 (100000, 643) (97477, 643)\n",
      "9 (100000, 643) (97864, 643)\n",
      "10 (100000, 643) (97156, 643)\n",
      "11 (100000, 643) (97966, 643)\n",
      "12 (100000, 643) (97360, 643)\n",
      "13 (100000, 643) (97591, 643)\n",
      "14 (100000, 643) (96844, 643)\n",
      "15 (100000, 643) (96994, 643)\n",
      "16 (100000, 643) (97069, 643)\n",
      "17 (100000, 643) (96982, 643)\n",
      "18 (100000, 643) (96904, 643)\n",
      "19 (100000, 643) (96913, 643)\n",
      "20 (100000, 643) (97051, 643)\n",
      "21 (100000, 643) (96886, 643)\n",
      "22 (100000, 643) (97306, 643)\n",
      "23 (100000, 643) (96844, 643)\n",
      "24 (100000, 643) (96739, 643)\n",
      "25 (100000, 643) (97909, 643)\n",
      "26 (100000, 643) (97102, 643)\n",
      "27 (100000, 643) (96832, 643)\n",
      "28 (100000, 643) (96592, 643)\n",
      "29 (100000, 643) (96970, 643)\n",
      "30 (100000, 643) (97606, 643)\n",
      "31 (100000, 643) (97171, 643)\n",
      "32 (100000, 643) (97168, 643)\n",
      "33 (100000, 643) (97498, 643)\n",
      "34 (100000, 643) (97138, 643)\n",
      "35 (100000, 643) (96658, 643)\n",
      "36 (100000, 643) (97147, 643)\n",
      "37 (100000, 643) (97018, 643)\n",
      "38 (100000, 643) (97018, 643)\n",
      "39 (100000, 643) (97837, 643)\n",
      "40 (100000, 643) (99916, 643)\n",
      "41 (100000, 643) (97000, 643)\n",
      "42 (100000, 643) (97120, 643)\n",
      "43 (100000, 643) (97462, 643)\n",
      "44 (100000, 643) (97312, 643)\n",
      "45 (100000, 643) (97264, 643)\n",
      "46 (100000, 643) (97864, 643)\n",
      "47 (100000, 643) (97324, 643)\n",
      "48 (100000, 643) (97072, 643)\n",
      "49 (100000, 643) (97231, 643)\n",
      "50 (100000, 643) (97342, 643)\n",
      "51 (100000, 643) (97324, 643)\n",
      "52 (100000, 643) (97444, 643)\n",
      "53 (100000, 643) (97240, 643)\n",
      "54 (100000, 643) (97573, 643)\n",
      "55 (100000, 643) (96952, 643)\n",
      "56 (100000, 643) (97108, 643)\n",
      "57 (100000, 643) (97570, 643)\n",
      "58 (100000, 643) (97456, 643)\n",
      "59 (100000, 643) (97234, 643)\n",
      "60 (100000, 643) (97255, 643)\n",
      "61 (100000, 643) (97408, 643)\n",
      "62 (100000, 643) (97201, 643)\n",
      "63 (100000, 643) (97384, 643)\n",
      "64 (100000, 643) (97697, 643)\n",
      "65 (100000, 643) (97077, 643)\n",
      "66 (100000, 643) (97600, 643)\n",
      "67 (100000, 643) (97033, 643)\n",
      "68 (100000, 643) (97726, 643)\n",
      "69 (100000, 643) (97534, 643)\n",
      "70 (100000, 643) (97930, 643)\n",
      "71 (100000, 643) (97066, 643)\n",
      "72 (100000, 643) (97009, 643)\n"
     ]
    },
    {
     "name": "stderr",
     "output_type": "stream",
     "text": [
      "[Parallel(n_jobs=41)]: Done  72 out of  76 | elapsed: 26.0min remaining:  1.4min\n"
     ]
    },
    {
     "name": "stdout",
     "output_type": "stream",
     "text": [
      "73 (100000, 643) (97420, 643)\n",
      "74 (100000, 643) (99454, 643)\n",
      "75 (38792, 643) (38540, 643)\n"
     ]
    },
    {
     "name": "stderr",
     "output_type": "stream",
     "text": [
      "[Parallel(n_jobs=41)]: Done  76 out of  76 | elapsed: 26.2min finished\n"
     ]
    },
    {
     "data": {
      "text/plain": [
       "(7336058, 643)"
      ]
     },
     "execution_count": 50,
     "metadata": {},
     "output_type": "execute_result"
    }
   ],
   "source": [
    "def filter(i, df):\n",
    "    mask = (df[\"aapos\"]!=\".\") & (df[\"aapos\"]!=-1) & (df[\"aaref\"]!=\".\") & (df[\"aaalt\"]!=\".\") & (df[\"aaref\"]!=df[\"aaalt\"])\n",
    "    filtered_df = df[mask]\n",
    "    print(i, df.shape, filtered_df.shape)\n",
    "\n",
    "    # # break \n",
    "    return filtered_df\n",
    "    # return i\n",
    "\n",
    "\n",
    "dfs = Parallel(n_jobs=41, verbose=1)(delayed(filter)(i, df) for i, df in enumerate(dbnsfp_iterator))\n",
    "# print(dfs)\n",
    "dbnsfp_df = pd.concat(dfs, ignore_index=True)\n",
    "dbnsfp_df.shape"
   ]
  }
 ],
 "metadata": {
  "kernelspec": {
   "display_name": "hopper_variant_effect_analysis_mine",
   "language": "python",
   "name": "python3"
  },
  "language_info": {
   "codemirror_mode": {
    "name": "ipython",
    "version": 3
   },
   "file_extension": ".py",
   "mimetype": "text/x-python",
   "name": "python",
   "nbconvert_exporter": "python",
   "pygments_lexer": "ipython3",
   "version": "3.8.6"
  },
  "orig_nbformat": 4
 },
 "nbformat": 4,
 "nbformat_minor": 2
}
