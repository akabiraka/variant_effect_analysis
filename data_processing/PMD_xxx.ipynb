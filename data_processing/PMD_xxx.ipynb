{
 "cells": [
  {
   "cell_type": "code",
   "execution_count": 1,
   "metadata": {},
   "outputs": [],
   "source": [
    "import os\n",
    "import sys\n",
    "home_dir = \"../\"\n",
    "module_path = os.path.abspath(os.path.join(home_dir))\n",
    "if module_path not in sys.path:\n",
    "    sys.path.append(module_path)\n",
    "\n",
    "import pandas as pd"
   ]
  },
  {
   "cell_type": "code",
   "execution_count": 24,
   "metadata": {},
   "outputs": [
    {
     "name": "stderr",
     "output_type": "stream",
     "text": [
      "/tmp/ipykernel_693436/3135948374.py:1: ParserWarning: Falling back to the 'python' engine because the 'c' engine does not support regex separators (separators > 1 char and different from '\\s+' are interpreted as regex); you can avoid this warning by specifying engine='python'.\n",
      "  dbSNP_df = pd.read_csv(home_dir+\"data/SNPdbe/SNPs_dbSNP.csv\", sep=\"\\t;\") # dbSNP: from SNPdbe\n"
     ]
    },
    {
     "name": "stdout",
     "output_type": "stream",
     "text": [
      "(1526352, 34)\n",
      "Index(['mut_id', 'build', 'assembly', 'verified', 'md5', 'taxid', 'snp_id',\n",
      "       'contig_acc', 'contig_ver', 'asn_from', 'asn_to', 'locus_id',\n",
      "       'locus_symbol', 'mrna_acc', 'mrna_ver', 'protein_acc', 'protein_ver',\n",
      "       'fxn_class', 'reading_frame', 'allele', 'mt', 'pos', 'ctg_id',\n",
      "       'mrna_pos', 'mrna_start', 'mrna_stop', 'codon', 'protRes', 'contig_gi',\n",
      "       'mrna_gi', 'mrna_orien', 'cp_mrna_ver', 'cp_mrna_gi', 'verComp'],\n",
      "      dtype='object')\n"
     ]
    },
    {
     "data": {
      "text/plain": [
       "mut_id             int64\n",
       "build             object\n",
       "assembly          object\n",
       "verified          object\n",
       "md5               object\n",
       "taxid             object\n",
       "snp_id           float64\n",
       "contig_acc        object\n",
       "contig_ver       float64\n",
       "asn_from         float64\n",
       "asn_to           float64\n",
       "locus_id         float64\n",
       "locus_symbol      object\n",
       "mrna_acc          object\n",
       "mrna_ver         float64\n",
       "protein_acc       object\n",
       "protein_ver      float64\n",
       "fxn_class        float64\n",
       "reading_frame    float64\n",
       "allele            object\n",
       "mt                object\n",
       "pos              float64\n",
       "ctg_id           float64\n",
       "mrna_pos          object\n",
       "mrna_start        object\n",
       "mrna_stop         object\n",
       "codon             object\n",
       "protRes           object\n",
       "contig_gi        float64\n",
       "mrna_gi          float64\n",
       "mrna_orien        object\n",
       "cp_mrna_ver       object\n",
       "cp_mrna_gi        object\n",
       "verComp           object\n",
       "dtype: object"
      ]
     },
     "execution_count": 24,
     "metadata": {},
     "output_type": "execute_result"
    }
   ],
   "source": [
    "dbSNP_df = pd.read_csv(home_dir+\"data/SNPdbe/SNPs_dbSNP.csv\", sep=\"\\t;\") # dbSNP: from SNPdbe\n",
    "dbSNP_df = dbSNP_df[(dbSNP_df[\"mut_id\"]!=\";\\\\N\") & (dbSNP_df[\"mut_id\"]!=\"\\\\N\")] # (1780330, 34)\n",
    "\n",
    "dbSNP_df = dbSNP_df.astype({'mut_id': 'int64'})\n",
    "print(dbSNP_df.shape) # (1526352, 34)\n",
    "print(dbSNP_df.columns)\n",
    "dbSNP_df.loc[0]\n",
    "dbSNP_df.dtypes"
   ]
  },
  {
   "cell_type": "code",
   "execution_count": 39,
   "metadata": {},
   "outputs": [
    {
     "name": "stderr",
     "output_type": "stream",
     "text": [
      "/tmp/ipykernel_693436/3923052288.py:1: ParserWarning: Falling back to the 'python' engine because the 'c' engine does not support regex separators (separators > 1 char and different from '\\s+' are interpreted as regex); you can avoid this warning by specifying engine='python'.\n",
      "  pmd_df = pd.read_csv(home_dir+\"data/SNPdbe/SNPs_PMD.csv\", sep=\"\\t;\") # PMD: from SNPdbe # (127565, 48)\n"
     ]
    },
    {
     "name": "stdout",
     "output_type": "stream",
     "text": [
      "(127565, 48)\n",
      "Index(['mut_id', 'md5', 'pmd_id', 'nr', 'authors', 'journal', 'title',\n",
      "       'medline', 'crossref', 'uniprot_id', 'ensembl_id', 'other_ref',\n",
      "       'protein', 'source', 'expression_sys', 'mut_PMD', 'mut_real',\n",
      "       'function', 'fb', 'structure', 'strB', 'stability', 'staB',\n",
      "       'expression', 'eB', 'transport', 'tB', 'maturation', 'mB', 'disease',\n",
      "       'dB', 'uni_real', 'uni_realid', 'uni_start', 'uni_finish', 'uniq_start',\n",
      "       'uniq_finish', 'uni_loc', 'ens_real', 'ens_organism', 'ens_start',\n",
      "       'ens_finish', 'ensq_start', 'ensq_finish', 'ens_loc', 'pos_real',\n",
      "       'mt_real', 'taxid'],\n",
      "      dtype='object')\n",
      "mut_id                                                       979745\n",
      "md5                                58a1d2028b314a699395f76d793f45bf\n",
      "pmd_id                                                      A000002\n",
      "nr                                                                1\n",
      "authors           Kimura-Someya T., Iwaki S., Konishi S., Tamura...\n",
      "journal                    J.Biol.Chem. (2000) 275(25), 18692-18697\n",
      "title             Cysteine-scanning mutagenesis around transmemb...\n",
      "medline                                                    10747900\n",
      "crossref                                                 TCR2_ECOLI\n",
      "uniprot_id                                                       \\N\n",
      "ensembl_id                                                       \\N\n",
      "other_ref                                                        \\N\n",
      "protein           Metal-tetracycline/H+ antiporter (TetA(B)); te...\n",
      "source                                             Escherichia coli\n",
      "expression_sys                                     Escherichia coli\n",
      "mut_PMD                                                 CYS 377 ALA\n",
      "mut_real                                                      C377A\n",
      "function                                                         \\N\n",
      "fb                                                               \\N\n",
      "structure                                                        \\N\n",
      "strB                                                             \\N\n",
      "stability                                                        \\N\n",
      "staB                                                             \\N\n",
      "expression                                                       \\N\n",
      "eB                                                               \\N\n",
      "transport                                                        \\N\n",
      "tB                                                               \\N\n",
      "maturation                                                       \\N\n",
      "mB                                                               \\N\n",
      "disease                                                          \\N\n",
      "dB                                                               \\N\n",
      "uni_real                                                 TCR2_ECOLX\n",
      "uni_realid                                                   P02980\n",
      "uni_start                                                         1\n",
      "uni_finish                                                      401\n",
      "uniq_start                                                        1\n",
      "uniq_finish                                                     401\n",
      "uni_loc                                                         377\n",
      "ens_real                                                         \\N\n",
      "ens_organism                                                     \\N\n",
      "ens_start                                                        \\N\n",
      "ens_finish                                                       \\N\n",
      "ensq_start                                                       \\N\n",
      "ensq_finish                                                      \\N\n",
      "ens_loc                                                          \\N\n",
      "pos_real                                                        376\n",
      "mt_real                                                           A\n",
      "taxid                                                           562\n",
      "Name: 0, dtype: object\n"
     ]
    },
    {
     "data": {
      "text/plain": [
       "mut_id             int64\n",
       "md5               object\n",
       "pmd_id            object\n",
       "nr                 int64\n",
       "authors           object\n",
       "journal           object\n",
       "title             object\n",
       "medline           object\n",
       "crossref          object\n",
       "uniprot_id        object\n",
       "ensembl_id        object\n",
       "other_ref         object\n",
       "protein           object\n",
       "source            object\n",
       "expression_sys    object\n",
       "mut_PMD           object\n",
       "mut_real          object\n",
       "function          object\n",
       "fb                object\n",
       "structure         object\n",
       "strB              object\n",
       "stability         object\n",
       "staB              object\n",
       "expression        object\n",
       "eB                object\n",
       "transport         object\n",
       "tB                object\n",
       "maturation        object\n",
       "mB                object\n",
       "disease           object\n",
       "dB                object\n",
       "uni_real          object\n",
       "uni_realid        object\n",
       "uni_start         object\n",
       "uni_finish        object\n",
       "uniq_start        object\n",
       "uniq_finish       object\n",
       "uni_loc           object\n",
       "ens_real          object\n",
       "ens_organism      object\n",
       "ens_start         object\n",
       "ens_finish        object\n",
       "ensq_start        object\n",
       "ensq_finish       object\n",
       "ens_loc           object\n",
       "pos_real           int64\n",
       "mt_real           object\n",
       "taxid             object\n",
       "dtype: object"
      ]
     },
     "execution_count": 39,
     "metadata": {},
     "output_type": "execute_result"
    }
   ],
   "source": [
    "pmd_df = pd.read_csv(home_dir+\"data/SNPdbe/SNPs_PMD.csv\", sep=\"\\t;\") # PMD: from SNPdbe # (127565, 48)\n",
    "# pmd_df = pd.read_csv(home_dir+\"data/pmd/dfSNP_PMD.csv\", sep=\",\") # PMD: from Dr. Praba (55465, 54)\n",
    "\n",
    "print(pmd_df.shape) \n",
    "print(pmd_df.columns)\n",
    "print(pmd_df.loc[0])\n",
    "pmd_df.dtypes"
   ]
  },
  {
   "cell_type": "code",
   "execution_count": 41,
   "metadata": {},
   "outputs": [
    {
     "name": "stdout",
     "output_type": "stream",
     "text": [
      "(9417, 81)\n"
     ]
    },
    {
     "data": {
      "text/plain": [
       "mut_id   md5_x                             pmd_id   nr  authors                                                                                                                                                           journal                                      title                                                                                                                                                        medline   crossref     uniprot_id  ensembl_id       other_ref  protein                                                                                          source  expression_sys                         mut_PMD       mut_real  function                                                                     fb  structure  strB  stability                                             staB  expression                               eB  transport                                     tB  maturation  mB  disease                                 dB  uni_real     uni_realid  uni_start  uni_finish  uniq_start  uniq_finish  uni_loc  ens_real         ens_organism  ens_start  ens_finish  ensq_start  ensq_finish  ens_loc  pos_real  mt_real  taxid_x  build  assembly  verified  md5_y                             taxid_y  snp_id       contig_acc  contig_ver  asn_from    asn_to      locus_id  locus_symbol  mrna_acc   mrna_ver  protein_acc  protein_ver  fxn_class  reading_frame  allele  mt  pos     ctg_id       mrna_pos  mrna_start  mrna_stop  codon  protRes  contig_gi    mrna_gi      mrna_orien  cp_mrna_ver  cp_mrna_gi  verComp\n",
       "112885   e51f09d10ed0afd9834de407a37e23e5  A010222  2   Shroyer N.F., Lewis R.A., Yatsenko A.N., Wensel T.G. & Lupski J.R.                                                                                                Hum.Mol.Genet. (2001) 10(23), 2671-2678      Cosegregation and functional analysis of mutant ABCR (ABCA4) alleles in families that manifest both Stargardt disease and age-related macular degeneration.  11726554  ABCA4_HUMAN  P78363      ENSP00000359245  \\N         ABCR (ABCA4) protein; retinal-specific ATP-binding cassette transporter                          Human   HEK 293T cells                         ILE 1562 THR  I1562T     Affinity for ATP [-]                                                        9   \\N         \\N    \\N                                                    \\N     /STABILITY Expression level [-]         9   \\N                                            \\N  \\N          \\N  \\N                                      \\N  ABCA4_HUMAN  P78363      1          2273        1           2273         1562     \\N               \\N            \\N         \\N          \\N          \\N           \\N       1561      T        9606     135    37_3      0         e51f09d10ed0afd9834de407a37e23e5  9606     1762111.0    NT_032977   9.0         64459407.0  64459407.0  24.0      ABCA4         NM_000350  2.0       NP_000341    2.0          42.0       2.0            C       T   1561.0  224514623.0  \\N        4788        4788       ACT    Thr      224514623.0  105990540.0  0           0            0           remap      1\n",
       "201035   50af548a1307fd8a78468fc5cb9e2a18  R920569  1   Janssen O.E., Bertenshaw R., Takeda K., Weiss R. & Refetoff S.                                                                                                    Trends Endocrinol.Metab. (1992) 3(2), 49-53  Molecular basis of inherited thyroxine-binding globulin defects.                                                                                             18407078  THBG_HUMAN   P05543      ENSP00000361644  \\N         T4-binding globulin (Thyroxine-binding globulin) #Length 395AAs (mature protein)                 Human   \\N                                     ILE 96 ASN    I116N      Thyroxine (T4)-bindig [- - -]: Anodal shift on isoelectric focusing (IEF).  3   \\N         \\N     Stability [- - -]                                    3      /TRAN SPORT Serum level of TBG [- - -]  3   \\N                                            \\N  \\N          \\N  \\N                                      \\N  THBG_HUMAN   P05543      1          415         1           415          96       ENSP00000361644  9606          1          415         1           415          96       115       N        9606     135    37_3      0         50af548a1307fd8a78468fc5cb9e2a18  9606     28933689.0   NT_011651   17.0        28577010.0  28577010.0  6906.0    SERPINA7      NM_000354  5.0       NP_000345    2.0          42.0       2.0            A       N   115.0   224514715.0  \\N        393         393        AAC    Asn      224514715.0  296010827.0  0           0            0           remap      1\n",
       "201034   50af548a1307fd8a78468fc5cb9e2a18  R920569  1   Janssen O.E., Bertenshaw R., Takeda K., Weiss R. & Refetoff S.                                                                                                    Trends Endocrinol.Metab. (1992) 3(2), 49-53  Molecular basis of inherited thyroxine-binding globulin defects.                                                                                             18407078  THBG_HUMAN   P05543      ENSP00000361644  \\N         T4-binding globulin (Thyroxine-binding globulin) #Length 395AAs (mature protein)                 Human   \\N                                     ALA 113 PRO   A133P      T4-bindig [-]: Cathodal shift on IEF.                                       9   \\N         \\N     Stability [- -]                                      6      /TRAN SPORT Serum level of TBG [- -]    6   \\N                                            \\N  \\N          \\N  \\N                                      \\N  THBG_HUMAN   P05543      1          415         1           415          113      ENSP00000361644  9606          1          415         1           415          113      132       P        9606     135    37_3      0         50af548a1307fd8a78468fc5cb9e2a18  9606     28933688.0   NT_011651   17.0        28576960.0  28576960.0  6906.0    SERPINA7      NM_000354  5.0       NP_000345    2.0          42.0       1.0            C       P   132.0   224514715.0  \\N        443         443        CCC    Pro      224514715.0  296010827.0  0           0            0           remap      1\n",
       "                                           A920570  1   Janssen O.E. & Refetoff S.                                                                                                                                        J.Biol.Chem. (1992) 267(20), 13998-14004     In vitro expression of thyroxine-binding globulin (TBG) variants. Impaired secretion of TBGPRO-227 but not TBGPRO- 113.                                      \\N        THBG_HUMAN   P05543      ENSP00000361644  \\N         T4-binding globulin (Thyroxine-binding globulin)                                                 Human   Reticulocyte lysates, Xenopus oocytes  ALA 113 PRO   A133P      Thyroxine (T4)-bindig [-]                                                   9   \\N         \\N     Heat stability [-]                                   9     \\N                                       \\N  \\N                                            \\N  \\N          \\N  \\N                                      \\N  THBG_HUMAN   P05543      1          415         1           415          113      ENSP00000361644  9606          1          415         1           415          113      132       P        9606     135    37_3      0         50af548a1307fd8a78468fc5cb9e2a18  9606     28933688.0   NT_011651   17.0        28576960.0  28576960.0  6906.0    SERPINA7      NM_000354  5.0       NP_000345    2.0          42.0       1.0            C       P   132.0   224514715.0  \\N        443         443        CCC    Pro      224514715.0  296010827.0  0           0            0           remap      1\n",
       "                                           A911368  1   Janssen O.E., Takeda K. & Refetoff S.                                                                                                                             Hum.Genet. (1991) 87(2), 119-122             Sequence of the variant thyroxine-binding globulin (TBG) in a Montreal family with partial TBG deficiency.                                                   1906047   THBG_HUMAN   P05543      ENSP00000361644  \\N         Thyroxine-binding globulin #Length 395AAs                                                        Human   \\N                                     ALA 113 PRO   A133P      Affinity for thyroxine [-]                                                  9   \\N         \\N     Susceptibility to inactivation by heat and acid [+]  13    \\N                                       \\N  \\N                                            \\N  \\N          \\N   Thyroxine-binding globulin deficiency  -1  THBG_HUMAN   P05543      1          415         1           415          113      ENSP00000361644  9606          1          415         1           415          113      132       P        9606     135    37_3      0         50af548a1307fd8a78468fc5cb9e2a18  9606     28933688.0   NT_011651   17.0        28576960.0  28576960.0  6906.0    SERPINA7      NM_000354  5.0       NP_000345    2.0          42.0       1.0            C       P   132.0   224514715.0  \\N        443         443        CCC    Pro      224514715.0  296010827.0  0           0            0           remap      1\n",
       "                                                                                                                                                                                                                                                                                                                                                                                                                                                                                                                                                                                                                                                                                                                                                                                                                                                                                                                                                                                                                                                                                                                                                                                                                                                                                                                                                                                                                                                                                                                                                                                                         ..\n",
       "163463   c5fd36f191f5a9de4a13f73167ded1e5  A012487  2   Lupoglazoff J.M., Denjoy I., Berthet M., Neyroud N., Demay L., Richard P., Hainque B., Vaksmann G., Klug D., Leenhardt A., Maillard G., Coumel P. & Guicheney P.  Circulation (2001) 103(8), 1095-1101         Notched T waves on Holter recordings enhance detection of patients with LQT2 (HERG) mutations.                                                               11222472  KCNQ1_HUMAN  P51787      ENSP00000155840  \\N         KCNQ1 protein; potassium voltage-gated channel subfamily KQT member 1                            Human   \\N                                     VAL 254 MET   V254M     \\N                                                                           \\N  \\N         \\N    \\N                                                    \\N    \\N                                       \\N  \\N                                            \\N  \\N          \\N   In long QT syndrome type 1 (LQT1)      -1  KCNQ1_HUMAN  P51787      1          676         1           676          254      \\N               \\N            \\N         \\N          \\N          \\N           \\N       253       M        9606     135    37_3      0         c5fd36f191f5a9de4a13f73167ded1e5  9606     120074179.0  NT_009237   18.0        2533318.0   2533318.0   3784.0    KCNQ1         NM_000218  2.0       NP_000209    2.0          42.0       1.0            A       M   253.0   224514737.0  \\N        867         867        ATG    Met      224514737.0  32479526.0   0           0            0           remap      1\n",
       "163462   c5fd36f191f5a9de4a13f73167ded1e5  A973113  1   Donger C., Denjoy I., Berthet M., Neyroud N., Cruaud C., Bennaceur M., Chivoret G., Schwartz K., Coumel P. & Guicheney P.                                         Circulation (1997) 96(9), 2778-2781          KVLQT1 C-terminal missense mutation causes a forme fruste long-QT syndrome.                                                                                  9386136   KCNQ1_HUMAN  P51787      ENSP00000155840  \\N         KVLQT1 protein; voltage-gated potassium channel protein KQT-like 1                               Human   \\N                                     ARG 190 GLN   R190Q     \\N                                                                           \\N  \\N         \\N    \\N                                                    \\N    \\N                                       \\N  \\N                                            \\N  \\N          \\N   In LQT1                                -1  KCNQ1_HUMAN  P51787      1          676         1           676          190      \\N               \\N            \\N         \\N          \\N          \\N           \\N       189       Q        9606     135    37_3      0         c5fd36f191f5a9de4a13f73167ded1e5  9606     120074178.0  NT_009237   18.0        2531948.0   2531948.0   3784.0    KCNQ1         NM_000218  2.0       NP_000209    2.0          42.0       2.0            A       Q   189.0   224514737.0  \\N        676         676        CAG    Gln      224514737.0  32479526.0   0           0            0           remap      1\n",
       "163456   c5fd36f191f5a9de4a13f73167ded1e5  A004663  1   Bianchi L., Priori S.G., Napolitano C., Surewicz K.A., Dennis A.T., Memmi M., Schwartz P.J. & Brown A.M.                                                          Am.J.Physiol.H (2000) 279(6), 3003-3011      Mechanisms of IKs suppression in LQT1 mutants.                                                                                                               11087258  KCNQ1_HUMAN  P51787      ENSP00000155840  \\N         Voltage-gated K+ channel subtype KvLQT1; potassium voltage-gated channel subfamily KQT member 1  Human   Xenopus oocytes                        TYR 315 CYS   Y315C      Channel function [0]: Dominant negative effects on WT function              0   \\N         \\N    \\N                                                    \\N    \\N                                       \\N   Able to be transported to the cell surface.  -1  \\N          \\N  \\N                                      \\N  KCNQ1_HUMAN  P51787      1          676         1           676          315      \\N               \\N            \\N         \\N          \\N          \\N           \\N       314       C        9606     135    37_3      0         c5fd36f191f5a9de4a13f73167ded1e5  9606     74462309.0   NT_009237   18.0        2544686.0   2544686.0   3784.0    KCNQ1         NM_000218  2.0       NP_000209    2.0          42.0       2.0            G       C   314.0   224514737.0  \\N        1051        1051       TGT    Cys      224514737.0  32479526.0   0           0            0           remap      1\n",
       "163447   c5fd36f191f5a9de4a13f73167ded1e5  A973113  1   Donger C., Denjoy I., Berthet M., Neyroud N., Cruaud C., Bennaceur M., Chivoret G., Schwartz K., Coumel P. & Guicheney P.                                         Circulation (1997) 96(9), 2778-2781          KVLQT1 C-terminal missense mutation causes a forme fruste long-QT syndrome.                                                                                  9386136   KCNQ1_HUMAN  P51787      ENSP00000155840  \\N         KVLQT1 protein; voltage-gated potassium channel protein KQT-like 1                               Human   \\N                                     ALA 341 VAL   A341V     \\N                                                                           \\N  \\N         \\N    \\N                                                    \\N    \\N                                       \\N  \\N                                            \\N  \\N          \\N   In LQT1                                -1  KCNQ1_HUMAN  P51787      1          676         1           676          341      \\N               \\N            \\N         \\N          \\N          \\N           \\N       340       V        9606     135    37_3      0         c5fd36f191f5a9de4a13f73167ded1e5  9606     12720459.0   NT_009237   18.0        2544764.0   2544764.0   3784.0    KCNQ1         NM_000218  2.0       NP_000209    2.0          42.0       2.0            T       V   340.0   224514737.0  \\N        1129        1129       GTG    Val      224514737.0  32479526.0   0           0            0           remap      1\n",
       "1075101  dda1bd805383b7040d6fcbe43dc4e26f  A994613  1   Wagner F.F., Gassner C., Muller T.H., Schonitzer D., Schunter F. & Flegel W.A.                                                                                    Blood. (1999) 93(1), 385-393                 Molecular basis of weak D phenotypes.                                                                                                                        9864185   RHD_HUMAN    Q02161      ENSP00000331871  \\N         RHD protein; blood group Rh(D) polypeptide                                                       Human   \\N                                     SER 3 CYS     S3C       \\N                                                                           \\N  \\N         \\N    \\N                                                    \\N    \\N                                       \\N  \\N                                            \\N  \\N          \\N  \\N                                      \\N  RHD_HUMAN    Q02161      1          417         1           417          3        \\N               \\N            \\N         \\N          \\N          \\N           \\N       2         C        9606     135    37_3      0         dda1bd805383b7040d6fcbe43dc4e26f  9606     144969459.0  NT_004610   19.0        12279133.0  12279133.0  6007.0    RHD           NM_016124  3.0       NP_057208    2.0          42.0       2.0            G       C   2.0     224514615.0  \\N        65          65         TGT    Cys      224514615.0  77157792.0   0           0            0           remap      1\n",
       "Length: 7874, dtype: int64"
      ]
     },
     "execution_count": 41,
     "metadata": {},
     "output_type": "execute_result"
    }
   ],
   "source": [
    "# dbSNP_df\n",
    "merged_df = pd.merge(left=pmd_df, right=dbSNP_df, how=\"inner\", on=\"mut_id\")\n",
    "print(merged_df.shape)\n",
    "# merged_df[\"functional_effect\"].value_counts()\n",
    "merged_df.value_counts()"
   ]
  }
 ],
 "metadata": {
  "kernelspec": {
   "display_name": "hopper_variant_effect_analysis_mine",
   "language": "python",
   "name": "python3"
  },
  "language_info": {
   "codemirror_mode": {
    "name": "ipython",
    "version": 3
   },
   "file_extension": ".py",
   "mimetype": "text/x-python",
   "name": "python",
   "nbconvert_exporter": "python",
   "pygments_lexer": "ipython3",
   "version": "3.8.6"
  },
  "orig_nbformat": 4
 },
 "nbformat": 4,
 "nbformat_minor": 2
}
