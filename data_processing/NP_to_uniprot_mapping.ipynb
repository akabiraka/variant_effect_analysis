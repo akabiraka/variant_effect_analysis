{
 "cells": [
  {
   "cell_type": "code",
   "execution_count": 1,
   "metadata": {},
   "outputs": [],
   "source": [
    "import os\n",
    "import sys\n",
    "module_path = os.path.abspath(os.path.join('..'))\n",
    "if module_path not in sys.path:\n",
    "    sys.path.append(module_path)\n",
    "home_dir = \"../\"\n",
    "\n",
    "import pandas as pd\n",
    "from utils.column_names_reader import get_col_names"
   ]
  },
  {
   "cell_type": "code",
   "execution_count": 2,
   "metadata": {},
   "outputs": [
    {
     "name": "stdout",
     "output_type": "stream",
     "text": [
      "(1282967, 2)\n",
      "Index(['NCBI_protein_accession', 'UniProtKB_protein_accession'], dtype='object')\n"
     ]
    }
   ],
   "source": [
    "force=False\n",
    "if os.path.exists(home_dir+\"data/gene/np_to_uniprot_mapping.csv\") or force:\n",
    "    np_to_uniprot_mapping_df = pd.read_csv(home_dir+\"data/gene/np_to_uniprot_mapping.csv\", sep=\"\\t\")\n",
    "    print(np_to_uniprot_mapping_df.shape)\n",
    "    print(np_to_uniprot_mapping_df.columns)\n",
    "else:\n",
    "    inp_filepath = home_dir+\"data/gene/gene_refseq_uniprotkb_collab.gz\"\n",
    "    col_names = get_col_names(inp_filepath, \"#NCBI_protein_accession\")\n",
    "    df_iterator = pd.read_csv(inp_filepath, compression='gzip', comment='#', chunksize=1000000, sep=\"\\t\", header=None, names=col_names) # cols: NCBI_protein_accession\tUniProtKB_protein_accession\n",
    "    # df = df_iterator.__next__()\n",
    "    # print(df.shape)\n",
    "    # df.head()\n",
    "\n",
    "    df_list = []\n",
    "    for i, df in enumerate(df_iterator):\n",
    "        new_df = df[df[\"NCBI_protein_accession\"].apply(lambda x: x.startswith(\"NP_\"))]\n",
    "        print(i, new_df.shape)\n",
    "        df_list.append(new_df)\n",
    "        # break\n",
    "\n",
    "    np_to_uniprot_mapping_df = pd.concat(df_list)\n",
    "    np_to_uniprot_mapping_df.shape"
   ]
  },
  {
   "cell_type": "code",
   "execution_count": 3,
   "metadata": {},
   "outputs": [
    {
     "data": {
      "text/plain": [
       "NP_740526.1       368\n",
       "NP_943823.1       212\n",
       "NP_943793.1       209\n",
       "NP_943796.1       199\n",
       "NP_040978.1       195\n",
       "                 ... \n",
       "NP_001294254.1      1\n",
       "NP_001294254        1\n",
       "NP_001294255        1\n",
       "NP_001294256.1      1\n",
       "NP_999999           1\n",
       "Name: NCBI_protein_accession, Length: 963618, dtype: int64"
      ]
     },
     "execution_count": 3,
     "metadata": {},
     "output_type": "execute_result"
    }
   ],
   "source": [
    "np_to_uniprot_mapping_df[\"NCBI_protein_accession\"].value_counts() # single NP-id is mapped to multiple uniprot-ids\n",
    "np_to_uniprot_mapping_df[np_to_uniprot_mapping_df[\"NCBI_protein_accession\"]==\"NP_740526.1\"] # same NP-id is mapped to multiple uniprot ids\n",
    "# np_to_uniprot_mapping_df[np_to_uniprot_mapping_df[\"UniProtKB_protein_accession\"]==\"Q5SV97\"] # S5G239 or Q5SV97, same uniprot id is mapped to multiple NP-ids\n",
    "# np_to_uniprot_mapping_df[np_to_uniprot_mapping_df[\"NCBI_protein_accession\"]==\"NP_001164006.1\"] # some NP-ids are not mapped\n",
    "# np_to_uniprot_mapping_df.value_counts() # no duplications on pairs"
   ]
  },
  {
   "cell_type": "code",
   "execution_count": 26,
   "metadata": {},
   "outputs": [
    {
     "name": "stdout",
     "output_type": "stream",
     "text": [
      "S5G239 Q5SV97\n",
      "Q5T7M5 Q96L58\n",
      "Q1RMY8 P62873\n",
      "A0A024R056 A0A140VJJ8\n",
      "Q8N4N9 O14764\n",
      "Q5SYT7 P12755\n"
     ]
    }
   ],
   "source": [
    "updated_uniprot_ids_dict = {\"S5G239\": \"Q5SV97\",\n",
    "                            \"Q5T7M5\": \"Q96L58\",\n",
    "                            \"Q1RMY8\": \"P62873\",\n",
    "                            \"A0A024R056\": \"A0A140VJJ8\",\n",
    "                            \"Q8N4N9\": \"O14764\",\n",
    "                            \"Q5SYT7\": \"P12755\"} # previous, new\n",
    "for key, value in updated_uniprot_ids_dict.items():\n",
    "    print(key, value)\n",
    "    np_to_uniprot_mapping_df.loc[np_to_uniprot_mapping_df[\"UniProtKB_protein_accession\"]==key, \"UniProtKB_protein_accession\"] = value"
   ]
  },
  {
   "cell_type": "code",
   "execution_count": 27,
   "metadata": {},
   "outputs": [
    {
     "data": {
      "text/html": [
       "<div>\n",
       "<style scoped>\n",
       "    .dataframe tbody tr th:only-of-type {\n",
       "        vertical-align: middle;\n",
       "    }\n",
       "\n",
       "    .dataframe tbody tr th {\n",
       "        vertical-align: top;\n",
       "    }\n",
       "\n",
       "    .dataframe thead th {\n",
       "        text-align: right;\n",
       "    }\n",
       "</style>\n",
       "<table border=\"1\" class=\"dataframe\">\n",
       "  <thead>\n",
       "    <tr style=\"text-align: right;\">\n",
       "      <th></th>\n",
       "      <th>NCBI_protein_accession</th>\n",
       "      <th>UniProtKB_protein_accession</th>\n",
       "    </tr>\n",
       "  </thead>\n",
       "  <tbody>\n",
       "    <tr>\n",
       "      <th>0</th>\n",
       "      <td>NP_000005.3</td>\n",
       "      <td>Q6PN97</td>\n",
       "    </tr>\n",
       "    <tr>\n",
       "      <th>1</th>\n",
       "      <td>NP_000005</td>\n",
       "      <td>P01023</td>\n",
       "    </tr>\n",
       "    <tr>\n",
       "      <th>2</th>\n",
       "      <td>NP_000006.2</td>\n",
       "      <td>A4Z6T7</td>\n",
       "    </tr>\n",
       "    <tr>\n",
       "      <th>3</th>\n",
       "      <td>NP_000006.2</td>\n",
       "      <td>Q9H220</td>\n",
       "    </tr>\n",
       "    <tr>\n",
       "      <th>4</th>\n",
       "      <td>NP_000006</td>\n",
       "      <td>A4Z6T7</td>\n",
       "    </tr>\n",
       "    <tr>\n",
       "      <th>...</th>\n",
       "      <td>...</td>\n",
       "      <td>...</td>\n",
       "    </tr>\n",
       "    <tr>\n",
       "      <th>1282962</th>\n",
       "      <td>NP_999997</td>\n",
       "      <td>D3ZS96</td>\n",
       "    </tr>\n",
       "    <tr>\n",
       "      <th>1282963</th>\n",
       "      <td>NP_999998.1</td>\n",
       "      <td>A0A8I6A837</td>\n",
       "    </tr>\n",
       "    <tr>\n",
       "      <th>1282964</th>\n",
       "      <td>NP_999998</td>\n",
       "      <td>M0RDQ2</td>\n",
       "    </tr>\n",
       "    <tr>\n",
       "      <th>1282965</th>\n",
       "      <td>NP_999999.1</td>\n",
       "      <td>D3ZNH9</td>\n",
       "    </tr>\n",
       "    <tr>\n",
       "      <th>1282966</th>\n",
       "      <td>NP_999999</td>\n",
       "      <td>D3ZNH9</td>\n",
       "    </tr>\n",
       "  </tbody>\n",
       "</table>\n",
       "<p>1282967 rows × 2 columns</p>\n",
       "</div>"
      ],
      "text/plain": [
       "        NCBI_protein_accession UniProtKB_protein_accession\n",
       "0                  NP_000005.3                      Q6PN97\n",
       "1                    NP_000005                      P01023\n",
       "2                  NP_000006.2                      A4Z6T7\n",
       "3                  NP_000006.2                      Q9H220\n",
       "4                    NP_000006                      A4Z6T7\n",
       "...                        ...                         ...\n",
       "1282962              NP_999997                      D3ZS96\n",
       "1282963            NP_999998.1                  A0A8I6A837\n",
       "1282964              NP_999998                      M0RDQ2\n",
       "1282965            NP_999999.1                      D3ZNH9\n",
       "1282966              NP_999999                      D3ZNH9\n",
       "\n",
       "[1282967 rows x 2 columns]"
      ]
     },
     "execution_count": 27,
     "metadata": {},
     "output_type": "execute_result"
    }
   ],
   "source": [
    "np_to_uniprot_mapping_df.to_csv(home_dir+\"data/gene/np_to_uniprot_mapping.csv\", index=False, header=True, sep=\"\\t\")\n",
    "np_to_uniprot_mapping_df"
   ]
  }
 ],
 "metadata": {
  "kernelspec": {
   "display_name": "hopper_variant_effect_analysis_mine",
   "language": "python",
   "name": "python3"
  },
  "language_info": {
   "codemirror_mode": {
    "name": "ipython",
    "version": 3
   },
   "file_extension": ".py",
   "mimetype": "text/x-python",
   "name": "python",
   "nbconvert_exporter": "python",
   "pygments_lexer": "ipython3",
   "version": "3.8.6"
  },
  "orig_nbformat": 4
 },
 "nbformat": 4,
 "nbformat_minor": 2
}
