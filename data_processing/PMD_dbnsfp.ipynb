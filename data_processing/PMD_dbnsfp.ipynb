{
 "cells": [
  {
   "cell_type": "code",
   "execution_count": 1,
   "metadata": {},
   "outputs": [],
   "source": [
    "import os\n",
    "import sys\n",
    "module_path = os.path.abspath(os.path.join('..'))\n",
    "if module_path not in sys.path:\n",
    "    sys.path.append(module_path)\n",
    "home_dir = \"../\"\n",
    "\n",
    "import pandas as pd\n",
    "from typing import List"
   ]
  },
  {
   "cell_type": "code",
   "execution_count": 2,
   "metadata": {},
   "outputs": [],
   "source": [
    "def summarize_functional_effect(mut_function:str):\n",
    "    # print(mut_function)\n",
    "    effects = []\n",
    "    effect = \"\"\n",
    "    flag = False\n",
    "    for i, ch in enumerate(mut_function):\n",
    "        if ch=='[':\n",
    "            flag = True\n",
    "            continue\n",
    "        if flag and ch in ['-', '+'] and mut_function[i+1] in ['-', '+', ']', ' ']:\n",
    "            effect += ch\n",
    "        elif flag and ch == '=':\n",
    "            effects.append('=')\n",
    "        elif flag and ch == '0' and mut_function[i+1]==\"]\":\n",
    "            effects.append('0')\n",
    "            \n",
    "        if ch==\"]\":\n",
    "            flag = False\n",
    "            if len(effect)>0: effects.append(effect)\n",
    "            effect=\"\"\n",
    "    \n",
    "    if len(effects)>0: return effects\n",
    "    else: return \"\"\n",
    "\n",
    "def get_functional_effect(effects:List):\n",
    "    counts = [] \n",
    "    functional_effect = \"\"\n",
    "    for ef in effects:\n",
    "        if \"0\" in ef:\n",
    "            return \"Knock-out\"\n",
    "        elif \"=\" in ef:\n",
    "            functional_effect = \"No-effect\"\n",
    "        else:\n",
    "            counts.append(len(ef)-2)\n",
    "\n",
    "    \n",
    "    if len(counts)==0 and functional_effect==\"No-effect\": return \"No-effect\"\n",
    "    elif max(counts)<3: return \"Effect\"\n",
    "    else: return \"Knock-out\""
   ]
  },
  {
   "cell_type": "code",
   "execution_count": 3,
   "metadata": {},
   "outputs": [
    {
     "name": "stderr",
     "output_type": "stream",
     "text": [
      "/tmp/ipykernel_826204/3864938896.py:2: DtypeWarning: Columns (9,27,29,60,73,84,87,88,89,91,92,94,96,118,119,121,122,124,125,136,137,138,139,140,141,142,143,144,145,157,158,173,174,175,189,190,191,192) have mixed types. Specify dtype option on import or set low_memory=False.\n",
      "  pmd_df = pd.read_csv(data_path, sep=\"\\t\", compression=\"gzip\")\n"
     ]
    },
    {
     "name": "stdout",
     "output_type": "stream",
     "text": [
      "(9029, 667)\n",
      "['mut_id', 'md5', 'pmd_id', 'nr', 'crossref', 'uniprot_id', 'ens_real', 'uniprot_id.1', 'ensembl_id', 'other_ref', 'protein', 'source', 'expression_sys', 'mut_PMD', 'mut_real', 'function', 'fb', 'variant', 'col:Id', '#chr', 'pos(1-based)', 'ref', 'alt', 'aaref', 'aaalt', 'rs_dbSNP', 'hg19_chr', 'hg19_pos(1-based)', 'hg18_chr', 'hg18_pos(1-based)', 'aapos', 'genename', 'Ensembl_geneid', 'Ensembl_transcriptid', 'Ensembl_proteinid', 'Uniprot_acc', 'Uniprot_entry', 'HGVSc_ANNOVAR', 'HGVSp_ANNOVAR', 'HGVSc_snpEff', 'HGVSp_snpEff', 'HGVSc_VEP', 'HGVSp_VEP', 'APPRIS', 'GENCODE_basic', 'TSL', 'VEP_canonical', 'cds_strand', 'refcodon', 'codonpos', 'codon_degeneracy', 'Ancestral_allele', 'AltaiNeandertal', 'Denisova', 'VindijiaNeandertal', 'ChagyrskayaNeandertal', 'SIFT_score', 'SIFT_converted_rankscore', 'SIFT_pred', 'SIFT4G_score', 'SIFT4G_converted_rankscore', 'SIFT4G_pred', 'Polyphen2_HDIV_score', 'Polyphen2_HDIV_rankscore', 'Polyphen2_HDIV_pred', 'Polyphen2_HVAR_score', 'Polyphen2_HVAR_rankscore', 'Polyphen2_HVAR_pred', 'LRT_score', 'LRT_converted_rankscore', 'LRT_pred', 'LRT_Omega', 'MutationTaster_score', 'MutationTaster_converted_rankscore', 'MutationTaster_pred', 'MutationTaster_model', 'MutationTaster_AAE', 'MutationAssessor_score', 'MutationAssessor_rankscore', 'MutationAssessor_pred', 'FATHMM_score', 'FATHMM_converted_rankscore', 'FATHMM_pred', 'PROVEAN_score', 'PROVEAN_converted_rankscore', 'PROVEAN_pred', 'VEST4_score', 'VEST4_rankscore', 'MetaSVM_score', 'MetaSVM_rankscore', 'MetaSVM_pred', 'MetaLR_score', 'MetaLR_rankscore', 'MetaLR_pred', 'Reliability_index', 'MetaRNN_score', 'MetaRNN_rankscore', 'MetaRNN_pred', 'M-CAP_score', 'M-CAP_rankscore', 'M-CAP_pred', 'REVEL_score', 'REVEL_rankscore', 'MutPred_score', 'MutPred_rankscore', 'MutPred_protID', 'MutPred_AAchange', 'MutPred_Top5features', 'MVP_score', 'MVP_rankscore', 'MPC_score', 'MPC_rankscore', 'PrimateAI_score', 'PrimateAI_rankscore', 'PrimateAI_pred', 'DEOGEN2_score', 'DEOGEN2_rankscore', 'DEOGEN2_pred', 'BayesDel_addAF_score', 'BayesDel_addAF_rankscore', 'BayesDel_addAF_pred', 'BayesDel_noAF_score', 'BayesDel_noAF_rankscore', 'BayesDel_noAF_pred', 'ClinPred_score', 'ClinPred_rankscore', 'ClinPred_pred', 'LIST-S2_score', 'LIST-S2_rankscore', 'LIST-S2_pred', 'Aloft_Fraction_transcripts_affected', 'Aloft_prob_Tolerant', 'Aloft_prob_Recessive', 'Aloft_prob_Dominant', 'Aloft_pred', 'Aloft_Confidence', 'CADD_raw', 'CADD_raw_rankscore', 'CADD_phred', 'CADD_raw_hg19', 'CADD_raw_rankscore_hg19', 'CADD_phred_hg19', 'DANN_score', 'DANN_rankscore', 'fathmm-MKL_coding_score', 'fathmm-MKL_coding_rankscore', 'fathmm-MKL_coding_pred', 'fathmm-MKL_coding_group', 'fathmm-XF_coding_score', 'fathmm-XF_coding_rankscore', 'fathmm-XF_coding_pred', 'Eigen-raw_coding', 'Eigen-raw_coding_rankscore', 'Eigen-phred_coding', 'Eigen-PC-raw_coding', 'Eigen-PC-raw_coding_rankscore', 'Eigen-PC-phred_coding', 'GenoCanyon_score', 'GenoCanyon_rankscore', 'integrated_fitCons_score', 'integrated_fitCons_rankscore', 'integrated_confidence_value', 'GM12878_fitCons_score', 'GM12878_fitCons_rankscore', 'GM12878_confidence_value', 'H1-hESC_fitCons_score', 'H1-hESC_fitCons_rankscore', 'H1-hESC_confidence_value', 'HUVEC_fitCons_score', 'HUVEC_fitCons_rankscore', 'HUVEC_confidence_value', 'LINSIGHT', 'LINSIGHT_rankscore', 'GERP++_NR', 'GERP++_RS', 'GERP++_RS_rankscore', 'phyloP100way_vertebrate', 'phyloP100way_vertebrate_rankscore', 'phyloP30way_mammalian', 'phyloP30way_mammalian_rankscore', 'phyloP17way_primate', 'phyloP17way_primate_rankscore', 'phastCons100way_vertebrate', 'phastCons100way_vertebrate_rankscore', 'phastCons30way_mammalian', 'phastCons30way_mammalian_rankscore', 'phastCons17way_primate', 'phastCons17way_primate_rankscore', 'SiPhy_29way_pi', 'SiPhy_29way_logOdds', 'SiPhy_29way_logOdds_rankscore', 'bStatistic', 'bStatistic_converted_rankscore', '1000Gp3_AC', '1000Gp3_AF', '1000Gp3_AFR_AC', '1000Gp3_AFR_AF', '1000Gp3_EUR_AC', '1000Gp3_EUR_AF', '1000Gp3_AMR_AC', '1000Gp3_AMR_AF', '1000Gp3_EAS_AC', '1000Gp3_EAS_AF', '1000Gp3_SAS_AC', '1000Gp3_SAS_AF', 'TWINSUK_AC', 'TWINSUK_AF', 'ALSPAC_AC', 'ALSPAC_AF', 'UK10K_AC', 'UK10K_AF', 'ESP6500_AA_AC', 'ESP6500_AA_AF', 'ESP6500_EA_AC', 'ESP6500_EA_AF', 'ExAC_AC', 'ExAC_AF', 'ExAC_Adj_AC', 'ExAC_Adj_AF', 'ExAC_AFR_AC', 'ExAC_AFR_AF', 'ExAC_AMR_AC', 'ExAC_AMR_AF', 'ExAC_EAS_AC', 'ExAC_EAS_AF', 'ExAC_FIN_AC', 'ExAC_FIN_AF', 'ExAC_NFE_AC', 'ExAC_NFE_AF', 'ExAC_SAS_AC', 'ExAC_SAS_AF', 'ExAC_nonTCGA_AC', 'ExAC_nonTCGA_AF', 'ExAC_nonTCGA_Adj_AC', 'ExAC_nonTCGA_Adj_AF', 'ExAC_nonTCGA_AFR_AC', 'ExAC_nonTCGA_AFR_AF', 'ExAC_nonTCGA_AMR_AC', 'ExAC_nonTCGA_AMR_AF', 'ExAC_nonTCGA_EAS_AC', 'ExAC_nonTCGA_EAS_AF', 'ExAC_nonTCGA_FIN_AC', 'ExAC_nonTCGA_FIN_AF', 'ExAC_nonTCGA_NFE_AC', 'ExAC_nonTCGA_NFE_AF', 'ExAC_nonTCGA_SAS_AC', 'ExAC_nonTCGA_SAS_AF', 'ExAC_nonpsych_AC', 'ExAC_nonpsych_AF', 'ExAC_nonpsych_Adj_AC', 'ExAC_nonpsych_Adj_AF', 'ExAC_nonpsych_AFR_AC', 'ExAC_nonpsych_AFR_AF', 'ExAC_nonpsych_AMR_AC', 'ExAC_nonpsych_AMR_AF', 'ExAC_nonpsych_EAS_AC', 'ExAC_nonpsych_EAS_AF', 'ExAC_nonpsych_FIN_AC', 'ExAC_nonpsych_FIN_AF', 'ExAC_nonpsych_NFE_AC', 'ExAC_nonpsych_NFE_AF', 'ExAC_nonpsych_SAS_AC', 'ExAC_nonpsych_SAS_AF', 'gnomAD_exomes_flag', 'gnomAD_exomes_AC', 'gnomAD_exomes_AN', 'gnomAD_exomes_AF', 'gnomAD_exomes_nhomalt', 'gnomAD_exomes_AFR_AC', 'gnomAD_exomes_AFR_AN', 'gnomAD_exomes_AFR_AF', 'gnomAD_exomes_AFR_nhomalt', 'gnomAD_exomes_AMR_AC', 'gnomAD_exomes_AMR_AN', 'gnomAD_exomes_AMR_AF', 'gnomAD_exomes_AMR_nhomalt', 'gnomAD_exomes_ASJ_AC', 'gnomAD_exomes_ASJ_AN', 'gnomAD_exomes_ASJ_AF', 'gnomAD_exomes_ASJ_nhomalt', 'gnomAD_exomes_EAS_AC', 'gnomAD_exomes_EAS_AN', 'gnomAD_exomes_EAS_AF', 'gnomAD_exomes_EAS_nhomalt', 'gnomAD_exomes_FIN_AC', 'gnomAD_exomes_FIN_AN', 'gnomAD_exomes_FIN_AF', 'gnomAD_exomes_FIN_nhomalt', 'gnomAD_exomes_NFE_AC', 'gnomAD_exomes_NFE_AN', 'gnomAD_exomes_NFE_AF', 'gnomAD_exomes_NFE_nhomalt', 'gnomAD_exomes_SAS_AC', 'gnomAD_exomes_SAS_AN', 'gnomAD_exomes_SAS_AF', 'gnomAD_exomes_SAS_nhomalt', 'gnomAD_exomes_POPMAX_AC', 'gnomAD_exomes_POPMAX_AN', 'gnomAD_exomes_POPMAX_AF', 'gnomAD_exomes_POPMAX_nhomalt', 'gnomAD_exomes_controls_AC', 'gnomAD_exomes_controls_AN', 'gnomAD_exomes_controls_AF', 'gnomAD_exomes_controls_nhomalt', 'gnomAD_exomes_non_neuro_AC', 'gnomAD_exomes_non_neuro_AN', 'gnomAD_exomes_non_neuro_AF', 'gnomAD_exomes_non_neuro_nhomalt', 'gnomAD_exomes_non_cancer_AC', 'gnomAD_exomes_non_cancer_AN', 'gnomAD_exomes_non_cancer_AF', 'gnomAD_exomes_non_cancer_nhomalt', 'gnomAD_exomes_non_topmed_AC', 'gnomAD_exomes_non_topmed_AN', 'gnomAD_exomes_non_topmed_AF', 'gnomAD_exomes_non_topmed_nhomalt', 'gnomAD_exomes_controls_AFR_AC', 'gnomAD_exomes_controls_AFR_AN', 'gnomAD_exomes_controls_AFR_AF', 'gnomAD_exomes_controls_AFR_nhomalt', 'gnomAD_exomes_controls_AMR_AC', 'gnomAD_exomes_controls_AMR_AN', 'gnomAD_exomes_controls_AMR_AF', 'gnomAD_exomes_controls_AMR_nhomalt', 'gnomAD_exomes_controls_ASJ_AC', 'gnomAD_exomes_controls_ASJ_AN', 'gnomAD_exomes_controls_ASJ_AF', 'gnomAD_exomes_controls_ASJ_nhomalt', 'gnomAD_exomes_controls_EAS_AC', 'gnomAD_exomes_controls_EAS_AN', 'gnomAD_exomes_controls_EAS_AF', 'gnomAD_exomes_controls_EAS_nhomalt', 'gnomAD_exomes_controls_FIN_AC', 'gnomAD_exomes_controls_FIN_AN', 'gnomAD_exomes_controls_FIN_AF', 'gnomAD_exomes_controls_FIN_nhomalt', 'gnomAD_exomes_controls_NFE_AC', 'gnomAD_exomes_controls_NFE_AN', 'gnomAD_exomes_controls_NFE_AF', 'gnomAD_exomes_controls_NFE_nhomalt', 'gnomAD_exomes_controls_SAS_AC', 'gnomAD_exomes_controls_SAS_AN', 'gnomAD_exomes_controls_SAS_AF', 'gnomAD_exomes_controls_SAS_nhomalt', 'gnomAD_exomes_controls_POPMAX_AC', 'gnomAD_exomes_controls_POPMAX_AN', 'gnomAD_exomes_controls_POPMAX_AF', 'gnomAD_exomes_controls_POPMAX_nhomalt', 'gnomAD_exomes_non_neuro_AFR_AC', 'gnomAD_exomes_non_neuro_AFR_AN', 'gnomAD_exomes_non_neuro_AFR_AF', 'gnomAD_exomes_non_neuro_AFR_nhomalt', 'gnomAD_exomes_non_neuro_AMR_AC', 'gnomAD_exomes_non_neuro_AMR_AN', 'gnomAD_exomes_non_neuro_AMR_AF', 'gnomAD_exomes_non_neuro_AMR_nhomalt', 'gnomAD_exomes_non_neuro_ASJ_AC', 'gnomAD_exomes_non_neuro_ASJ_AN', 'gnomAD_exomes_non_neuro_ASJ_AF', 'gnomAD_exomes_non_neuro_ASJ_nhomalt', 'gnomAD_exomes_non_neuro_EAS_AC', 'gnomAD_exomes_non_neuro_EAS_AN', 'gnomAD_exomes_non_neuro_EAS_AF', 'gnomAD_exomes_non_neuro_EAS_nhomalt', 'gnomAD_exomes_non_neuro_FIN_AC', 'gnomAD_exomes_non_neuro_FIN_AN', 'gnomAD_exomes_non_neuro_FIN_AF', 'gnomAD_exomes_non_neuro_FIN_nhomalt', 'gnomAD_exomes_non_neuro_NFE_AC', 'gnomAD_exomes_non_neuro_NFE_AN', 'gnomAD_exomes_non_neuro_NFE_AF', 'gnomAD_exomes_non_neuro_NFE_nhomalt', 'gnomAD_exomes_non_neuro_SAS_AC', 'gnomAD_exomes_non_neuro_SAS_AN', 'gnomAD_exomes_non_neuro_SAS_AF', 'gnomAD_exomes_non_neuro_SAS_nhomalt', 'gnomAD_exomes_non_neuro_POPMAX_AC', 'gnomAD_exomes_non_neuro_POPMAX_AN', 'gnomAD_exomes_non_neuro_POPMAX_AF', 'gnomAD_exomes_non_neuro_POPMAX_nhomalt', 'gnomAD_exomes_non_cancer_AFR_AC', 'gnomAD_exomes_non_cancer_AFR_AN', 'gnomAD_exomes_non_cancer_AFR_AF', 'gnomAD_exomes_non_cancer_AFR_nhomalt', 'gnomAD_exomes_non_cancer_AMR_AC', 'gnomAD_exomes_non_cancer_AMR_AN', 'gnomAD_exomes_non_cancer_AMR_AF', 'gnomAD_exomes_non_cancer_AMR_nhomalt', 'gnomAD_exomes_non_cancer_ASJ_AC', 'gnomAD_exomes_non_cancer_ASJ_AN', 'gnomAD_exomes_non_cancer_ASJ_AF', 'gnomAD_exomes_non_cancer_ASJ_nhomalt', 'gnomAD_exomes_non_cancer_EAS_AC', 'gnomAD_exomes_non_cancer_EAS_AN', 'gnomAD_exomes_non_cancer_EAS_AF', 'gnomAD_exomes_non_cancer_EAS_nhomalt', 'gnomAD_exomes_non_cancer_FIN_AC', 'gnomAD_exomes_non_cancer_FIN_AN', 'gnomAD_exomes_non_cancer_FIN_AF', 'gnomAD_exomes_non_cancer_FIN_nhomalt', 'gnomAD_exomes_non_cancer_NFE_AC', 'gnomAD_exomes_non_cancer_NFE_AN', 'gnomAD_exomes_non_cancer_NFE_AF', 'gnomAD_exomes_non_cancer_NFE_nhomalt', 'gnomAD_exomes_non_cancer_SAS_AC', 'gnomAD_exomes_non_cancer_SAS_AN', 'gnomAD_exomes_non_cancer_SAS_AF', 'gnomAD_exomes_non_cancer_SAS_nhomalt', 'gnomAD_exomes_non_cancer_POPMAX_AC', 'gnomAD_exomes_non_cancer_POPMAX_AN', 'gnomAD_exomes_non_cancer_POPMAX_AF', 'gnomAD_exomes_non_cancer_POPMAX_nhomalt', 'gnomAD_exomes_non_topmed_AFR_AC', 'gnomAD_exomes_non_topmed_AFR_AN', 'gnomAD_exomes_non_topmed_AFR_AF', 'gnomAD_exomes_non_topmed_AFR_nhomalt', 'gnomAD_exomes_non_topmed_AMR_AC', 'gnomAD_exomes_non_topmed_AMR_AN', 'gnomAD_exomes_non_topmed_AMR_AF', 'gnomAD_exomes_non_topmed_AMR_nhomalt', 'gnomAD_exomes_non_topmed_ASJ_AC', 'gnomAD_exomes_non_topmed_ASJ_AN', 'gnomAD_exomes_non_topmed_ASJ_AF', 'gnomAD_exomes_non_topmed_ASJ_nhomalt', 'gnomAD_exomes_non_topmed_EAS_AC', 'gnomAD_exomes_non_topmed_EAS_AN', 'gnomAD_exomes_non_topmed_EAS_AF', 'gnomAD_exomes_non_topmed_EAS_nhomalt', 'gnomAD_exomes_non_topmed_FIN_AC', 'gnomAD_exomes_non_topmed_FIN_AN', 'gnomAD_exomes_non_topmed_FIN_AF', 'gnomAD_exomes_non_topmed_FIN_nhomalt', 'gnomAD_exomes_non_topmed_NFE_AC', 'gnomAD_exomes_non_topmed_NFE_AN', 'gnomAD_exomes_non_topmed_NFE_AF', 'gnomAD_exomes_non_topmed_NFE_nhomalt', 'gnomAD_exomes_non_topmed_SAS_AC', 'gnomAD_exomes_non_topmed_SAS_AN', 'gnomAD_exomes_non_topmed_SAS_AF', 'gnomAD_exomes_non_topmed_SAS_nhomalt', 'gnomAD_exomes_non_topmed_POPMAX_AC', 'gnomAD_exomes_non_topmed_POPMAX_AN', 'gnomAD_exomes_non_topmed_POPMAX_AF', 'gnomAD_exomes_non_topmed_POPMAX_nhomalt', 'gnomAD_genomes_flag', 'gnomAD_genomes_AC', 'gnomAD_genomes_AN', 'gnomAD_genomes_AF', 'gnomAD_genomes_nhomalt', 'gnomAD_genomes_POPMAX_AC', 'gnomAD_genomes_POPMAX_AN', 'gnomAD_genomes_POPMAX_AF', 'gnomAD_genomes_POPMAX_nhomalt', 'gnomAD_genomes_AFR_AC', 'gnomAD_genomes_AFR_AN', 'gnomAD_genomes_AFR_AF', 'gnomAD_genomes_AFR_nhomalt', 'gnomAD_genomes_AMI_AC', 'gnomAD_genomes_AMI_AN', 'gnomAD_genomes_AMI_AF', 'gnomAD_genomes_AMI_nhomalt', 'gnomAD_genomes_AMR_AC', 'gnomAD_genomes_AMR_AN', 'gnomAD_genomes_AMR_AF', 'gnomAD_genomes_AMR_nhomalt', 'gnomAD_genomes_ASJ_AC', 'gnomAD_genomes_ASJ_AN', 'gnomAD_genomes_ASJ_AF', 'gnomAD_genomes_ASJ_nhomalt', 'gnomAD_genomes_EAS_AC', 'gnomAD_genomes_EAS_AN', 'gnomAD_genomes_EAS_AF', 'gnomAD_genomes_EAS_nhomalt', 'gnomAD_genomes_FIN_AC', 'gnomAD_genomes_FIN_AN', 'gnomAD_genomes_FIN_AF', 'gnomAD_genomes_FIN_nhomalt', 'gnomAD_genomes_MID_AC', 'gnomAD_genomes_MID_AN', 'gnomAD_genomes_MID_AF', 'gnomAD_genomes_MID_nhomalt', 'gnomAD_genomes_NFE_AC', 'gnomAD_genomes_NFE_AN', 'gnomAD_genomes_NFE_AF', 'gnomAD_genomes_NFE_nhomalt', 'gnomAD_genomes_SAS_AC', 'gnomAD_genomes_SAS_AN', 'gnomAD_genomes_SAS_AF', 'gnomAD_genomes_SAS_nhomalt', 'gnomAD_genomes_controls_and_biobanks_AC', 'gnomAD_genomes_controls_and_biobanks_AN', 'gnomAD_genomes_controls_and_biobanks_AF', 'gnomAD_genomes_controls_and_biobanks_nhomalt', 'gnomAD_genomes_non_neuro_AC', 'gnomAD_genomes_non_neuro_AN', 'gnomAD_genomes_non_neuro_AF', 'gnomAD_genomes_non_neuro_nhomalt', 'gnomAD_genomes_non_cancer_AC', 'gnomAD_genomes_non_cancer_AN', 'gnomAD_genomes_non_cancer_AF', 'gnomAD_genomes_non_cancer_nhomalt', 'gnomAD_genomes_non_topmed_AC', 'gnomAD_genomes_non_topmed_AN', 'gnomAD_genomes_non_topmed_AF', 'gnomAD_genomes_non_topmed_nhomalt', 'gnomAD_genomes_controls_and_biobanks_AFR_AC', 'gnomAD_genomes_controls_and_biobanks_AFR_AN', 'gnomAD_genomes_controls_and_biobanks_AFR_AF', 'gnomAD_genomes_controls_and_biobanks_AFR_nhomalt', 'gnomAD_genomes_controls_and_biobanks_AMI_AC', 'gnomAD_genomes_controls_and_biobanks_AMI_AN', 'gnomAD_genomes_controls_and_biobanks_AMI_AF', 'gnomAD_genomes_controls_and_biobanks_AMI_nhomalt', 'gnomAD_genomes_controls_and_biobanks_AMR_AC', 'gnomAD_genomes_controls_and_biobanks_AMR_AN', 'gnomAD_genomes_controls_and_biobanks_AMR_AF', 'gnomAD_genomes_controls_and_biobanks_AMR_nhomalt', 'gnomAD_genomes_controls_and_biobanks_ASJ_AC', 'gnomAD_genomes_controls_and_biobanks_ASJ_AN', 'gnomAD_genomes_controls_and_biobanks_ASJ_AF', 'gnomAD_genomes_controls_and_biobanks_ASJ_nhomalt', 'gnomAD_genomes_controls_and_biobanks_EAS_AC', 'gnomAD_genomes_controls_and_biobanks_EAS_AN', 'gnomAD_genomes_controls_and_biobanks_EAS_AF', 'gnomAD_genomes_controls_and_biobanks_EAS_nhomalt', 'gnomAD_genomes_controls_and_biobanks_FIN_AC', 'gnomAD_genomes_controls_and_biobanks_FIN_AN', 'gnomAD_genomes_controls_and_biobanks_FIN_AF', 'gnomAD_genomes_controls_and_biobanks_FIN_nhomalt', 'gnomAD_genomes_controls_and_biobanks_MID_AC', 'gnomAD_genomes_controls_and_biobanks_MID_AN', 'gnomAD_genomes_controls_and_biobanks_MID_AF', 'gnomAD_genomes_controls_and_biobanks_MID_nhomalt', 'gnomAD_genomes_controls_and_biobanks_NFE_AC', 'gnomAD_genomes_controls_and_biobanks_NFE_AN', 'gnomAD_genomes_controls_and_biobanks_NFE_AF', 'gnomAD_genomes_controls_and_biobanks_NFE_nhomalt', 'gnomAD_genomes_controls_and_biobanks_SAS_AC', 'gnomAD_genomes_controls_and_biobanks_SAS_AN', 'gnomAD_genomes_controls_and_biobanks_SAS_AF', 'gnomAD_genomes_controls_and_biobanks_SAS_nhomalt', 'gnomAD_genomes_non_neuro_AFR_AC', 'gnomAD_genomes_non_neuro_AFR_AN', 'gnomAD_genomes_non_neuro_AFR_AF', 'gnomAD_genomes_non_neuro_AFR_nhomalt', 'gnomAD_genomes_non_neuro_AMI_AC', 'gnomAD_genomes_non_neuro_AMI_AN', 'gnomAD_genomes_non_neuro_AMI_AF', 'gnomAD_genomes_non_neuro_AMI_nhomalt', 'gnomAD_genomes_non_neuro_AMR_AC', 'gnomAD_genomes_non_neuro_AMR_AN', 'gnomAD_genomes_non_neuro_AMR_AF', 'gnomAD_genomes_non_neuro_AMR_nhomalt', 'gnomAD_genomes_non_neuro_ASJ_AC', 'gnomAD_genomes_non_neuro_ASJ_AN', 'gnomAD_genomes_non_neuro_ASJ_AF', 'gnomAD_genomes_non_neuro_ASJ_nhomalt', 'gnomAD_genomes_non_neuro_EAS_AC', 'gnomAD_genomes_non_neuro_EAS_AN', 'gnomAD_genomes_non_neuro_EAS_AF', 'gnomAD_genomes_non_neuro_EAS_nhomalt', 'gnomAD_genomes_non_neuro_FIN_AC', 'gnomAD_genomes_non_neuro_FIN_AN', 'gnomAD_genomes_non_neuro_FIN_AF', 'gnomAD_genomes_non_neuro_FIN_nhomalt', 'gnomAD_genomes_non_neuro_MID_AC', 'gnomAD_genomes_non_neuro_MID_AN', 'gnomAD_genomes_non_neuro_MID_AF', 'gnomAD_genomes_non_neuro_MID_nhomalt', 'gnomAD_genomes_non_neuro_NFE_AC', 'gnomAD_genomes_non_neuro_NFE_AN', 'gnomAD_genomes_non_neuro_NFE_AF', 'gnomAD_genomes_non_neuro_NFE_nhomalt', 'gnomAD_genomes_non_neuro_SAS_AC', 'gnomAD_genomes_non_neuro_SAS_AN', 'gnomAD_genomes_non_neuro_SAS_AF', 'gnomAD_genomes_non_neuro_SAS_nhomalt', 'gnomAD_genomes_non_cancer_AFR_AC', 'gnomAD_genomes_non_cancer_AFR_AN', 'gnomAD_genomes_non_cancer_AFR_AF', 'gnomAD_genomes_non_cancer_AFR_nhomalt', 'gnomAD_genomes_non_cancer_AMI_AC', 'gnomAD_genomes_non_cancer_AMI_AN', 'gnomAD_genomes_non_cancer_AMI_AF', 'gnomAD_genomes_non_cancer_AMI_nhomalt', 'gnomAD_genomes_non_cancer_AMR_AC', 'gnomAD_genomes_non_cancer_AMR_AN', 'gnomAD_genomes_non_cancer_AMR_AF', 'gnomAD_genomes_non_cancer_AMR_nhomalt', 'gnomAD_genomes_non_cancer_ASJ_AC', 'gnomAD_genomes_non_cancer_ASJ_AN', 'gnomAD_genomes_non_cancer_ASJ_AF', 'gnomAD_genomes_non_cancer_ASJ_nhomalt', 'gnomAD_genomes_non_cancer_EAS_AC', 'gnomAD_genomes_non_cancer_EAS_AN', 'gnomAD_genomes_non_cancer_EAS_AF', 'gnomAD_genomes_non_cancer_EAS_nhomalt', 'gnomAD_genomes_non_cancer_FIN_AC', 'gnomAD_genomes_non_cancer_FIN_AN', 'gnomAD_genomes_non_cancer_FIN_AF', 'gnomAD_genomes_non_cancer_FIN_nhomalt', 'gnomAD_genomes_non_cancer_MID_AC', 'gnomAD_genomes_non_cancer_MID_AN', 'gnomAD_genomes_non_cancer_MID_AF', 'gnomAD_genomes_non_cancer_MID_nhomalt', 'gnomAD_genomes_non_cancer_NFE_AC', 'gnomAD_genomes_non_cancer_NFE_AN', 'gnomAD_genomes_non_cancer_NFE_AF', 'gnomAD_genomes_non_cancer_NFE_nhomalt', 'gnomAD_genomes_non_cancer_SAS_AC', 'gnomAD_genomes_non_cancer_SAS_AN', 'gnomAD_genomes_non_cancer_SAS_AF', 'gnomAD_genomes_non_cancer_SAS_nhomalt', 'gnomAD_genomes_non_topmed_AFR_AC', 'gnomAD_genomes_non_topmed_AFR_AN', 'gnomAD_genomes_non_topmed_AFR_AF', 'gnomAD_genomes_non_topmed_AFR_nhomalt', 'gnomAD_genomes_non_topmed_AMI_AC', 'gnomAD_genomes_non_topmed_AMI_AN', 'gnomAD_genomes_non_topmed_AMI_AF', 'gnomAD_genomes_non_topmed_AMI_nhomalt', 'gnomAD_genomes_non_topmed_AMR_AC', 'gnomAD_genomes_non_topmed_AMR_AN', 'gnomAD_genomes_non_topmed_AMR_AF', 'gnomAD_genomes_non_topmed_AMR_nhomalt', 'gnomAD_genomes_non_topmed_ASJ_AC', 'gnomAD_genomes_non_topmed_ASJ_AN', 'gnomAD_genomes_non_topmed_ASJ_AF', 'gnomAD_genomes_non_topmed_ASJ_nhomalt', 'gnomAD_genomes_non_topmed_EAS_AC', 'gnomAD_genomes_non_topmed_EAS_AN', 'gnomAD_genomes_non_topmed_EAS_AF', 'gnomAD_genomes_non_topmed_EAS_nhomalt', 'gnomAD_genomes_non_topmed_FIN_AC', 'gnomAD_genomes_non_topmed_FIN_AN', 'gnomAD_genomes_non_topmed_FIN_AF', 'gnomAD_genomes_non_topmed_FIN_nhomalt', 'gnomAD_genomes_non_topmed_MID_AC', 'gnomAD_genomes_non_topmed_MID_AN', 'gnomAD_genomes_non_topmed_MID_AF', 'gnomAD_genomes_non_topmed_MID_nhomalt', 'gnomAD_genomes_non_topmed_NFE_AC', 'gnomAD_genomes_non_topmed_NFE_AN', 'gnomAD_genomes_non_topmed_NFE_AF', 'gnomAD_genomes_non_topmed_NFE_nhomalt', 'gnomAD_genomes_non_topmed_SAS_AC', 'gnomAD_genomes_non_topmed_SAS_AN', 'gnomAD_genomes_non_topmed_SAS_AF', 'gnomAD_genomes_non_topmed_SAS_nhomalt', 'clinvar_id', 'clinvar_clnsig', 'clinvar_trait', 'clinvar_review', 'clinvar_hgvs', 'clinvar_var_source', 'clinvar_MedGen_id', 'clinvar_OMIM_id', 'clinvar_Orphanet_id', 'Interpro_domain', 'GTEx_V8_gene', 'GTEx_V8_tissue', 'Geuvadis_eQTL_target_gene', 'pmd_mapping_id', 'pmd_mapping_variant_check', 'seq', 'md5Variant', 'md5Variant_count']\n",
      "after removing non-functional annotations: (8154, 672)\n",
      "after removing non-human entries: (8056, 673)\n",
      "Effect       4197\n",
      "No-effect    2023\n",
      "Knock-out    1836\n",
      "Name: functional_effect, dtype: int64\n",
      "#-of unique proteins (2237, 2)\n",
      "#-of unique genes (1082,)\n",
      "(8056, 673)\n"
     ]
    }
   ],
   "source": [
    "data_path = home_dir+f\"data/pmd/dfPMD-NSFP43a_subset_func.tsv.gz\"\n",
    "pmd_df = pd.read_csv(data_path, sep=\"\\t\", compression=\"gzip\")\n",
    "print(pmd_df.shape)\n",
    "print(pmd_df.columns.to_list())\n",
    "\n",
    "pmd_df[\"wt\"] = pmd_df[\"mut_real\"].apply(lambda x: x[0]) # 1-letter amino acid\n",
    "pmd_df[\"mut\"] = pmd_df[\"mut_real\"].apply(lambda x: x[-1])\n",
    "pmd_df[\"prot_pos\"] = pmd_df[\"mut_real\"].apply(lambda x: int(x[1:-1])) # mutation position is 1-indexed\n",
    "\n",
    "pmd_df[\"function_summarized\"] = pmd_df[\"function\"].apply(summarize_functional_effect)\n",
    "pmd_df = pmd_df[pmd_df[\"function_summarized\"].apply(lambda x:  len(x)>0)] # removing rows that does not have any functional effect annotations\n",
    "pmd_df[\"functional_effect\"] = pmd_df[\"function_summarized\"].apply(get_functional_effect)\n",
    "print(\"after removing non-functional annotations:\", pmd_df.shape)\n",
    "\n",
    "pmd_df[\"pmd_nr_id\"] = pmd_df[\"pmd_id\"]+pmd_df[\"nr\"].apply(lambda x: \"_\"+str(int(x)))\n",
    "\n",
    "pmd_df = pmd_df[pmd_df[\"source\"].apply(lambda x: True if \"Human\" in str(x) else False)] # only keeping human variants\n",
    "print(\"after removing non-human entries:\", pmd_df.shape)\n",
    "\n",
    "# pmd_df.head()\n",
    "print(pmd_df[\"functional_effect\"].value_counts())\n",
    "print(\"#-of unique proteins\", pmd_df[[\"pmd_id\", \"nr\"]].drop_duplicates(keep=\"first\").shape) # 2263\n",
    "print(\"#-of unique genes\", pmd_df[\"genename\"].drop_duplicates(keep=\"first\").shape) # 1089\n",
    "print(pmd_df.shape)"
   ]
  },
  {
   "cell_type": "code",
   "execution_count": 150,
   "metadata": {},
   "outputs": [],
   "source": [
    "# print(pmd_df[\"crossref\"].unique().shape)\n",
    "\n",
    "# def clean_crossref_ids(x):\n",
    "#     x = x.split()[0]\n",
    "#     if x[0]==\"(\":\n",
    "#         x = x[1:]\n",
    "#     if x[-1]==\")\":\n",
    "#         x = x[:-1]\n",
    "#     return x\n",
    "\n",
    "# pmd_df['crossref_clean'] = pmd_df['crossref'].apply(clean_crossref_ids)\n",
    "# crossref_ids = pmd_df['crossref_clean'].drop_duplicates(keep=\"first\").values\n",
    "# crossref_ids = list(crossref_ids)\n",
    "# print(len(crossref_ids)) # 3898 ids\n",
    "# crossref_ids = \", \".join(crossref_ids)\n",
    "# print(len(crossref_ids.split(', ')))\n",
    "# crossref_ids\n",
    "\n",
    "# crossref_to_np_df = pd.read_csv(home_dir+f\"data/uniprot_id_mapping_tools_outputs/pmd_crossref_to_np_mapping.tsv\", sep=\"\\t\")\n",
    "# crossref_to_np_df.rename(columns={\"From\": \"crossref_clean\", \"To\": \"prot_acc_version\"}, inplace=True)\n",
    "# crossref_to_np_df = crossref_to_np_df[crossref_to_np_df[\"prot_acc_version\"].apply(lambda x: x.startswith(\"NP_\"))]\n",
    "# print(crossref_to_np_df[\"crossref_clean\"].drop_duplicates(keep=\"first\").shape)\n",
    "# crossref_to_np_df.value_counts()"
   ]
  },
  {
   "cell_type": "code",
   "execution_count": 4,
   "metadata": {},
   "outputs": [],
   "source": [
    "info_cols = ['mut_id', 'md5', 'pmd_id', 'nr', 'pmd_nr_id', 'crossref', 'uniprot_id', 'protein', 'source', 'mut_PMD', 'mut_real', 'wt', 'mut', 'prot_pos', '#chr', 'pos(1-based)', 'ref', 'alt', 'rs_dbSNP', 'genename', 'ensembl_id', 'function', 'function_summarized', 'functional_effect']\n",
    "method_score_cols = [\"CADD_raw\", \"MetaRNN_score\", \"MVP_score\", \"Polyphen2_HVAR_score\", \"REVEL_score\", \"SIFT_score\", \"integrated_fitCons_score\", \"phyloP17way_primate\", \"phastCons17way_primate\", \"bStatistic\"]\n",
    "other_cols = ['seq']\n",
    "columns = info_cols + method_score_cols + other_cols\n",
    "pmd_df = pmd_df[columns]"
   ]
  },
  {
   "cell_type": "code",
   "execution_count": 5,
   "metadata": {},
   "outputs": [
    {
     "name": "stdout",
     "output_type": "stream",
     "text": [
      "#-of sequences b4 seq-len filter 2237\n",
      "#-of sequences after seq-len filter 2042\n",
      "after filtering on seq-len <=1022: (7310, 35)\n",
      "Effect       3859\n",
      "No-effect    1809\n",
      "Knock-out    1642\n",
      "Name: functional_effect, dtype: int64\n",
      "#-of unique proteins (2042, 2)\n",
      "#-of unique genes (990,)\n"
     ]
    }
   ],
   "source": [
    "# filtering the dataset on the protein sequence len <=1022\n",
    "sequences_df = pmd_df[['pmd_nr_id', 'crossref', 'seq']].drop_duplicates(keep=\"first\")\n",
    "print(\"#-of sequences b4 seq-len filter\", sequences_df.shape[0])\n",
    "protid_seq_tuple_list = [(tuple.pmd_nr_id, tuple.seq) for tuple in sequences_df.itertuples() if len(str(tuple.seq))<=1022]\n",
    "print(\"#-of sequences after seq-len filter\", len(protid_seq_tuple_list))\n",
    "\n",
    "new_protein_acc_list = list(zip(*protid_seq_tuple_list))[0]\n",
    "pmd_df = pmd_df[pmd_df[\"pmd_nr_id\"].isin(new_protein_acc_list)]\n",
    "print(\"after filtering on seq-len <=1022:\", pmd_df.shape)\n",
    "print(pmd_df[\"functional_effect\"].value_counts())\n",
    "\n",
    "print(\"#-of unique proteins\", pmd_df[[\"pmd_id\", \"nr\"]].drop_duplicates(keep=\"first\").shape) # 2068\n",
    "print(\"#-of unique genes\", pmd_df[\"genename\"].drop_duplicates(keep=\"first\").shape) # 997"
   ]
  },
  {
   "cell_type": "code",
   "execution_count": 6,
   "metadata": {},
   "outputs": [
    {
     "name": "stderr",
     "output_type": "stream",
     "text": [
      "/projects/ashehu/akabir4/venvs/hopper_variant_effect_analysis_mine/lib/python3.8/site-packages/numpy/core/fromnumeric.py:3464: RuntimeWarning: Mean of empty slice.\n",
      "  return _methods._mean(a, axis=axis, dtype=dtype,\n"
     ]
    },
    {
     "name": "stdout",
     "output_type": "stream",
     "text": [
      "CADD_raw \t100*(3/7310)= 0.0410\n",
      "MetaRNN_score \t100*(3/7310)= 0.0410\n",
      "MVP_score \t100*(116/7310)= 1.5869\n",
      "Polyphen2_HVAR_score \t100*(138/7310)= 1.8878\n",
      "REVEL_score \t100*(53/7310)= 0.7250\n",
      "SIFT_score \t100*(168/7310)= 2.2982\n",
      "integrated_fitCons_score \t100*(419/7310)= 5.7319\n",
      "phyloP17way_primate \t100*(0/7310)= 0.0000\n",
      "phastCons17way_primate \t100*(0/7310)= 0.0000\n",
      "bStatistic \t100*(61/7310)= 0.8345\n"
     ]
    }
   ],
   "source": [
    "# computing missing rows for each methods\n",
    "import numpy as np    \n",
    "def compute_avg(x):\n",
    "    x = str(x).split(\";\")\n",
    "    return np.mean([float(i) for i in x if i!=\".\"]) \n",
    "\n",
    "def compute_number_of_missing_rows(col_name): \n",
    "    avg_scores = pmd_df[col_name].apply(compute_avg)\n",
    "    avg_scores = avg_scores[pd.isna(avg_scores)]\n",
    "    n_missing_rows = avg_scores.shape[0]\n",
    "    total_rows = pmd_df.shape[0]\n",
    "    print(col_name, f\"\\t100*({n_missing_rows}/{total_rows})=\", f\"{100*(n_missing_rows/total_rows):.4f}\")\n",
    "\n",
    "for col_name in method_score_cols:\n",
    "    compute_number_of_missing_rows(col_name)\n",
    "    # break\n",
    "\n",
    "# pmd_df[\"MVP_score\"].value_counts()"
   ]
  },
  {
   "cell_type": "code",
   "execution_count": 7,
   "metadata": {},
   "outputs": [],
   "source": [
    "pmd_df.to_csv(home_dir+\"data/pmd/pmd_with_dbnsfp.tsv\", sep=\"\\t\", index=False)\n",
    "# pmd_df.to_csv(home_dir+\"models/aa_common/datasets_pmd_analysis/pmd_data.tsv\", sep=\"\\t\", index=False)\n",
    "# sequences_df = pmd_df[['pmd_nr_id', 'crossref', 'seq']].drop_duplicates(keep=\"first\")\n",
    "# print(\"#-of sequences\", sequences_df.shape)\n",
    "\n",
    "# out_fasta_filepath = home_dir+\"models/aa_common/datasets_pmd_analysis/pmd_sequences.fasta\"\n",
    "# out_fasta_file_handle = open(out_fasta_filepath, \"w\")\n",
    "\n",
    "# for tuple in sequences_df.itertuples():\n",
    "#     out_fasta_file_handle.write(f\">{tuple.pmd_nr_id} | {tuple.crossref}\\n\")\n",
    "#     out_fasta_file_handle.write(f\"{tuple.seq}\\n\")\n",
    "#     # break\n",
    "# out_fasta_file_handle.close()  "
   ]
  },
  {
   "attachments": {},
   "cell_type": "markdown",
   "metadata": {},
   "source": [
    "### testing different things here..."
   ]
  },
  {
   "cell_type": "code",
   "execution_count": 156,
   "metadata": {},
   "outputs": [
    {
     "data": {
      "text/html": [
       "<div>\n",
       "<style scoped>\n",
       "    .dataframe tbody tr th:only-of-type {\n",
       "        vertical-align: middle;\n",
       "    }\n",
       "\n",
       "    .dataframe tbody tr th {\n",
       "        vertical-align: top;\n",
       "    }\n",
       "\n",
       "    .dataframe thead th {\n",
       "        text-align: right;\n",
       "    }\n",
       "</style>\n",
       "<table border=\"1\" class=\"dataframe\">\n",
       "  <thead>\n",
       "    <tr style=\"text-align: right;\">\n",
       "      <th></th>\n",
       "      <th>wt</th>\n",
       "      <th>mut</th>\n",
       "      <th>prot_pos</th>\n",
       "    </tr>\n",
       "  </thead>\n",
       "  <tbody>\n",
       "    <tr>\n",
       "      <th>0</th>\n",
       "      <td>C</td>\n",
       "      <td>Y</td>\n",
       "      <td>271</td>\n",
       "    </tr>\n",
       "  </tbody>\n",
       "</table>\n",
       "</div>"
      ],
      "text/plain": [
       "  wt mut  prot_pos\n",
       "0  C   Y       271"
      ]
     },
     "execution_count": 156,
     "metadata": {},
     "output_type": "execute_result"
    }
   ],
   "source": [
    "pmd_df[[\"pmd_nr_id\", \"prot_pos\"]].value_counts()\n",
    "pmd_df[(pmd_df[\"pmd_nr_id\"]==\"A000006_2\") & (pmd_df[\"prot_pos\"]==271)][[\"wt\", \"mut\", \"prot_pos\"]]"
   ]
  },
  {
   "cell_type": "code",
   "execution_count": 157,
   "metadata": {},
   "outputs": [
    {
     "name": "stdout",
     "output_type": "stream",
     "text": [
      "#-of rows mapped to rs-ids (2311, 49)\n",
      "#-rows not mapped to rs-ids (4999, 49)\n"
     ]
    }
   ],
   "source": [
    "print(\"#-of rows mapped to rs-ids\", pmd_df[pmd_df[\"rs_dbSNP\"]!=\".\"].shape)  \n",
    "print(\"#-rows not mapped to rs-ids\", pmd_df[pmd_df[\"rs_dbSNP\"]==\".\"].shape)"
   ]
  },
  {
   "cell_type": "code",
   "execution_count": 158,
   "metadata": {},
   "outputs": [
    {
     "name": "stdout",
     "output_type": "stream",
     "text": [
      "['DIRECT1' 'S10AA_RABIT' 'B45022' 'PPIA_PONPY' 'FKB1A_RABIT' 'A60386']\n",
      "[]\n"
     ]
    },
    {
     "data": {
      "text/plain": [
       "(7310, 49)"
      ]
     },
     "execution_count": 158,
     "metadata": {},
     "output_type": "execute_result"
    }
   ],
   "source": [
    "print(pmd_df[pmd_df[\"crossref\"].apply(lambda x: False if \"HUMAN\" in x else True)][\"crossref\"].unique())\n",
    "print(pmd_df[pmd_df[\"source\"].apply(lambda x: False if \"Human\" in str(x) else True)][\"source\"].unique())\n",
    "pmd_df[pmd_df[\"source\"].apply(lambda x: True if \"Human\" in str(x) else False)].shape"
   ]
  }
 ],
 "metadata": {
  "kernelspec": {
   "display_name": "hopper_variant_effect_analysis_mine",
   "language": "python",
   "name": "python3"
  },
  "language_info": {
   "codemirror_mode": {
    "name": "ipython",
    "version": 3
   },
   "file_extension": ".py",
   "mimetype": "text/x-python",
   "name": "python",
   "nbconvert_exporter": "python",
   "pygments_lexer": "ipython3",
   "version": "3.8.6"
  },
  "orig_nbformat": 4
 },
 "nbformat": 4,
 "nbformat_minor": 2
}
