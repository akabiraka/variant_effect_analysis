{
 "cells": [
  {
   "cell_type": "code",
   "execution_count": 61,
   "metadata": {},
   "outputs": [],
   "source": [
    "import os\n",
    "import sys\n",
    "module_path = os.path.abspath(os.path.join('..'))\n",
    "if module_path not in sys.path:\n",
    "    sys.path.append(module_path)\n",
    "home_dir = \"../\"\n",
    "\n",
    "import pandas as pd"
   ]
  },
  {
   "cell_type": "code",
   "execution_count": 70,
   "metadata": {},
   "outputs": [
    {
     "name": "stdout",
     "output_type": "stream",
     "text": [
      "(2744, 72)\n",
      "Index(['mut_id', 'md5', 'pmd_id', 'nr', 'authors', 'journal', 'title',\n",
      "       'medline', 'crossref', 'uniprot_id', 'ensembl_id', 'other_ref',\n",
      "       'protein', 'source', 'expression_sys', 'mut_PMD', 'mut_real',\n",
      "       'function', 'fb', 'structure', 'strB', 'stability', 'staB',\n",
      "       'expression', 'eB', 'transport', 'tB', 'maturation', 'mB', 'disease',\n",
      "       'dB', 'uni_real', 'uni_realid', 'uni_start', 'uni_finish', 'uniq_start',\n",
      "       'uniq_finish', 'uni_loc', 'ens_real', 'ens_organism', 'ens_start',\n",
      "       'ens_finish', 'ensq_start', 'ensq_finish', 'ens_loc', 'pos_real',\n",
      "       'mt_real', 'taxid', 'wt', 'mut', 'prot_pos', 'function_summarized',\n",
      "       'functional_effect', 'gene_symbol', 'gene_SP', 'description', 'seq',\n",
      "       'snp_id', 'mrna_acc', 'mrna_ver', 'mrna_pos', 'allele', 'protein_acc',\n",
      "       'protein_ver', 'verified', 'chrom', 'chrom_pos', 'variation',\n",
      "       'variant_type', 'ref_allele', 'alt_allele', 'pmd_nr_id'],\n",
      "      dtype='object')\n",
      "(2657, 72)\n",
      "after removing non-human entries: (2638, 72)\n"
     ]
    }
   ],
   "source": [
    "pmd_df = pd.read_csv(home_dir+\"data/pmd/pmd_with_rsids.tsv\", sep=\"\\t\")\n",
    "print(pmd_df.shape)\n",
    "print(pmd_df.columns)\n",
    "\n",
    "pmd_df.drop_duplicates(keep=\"first\", ignore_index=True, inplace=True)\n",
    "print(pmd_df.shape) \n",
    "\n",
    "pmd_df = pmd_df[pmd_df[\"source\"].apply(lambda x: True if \"Human\" in str(x) else False)] # only keeping human variants\n",
    "print(\"after removing non-human entries:\", pmd_df.shape)"
   ]
  },
  {
   "cell_type": "code",
   "execution_count": 71,
   "metadata": {},
   "outputs": [
    {
     "name": "stdout",
     "output_type": "stream",
     "text": [
      "(2638, 23)\n",
      "Index(['mut_id', 'md5', 'pmd_id', 'nr', 'pmd_nr_id', 'crossref', 'uniprot_id',\n",
      "       'protein', 'source', 'mut_PMD', 'mut_real', 'wt', 'mut', 'prot_pos',\n",
      "       'chrom', 'chrom_pos', 'ref_allele', 'alt_allele', 'snp_id', 'function',\n",
      "       'function_summarized', 'functional_effect', 'seq'],\n",
      "      dtype='object')\n"
     ]
    }
   ],
   "source": [
    "# chrom_pos is 1-indexed\n",
    "# snp_id is rs-id from NCBI\n",
    "info_cols = ['mut_id', 'md5', 'pmd_id', 'nr', 'pmd_nr_id', 'crossref', 'uniprot_id', 'protein', 'source', 'mut_PMD', 'mut_real', 'wt', 'mut', 'prot_pos', 'chrom', 'chrom_pos', 'ref_allele', 'alt_allele', 'snp_id', 'function', 'function_summarized', 'functional_effect']\n",
    "other_cols = ['seq']\n",
    "columns = info_cols + other_cols\n",
    "pmd_df = pmd_df[columns]\n",
    "print(pmd_df.shape)\n",
    "print(pmd_df.columns)"
   ]
  },
  {
   "cell_type": "code",
   "execution_count": 72,
   "metadata": {},
   "outputs": [
    {
     "name": "stdout",
     "output_type": "stream",
     "text": [
      "#-of sequences b4 seq-len filter 858\n",
      "#-of sequences after seq-len filter 821\n",
      "after filtering on seq-len <=1022: (2421, 23)\n"
     ]
    }
   ],
   "source": [
    "# filtering the dataset on the protein sequence len <=1022\n",
    "sequences_df = pmd_df[['pmd_nr_id', 'crossref', 'seq']].drop_duplicates(keep=\"first\")\n",
    "print(\"#-of sequences b4 seq-len filter\", sequences_df.shape[0])\n",
    "protid_seq_tuple_list = [(tuple.pmd_nr_id, tuple.seq) for tuple in sequences_df.itertuples() if len(str(tuple.seq))<=1022]\n",
    "print(\"#-of sequences after seq-len filter\", len(protid_seq_tuple_list))\n",
    "\n",
    "new_protein_acc_list = list(zip(*protid_seq_tuple_list))[0]\n",
    "pmd_df = pmd_df[pmd_df[\"pmd_nr_id\"].isin(new_protein_acc_list)]\n",
    "print(\"after filtering on seq-len <=1022:\", pmd_df.shape)"
   ]
  },
  {
   "cell_type": "code",
   "execution_count": 83,
   "metadata": {},
   "outputs": [
    {
     "data": {
      "text/plain": [
       "mut_id   md5                               pmd_id   pmd_nr_id  wt  mut  prot_pos  chrom  chrom_pos   ref_allele  alt_allele  snp_id       function                                                                                                                                                                                                                                                                                                                                                                                                                                                                                                                                                                                                                                                                                                                                                                                                                                    function_summarized   functional_effect\n",
       "113507   ebef07b70de3e26d617f874d57f3f95c  A013365  A013365_2  K   E    329       1      75761161.0  A           C           77931234.0    Enzyme activity at 31 C without [0] and with [-] GroESL chaperonins co-overexpression: Enzyme activity at 37 C without [0] and with [-] GroESL chaperonins co-overexpression                                                                                                                                                                                                                                                                                                                                                                                                                                                                                                                                                                                                                                                               ['0', '-', '0', '-']  Knock-out            1\n",
       "203765   c133dfce69f606f20865e9008199f852  A016348  A016348_1  R   H    175       17     7675088.0   C           G           28934578.0    Able to bind Hsp40 in the absence of Hsc70 and ATP, like WT.: Binding affinity for Hsc70 in the presence of Hsp40 and ATP [=]: The anti-apoptotic factor Bag-1 can dissociate Hsc70 from a p53R175H-Hsp40-Hsc70 complex as well as a WT p53-Hsp40-Hsc70 complex.: Binding affinity for Hsp90 [- - -]: Forms a stable heterocomplex with Hsp90 only in the presence of Hsc70, Hsp40, Hop and ATP. (WT p53 forms a stable complex with Hsp90 and the presence of Hsp90 in the complex inhibits the binding of Hsp40 and Hsc70.): The p53R175H-Hsp40-Hsc70-Hop-Hsp90 multiple chaperone complex displays resistance to Bag-1-mediated dissociation. (Bag-1 can dissociate a WT p53-chaperone complex.)                                                                                                                                        ['=', '---']          Effect               1\n",
       "                                           A016353  A016353_1  R   H    175       17     7675088.0   C           A           28934578.0    Interacts with p73alpha, p73beta, p73gamma, and p73delta in transfected cells. (WT p53 cannot bind detectably to any of them in transfected cells.): Transcriptional activity [0]: Inhibits WT p53 transcriptional activity.: Inhibits p73alpha transcriptional activity, unlike WT p53: Interacts with p63alpha and p63gamma in transfected cells. (WT p53 cannot bind detectably to either of them in transfected cells.): Interacts with the truncated p63 isoform, deltaNp63alpha and deltaNp63gamma in transfected cells. (WT p53 cannot bind detectably to either of them in transfected cells.): Inhibits p63gamma transcriptional activity, unlike WT p53.: Purified R175H interacts with p73beta in vitro. (Unexpectedly, purified WT p53 interacts with p73beta in vitro.): Binds to HSC70 in transfected cells, unlike WT p53.  ['0']                 Knock-out            1\n",
       "                                                                                                                 G           28934578.0    Interacts with p73alpha, p73beta, p73gamma, and p73delta in transfected cells. (WT p53 cannot bind detectably to any of them in transfected cells.): Transcriptional activity [0]: Inhibits WT p53 transcriptional activity.: Inhibits p73alpha transcriptional activity, unlike WT p53: Interacts with p63alpha and p63gamma in transfected cells. (WT p53 cannot bind detectably to either of them in transfected cells.): Interacts with the truncated p63 isoform, deltaNp63alpha and deltaNp63gamma in transfected cells. (WT p53 cannot bind detectably to either of them in transfected cells.): Inhibits p63gamma transcriptional activity, unlike WT p53.: Purified R175H interacts with p73beta in vitro. (Unexpectedly, purified WT p53 interacts with p73beta in vitro.): Binds to HSC70 in transfected cells, unlike WT p53.  ['0']                 Knock-out            1\n",
       "                                                                                                                 T           28934578.0    Interacts with p73alpha, p73beta, p73gamma, and p73delta in transfected cells. (WT p53 cannot bind detectably to any of them in transfected cells.): Transcriptional activity [0]: Inhibits WT p53 transcriptional activity.: Inhibits p73alpha transcriptional activity, unlike WT p53: Interacts with p63alpha and p63gamma in transfected cells. (WT p53 cannot bind detectably to either of them in transfected cells.): Interacts with the truncated p63 isoform, deltaNp63alpha and deltaNp63gamma in transfected cells. (WT p53 cannot bind detectably to either of them in transfected cells.): Inhibits p63gamma transcriptional activity, unlike WT p53.: Purified R175H interacts with p73beta in vitro. (Unexpectedly, purified WT p53 interacts with p73beta in vitro.): Binds to HSC70 in transfected cells, unlike WT p53.  ['0']                 Knock-out            1\n",
       "                                                                                                                                                                                                                                                                                                                                                                                                                                                                                                                                                                                                                                                                                                                                                                                                                                                                                                                                                                                                                                ..\n",
       "159019   90e23ca169b65f2b833159b51cda20c3  A930954  A930954_1  G   D    12        11     534288.0    C           T           104894230.0   Drastic oncogenic mutant: Kd for GDP [-]: Intrinsic GTPase activity [-]: GAP activation [0]: Affinity for GAP [=]                                                                                                                                                                                                                                                                                                                                                                                                                                                                                                                                                                                                                                                                                                                          ['-', '-', '0', '=']  Knock-out            1\n",
       "                                           R860146  R860146_1  G   D    12        11     534288.0    C           A           104894230.0   Transforming activity [+]                                                                                                                                                                                                                                                                                                                                                                                                                                                                                                                                                                                                                                                                                                                                                                                                                  ['+']                 Effect               1\n",
       "                                                                                                                 G           104894230.0   Transforming activity [+]                                                                                                                                                                                                                                                                                                                                                                                                                                                                                                                                                                                                                                                                                                                                                                                                                  ['+']                 Effect               1\n",
       "                                                                                                                 T           104894230.0   Transforming activity [+]                                                                                                                                                                                                                                                                                                                                                                                                                                                                                                                                                                                                                                                                                                                                                                                                                  ['+']                 Effect               1\n",
       "1073805  e52a3c9f31ad6401dd88c1ea278aac47  A993683  A993683_5  G   R    329       17     46024010.0  G           C           63750512.0    Ability to promote microtubule assembly [-]                                                                                                                                                                                                                                                                                                                                                                                                                                                                                                                                                                                                                                                                                                                                                                                                ['-']                 Effect               1\n",
       "Length: 2421, dtype: int64"
      ]
     },
     "execution_count": 83,
     "metadata": {},
     "output_type": "execute_result"
    }
   ],
   "source": [
    "pmd_df[['mut_id', 'md5', 'pmd_id', 'pmd_nr_id', 'wt', 'mut', 'prot_pos', 'chrom', 'chrom_pos', 'ref_allele', 'alt_allele', 'snp_id', 'function', 'function_summarized', 'functional_effect']].value_counts()"
   ]
  },
  {
   "cell_type": "code",
   "execution_count": 76,
   "metadata": {},
   "outputs": [
    {
     "name": "stdout",
     "output_type": "stream",
     "text": [
      "(7310, 35)\n",
      "Index(['mut_id', 'md5', 'pmd_id', 'nr', 'pmd_nr_id', 'crossref', 'uniprot_id',\n",
      "       'protein', 'source', 'mut_PMD', 'mut_real', 'wt', 'mut', 'prot_pos',\n",
      "       'chrom', 'chrom_pos', 'ref_allele', 'alt_allele', 'snp_id', 'genename',\n",
      "       'ensembl_id', 'function', 'function_summarized', 'functional_effect',\n",
      "       'CADD_raw', 'MetaRNN_score', 'MVP_score', 'Polyphen2_HVAR_score',\n",
      "       'REVEL_score', 'SIFT_score', 'integrated_fitCons_score',\n",
      "       'phyloP17way_primate', 'phastCons17way_primate', 'bStatistic', 'seq'],\n",
      "      dtype='object')\n"
     ]
    },
    {
     "data": {
      "text/plain": [
       "0                                                    MC4R\n",
       "1                                                    MC4R\n",
       "2                      BDH1;BDH1;BDH1;BDH1;BDH1;BDH1;BDH1\n",
       "3                      BDH1;BDH1;BDH1;BDH1;BDH1;BDH1;BDH1\n",
       "4                                     BDH1;BDH1;BDH1;BDH1\n",
       "                              ...                        \n",
       "7305    CDKN2A;CDKN2A;CDKN2A;CDKN2A;CDKN2A;CDKN2A;CDKN...\n",
       "7306                        APEX1;APEX1;APEX1;APEX1;APEX1\n",
       "7307    APEX1;APEX1;APEX1;APEX1;APEX1;APEX1;APEX1;APEX...\n",
       "7308            APEX1;APEX1;APEX1;APEX1;APEX1;APEX1;APEX1\n",
       "7309            APEX1;APEX1;APEX1;APEX1;APEX1;APEX1;APEX1\n",
       "Name: genename, Length: 7310, dtype: object"
      ]
     },
     "execution_count": 76,
     "metadata": {},
     "output_type": "execute_result"
    }
   ],
   "source": [
    "pmd_dbnsfp_df = pd.read_csv(home_dir+\"data/pmd/pmd_with_dbnsfp.tsv\", sep=\"\\t\")\n",
    "pmd_dbnsfp_df.rename(columns={'#chr':'chrom', 'pos(1-based)':'chrom_pos', 'ref':'ref_allele', 'alt':'alt_allele', 'rs_dbSNP':'snp_id'}, inplace=True)\n",
    "print(pmd_dbnsfp_df.shape)\n",
    "print(pmd_dbnsfp_df.columns)\n",
    "pmd_dbnsfp_df[\"genename\"]"
   ]
  },
  {
   "cell_type": "code",
   "execution_count": 84,
   "metadata": {},
   "outputs": [
    {
     "data": {
      "text/plain": [
       "mut_id   md5                               pmd_id   pmd_nr_id  wt  mut  prot_pos  chrom  chrom_pos  ref_allele  alt_allele  snp_id       function                                                                                                                                                                                                                                                                                                function_summarized                         functional_effect\n",
       "113507   ebef07b70de3e26d617f874d57f3f95c  A013365  A013365_2  K   E    329       1      75761161   A           G           rs77931234    Enzyme activity at 31 C without [0] and with [-] GroESL chaperonins co-overexpression: Enzyme activity at 37 C without [0] and with [-] GroESL chaperonins co-overexpression                                                                                                                           ['0', '-', '0', '-']                        Knock-out            1\n",
       "1032438  e7908c448c709fe31de79c7631f67bb5  A920489  A920489_1  R   S    334       8      42180573   C           G           .             Enzymatic activity on S-2288 [=], and on human plasminogen [-]: Plasminogen activator activity in the presence of fibrin [+], and in the presence of fibrinogen [=]: Plasminogen activator activity in plasma [=], and in clotted plasma [=]: Fibrin specificity [+]: Plasma clot specificity [+]      ['=', '-', '+', '=', '=', '=', '+', '+']    Effect               1\n",
       "1032435  e7908c448c709fe31de79c7631f67bb5  A920489  A920489_1  R   M    334       8      42180574   C           A           .             Enzymatic activity on S-2288 [=], and on human plasminogen [=]: Plasminogen activator activity in the presence of fibrin [=], and in the presence of fibrinogen [=]: Plasminogen activator activity in plasma [=], and in clotted plasma [=]: Fibrin specificity [+]: Plasma clot specificity [+]      ['=', '=', '=', '=', '=', '=', '+', '+']    Effect               1\n",
       "1032432  e7908c448c709fe31de79c7631f67bb5  A920489  A920489_1  R   G    334       8      42180575   T           C           .             Enzymatic activity on S-2288 [=], and on human plasminogen [-]: Plasminogen activator activity in the presence of fibrin [+], and in the presence of fibrinogen [=]: Plasminogen activator activity in plasma [-], and in clotted plasma [+]: Fibrin specificity [+ +]: Plasma clot specificity [+ +]  ['=', '-', '+', '=', '-', '+', '++', '++']  Effect               1\n",
       "1032428  e7908c448c709fe31de79c7631f67bb5  A920489  A920489_1  R   W    333       8      42180578   T           A           .             Enzymatic activity on S-2288 [=], and on human plasminogen [=]: Plasminogen activator activity in the presence of fibrin [+], and in the presence of fibrinogen [=]: Plasminogen activator activity in plasma [=], and in clotted plasma [+]: Fibrin specificity [+]: Plasma clot specificity [+]      ['=', '=', '+', '=', '=', '+', '+', '+']    Effect               1\n",
       "                                                                                                                                                                                                                                                                                                                                                                                                                                                                                                                 ..\n",
       "986663   0a476aecbb1b5b9815dc77f6f0ba5020  A002485  A002485_2  C   S    369       1      11963539   T           A           .             Activity [0]                                                                                                                                                                                                                                                                                           ['0']                                       Knock-out            1\n",
       "986662   0a476aecbb1b5b9815dc77f6f0ba5020  A002485  A002485_2  C   S    270       1      11957909   G           C           .             Activity [-] (30%)                                                                                                                                                                                                                                                                                     ['-']                                       Effect               1\n",
       "                                                                                         11957908   T           A           .             Activity [-] (30%)                                                                                                                                                                                                                                                                                     ['-']                                       Effect               1\n",
       "986661   0a476aecbb1b5b9815dc77f6f0ba5020  A002485  A002485_2  C   S    267       1      11957900   G           C           rs780952856   Activity [-] (40% of wild-type activity)                                                                                                                                                                                                                                                               ['-']                                       Effect               1\n",
       "1075062  3cb3c13e8ef22451d34573b8a4975dc8  A994552  A994552_1  Y   H    171       14     20457062   T           C           .             Specific incsion activity for F-DNA in Mg2+ [-]: Normal F-DNA binding affinity                                                                                                                                                                                                                         ['-']                                       Effect               1\n",
       "Length: 7310, dtype: int64"
      ]
     },
     "execution_count": 84,
     "metadata": {},
     "output_type": "execute_result"
    }
   ],
   "source": [
    "pmd_dbnsfp_df[['mut_id', 'md5', 'pmd_id', 'pmd_nr_id', 'wt', 'mut', 'prot_pos', 'chrom', 'chrom_pos', 'ref_allele', 'alt_allele', 'snp_id', 'function', 'function_summarized', 'functional_effect']].value_counts()"
   ]
  },
  {
   "cell_type": "code",
   "execution_count": 81,
   "metadata": {},
   "outputs": [
    {
     "data": {
      "text/plain": [
       "mut_id   md5                               pmd_id   pmd_nr_id  wt  mut  prot_pos  chrom  chrom_pos    ref_allele  alt_allele\n",
       "113507   ebef07b70de3e26d617f874d57f3f95c  A013365  A013365_2  K   E    329       1      75761161.0   A           C             1\n",
       "1027546  77a6752e78a958ef63657837ceb1f66c  A910709  A910709_1  C   S    64        2      127421403.0  G           C             1\n",
       "1028445  94eb709966e01fbc15dc1c46a0d03ac5  A910888  A910888_1  V   A    121       8      85474334.0   T           C             1\n",
       "1028439  94eb709966e01fbc15dc1c46a0d03ac5  A910885  A910885_1  V   L    142       8      85474396.0   G           C             1\n",
       "1028438  94eb709966e01fbc15dc1c46a0d03ac5  A910885  A910885_1  V   I    142       8      85474396.0   G           A             1\n",
       "                                                                                                                               ..\n",
       "931308   77a6752e78a958ef63657837ceb1f66c  A014435  A014435_1  R   W    394       2      127428740.0  C           T             1\n",
       "931290   77a6752e78a958ef63657837ceb1f66c  A010355  A010355_1  R   Q    271       2      127428372.0  G           A             1\n",
       "                                           A010354  A010354_1  R   Q    271       2      127428372.0  G           A             1\n",
       "931268   77a6752e78a958ef63657837ceb1f66c  A941682  A941682_1  E   D    49        2      127421359.0  G           T             1\n",
       "1075062  3cb3c13e8ef22451d34573b8a4975dc8  A994552  A994552_1  Y   H    171       14     20457062.0   T           C             1\n",
       "Length: 8536, dtype: int64"
      ]
     },
     "execution_count": 81,
     "metadata": {},
     "output_type": "execute_result"
    }
   ],
   "source": [
    "columns = ['mut_id', 'md5', 'pmd_id', 'pmd_nr_id', 'wt', 'mut', 'prot_pos', 'chrom', 'chrom_pos', 'ref_allele', 'alt_allele']\n",
    "x = pmd_df[['mut_id', 'md5', 'pmd_id', 'pmd_nr_id', 'wt', 'mut', 'prot_pos', 'chrom', 'chrom_pos', 'ref_allele', 'alt_allele']]\n",
    "y = pmd_dbnsfp_df[['mut_id', 'md5', 'pmd_id', 'pmd_nr_id', 'wt', 'mut', 'prot_pos', 'chrom', 'chrom_pos', 'ref_allele', 'alt_allele']]\n",
    "z = pd.merge(x, y, how='outer', on=columns)\n",
    "# z.to_csv(home_dir+\"data/pmd/pmd_x.tsv\", sep=\"\\t\", index=False)\n",
    "z.shape\n",
    "z.value_counts()"
   ]
  },
  {
   "cell_type": "code",
   "execution_count": 82,
   "metadata": {},
   "outputs": [
    {
     "data": {
      "text/plain": [
       "1226"
      ]
     },
     "execution_count": 82,
     "metadata": {},
     "output_type": "execute_result"
    }
   ],
   "source": [
    "8536-7310"
   ]
  }
 ],
 "metadata": {
  "kernelspec": {
   "display_name": "hopper_variant_effect_analysis_mine",
   "language": "python",
   "name": "python3"
  },
  "language_info": {
   "codemirror_mode": {
    "name": "ipython",
    "version": 3
   },
   "file_extension": ".py",
   "mimetype": "text/x-python",
   "name": "python",
   "nbconvert_exporter": "python",
   "pygments_lexer": "ipython3",
   "version": "3.8.6"
  },
  "orig_nbformat": 4
 },
 "nbformat": 4,
 "nbformat_minor": 2
}
