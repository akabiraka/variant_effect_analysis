{
 "cells": [
  {
   "cell_type": "code",
   "execution_count": 1,
   "metadata": {},
   "outputs": [],
   "source": [
    "import os\n",
    "import sys\n",
    "home_dir = \"../\"\n",
    "module_path = os.path.abspath(os.path.join(home_dir))\n",
    "if module_path not in sys.path:\n",
    "    sys.path.append(module_path)\n",
    "\n",
    "import pandas as pd\n",
    "from typing import List\n",
    "# see notes/mysql to find from where and how the data [SNPs_dbSNP, SNPs_PMD and seqs_PMD] is downloaded"
   ]
  },
  {
   "cell_type": "code",
   "execution_count": 2,
   "metadata": {},
   "outputs": [],
   "source": [
    "# extract functional annotation\n",
    "def summarize_functional_effect(mut_function):\n",
    "    # print(mut_function)\n",
    "    mut_function = str(mut_function)\n",
    "    effects = []\n",
    "    effect = \"\"\n",
    "    flag = False\n",
    "    for i, ch in enumerate(mut_function):\n",
    "        if ch=='[':\n",
    "            flag = True\n",
    "            continue\n",
    "        if flag and ch in ['-', '+'] and mut_function[i+1] in ['-', '+', ']', ' ']:\n",
    "            effect += ch\n",
    "        elif flag and ch == '=':\n",
    "            effects.append('=')\n",
    "        elif flag and ch == '0' and mut_function[i+1]==\"]\":\n",
    "            effects.append('0')\n",
    "            \n",
    "        if ch==\"]\":\n",
    "            flag = False\n",
    "            if len(effect)>0: effects.append(effect)\n",
    "            effect=\"\"\n",
    "    \n",
    "    if len(effects)>0: return effects\n",
    "    else: return \"\"\n",
    "\n",
    "def get_functional_effect(effects):\n",
    "    counts = [] \n",
    "    functional_effect = \"\"\n",
    "    for ef in effects:\n",
    "        if \"0\" in ef:\n",
    "            return \"Knock-out\"\n",
    "        elif \"=\" in ef:\n",
    "            functional_effect = \"No-effect\"\n",
    "        else:\n",
    "            counts.append(len(ef)-2)\n",
    "\n",
    "    \n",
    "    if len(counts)==0 and functional_effect==\"No-effect\": return \"No-effect\"\n",
    "    elif max(counts)<3: return \"Effect\"\n",
    "    else: return \"Knock-out\""
   ]
  },
  {
   "cell_type": "code",
   "execution_count": 3,
   "metadata": {},
   "outputs": [
    {
     "name": "stderr",
     "output_type": "stream",
     "text": [
      "/tmp/ipykernel_2892146/1643291490.py:2: ParserWarning: Falling back to the 'python' engine because the 'c' engine does not support regex separators (separators > 1 char and different from '\\s+' are interpreted as regex); you can avoid this warning by specifying engine='python'.\n",
      "  raw_pmd_df = pd.read_csv(home_dir+\"data/SNPdbe/SNPs_PMD.csv\", sep=\"\\t;\") # PMD: from SNPdbe # (127565, 48)\n"
     ]
    },
    {
     "name": "stdout",
     "output_type": "stream",
     "text": [
      "(65128, 48)\n",
      "Index(['mut_id', 'md5', 'pmd_id', 'nr', 'authors', 'journal', 'title',\n",
      "       'medline', 'crossref', 'uniprot_id', 'ensembl_id', 'other_ref',\n",
      "       'protein', 'source', 'expression_sys', 'mut_PMD', 'mut_real',\n",
      "       'function', 'fb', 'structure', 'strB', 'stability', 'staB',\n",
      "       'expression', 'eB', 'transport', 'tB', 'maturation', 'mB', 'disease',\n",
      "       'dB', 'uni_real', 'uni_realid', 'uni_start', 'uni_finish', 'uniq_start',\n",
      "       'uniq_finish', 'uni_loc', 'ens_real', 'ens_organism', 'ens_start',\n",
      "       'ens_finish', 'ensq_start', 'ensq_finish', 'ens_loc', 'pos_real',\n",
      "       'mt_real', 'taxid'],\n",
      "      dtype='object')\n"
     ]
    }
   ],
   "source": [
    "# loading SNPs_PMD table\n",
    "raw_pmd_df = pd.read_csv(home_dir+\"data/SNPdbe/SNPs_PMD.csv\", sep=\"\\t;\") # PMD: from SNPdbe # (127565, 48)\n",
    "raw_pmd_df = raw_pmd_df[(raw_pmd_df[\"function\"]!=\";\\\\N\") & (raw_pmd_df[\"function\"]!=\"\\\\N\")]  # (72738, 48)\n",
    "raw_pmd_df = raw_pmd_df[raw_pmd_df[\"function\"].apply(lambda x: \"[\" in x)] # removing rows that does not have functional effect annotations (65128, 48)\n",
    "# print(raw_pmd_df.shape) \n",
    "\n",
    "# raw_pmd_df = raw_pmd_df.copy(deep=True)\n",
    "# raw_pmd_df[\"wt\"] = raw_pmd_df[\"mut_real\"].apply(lambda x: x[0]) # 1-letter amino acid\n",
    "# raw_pmd_df[\"mut\"] = raw_pmd_df[\"mut_real\"].apply(lambda x: x[-1])\n",
    "# raw_pmd_df[\"prot_pos\"] = raw_pmd_df[\"mut_real\"].apply(lambda x: int(x[1:-1])) # mutation position is 1-indexed\n",
    "\n",
    "# raw_pmd_df[\"function_summarized\"] = raw_pmd_df[\"function\"].apply(summarize_functional_effect)\n",
    "# raw_pmd_df = raw_pmd_df[raw_pmd_df[\"function_summarized\"].apply(lambda x:  len(x)>0)] # removing rows that does not have any functional effect annotations (64750, 50)\n",
    "# raw_pmd_df[\"functional_effect\"] = raw_pmd_df[\"function_summarized\"].apply(get_functional_effect)\n",
    "\n",
    "print(raw_pmd_df.shape) \n",
    "print(raw_pmd_df.columns)"
   ]
  },
  {
   "cell_type": "code",
   "execution_count": 45,
   "metadata": {},
   "outputs": [],
   "source": [
    "### PMD data merging with gene information\n",
    "# gene_df = pd.read_csv(home_dir+\"data/SNPdbe/md52keywords.tsv\", sep=\"\\t\")\n",
    "# print(gene_df.shape) \n",
    "# print(gene_df.columns)\n",
    "# gene_df = gene_df[(gene_df[\"gene_SP\"]!=\";\\\\N\") & (gene_df[\"gene_SP\"]!=\"\\\\N\") & (~pd.isna(gene_df[\"gene_SP\"]))] # (147349, 4)\n",
    "# print(gene_df.shape) \n",
    "# print(gene_df.columns)\n",
    "# pmd_df = pd.merge(left=pmd_df, right=gene_df, on=\"md5\", how=\"left\")\n",
    "# print(pmd_df.shape) \n",
    "# print(pmd_df.columns)\n",
    "\n",
    "# print(pmd_df[\"gene_SP\"].unique().shape)\n",
    "# pmd_df[\"gene_SP\"].value_counts()"
   ]
  },
  {
   "cell_type": "code",
   "execution_count": 46,
   "metadata": {},
   "outputs": [],
   "source": [
    "### PMD data merging with corresponding sequences\n",
    "# seq_pmd_df = pd.read_csv(home_dir+\"data/SNPdbe/seqs_PMD.csv\", sep=\"\\t;\") # PMD: from SNPdbe # (127565, 48)\n",
    "# seq_pmd_df.drop(columns=[\"taxid\", \"md5\"], inplace=True)\n",
    "# print(seq_pmd_df.shape) \n",
    "# print(seq_pmd_df.columns)\n",
    "\n",
    "# pmd_df = pd.merge(left=pmd_df, right=seq_pmd_df, on=[\"pmd_id\", \"nr\"], how=\"inner\")\n",
    "# # pmd_columns = [\"mut_id\", \"pmd_id\", \"nr\", \"crossref\", \"uniprot_id\", \"ensembl_id\", \"taxid\", \"protein\", \"mut_PMD\", \"mut_real\", 'wt', 'mut', 'prot_pos', 'function_summarized', 'functional_effect', \"function\", \"seq\"]\n",
    "# # pmd_df = pmd_df[pmd_columns]\n",
    "# print(pmd_df.shape) \n",
    "# print(pmd_df.columns)\n",
    "# pmd_df[[\"pmd_id\", \"mut_real\", \"seq\"]]\n",
    "\n",
    "# # seq = seq_pmd_df[(seq_pmd_df[\"pmd_id\"]==\"A000006\") & (seq_pmd_df[\"nr\"]==2)][\"seq\"].values[0]\n",
    "# # print(seq[270])\n",
    "# # pmd_df.iloc[0]"
   ]
  },
  {
   "cell_type": "code",
   "execution_count": 4,
   "metadata": {},
   "outputs": [
    {
     "name": "stderr",
     "output_type": "stream",
     "text": [
      "/tmp/ipykernel_2892146/2419898665.py:2: ParserWarning: Falling back to the 'python' engine because the 'c' engine does not support regex separators (separators > 1 char and different from '\\s+' are interpreted as regex); you can avoid this warning by specifying engine='python'.\n",
      "  dbSNP_df = pd.read_csv(home_dir+\"data/SNPdbe/SNPs_dbSNP.csv\", sep=\"\\t;\") # dbSNP: from SNPdbe\n"
     ]
    },
    {
     "name": "stdout",
     "output_type": "stream",
     "text": [
      "(1526352, 33)\n",
      "Index(['mut_id', 'snp_id', 'mrna_acc', 'mrna_ver', 'mrna_pos', 'allele',\n",
      "       'protein_acc', 'protein_ver', 'verified'],\n",
      "      dtype='object')\n"
     ]
    }
   ],
   "source": [
    "# loading PMD SNPs_dbSNP table\n",
    "dbSNP_df = pd.read_csv(home_dir+\"data/SNPdbe/SNPs_dbSNP.csv\", sep=\"\\t;\") # dbSNP: from SNPdbe\n",
    "dbSNP_df = dbSNP_df[(dbSNP_df[\"mut_id\"]!=\";\\\\N\") & (dbSNP_df[\"mut_id\"]!=\"\\\\N\")] # (1780330, 34)\n",
    "dbSNP_df.drop(columns=[\"taxid\"], inplace=True)\n",
    "\n",
    "dbSNP_df = dbSNP_df.astype({'mut_id': 'int64'})\n",
    "print(dbSNP_df.shape) # (1526352, 34)\n",
    "# print(dbSNP_df.columns)\n",
    "\n",
    "# column description can be found here: https://www.rostlab.org/services/snpdbe/docu/schema.pdf\n",
    "# protein pos is 0-indexed\n",
    "dbSNP_cols = [\"mut_id\", \"snp_id\", \"mrna_acc\", \"mrna_ver\", \"mrna_pos\", \"allele\",  \"protein_acc\", \"protein_ver\", \"verified\"]\n",
    "dbSNP_df = dbSNP_df[dbSNP_cols]\n",
    "print(dbSNP_df.columns)"
   ]
  },
  {
   "cell_type": "code",
   "execution_count": 5,
   "metadata": {},
   "outputs": [
    {
     "data": {
      "text/plain": [
       "(1376581, 2)"
      ]
     },
     "execution_count": 5,
     "metadata": {},
     "output_type": "execute_result"
    }
   ],
   "source": [
    "mutid_snpid_pair_df = dbSNP_df[[\"mut_id\", \"snp_id\"]].drop_duplicates(keep=\"first\")\n",
    "mutid_snpid_pair_df.shape"
   ]
  },
  {
   "cell_type": "code",
   "execution_count": 6,
   "metadata": {},
   "outputs": [
    {
     "name": "stdout",
     "output_type": "stream",
     "text": [
      "(1817, 49)\n",
      "Index(['mut_id', 'md5', 'pmd_id', 'nr', 'authors', 'journal', 'title',\n",
      "       'medline', 'crossref', 'uniprot_id', 'ensembl_id', 'other_ref',\n",
      "       'protein', 'source', 'expression_sys', 'mut_PMD', 'mut_real',\n",
      "       'function', 'fb', 'structure', 'strB', 'stability', 'staB',\n",
      "       'expression', 'eB', 'transport', 'tB', 'maturation', 'mB', 'disease',\n",
      "       'dB', 'uni_real', 'uni_realid', 'uni_start', 'uni_finish', 'uniq_start',\n",
      "       'uniq_finish', 'uni_loc', 'ens_real', 'ens_organism', 'ens_start',\n",
      "       'ens_finish', 'ensq_start', 'ensq_finish', 'ens_loc', 'pos_real',\n",
      "       'mt_real', 'taxid', 'snp_id'],\n",
      "      dtype='object')\n"
     ]
    }
   ],
   "source": [
    "# mapping PMD rows to rs-ids\n",
    "pmd_with_rsids_df = pd.merge(left=raw_pmd_df, right=mutid_snpid_pair_df, how=\"inner\", on=\"mut_id\")\n",
    "print(pmd_with_rsids_df.shape)\n",
    "print(pmd_with_rsids_df.columns)"
   ]
  },
  {
   "cell_type": "code",
   "execution_count": 7,
   "metadata": {},
   "outputs": [
    {
     "name": "stdout",
     "output_type": "stream",
     "text": [
      "1192\n"
     ]
    },
    {
     "data": {
      "text/plain": [
       "'121913562 121913566 80358221 56053615 61751374 61750146 61751402 1800555 61750646 1800548 1800553 61750639 62645940 76157638 121909203 61753034 61751392 1801466 1800552 61748536 61750152 61749450 61750135 179363882 121917869 121917867 114025668 61732239 121908737 28941471 119450941 121908522 121908524 121908529 121908523 121908525 4426527 34116584 671 145078268 1800546 77718928 78340951 118204430 151052374 4547 145467699 138840536 121918008 34605986 63751122 121909571 121909556 139392083 121912713 1130409 33956927 121912727 147210663 1801689 1801690 121912442 121912438 121912432 139629762 71581996 104894897 104894888 59962885 121913000 121913002 61726464 121913001 61726465 121913003 121434566 79184941 78311289 121913105 28928868 1138272 1695 28936396 121909308 148640446 80356482 113993946 143517122 137852783 148698650 118204082 118204067 104893747 56268439 28934905 28934907 28934904 28935468 28934906 121913560 13447332 63750376 63750129 63751438 63750570 74315448 74315447 2234916 137853096 28937597 132630303 118204443 118204438 118204435 118204442 118204437 118204441 118204444 118204446 118204436 121964866 72552734 104893977 151344537 190549838 104893751 68026851 72554308 111033244 111033308 80338848 28939086 121909218 137852697 137852696 62516092 62507279 62516101 28939673 104894173 62619919 28939674 104894174 28939671 104894178 63751141 63751037 79658334 104894230 104893981 751141 121909301 121909303 72554662 63750756 63750424 63751273 121918000 121918002 121918001 4986790 4986791 137853247 121964858 121964855 121964857 121964856 121434597 113578517 104894758 104894759 121909653 121909651 121909652 55667289 121909650 104894749 104894748 120074187 74462309 28940572 74315453 28940571 104893878 104893877 74315439 28939374 121908415 28939376 121908417 28939375 121908416 104894848 121913634 121913632 4994 121434582 121909675 28934575 28934271 121912659 28934578 121912651 28934576 35414700 74315507 121907913 121918397 111033593 62638191 62638182 104894374 62638193 62638185 28934882 119103215 28934881 119103213 28934883 119103219 119103221 119103220 150591260 61749418 1800551 1762111 28938473 1800550 1800549 61754030 139655975 121912703 121909504 79281338 75002628 63750526 63751235 63750306 137853104 28931573 28941472 145138923 121434255 28897696 80357064 1799950 28934895 79761867 137852872 137852870 137852873 128620183 115129687 3732880 121907950 116840789 121909276 116840773 121909277 116840805 116840778 121909278 28939087 10509681 66501115 11572080 4987161 28371759 4986910 4986913 104893706 104893701 104893708 80357410 80357498 28897672 80357406 80357000 80357163 80356929 80357382 80356880 80357017 17879961 137853007 121912431 80265967 5742905 121964970 121964971 121434622 121965074 80338897 121965073 121965078 11555096 32817201 121909672 28933070 121909673 121917877 80359814 28371560 4988496 139763309 4988498 111033780 111033715 111033773 111033687 2070074 111033721 75391579 111033735 111033754 111033800 111033658 111033690 111033817 111033701 111033796 2230288 121908311 421016 76763715 76910485 80356771 104893914 104893913 104893909 121909750 28928905 28936703 1800562 119481080 50492298 104893858 121918101 137852510 121918352 35761929 121918351 137852624 147181709 104894575 104894578 120074180 120074195 121909141 121909143 121909142 104893843 104893842 104893848 121912953 77931234 121434281 121434283 121434280 2236700 1044498 74315492 74315493 1801133 1801131 28934897 104894363 104894368 121913658 28933099 104894369 137854451 28929493 137854448 137854450 28929494 137854449 121909249 104893758 121434598 137852695 148412181 62652721 118203925 62652693 74603784 62652698 75193786 62652700 76394784 104894179 28938169 28939672 104893761 5938 28936379 63750215 63751229 63750231 661 63751309 63750543 63750301 63750004 63751416 63749962 74315403 74315411 142771326 1805076 137853259 113403872 76087194 76534745 75075748 77316810 75076352 144029481 122454125 121908572 121908571 121908573 121908574 121913295 118192170 63749869 118192150 118192176 111033627 79389353 121908484 121908479 77301881 76163360 75660264 104893926 76871093 104893925 104893922 104894160 104894158 104894161 137852677 2071203 104894778 104894771 104894772 104894768 104894769 104894773 104894777 104894381 104894378 121918687 121918697 137853130 137853129 128620184 1799899 121918079 113994174 187322901 28941775 5030824 5030804 5030821 5030827 104893824 5030809 104893826 104894756 104894760 121909798 121909796 104894504 121918447 121913507 151344462 121912662 121912664 33974228 118204095 118204101 118204096 119481075 119481077 121907987 80358220 121912744 28929477 104894338 28931580 149659001 62542743 139297434 4008659 104894328 121913448 121913449 121913459 121913461 28937590 80357492 36209567 63750959 63751165 114459867 63750416 63750635 79738788 121918394 137852238 137852482 80356668 62623459 121913529 121913530 121913254 121913233 121909607 137852494 137852485 121909547 118203931 118203932 121913496 11554290 104894229 17851045 121917756 104894226 104894228 121918102 121913250 149800596 151344534 121909551 121913088 121918477 121912712 104894453 76285851 121909550 121909554 72552710 121918478 137852230 121434595 33918343 121918393 28999113 28930970 121908714 121909557 28929468 121909558 121909555 121909552 121909553 429358 769455 7412 11548791 137852481 137852528 137852529 137852530 28931569 121913237 121918381 121909790 121909791 137852266 76901040 79527524 121909549 121964925 28940870 121907948 28930978 121909548 121912717 137852243 137852225 137852233 137852249 137852260 137852234 137852236 137852232 137852259 137852268 28935499 5907 137852479 121913091 121918480 1804495 137852264 121909605 28942085 104894831 121909533 121909563 118204057 121908739 121908738 121908740 121908736 28929469 121918392 137852265 137852241 137852240 137852242 121964939 118204056 28931568 121918479 121918445 77645174 121918395 61753185 138310841 41295257 148474991 118204061 118204062 1048994 3189053 1048991 71421642 1130341 1048992 118204063 121965006 62652713 5030851 180710258 1041981 142541719 61754393 104894830 138567132 137852274 121909610 41449150 121908050 118204064 28934893 118204059 118204060 62508588 62514927 143312735 104893908 1800458 137852275 137852433 28933673 137852458 137852397 28933679 137852395 28933672 28933675 137852472 137852422 28937298 137852453 137852461 28936970 137852464 28937277 137852416 28937278 137852417 137852460 28937269 137852406 28937275 137852412 116555717 104894135 28940585 121964926 137852254 137852269 121908048 121908049 28933688 1071748 17433856 17433877 1136757 113281514 10805890 104894506 5036 78574148 79047363 79228041 77544362 80002911 104894137 121909620 121909609 121909618 111033663 121918444 28934896 121917789 121965007 121965009 52795188 1050086 28933689 121918072 121918069 121918070 104894974 104894959 104894964 104894969 104894957 141614092 28940880 62645911 121908011 62645921 104894313 17415673 62645918 1126809 61754388 63750445 63751263 121965043 1800456 121965044 121965039 121965040 121965042 104893755 137852532 121909567 74315293 137852376 137852375 5331 121909566 121909564 72656324 66721653 72653143 72653154 121907947 121918446 118204075 118204068 118204069 112909524 121912983 121912982 137852299 79377490 63750264 28933390 8154453 104894656 63750671 63750579 121912759 121908722 121908721 121908719 111033792 118204072 118204073 118204071 118204076 137852541 137852540 121912439 121912436 121912435 4882 121912722 121912720 121912721 78310315 121434534 118203933 72653172 72654797 72656306 72656317 72656330 72653137 150525536 121964928 28933677 28937305 137852468 28933681 137852387 28937289 28933670 28937293 137852445 28933674 28935213 137852393 28935202 111033613 28937294 137852426 137852427 28936969 137852414 28935216 137852403 137852428 137852459 28937281 137852420 28937272 28935201 137852358 28937268 137852404 28937282 137852430 137852431 104893863 104893864 121909569 17355168 74315294 2303790 33937393 35209591 33966487 34831026 33918778 79908535 121913631 121913624 78869449 137854541 137854542 28934603 137854544 137854543 121918071 28933980 76992529 28933979 72554339 72556293 104894658 121434278 28940574 28940279 4482466 180965157 121964941 137852300 121918408 72555399 1064588 74446775 1059455 74452350 41559117 79993619 74971492 1071742 41552219 2075684 80321556 1136683 75646802 1059460 76523677 268 118204078 137854550 34377097 2234922 17417482 1051740 28935478 121908097 121908098 151219882 121912443 121912444 1799895 121912434 121912437 121912441 121434529 121434530 28935496 104894757 121913016 121918148 121918149 1042714 1042713 38123790 28936082 104894838 28935194 104894837 28935493 121907982 137852301 121909546 147676453 104894329 104894326 149707394 104893770 29001653 104893769 104893790 62625011 72551353 72551342 72551345 72551343 28939068 700519 149541409 118204039 118204037 3894326 28362459 17855739 778805 104894438 104894433 143385179 111700736 137852504 28934571 121913343 104894274 104894273 121912445 118204002 118204001 118204004 118204003 104894968 148450964 709055 1131275 1131215 707912 151341295 41562914 41551516 3180380 142318374 41562613 1131201 138659308 151341188 41548113 12697943 145937432 41540317 41542423 41563312 141484466 151341168 151341195 41562013 151341218 9266150 137966817 2596492 148606135 121918057 121918692 104893948 28941474 5030857 121918324 121918010 121918016 140549609 104893942 121964938 17683430 33954001 17683011 121917887 121913547 138742870 121918060 121918061 28935484 74462743 1141814 74731340 104894177 121909309 137853249 121912455 121913548 67120076 181030365 121912460 121918686 121918706 121918707 121918693 121913046 137852279 121909221 66724222 72558454 119481078 2066479 119481079 121964997 137852305 699 121912749 121912842 121912843 9332739 11547328 61754278 104894139 121964932 121909365 28936702 104893837 28933074 149089920 72558409 121434599 62642932 28934900 118203921 62642930 62642931 5030847 62644503 62514951 63749805 121917733 28936676 121913014 1799958 121908004 1800556 28940872 57443665 121908096 121918009 118204017 121907985 1052133 121908727 121908715 121908726 121908732 121908723 121908730 151344535 121908725 121908734 28930969 121908717 121908733 28930971 121908735 121908716 121908731 104893967 63750646 28929489 104894201 35486059 80358219 35887327 28936073 104894800 28935174 104894657 11552822 121918399 104894332 104893989 104893993 104894673 74315304 74315302 28934891 1800566 104894159 3026906 137852231 72547567 72547568 72547576 72547563 72547569 67939114 72547559 72547560 72547571 72547566 72547573 72547562 72547556 72547570 104894443 104894445 121917817 121917818 41378349 33961444 34933751 33958739 33926796 137852785 137852786 137852784 1801278 1801275 121913517 104893839 104893838 104893840 1805009 11547464 1805007 1805008 1805005 61749755 121434297 121434296 104895317 104895295 104895304 104895319 104894424 121909180 72552735 121434600 63749836 63751420 63751139 63750800 63750590 63749885 63750322 63751163 63750522 63751106 63749967 63750601 72552272 121918654 34833812 121918007 121918012 121918011 138690664 3200254 63750512 121913036 121913037 121913038 17848368 2229707 1801253 113994175 113994172 120074184 120074185 120074186 80357462 28897683 41293463'"
      ]
     },
     "execution_count": 7,
     "metadata": {},
     "output_type": "execute_result"
    }
   ],
   "source": [
    "### Download SNPs using rs-id list (work on this only once)\n",
    "snp_ids = pmd_with_rsids_df[~pd.isna(pmd_with_rsids_df[\"snp_id\"])][\"snp_id\"].unique()\n",
    "print(len(snp_ids))\n",
    "snp_ids = [str(int(snp_id)) for snp_id in snp_ids]\n",
    "snp_ids = \" \".join(snp_ids)\n",
    "snp_ids # 1. copy output and run download_snps_from_snplist (did not work) 2. manually downloaded and merged 100 rs-ids at a time."
   ]
  },
  {
   "cell_type": "code",
   "execution_count": 8,
   "metadata": {},
   "outputs": [
    {
     "name": "stdout",
     "output_type": "stream",
     "text": [
      "Index(['chr', 'pos', 'variation', 'variant_type', 'snp_id',\n",
      "       'clinical_significance', 'validation_status', 'function_class', 'gene',\n",
      "       'frequency'],\n",
      "      dtype='object')\n",
      "Index(['chr', 'pos', 'variation', 'variant_type', 'snp_id'], dtype='object')\n",
      "Pandas(Index=473, chr=nan, pos=nan, variation='G>T', variant_type=nan, snp_id=75660264)\n",
      "Pandas(Index=474, chr=nan, pos=nan, variation='C>T', variant_type=nan, snp_id=76871093)\n",
      "Pandas(Index=482, chr=nan, pos=nan, variation='G>T', variant_type=nan, snp_id=75660264)\n",
      "Pandas(Index=483, chr=nan, pos=nan, variation='C>T', variant_type=nan, snp_id=76871093)\n",
      "Pandas(Index=1242, chr='9', pos=124503218.0, variation='GC>TT', variant_type='mnv', snp_id=121918654)\n"
     ]
    },
    {
     "data": {
      "text/html": [
       "<div>\n",
       "<style scoped>\n",
       "    .dataframe tbody tr th:only-of-type {\n",
       "        vertical-align: middle;\n",
       "    }\n",
       "\n",
       "    .dataframe tbody tr th {\n",
       "        vertical-align: top;\n",
       "    }\n",
       "\n",
       "    .dataframe thead th {\n",
       "        text-align: right;\n",
       "    }\n",
       "</style>\n",
       "<table border=\"1\" class=\"dataframe\">\n",
       "  <thead>\n",
       "    <tr style=\"text-align: right;\">\n",
       "      <th></th>\n",
       "      <th>chrom</th>\n",
       "      <th>chrom_pos</th>\n",
       "      <th>variation</th>\n",
       "      <th>variant_type</th>\n",
       "      <th>snp_id</th>\n",
       "      <th>ref_allele</th>\n",
       "      <th>alt_allele</th>\n",
       "    </tr>\n",
       "  </thead>\n",
       "  <tbody>\n",
       "    <tr>\n",
       "      <th>0</th>\n",
       "      <td>12</td>\n",
       "      <td>111803962.0</td>\n",
       "      <td>G&gt;A</td>\n",
       "      <td>snv</td>\n",
       "      <td>671</td>\n",
       "      <td>G</td>\n",
       "      <td>A</td>\n",
       "    </tr>\n",
       "    <tr>\n",
       "      <th>1</th>\n",
       "      <td>11</td>\n",
       "      <td>67585218.0</td>\n",
       "      <td>A&gt;G,T</td>\n",
       "      <td>snv</td>\n",
       "      <td>1695</td>\n",
       "      <td>A</td>\n",
       "      <td>G</td>\n",
       "    </tr>\n",
       "    <tr>\n",
       "      <th>2</th>\n",
       "      <td>11</td>\n",
       "      <td>67585218.0</td>\n",
       "      <td>A&gt;G,T</td>\n",
       "      <td>snv</td>\n",
       "      <td>1695</td>\n",
       "      <td>A</td>\n",
       "      <td>T</td>\n",
       "    </tr>\n",
       "    <tr>\n",
       "      <th>3</th>\n",
       "      <td>8</td>\n",
       "      <td>142914761.0</td>\n",
       "      <td>A&gt;G</td>\n",
       "      <td>snv</td>\n",
       "      <td>4547</td>\n",
       "      <td>A</td>\n",
       "      <td>G</td>\n",
       "    </tr>\n",
       "    <tr>\n",
       "      <th>4</th>\n",
       "      <td>14</td>\n",
       "      <td>20456995.0</td>\n",
       "      <td>T&gt;A,C,G</td>\n",
       "      <td>snv</td>\n",
       "      <td>1130409</td>\n",
       "      <td>T</td>\n",
       "      <td>A</td>\n",
       "    </tr>\n",
       "    <tr>\n",
       "      <th>...</th>\n",
       "      <td>...</td>\n",
       "      <td>...</td>\n",
       "      <td>...</td>\n",
       "      <td>...</td>\n",
       "      <td>...</td>\n",
       "      <td>...</td>\n",
       "      <td>...</td>\n",
       "    </tr>\n",
       "    <tr>\n",
       "      <th>2023</th>\n",
       "      <td>13</td>\n",
       "      <td>113118770.0</td>\n",
       "      <td>T&gt;C,G</td>\n",
       "      <td>snv</td>\n",
       "      <td>121964938</td>\n",
       "      <td>T</td>\n",
       "      <td>G</td>\n",
       "    </tr>\n",
       "    <tr>\n",
       "      <th>2024</th>\n",
       "      <td>10</td>\n",
       "      <td>80274538.0</td>\n",
       "      <td>C&gt;G,T</td>\n",
       "      <td>snv</td>\n",
       "      <td>138742870</td>\n",
       "      <td>C</td>\n",
       "      <td>G</td>\n",
       "    </tr>\n",
       "    <tr>\n",
       "      <th>2025</th>\n",
       "      <td>10</td>\n",
       "      <td>80274538.0</td>\n",
       "      <td>C&gt;G,T</td>\n",
       "      <td>snv</td>\n",
       "      <td>138742870</td>\n",
       "      <td>C</td>\n",
       "      <td>T</td>\n",
       "    </tr>\n",
       "    <tr>\n",
       "      <th>2026</th>\n",
       "      <td>6</td>\n",
       "      <td>160741375.0</td>\n",
       "      <td>G&gt;A,T</td>\n",
       "      <td>snv</td>\n",
       "      <td>181030365</td>\n",
       "      <td>G</td>\n",
       "      <td>A</td>\n",
       "    </tr>\n",
       "    <tr>\n",
       "      <th>2027</th>\n",
       "      <td>6</td>\n",
       "      <td>160741375.0</td>\n",
       "      <td>G&gt;A,T</td>\n",
       "      <td>snv</td>\n",
       "      <td>181030365</td>\n",
       "      <td>G</td>\n",
       "      <td>T</td>\n",
       "    </tr>\n",
       "  </tbody>\n",
       "</table>\n",
       "<p>2028 rows × 7 columns</p>\n",
       "</div>"
      ],
      "text/plain": [
       "     chrom    chrom_pos variation variant_type     snp_id ref_allele  \\\n",
       "0       12  111803962.0       G>A          snv        671          G   \n",
       "1       11   67585218.0     A>G,T          snv       1695          A   \n",
       "2       11   67585218.0     A>G,T          snv       1695          A   \n",
       "3        8  142914761.0       A>G          snv       4547          A   \n",
       "4       14   20456995.0   T>A,C,G          snv    1130409          T   \n",
       "...    ...          ...       ...          ...        ...        ...   \n",
       "2023    13  113118770.0     T>C,G          snv  121964938          T   \n",
       "2024    10   80274538.0     C>G,T          snv  138742870          C   \n",
       "2025    10   80274538.0     C>G,T          snv  138742870          C   \n",
       "2026     6  160741375.0     G>A,T          snv  181030365          G   \n",
       "2027     6  160741375.0     G>A,T          snv  181030365          G   \n",
       "\n",
       "     alt_allele  \n",
       "0             A  \n",
       "1             G  \n",
       "2             T  \n",
       "3             G  \n",
       "4             A  \n",
       "...         ...  \n",
       "2023          G  \n",
       "2024          G  \n",
       "2025          T  \n",
       "2026          A  \n",
       "2027          T  \n",
       "\n",
       "[2028 rows x 7 columns]"
      ]
     },
     "execution_count": 8,
     "metadata": {},
     "output_type": "execute_result"
    }
   ],
   "source": [
    "### Loading downloaded SNPs using the above rs-ids\n",
    "snps_df = pd.read_csv(home_dir+\"data/SNPdbe/snps.tsv\", sep=\"\\t\", comment=\"#\")\n",
    "print(snps_df.columns)\n",
    "snps_df = snps_df[['chr', 'pos', 'variation', 'variant_type', 'snp_id']]\n",
    "print(snps_df.columns)\n",
    "# print(pmd_snps_df.head())\n",
    "\n",
    "variations = []\n",
    "for i, tuple in enumerate(snps_df.itertuples()):\n",
    "    if tuple.variant_type != \"snv\": # only considering SNVs\n",
    "        print(tuple)\n",
    "        # break\n",
    "        continue\n",
    "    \n",
    "    ref_allele, alt_allele = tuple.variation.split(\">\")\n",
    "    alt_alleles = alt_allele.split(\",\")\n",
    "    # print(ref_allele, \">>>\", alt_alleles)\n",
    "\n",
    "    for alt_allele in alt_alleles:\n",
    "        row = dict(snps_df.loc[i])\n",
    "        row[\"ref_allele\"] = ref_allele\n",
    "        row[\"alt_allele\"] = alt_allele\n",
    "        variations.append(row)\n",
    "\n",
    "snps_df = pd.DataFrame(variations)\n",
    "snps_df = snps_df[~pd.isna(snps_df[\"chr\"])]\n",
    "snps_df = snps_df[~pd.isna(snps_df[\"pos\"])]\n",
    "snps_df = snps_df[~pd.isna(snps_df[\"snp_id\"])]\n",
    "snps_df.rename(columns={\"pos\": \"chrom_pos\", \"chr\": \"chrom\"}, inplace=True)\n",
    "snps_df"
   ]
  },
  {
   "cell_type": "code",
   "execution_count": 9,
   "metadata": {},
   "outputs": [
    {
     "name": "stdout",
     "output_type": "stream",
     "text": [
      "(2783, 55)\n",
      "Index(['mut_id', 'md5', 'pmd_id', 'nr', 'authors', 'journal', 'title',\n",
      "       'medline', 'crossref', 'uniprot_id', 'ensembl_id', 'other_ref',\n",
      "       'protein', 'source', 'expression_sys', 'mut_PMD', 'mut_real',\n",
      "       'function', 'fb', 'structure', 'strB', 'stability', 'staB',\n",
      "       'expression', 'eB', 'transport', 'tB', 'maturation', 'mB', 'disease',\n",
      "       'dB', 'uni_real', 'uni_realid', 'uni_start', 'uni_finish', 'uniq_start',\n",
      "       'uniq_finish', 'uni_loc', 'ens_real', 'ens_organism', 'ens_start',\n",
      "       'ens_finish', 'ensq_start', 'ensq_finish', 'ens_loc', 'pos_real',\n",
      "       'mt_real', 'taxid', 'snp_id', 'chrom', 'chrom_pos', 'variation',\n",
      "       'variant_type', 'ref_allele', 'alt_allele'],\n",
      "      dtype='object')\n"
     ]
    }
   ],
   "source": [
    "# merging chromosomal information from snp_id \n",
    "pmd_data_df = pd.merge(left=pmd_with_rsids_df, right=snps_df, on=\"snp_id\", how=\"inner\") # multiple rows incurred for SNPs data under same snp_id\n",
    "pmd_data_df.drop_duplicates(keep=\"first\", inplace=True, ignore_index=True)\n",
    "print(pmd_data_df.shape)\n",
    "print(pmd_data_df.columns)\n",
    "pmd_data_df.to_csv(home_dir+\"data/pmd/pmd_with_rsids.tsv\", sep=\"\\t\", index=False)\n",
    "# pmd_data_df.value_counts()"
   ]
  },
  {
   "cell_type": "code",
   "execution_count": 53,
   "metadata": {},
   "outputs": [],
   "source": [
    "# pmd_data_df.to_csv(home_dir+\"models/aa_common/datasets_pmd_analysis/pmd_data.tsv\", sep=\"\\t\", index=False)\n",
    "# sequences_df = pmd_data_df[['pmd_nr_id', 'crossref', 'seq']].drop_duplicates(keep=\"first\")\n",
    "# print(\"#-of sequences\", sequences_df.shape)\n",
    "\n",
    "# out_fasta_filepath = home_dir+\"models/aa_common/datasets_pmd_analysis/pmd_sequences.fasta\"\n",
    "# out_fasta_file_handle = open(out_fasta_filepath, \"w\")\n",
    "\n",
    "# for tuple in sequences_df.itertuples():\n",
    "#     out_fasta_file_handle.write(f\">{tuple.pmd_nr_id} | {tuple.crossref}\\n\")\n",
    "#     out_fasta_file_handle.write(f\"{tuple.seq}\\n\")\n",
    "#     # break\n",
    "# out_fasta_file_handle.close()  "
   ]
  },
  {
   "cell_type": "code",
   "execution_count": 54,
   "metadata": {},
   "outputs": [],
   "source": [
    "# print(pmd_data_df[\"functional_effect\"].value_counts())\n",
    "# print(pmd_data_df[pd.isna(pmd_data_df[\"mut_real\"])].shape)\n",
    "# print(pmd_data_df[pd.isna(pmd_data_df[\"function\"])].shape)\n",
    "# print(pmd_data_df[pd.isna(pmd_data_df[\"functional_effect\"])].shape)\n",
    "# print(\"#-snps\", pmd_data_df[~pd.isna(pmd_data_df[\"snp_id\"])].shape) # number of rows that is mapped to snp-id: 2877\n",
    "# print(\"#-human (crossref)\", pmd_data_df[pmd_data_df[\"crossref\"].apply(lambda x: True if \"HUMAN\" in x else False)].shape) # number of human entries: 20594\n",
    "# print(\"#-human (taxid)\", pmd_data_df[pmd_data_df[\"taxid\"]==\"9606\"].shape) # # number of human entries using taxid: 16088\n",
    "# pmd_data_df[pmd_data_df[\"crossref\"].apply(lambda x: True if \"HUMAN\" in x else False)][['pmd_id', 'nr']].drop_duplicates(keep=\"first\")\n",
    "# # print(merged_df[(merged_df[\"crossref\"].apply(lambda x: True if \"HUMAN\" in x else False)) & ~pd.isna(merged_df[\"snp_id\"])].shape) # number of human entries that is mapped to rs-id: 2829\n",
    "\n",
    "# print(\"#-of unique genes: \", pmd_data_df[\"gene_SP\"].unique().shape)"
   ]
  }
 ],
 "metadata": {
  "kernelspec": {
   "display_name": "hopper_variant_effect_analysis_mine",
   "language": "python",
   "name": "python3"
  },
  "language_info": {
   "codemirror_mode": {
    "name": "ipython",
    "version": 3
   },
   "file_extension": ".py",
   "mimetype": "text/x-python",
   "name": "python",
   "nbconvert_exporter": "python",
   "pygments_lexer": "ipython3",
   "version": "3.8.6"
  },
  "orig_nbformat": 4
 },
 "nbformat": 4,
 "nbformat_minor": 2
}
