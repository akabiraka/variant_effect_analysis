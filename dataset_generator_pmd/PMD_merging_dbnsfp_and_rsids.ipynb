{
 "cells": [
  {
   "cell_type": "code",
   "execution_count": 1,
   "metadata": {},
   "outputs": [],
   "source": [
    "import os\n",
    "import sys\n",
    "module_path = os.path.abspath(os.path.join('..'))\n",
    "if module_path not in sys.path:\n",
    "    sys.path.append(module_path)\n",
    "home_dir = \"../\"\n",
    "\n",
    "import pandas as pd"
   ]
  },
  {
   "cell_type": "code",
   "execution_count": 2,
   "metadata": {},
   "outputs": [
    {
     "name": "stdout",
     "output_type": "stream",
     "text": [
      "(2783, 55)\n",
      "Index(['mut_id', 'md5', 'pmd_id', 'nr', 'authors', 'journal', 'title',\n",
      "       'medline', 'crossref', 'uniprot_id', 'ensembl_id', 'other_ref',\n",
      "       'protein', 'source', 'expression_sys', 'mut_PMD', 'mut_real',\n",
      "       'function', 'fb', 'structure', 'strB', 'stability', 'staB',\n",
      "       'expression', 'eB', 'transport', 'tB', 'maturation', 'mB', 'disease',\n",
      "       'dB', 'uni_real', 'uni_realid', 'uni_start', 'uni_finish', 'uniq_start',\n",
      "       'uniq_finish', 'uni_loc', 'ens_real', 'ens_organism', 'ens_start',\n",
      "       'ens_finish', 'ensq_start', 'ensq_finish', 'ens_loc', 'pos_real',\n",
      "       'mt_real', 'taxid', 'snp_id', 'chrom', 'chrom_pos', 'variation',\n",
      "       'variant_type', 'ref_allele', 'alt_allele'],\n",
      "      dtype='object')\n"
     ]
    }
   ],
   "source": [
    "pmd_with_rsids_df = pd.read_csv(home_dir+\"data/pmd/pmd_with_rsids.tsv\", sep=\"\\t\")\n",
    "pmd_with_rsids_df[\"snp_id\"] = pmd_with_rsids_df[\"snp_id\"].apply(lambda x: \"rs\"+str(int(x)))\n",
    "print(pmd_with_rsids_df.shape)\n",
    "print(pmd_with_rsids_df.columns)"
   ]
  },
  {
   "cell_type": "code",
   "execution_count": 3,
   "metadata": {},
   "outputs": [
    {
     "name": "stdout",
     "output_type": "stream",
     "text": [
      "(7310, 35)\n",
      "Index(['mut_id', 'md5', 'pmd_id', 'nr', 'pmd_nr_id', 'crossref', 'uniprot_id',\n",
      "       'protein', 'source', 'mut_PMD', 'mut_real', 'wt', 'mut', 'prot_pos',\n",
      "       'chrom', 'chrom_pos', 'ref_allele', 'alt_allele', 'snp_id', 'genename',\n",
      "       'ensembl_id', 'function', 'function_summarized', 'functional_effect',\n",
      "       'CADD_raw', 'MetaRNN_score', 'MVP_score', 'Polyphen2_HVAR_score',\n",
      "       'REVEL_score', 'SIFT_score', 'integrated_fitCons_score',\n",
      "       'phyloP17way_primate', 'phastCons17way_primate', 'bStatistic', 'seq'],\n",
      "      dtype='object')\n"
     ]
    }
   ],
   "source": [
    "pmd_dbnsfp_df = pd.read_csv(home_dir+\"data/pmd/pmd_with_dbnsfp.tsv\", sep=\"\\t\")\n",
    "pmd_dbnsfp_df.rename(columns={'#chr':'chrom', 'pos(1-based)':'chrom_pos', 'ref':'ref_allele', 'alt':'alt_allele', 'rs_dbSNP':'snp_id'}, inplace=True)\n",
    "pmd_dbnsfp_df.drop_duplicates(keep=\"first\", inplace=True, ignore_index=True)\n",
    "pmd_dbnsfp_df[\"snp_id\"].replace(\".\", None, inplace=True)\n",
    "print(pmd_dbnsfp_df.shape)\n",
    "print(pmd_dbnsfp_df.columns)\n",
    "\n",
    "# pmd_dbnsfp_df[\"snp_id\"]"
   ]
  },
  {
   "cell_type": "code",
   "execution_count": 4,
   "metadata": {},
   "outputs": [
    {
     "name": "stdout",
     "output_type": "stream",
     "text": [
      "mut_id (0, 13)\n",
      "md5 (0, 13)\n",
      "pmd_id (0, 13)\n",
      "nr (0, 13)\n",
      "mut_real (0, 13)\n",
      "chrom (0, 13)\n",
      "chrom_pos (0, 13)\n",
      "ref_allele (0, 13)\n",
      "alt_allele (0, 13)\n",
      "function (0, 13)\n",
      "source (0, 13)\n",
      "crossref (0, 13)\n",
      "snp_id (4999, 13)\n",
      "(8860, 13)\n"
     ]
    }
   ],
   "source": [
    "columns = ['mut_id', 'md5', 'pmd_id', 'nr', 'mut_real', 'chrom', 'chrom_pos', 'ref_allele', 'alt_allele', 'function', 'source', 'crossref', 'snp_id']\n",
    "x = pmd_with_rsids_df[columns]\n",
    "y = pmd_dbnsfp_df[columns]\n",
    "z = pd.merge(x, y, how='outer', on=columns)\n",
    "z.drop_duplicates(keep=\"first\", inplace=True, ignore_index=True)\n",
    "z.value_counts()\n",
    "\n",
    "for col in columns:\n",
    "    print(col, z[pd.isna(z[col])].shape)\n",
    "\n",
    "pmd_clean_df = z.copy(deep=True)\n",
    "print(pmd_clean_df.shape)"
   ]
  },
  {
   "cell_type": "code",
   "execution_count": 5,
   "metadata": {},
   "outputs": [
    {
     "name": "stdout",
     "output_type": "stream",
     "text": [
      "(8860, 55)\n",
      "Index(['mut_id', 'md5', 'pmd_id', 'nr', 'mut_real', 'chrom', 'chrom_pos',\n",
      "       'ref_allele', 'alt_allele', 'function', 'source', 'crossref', 'snp_id',\n",
      "       'authors', 'journal', 'title', 'medline', 'uniprot_id', 'ensembl_id',\n",
      "       'other_ref', 'protein', 'expression_sys', 'mut_PMD', 'fb', 'structure',\n",
      "       'strB', 'stability', 'staB', 'expression', 'eB', 'transport', 'tB',\n",
      "       'maturation', 'mB', 'disease', 'dB', 'uni_real', 'uni_realid',\n",
      "       'uni_start', 'uni_finish', 'uniq_start', 'uniq_finish', 'uni_loc',\n",
      "       'ens_real', 'ens_organism', 'ens_start', 'ens_finish', 'ensq_start',\n",
      "       'ensq_finish', 'ens_loc', 'pos_real', 'mt_real', 'taxid', 'variation',\n",
      "       'variant_type'],\n",
      "      dtype='object')\n"
     ]
    }
   ],
   "source": [
    "# merging with raw PMD-with-rsids data\n",
    "data_merged_with_pmd_raw = pd.merge(left=pmd_clean_df, right=pmd_with_rsids_df, how=\"left\", on=columns)\n",
    "print(data_merged_with_pmd_raw.shape)\n",
    "print(data_merged_with_pmd_raw.columns)"
   ]
  },
  {
   "cell_type": "code",
   "execution_count": 6,
   "metadata": {},
   "outputs": [
    {
     "name": "stdout",
     "output_type": "stream",
     "text": [
      "(8860, 77)\n",
      "Index(['mut_id', 'md5', 'pmd_id', 'nr', 'mut_real', 'chrom', 'chrom_pos',\n",
      "       'ref_allele', 'alt_allele', 'function', 'source', 'crossref', 'snp_id',\n",
      "       'authors', 'journal', 'title', 'medline', 'uniprot_id_x',\n",
      "       'ensembl_id_x', 'other_ref', 'protein_x', 'expression_sys', 'mut_PMD_x',\n",
      "       'fb', 'structure', 'strB', 'stability', 'staB', 'expression', 'eB',\n",
      "       'transport', 'tB', 'maturation', 'mB', 'disease', 'dB', 'uni_real',\n",
      "       'uni_realid', 'uni_start', 'uni_finish', 'uniq_start', 'uniq_finish',\n",
      "       'uni_loc', 'ens_real', 'ens_organism', 'ens_start', 'ens_finish',\n",
      "       'ensq_start', 'ensq_finish', 'ens_loc', 'pos_real', 'mt_real', 'taxid',\n",
      "       'variation', 'variant_type', 'pmd_nr_id', 'uniprot_id_y', 'protein_y',\n",
      "       'mut_PMD_y', 'wt', 'mut', 'prot_pos', 'genename', 'ensembl_id_y',\n",
      "       'function_summarized', 'functional_effect', 'CADD_raw', 'MetaRNN_score',\n",
      "       'MVP_score', 'Polyphen2_HVAR_score', 'REVEL_score', 'SIFT_score',\n",
      "       'integrated_fitCons_score', 'phyloP17way_primate',\n",
      "       'phastCons17way_primate', 'bStatistic', 'seq'],\n",
      "      dtype='object')\n"
     ]
    }
   ],
   "source": [
    "# merging with PMD dbnsfp data\n",
    "data_merged_with_pmd_dbnsfp = pd.merge(left=data_merged_with_pmd_raw, right=pmd_dbnsfp_df, how=\"left\", on=columns)\n",
    "print(data_merged_with_pmd_dbnsfp.shape)\n",
    "print(data_merged_with_pmd_dbnsfp.columns)"
   ]
  },
  {
   "cell_type": "code",
   "execution_count": 7,
   "metadata": {},
   "outputs": [
    {
     "name": "stdout",
     "output_type": "stream",
     "text": [
      "(8860, 23)\n",
      "Index(['mut_id', 'md5', 'pmd_id', 'nr', 'mut_real', 'chrom', 'chrom_pos',\n",
      "       'ref_allele', 'alt_allele', 'function', 'source', 'crossref', 'snp_id',\n",
      "       'CADD_raw', 'MetaRNN_score', 'MVP_score', 'Polyphen2_HVAR_score',\n",
      "       'REVEL_score', 'SIFT_score', 'integrated_fitCons_score',\n",
      "       'phyloP17way_primate', 'phastCons17way_primate', 'bStatistic'],\n",
      "      dtype='object')\n"
     ]
    }
   ],
   "source": [
    "method_score_cols = [\"CADD_raw\", \"MetaRNN_score\", \"MVP_score\", \"Polyphen2_HVAR_score\", \"REVEL_score\", \"SIFT_score\", \"integrated_fitCons_score\", \"phyloP17way_primate\", \"phastCons17way_primate\", \"bStatistic\"]\n",
    "x_columns = columns + method_score_cols\n",
    "data_merged_with_pmd_dbnsfp = data_merged_with_pmd_dbnsfp[x_columns]\n",
    "print(data_merged_with_pmd_dbnsfp.shape)\n",
    "print(data_merged_with_pmd_dbnsfp.columns)"
   ]
  },
  {
   "cell_type": "code",
   "execution_count": 8,
   "metadata": {},
   "outputs": [
    {
     "name": "stderr",
     "output_type": "stream",
     "text": [
      "/tmp/ipykernel_2896187/2731603977.py:2: ParserWarning: Falling back to the 'python' engine because the 'c' engine does not support regex separators (separators > 1 char and different from '\\s+' are interpreted as regex); you can avoid this warning by specifying engine='python'.\n",
      "  seq_pmd_df = pd.read_csv(home_dir+\"data/SNPdbe/seqs_PMD.csv\", sep=\"\\t;\") # PMD: from SNPdbe # (127565, 48)\n"
     ]
    },
    {
     "name": "stdout",
     "output_type": "stream",
     "text": [
      "(53124, 3)\n",
      "Index(['pmd_id', 'nr', 'seq'], dtype='object')\n"
     ]
    }
   ],
   "source": [
    "# loading PMD seq table\n",
    "seq_pmd_df = pd.read_csv(home_dir+\"data/SNPdbe/seqs_PMD.csv\", sep=\"\\t;\") # PMD: from SNPdbe # (127565, 48)\n",
    "seq_pmd_df.drop(columns=[\"taxid\", \"md5\"], inplace=True)\n",
    "print(seq_pmd_df.shape) \n",
    "print(seq_pmd_df.columns)"
   ]
  },
  {
   "cell_type": "code",
   "execution_count": 9,
   "metadata": {},
   "outputs": [
    {
     "name": "stdout",
     "output_type": "stream",
     "text": [
      "(8860, 24)\n",
      "Index(['mut_id', 'md5', 'pmd_id', 'nr', 'mut_real', 'chrom', 'chrom_pos',\n",
      "       'ref_allele', 'alt_allele', 'function', 'source', 'crossref', 'snp_id',\n",
      "       'CADD_raw', 'MetaRNN_score', 'MVP_score', 'Polyphen2_HVAR_score',\n",
      "       'REVEL_score', 'SIFT_score', 'integrated_fitCons_score',\n",
      "       'phyloP17way_primate', 'phastCons17way_primate', 'bStatistic', 'seq'],\n",
      "      dtype='object')\n"
     ]
    }
   ],
   "source": [
    "# merging with seq information\n",
    "data_merged_with_seq = pd.merge(left=data_merged_with_pmd_dbnsfp, right=seq_pmd_df, on=[\"pmd_id\", \"nr\"], how=\"inner\")\n",
    "print(data_merged_with_seq.shape) \n",
    "print(data_merged_with_seq.columns)"
   ]
  },
  {
   "cell_type": "code",
   "execution_count": 10,
   "metadata": {},
   "outputs": [
    {
     "name": "stdout",
     "output_type": "stream",
     "text": [
      "(8851, 29)\n",
      "Index(['mut_id', 'md5', 'pmd_id', 'nr', 'mut_real', 'chrom', 'chrom_pos',\n",
      "       'ref_allele', 'alt_allele', 'function', 'source', 'crossref', 'snp_id',\n",
      "       'CADD_raw', 'MetaRNN_score', 'MVP_score', 'Polyphen2_HVAR_score',\n",
      "       'REVEL_score', 'SIFT_score', 'integrated_fitCons_score',\n",
      "       'phyloP17way_primate', 'phastCons17way_primate', 'bStatistic', 'seq',\n",
      "       'wt', 'mut', 'prot_pos', 'function_summarized', 'functional_effect'],\n",
      "      dtype='object')\n"
     ]
    }
   ],
   "source": [
    "# extract functional annotation\n",
    "def summarize_functional_effect(mut_function):\n",
    "    # print(mut_function)\n",
    "    mut_function = str(mut_function)\n",
    "    effects = []\n",
    "    effect = \"\"\n",
    "    flag = False\n",
    "    for i, ch in enumerate(mut_function):\n",
    "        if ch=='[':\n",
    "            flag = True\n",
    "            continue\n",
    "        if flag and ch in ['-', '+'] and mut_function[i+1] in ['-', '+', ']', ' ']:\n",
    "            effect += ch\n",
    "        elif flag and ch == '=':\n",
    "            effects.append('=')\n",
    "        elif flag and ch == '0' and mut_function[i+1]==\"]\":\n",
    "            effects.append('0')\n",
    "            \n",
    "        if ch==\"]\":\n",
    "            flag = False\n",
    "            if len(effect)>0: effects.append(effect)\n",
    "            effect=\"\"\n",
    "    \n",
    "    if len(effects)>0: return effects\n",
    "    else: return \"\"\n",
    "\n",
    "def get_functional_effect(effects):\n",
    "    counts = [] \n",
    "    functional_effect = \"\"\n",
    "    for ef in effects:\n",
    "        if \"0\" in ef:\n",
    "            return \"Knock-out\"\n",
    "        elif \"=\" in ef:\n",
    "            functional_effect = \"No-effect\"\n",
    "        else:\n",
    "            counts.append(len(ef)-2)\n",
    "\n",
    "    \n",
    "    if len(counts)==0 and functional_effect==\"No-effect\": return \"No-effect\"\n",
    "    elif max(counts)<3: return \"Effect\"\n",
    "    else: return \"Knock-out\"\n",
    "\n",
    "df = data_merged_with_seq.copy(deep=True)\n",
    "df[\"wt\"] = df[\"mut_real\"].apply(lambda x: x[0]) # 1-letter amino acid\n",
    "df[\"mut\"] = df[\"mut_real\"].apply(lambda x: x[-1])\n",
    "df[\"prot_pos\"] = df[\"mut_real\"].apply(lambda x: int(x[1:-1])) # mutation position is 1-indexed\n",
    "\n",
    "df[\"function_summarized\"] = df[\"function\"].apply(summarize_functional_effect)\n",
    "df = df[df[\"function_summarized\"].apply(lambda x:  len(x)>0)] # removing rows that does not have any functional effect annotations\n",
    "df[\"functional_effect\"] = df[\"function_summarized\"].apply(get_functional_effect)\n",
    "\n",
    "data_filered_on_func = df.copy(deep=True)\n",
    "print(data_filered_on_func.shape) \n",
    "print(data_filered_on_func.columns)"
   ]
  },
  {
   "cell_type": "code",
   "execution_count": 11,
   "metadata": {},
   "outputs": [
    {
     "name": "stdout",
     "output_type": "stream",
     "text": [
      "after removing non-human entries: (8832, 29)\n"
     ]
    }
   ],
   "source": [
    "# filter on human\n",
    "df = data_filered_on_func.copy(deep=True)\n",
    "df = df[df[\"source\"].apply(lambda x: True if \"Human\" in str(x) else False)] # only keeping human variants\n",
    "print(\"after removing non-human entries:\", df.shape)\n",
    "\n",
    "data_filered_on_human = df.copy(deep=True)"
   ]
  },
  {
   "cell_type": "code",
   "execution_count": 12,
   "metadata": {},
   "outputs": [
    {
     "name": "stdout",
     "output_type": "stream",
     "text": [
      "#-of sequences b4 seq-len filter 2235\n",
      "#-of sequences after seq-len filter 2198\n",
      "after filtering on seq-len <=1022: (8582, 30)\n",
      "Effect       4633\n",
      "Knock-out    1981\n",
      "No-effect    1968\n",
      "Name: functional_effect, dtype: int64\n"
     ]
    },
    {
     "data": {
      "text/plain": [
       "Index(['mut_id', 'md5', 'pmd_id', 'nr', 'mut_real', 'chrom', 'chrom_pos',\n",
       "       'ref_allele', 'alt_allele', 'function', 'source', 'crossref', 'snp_id',\n",
       "       'CADD_raw', 'MetaRNN_score', 'MVP_score', 'Polyphen2_HVAR_score',\n",
       "       'REVEL_score', 'SIFT_score', 'integrated_fitCons_score',\n",
       "       'phyloP17way_primate', 'phastCons17way_primate', 'bStatistic', 'seq',\n",
       "       'wt', 'mut', 'prot_pos', 'function_summarized', 'functional_effect',\n",
       "       'pmd_nr_id'],\n",
       "      dtype='object')"
      ]
     },
     "execution_count": 12,
     "metadata": {},
     "output_type": "execute_result"
    }
   ],
   "source": [
    "# filter on seq-len\n",
    "df = data_filered_on_human.copy(deep=True)\n",
    "df[\"pmd_nr_id\"] = df[\"pmd_id\"]+df[\"nr\"].apply(lambda x: \"_\"+str(int(x)))\n",
    "sequences_df = df[['pmd_nr_id', 'crossref', 'seq']].drop_duplicates(keep=\"first\")\n",
    "print(\"#-of sequences b4 seq-len filter\", sequences_df.shape[0])\n",
    "protid_seq_tuple_list = [(tuple.pmd_nr_id, tuple.seq) for tuple in sequences_df.itertuples() if len(str(tuple.seq))<=1022]\n",
    "print(\"#-of sequences after seq-len filter\", len(protid_seq_tuple_list))\n",
    "\n",
    "new_protein_acc_list = list(zip(*protid_seq_tuple_list))[0]\n",
    "df = df[df[\"pmd_nr_id\"].isin(new_protein_acc_list)]\n",
    "print(\"after filtering on seq-len <=1022:\", df.shape)\n",
    "print(df[\"functional_effect\"].value_counts())\n",
    "\n",
    "data_filered_on_seqlen = df.copy(deep=True)\n",
    "data_filered_on_seqlen.columns"
   ]
  },
  {
   "cell_type": "code",
   "execution_count": 13,
   "metadata": {},
   "outputs": [
    {
     "name": "stdout",
     "output_type": "stream",
     "text": [
      "#-of sequences (2198, 3)\n"
     ]
    }
   ],
   "source": [
    "df = data_filered_on_seqlen.copy(deep=True)\n",
    "df.to_csv(home_dir+\"models/aa_common/datasets_pmd_analysis/pmd.tsv\", sep=\"\\t\", index=False)\n",
    "sequences_df = df[['pmd_nr_id', 'crossref', 'seq']].drop_duplicates(keep=\"first\")\n",
    "print(\"#-of sequences\", sequences_df.shape)\n",
    "\n",
    "out_fasta_filepath = home_dir+\"models/aa_common/datasets_pmd_analysis/pmd_sequences.fasta\"\n",
    "out_fasta_file_handle = open(out_fasta_filepath, \"w\")\n",
    "\n",
    "for tuple in sequences_df.itertuples():\n",
    "    out_fasta_file_handle.write(f\">{tuple.pmd_nr_id} | {tuple.crossref}\\n\")\n",
    "    out_fasta_file_handle.write(f\"{tuple.seq}\\n\")\n",
    "    # break\n",
    "out_fasta_file_handle.close()  "
   ]
  },
  {
   "attachments": {},
   "cell_type": "markdown",
   "metadata": {},
   "source": [
    "### tests"
   ]
  },
  {
   "cell_type": "code",
   "execution_count": 14,
   "metadata": {},
   "outputs": [
    {
     "name": "stdout",
     "output_type": "stream",
     "text": [
      "#-of protein variants:  6663\n",
      "#-of chromosomal variants:  6475\n",
      "#-of protein sequences:  2198\n",
      "#-of rows not mapped to snp-ids:  4999\n",
      "#-of rows mapped to snp-ids:  3583\n",
      "total:  8582\n"
     ]
    },
    {
     "data": {
      "text/plain": [
       "Effect       4633\n",
       "Knock-out    1981\n",
       "No-effect    1968\n",
       "Name: functional_effect, dtype: int64"
      ]
     },
     "execution_count": 14,
     "metadata": {},
     "output_type": "execute_result"
    }
   ],
   "source": [
    "# 'mut_id', 'md5', 'pmd_id', 'nr', 'mut_real', 'chrom', 'chrom_pos', 'ref_allele', 'alt_allele', 'function', 'source', 'crossref', 'snp_id'\n",
    "print(\"#-of protein variants: \", df[['mut_id', 'md5', 'pmd_id', 'nr', 'mut_real']].drop_duplicates(keep=\"first\").shape[0])\n",
    "print(\"#-of chromosomal variants: \", df[['chrom', 'chrom_pos', 'ref_allele', 'alt_allele']].drop_duplicates(keep=\"first\").shape[0])\n",
    "print(\"#-of protein sequences: \", df[['pmd_id', 'nr']].drop_duplicates(keep=\"first\").shape[0])\n",
    "print(\"#-of rows not mapped to snp-ids: \", df[pd.isna(df[\"snp_id\"])].shape[0])\n",
    "print(\"#-of rows mapped to snp-ids: \", df[~pd.isna(df[\"snp_id\"])].shape[0])\n",
    "print(\"total: \", df.shape[0])\n",
    "df[\"functional_effect\"].value_counts()\n"
   ]
  },
  {
   "cell_type": "code",
   "execution_count": 15,
   "metadata": {},
   "outputs": [
    {
     "name": "stdout",
     "output_type": "stream",
     "text": [
      "mut_id (0, 30)\n",
      "md5 (0, 30)\n",
      "pmd_id (0, 30)\n",
      "nr (0, 30)\n",
      "mut_real (0, 30)\n",
      "chrom (0, 30)\n",
      "chrom_pos (0, 30)\n",
      "ref_allele (0, 30)\n",
      "alt_allele (0, 30)\n",
      "function (0, 30)\n",
      "source (0, 30)\n",
      "crossref (0, 30)\n",
      "snp_id (4999, 30)\n",
      "CADD_raw (1272, 30)\n",
      "MetaRNN_score (1272, 30)\n",
      "MVP_score (1272, 30)\n",
      "Polyphen2_HVAR_score (1272, 30)\n",
      "REVEL_score (1272, 30)\n",
      "SIFT_score (1272, 30)\n",
      "integrated_fitCons_score (1272, 30)\n",
      "phyloP17way_primate (1272, 30)\n",
      "phastCons17way_primate (1272, 30)\n",
      "bStatistic (1272, 30)\n",
      "seq (0, 30)\n",
      "wt (0, 30)\n",
      "mut (0, 30)\n",
      "prot_pos (0, 30)\n",
      "function_summarized (0, 30)\n",
      "functional_effect (0, 30)\n",
      "pmd_nr_id (0, 30)\n"
     ]
    }
   ],
   "source": [
    "z = data_filered_on_seqlen\n",
    "for col in z.columns:\n",
    "    print(col, z[pd.isna(z[col])].shape)"
   ]
  }
 ],
 "metadata": {
  "kernelspec": {
   "display_name": "hopper_variant_effect_analysis_mine",
   "language": "python",
   "name": "python3"
  },
  "language_info": {
   "codemirror_mode": {
    "name": "ipython",
    "version": 3
   },
   "file_extension": ".py",
   "mimetype": "text/x-python",
   "name": "python",
   "nbconvert_exporter": "python",
   "pygments_lexer": "ipython3",
   "version": "3.8.6"
  },
  "orig_nbformat": 4
 },
 "nbformat": 4,
 "nbformat_minor": 2
}
