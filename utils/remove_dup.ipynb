{
 "cells": [
  {
   "cell_type": "code",
   "execution_count": 4,
   "metadata": {},
   "outputs": [],
   "source": [
    "import os\n",
    "import sys\n",
    "home_dir = \"../\"\n",
    "module_path = os.path.abspath(os.path.join(home_dir))\n",
    "if module_path not in sys.path:\n",
    "    sys.path.append(module_path)\n",
    "\n",
    "import pandas as pd"
   ]
  },
  {
   "cell_type": "code",
   "execution_count": 46,
   "metadata": {},
   "outputs": [],
   "source": [
    "task = \"popu_freq\" # \n",
    "\n",
    "# root_model = \"tape_rao\"\n",
    "# model_name = \"unirep\" # unirep, protbert\n",
    "\n",
    "# root_model = \"sequnet_dunham\"\n",
    "# model_name = \"sequnet\"\n",
    "\n",
    "# root_model = \"esm_rives\"\n",
    "# model_name = \"esm2_t33_650M_UR50D\" # esm1b_t33_650M_UR50S, esm1v_t33_650M_UR90S, esm2_t33_650M_UR50D\n",
    "\n",
    "root_model = \"bioembeddings_dallago\"\n",
    "model_name = \"prottrans_t5_xl_u50\" # plus_rnn, prottrans_bert_bfd, prottrans_albert_bfd, prottrans_xlnet_uniref100, prottrans_t5_bfd, prottrans_t5_uniref50, prottrans_t5_xl_u50"
   ]
  },
  {
   "cell_type": "code",
   "execution_count": 48,
   "metadata": {},
   "outputs": [
    {
     "name": "stdout",
     "output_type": "stream",
     "text": [
      "(51047, 1)\n",
      "(51047, 1)\n"
     ]
    }
   ],
   "source": [
    "models_pred_filepath = home_dir+f\"models/{root_model}/outputs/{model_name}/{task}/preds_{model_name}_(mt-wt).csv\"\n",
    "models_pred_df = pd.read_csv(models_pred_filepath, sep=\"\\t\")\n",
    "print(models_pred_df.shape)\n",
    "models_pred_df = models_pred_df.drop_duplicates(keep=\"first\")\n",
    "print(models_pred_df.shape)\n",
    "# models_pred_df.to_csv(models_pred_filepath, sep=\"\\t\", index=False, header=True)"
   ]
  }
 ],
 "metadata": {
  "kernelspec": {
   "display_name": "hopper_variant_effect_analysis_mine",
   "language": "python",
   "name": "python3"
  },
  "language_info": {
   "codemirror_mode": {
    "name": "ipython",
    "version": 3
   },
   "file_extension": ".py",
   "mimetype": "text/x-python",
   "name": "python",
   "nbconvert_exporter": "python",
   "pygments_lexer": "ipython3",
   "version": "3.8.6"
  },
  "orig_nbformat": 4
 },
 "nbformat": 4,
 "nbformat_minor": 2
}
